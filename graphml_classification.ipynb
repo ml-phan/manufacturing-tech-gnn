{
 "cells": [
  {
   "metadata": {
    "ExecuteTime": {
     "end_time": "2025-08-01T19:14:07.331221Z",
     "start_time": "2025-08-01T19:14:07.211055Z"
    }
   },
   "cell_type": "code",
   "source": [
    "# autoimport\n",
    "%load_ext autoreload\n",
    "%autoreload 1"
   ],
   "id": "8d4ccefef01da2a",
   "outputs": [],
   "execution_count": 1
  },
  {
   "cell_type": "code",
   "id": "initial_id",
   "metadata": {
    "collapsed": true,
    "ExecuteTime": {
     "end_time": "2025-08-01T19:14:13.058046Z",
     "start_time": "2025-08-01T19:14:07.635722Z"
    }
   },
   "source": [
    "import pandas as pd\n",
    "import joblib\n",
    "import importlib\n",
    "\n",
    "from pathlib import Path\n",
    "from src.gnn_models import *\n",
    "# import src.gnn_models\n",
    "#\n",
    "# importlib.reload(src.gnn_models)\n",
    "%aimport src.gnn_models"
   ],
   "outputs": [],
   "execution_count": 2
  },
  {
   "metadata": {
    "ExecuteTime": {
     "end_time": "2025-08-01T19:14:13.275421Z",
     "start_time": "2025-08-01T19:14:13.188320Z"
    }
   },
   "cell_type": "code",
   "source": [
    "PROCESSED_DATA_DIR = r\"E:\\gnn_data\\processed_step_data_global_features\"\n",
    "dataset = FastSTEPDataset(PROCESSED_DATA_DIR, start_index=0)\n",
    "get_dataset_stats(dataset)"
   ],
   "id": "6d62584266fcacbe",
   "outputs": [
    {
     "name": "stdout",
     "output_type": "stream",
     "text": [
      "Fast dataset loaded:\n",
      "- Total samples: 63043\n",
      "- Processed successfully: 63043\n",
      "- Failed processing: 54\n",
      "Label counts in dataset:\n",
      "Label 1: 40434 instances\n",
      "Label 0: 22609 instances\n",
      "Label 1: 64.14% of total instances\n",
      "Label 0: 35.86% of total instances\n",
      "Class weights for loss function: [1.5591581342434584, 2.7884028484231944]\n"
     ]
    }
   ],
   "execution_count": 3
  },
  {
   "metadata": {
    "ExecuteTime": {
     "end_time": "2025-08-01T19:14:13.322286Z",
     "start_time": "2025-08-01T19:14:13.282943Z"
    }
   },
   "cell_type": "code",
   "source": [
    "model = DynamicGNN_Embedding_GlobalFeatures(\n",
    "    input_features=dataset[0].x.shape[1],\n",
    "    global_feature_dim=dataset[0].global_features.shape[1],\n",
    "    embedding_dim=16,\n",
    "    hidden_sizes=[512, 512],\n",
    "    conv_dropout_rate=0.1,\n",
    "    classifier_dropout_rate=0.1,\n",
    "    use_layer_norm=True,\n",
    "    pool_hidden_size=128\n",
    ")"
   ],
   "id": "a51a5569cc5e6c9f",
   "outputs": [
    {
     "name": "stdout",
     "output_type": "stream",
     "text": [
      "Created Dynamic GNN model:\n",
      "- Input features: 7\n",
      "- Embedding dimension: 16\n",
      "- Number of hidden layers: 2\n",
      "- Hidden layer sizes: [512, 512]\n",
      "- Output classes: 2\n",
      "- Convolution dropout rate: 0.1\n",
      "- Classifier dropout rate: 0.1\n",
      "- Layer normalization: True\n"
     ]
    }
   ],
   "execution_count": 4
  },
  {
   "metadata": {
    "ExecuteTime": {
     "end_time": "2025-08-01T19:14:13.418466Z",
     "start_time": "2025-08-01T19:14:13.326617Z"
    }
   },
   "cell_type": "code",
   "source": [
    "# load model from disk\n",
    "model_save_path = \"dynamic_gnn_model_combined_features.pth\"\n",
    "if Path(model_save_path).exists():\n",
    "    print(f\"Loading model from {model_save_path}\")\n",
    "    model.load_state_dict(torch.load(model_save_path))\n",
    "else:\n",
    "    print(f\"Model file {model_save_path} does not exist. Initializing a new model.\")"
   ],
   "id": "8b83a260eddd957c",
   "outputs": [
    {
     "name": "stdout",
     "output_type": "stream",
     "text": [
      "Loading model from dynamic_gnn_model_combined_features.pth\n"
     ]
    }
   ],
   "execution_count": 5
  },
  {
   "metadata": {
    "ExecuteTime": {
     "end_time": "2025-08-01T22:47:20.817322Z",
     "start_time": "2025-08-01T21:38:21.243601Z"
    }
   },
   "cell_type": "code",
   "source": [
    "torch.cuda.empty_cache()\n",
    "\n",
    "for i in range(1):\n",
    "    trained_model, history = simple_train_model_v2(\n",
    "        dataset,\n",
    "        gnn_model=model,\n",
    "        num_epochs=20,\n",
    "        batch_size=8,\n",
    "        learning_rate=0.001,\n",
    "        start_index=0,\n",
    "        num_graphs_to_use=63000,\n",
    "    )\n",
    "    torch.save(trained_model.state_dict(), model_save_path)"
   ],
   "id": "f9bbea70b3f36e82",
   "outputs": [
    {
     "name": "stdout",
     "output_type": "stream",
     "text": [
      "Label 1: 40414 instances\n",
      "Label 0: 22586 instances\n",
      "Label 1: 64.15% of total instances\n",
      "Label 0: 35.85% of total instances\n",
      "Class weights: tensor([2.7893, 1.5589], device='cuda:0')\n",
      "Splitting dataset into train and validation sets\n",
      "Train samples: 50400\n",
      "Validation samples: 12600\n",
      "\n",
      "Starting training for 20 epochs...\n"
     ]
    },
    {
     "name": "stderr",
     "output_type": "stream",
     "text": [
      "Epoch 1/20 [Train]: 100%|██████████| 6300/6300 [02:57<00:00, 35.41it/s, loss=0.0854, acc=84.70%]\n",
      "Epoch 1/20 [Val]: 100%|██████████| 1575/1575 [00:25<00:00, 61.92it/s, loss=0.5398, acc=83.53%]\n"
     ]
    },
    {
     "name": "stdout",
     "output_type": "stream",
     "text": [
      "Epoch 1/20 - Train Loss: 0.3539, Acc: 84.70% | Val Loss: 0.4363, Acc: 83.53% (Best Val: 83.53%)\n"
     ]
    },
    {
     "name": "stderr",
     "output_type": "stream",
     "text": [
      "Epoch 2/20 [Train]: 100%|██████████| 6300/6300 [02:56<00:00, 35.73it/s, loss=0.1030, acc=84.70%]\n",
      "Epoch 2/20 [Val]: 100%|██████████| 1575/1575 [00:25<00:00, 62.95it/s, loss=0.4351, acc=83.80%]\n"
     ]
    },
    {
     "name": "stdout",
     "output_type": "stream",
     "text": [
      "Epoch 2/20 - Train Loss: 0.3512, Acc: 84.70% | Val Loss: 0.4225, Acc: 83.80% (Best Val: 83.80%)\n"
     ]
    },
    {
     "name": "stderr",
     "output_type": "stream",
     "text": [
      "Epoch 3/20 [Train]: 100%|██████████| 6300/6300 [02:56<00:00, 35.69it/s, loss=0.4303, acc=84.59%]\n",
      "Epoch 3/20 [Val]: 100%|██████████| 1575/1575 [00:24<00:00, 64.62it/s, loss=0.3079, acc=83.87%]\n"
     ]
    },
    {
     "name": "stdout",
     "output_type": "stream",
     "text": [
      "Epoch 3/20 - Train Loss: 0.3524, Acc: 84.59% | Val Loss: 0.4457, Acc: 83.87% (Best Val: 83.87%)\n"
     ]
    },
    {
     "name": "stderr",
     "output_type": "stream",
     "text": [
      "Epoch 4/20 [Train]: 100%|██████████| 6300/6300 [02:50<00:00, 36.85it/s, loss=0.2748, acc=84.68%] \n",
      "Epoch 4/20 [Val]: 100%|██████████| 1575/1575 [00:23<00:00, 65.66it/s, loss=0.3756, acc=82.78%]\n"
     ]
    },
    {
     "name": "stdout",
     "output_type": "stream",
     "text": [
      "Epoch 4/20 - Train Loss: 0.3536, Acc: 84.68% | Val Loss: 0.4394, Acc: 82.78% (Best Val: 83.87%)\n"
     ]
    },
    {
     "name": "stderr",
     "output_type": "stream",
     "text": [
      "Epoch 5/20 [Train]: 100%|██████████| 6300/6300 [02:59<00:00, 35.05it/s, loss=0.2751, acc=84.74%]\n",
      "Epoch 5/20 [Val]: 100%|██████████| 1575/1575 [00:26<00:00, 60.43it/s, loss=0.4057, acc=82.82%]\n"
     ]
    },
    {
     "name": "stdout",
     "output_type": "stream",
     "text": [
      "Epoch 5/20 - Train Loss: 0.3506, Acc: 84.74% | Val Loss: 0.4524, Acc: 82.82% (Best Val: 83.87%)\n"
     ]
    },
    {
     "name": "stderr",
     "output_type": "stream",
     "text": [
      "Epoch 6/20 [Train]: 100%|██████████| 6300/6300 [02:51<00:00, 36.76it/s, loss=0.6797, acc=84.68%] \n",
      "Epoch 6/20 [Val]: 100%|██████████| 1575/1575 [00:24<00:00, 65.07it/s, loss=0.1702, acc=82.29%]\n"
     ]
    },
    {
     "name": "stdout",
     "output_type": "stream",
     "text": [
      "Epoch 6/20 - Train Loss: 0.3542, Acc: 84.68% | Val Loss: 0.4335, Acc: 82.29% (Best Val: 83.87%)\n"
     ]
    },
    {
     "name": "stderr",
     "output_type": "stream",
     "text": [
      "Epoch 7/20 [Train]: 100%|██████████| 6300/6300 [02:51<00:00, 36.74it/s, loss=0.4265, acc=84.80%]\n",
      "Epoch 7/20 [Val]: 100%|██████████| 1575/1575 [00:24<00:00, 63.27it/s, loss=0.2748, acc=83.25%]\n"
     ]
    },
    {
     "name": "stdout",
     "output_type": "stream",
     "text": [
      "Epoch 7/20 - Train Loss: 0.3506, Acc: 84.80% | Val Loss: 0.4348, Acc: 83.25% (Best Val: 83.87%)\n"
     ]
    },
    {
     "name": "stderr",
     "output_type": "stream",
     "text": [
      "Epoch 8/20 [Train]: 100%|██████████| 6300/6300 [02:56<00:00, 35.70it/s, loss=0.0813, acc=84.78%]\n",
      "Epoch 8/20 [Val]: 100%|██████████| 1575/1575 [00:25<00:00, 62.73it/s, loss=0.3993, acc=83.48%]\n"
     ]
    },
    {
     "name": "stdout",
     "output_type": "stream",
     "text": [
      "Epoch 8/20 - Train Loss: 0.3473, Acc: 84.78% | Val Loss: 0.4249, Acc: 83.48% (Best Val: 83.87%)\n"
     ]
    },
    {
     "name": "stderr",
     "output_type": "stream",
     "text": [
      "Epoch 9/20 [Train]: 100%|██████████| 6300/6300 [02:51<00:00, 36.73it/s, loss=0.4928, acc=84.51%] \n",
      "Epoch 9/20 [Val]: 100%|██████████| 1575/1575 [00:25<00:00, 62.85it/s, loss=0.3135, acc=83.53%]\n"
     ]
    },
    {
     "name": "stdout",
     "output_type": "stream",
     "text": [
      "Epoch 9/20 - Train Loss: 0.3538, Acc: 84.51% | Val Loss: 0.4228, Acc: 83.53% (Best Val: 83.87%)\n"
     ]
    },
    {
     "name": "stderr",
     "output_type": "stream",
     "text": [
      "Epoch 10/20 [Train]: 100%|██████████| 6300/6300 [02:51<00:00, 36.64it/s, loss=0.1550, acc=84.77%]\n",
      "Epoch 10/20 [Val]: 100%|██████████| 1575/1575 [02:23<00:00, 10.95it/s, loss=0.4388, acc=83.52%]\n"
     ]
    },
    {
     "name": "stdout",
     "output_type": "stream",
     "text": [
      "Epoch 10/20 - Train Loss: 0.3500, Acc: 84.77% | Val Loss: 0.4392, Acc: 83.52% (Best Val: 83.87%)\n"
     ]
    },
    {
     "name": "stderr",
     "output_type": "stream",
     "text": [
      "Epoch 11/20 [Train]: 100%|██████████| 6300/6300 [02:53<00:00, 36.36it/s, loss=0.1249, acc=84.81%]\n",
      "Epoch 11/20 [Val]: 100%|██████████| 1575/1575 [00:24<00:00, 63.53it/s, loss=0.4985, acc=83.40%]\n"
     ]
    },
    {
     "name": "stdout",
     "output_type": "stream",
     "text": [
      "Epoch 11/20 - Train Loss: 0.3483, Acc: 84.81% | Val Loss: 0.4263, Acc: 83.40% (Best Val: 83.87%)\n"
     ]
    },
    {
     "name": "stderr",
     "output_type": "stream",
     "text": [
      "Epoch 12/20 [Train]: 100%|██████████| 6300/6300 [02:51<00:00, 36.67it/s, loss=0.1406, acc=84.90%]\n",
      "Epoch 12/20 [Val]: 100%|██████████| 1575/1575 [00:24<00:00, 65.29it/s, loss=0.4635, acc=82.66%]\n"
     ]
    },
    {
     "name": "stdout",
     "output_type": "stream",
     "text": [
      "Epoch 12/20 - Train Loss: 0.3464, Acc: 84.90% | Val Loss: 0.4269, Acc: 82.66% (Best Val: 83.87%)\n"
     ]
    },
    {
     "name": "stderr",
     "output_type": "stream",
     "text": [
      "Epoch 13/20 [Train]: 100%|██████████| 6300/6300 [02:55<00:00, 35.94it/s, loss=0.3816, acc=84.90%]\n",
      "Epoch 13/20 [Val]: 100%|██████████| 1575/1575 [00:24<00:00, 63.35it/s, loss=0.3066, acc=83.19%]\n"
     ]
    },
    {
     "name": "stdout",
     "output_type": "stream",
     "text": [
      "Epoch 13/20 - Train Loss: 0.3473, Acc: 84.90% | Val Loss: 0.4447, Acc: 83.19% (Best Val: 83.87%)\n"
     ]
    },
    {
     "name": "stderr",
     "output_type": "stream",
     "text": [
      "Epoch 14/20 [Train]: 100%|██████████| 6300/6300 [03:04<00:00, 34.17it/s, loss=0.5264, acc=84.98%] \n",
      "Epoch 14/20 [Val]: 100%|██████████| 1575/1575 [00:25<00:00, 61.79it/s, loss=0.3838, acc=82.99%]\n"
     ]
    },
    {
     "name": "stdout",
     "output_type": "stream",
     "text": [
      "Epoch 14/20 - Train Loss: 0.3502, Acc: 84.98% | Val Loss: 0.4285, Acc: 82.99% (Best Val: 83.87%)\n"
     ]
    },
    {
     "name": "stderr",
     "output_type": "stream",
     "text": [
      "Epoch 15/20 [Train]: 100%|██████████| 6300/6300 [02:58<00:00, 35.30it/s, loss=0.2057, acc=84.99%]\n",
      "Epoch 15/20 [Val]: 100%|██████████| 1575/1575 [00:25<00:00, 62.58it/s, loss=0.3226, acc=82.60%]\n"
     ]
    },
    {
     "name": "stdout",
     "output_type": "stream",
     "text": [
      "Epoch 15/20 - Train Loss: 0.3457, Acc: 84.99% | Val Loss: 0.4396, Acc: 82.60% (Best Val: 83.87%)\n"
     ]
    },
    {
     "name": "stderr",
     "output_type": "stream",
     "text": [
      "Epoch 16/20 [Train]: 100%|██████████| 6300/6300 [02:58<00:00, 35.32it/s, loss=0.3525, acc=84.80%]\n",
      "Epoch 16/20 [Val]: 100%|██████████| 1575/1575 [00:26<00:00, 59.39it/s, loss=0.4149, acc=83.87%]\n"
     ]
    },
    {
     "name": "stdout",
     "output_type": "stream",
     "text": [
      "Epoch 16/20 - Train Loss: 0.3474, Acc: 84.80% | Val Loss: 0.4238, Acc: 83.87% (Best Val: 83.87%)\n"
     ]
    },
    {
     "name": "stderr",
     "output_type": "stream",
     "text": [
      "Epoch 17/20 [Train]: 100%|██████████| 6300/6300 [02:56<00:00, 35.61it/s, loss=0.1961, acc=84.94%]\n",
      "Epoch 17/20 [Val]: 100%|██████████| 1575/1575 [00:24<00:00, 63.08it/s, loss=0.4266, acc=83.22%]\n"
     ]
    },
    {
     "name": "stdout",
     "output_type": "stream",
     "text": [
      "Epoch 17/20 - Train Loss: 0.3470, Acc: 84.94% | Val Loss: 0.4326, Acc: 83.22% (Best Val: 83.87%)\n"
     ]
    },
    {
     "name": "stderr",
     "output_type": "stream",
     "text": [
      "Epoch 18/20 [Train]: 100%|██████████| 6300/6300 [02:54<00:00, 36.06it/s, loss=0.1772, acc=84.78%]\n",
      "Epoch 18/20 [Val]: 100%|██████████| 1575/1575 [00:24<00:00, 63.33it/s, loss=0.2902, acc=83.87%]\n"
     ]
    },
    {
     "name": "stdout",
     "output_type": "stream",
     "text": [
      "Epoch 18/20 - Train Loss: 0.3483, Acc: 84.78% | Val Loss: 0.4332, Acc: 83.87% (Best Val: 83.87%)\n"
     ]
    },
    {
     "name": "stderr",
     "output_type": "stream",
     "text": [
      "Epoch 19/20 [Train]: 100%|██████████| 6300/6300 [02:57<00:00, 35.50it/s, loss=0.3496, acc=84.92%]\n",
      "Epoch 19/20 [Val]: 100%|██████████| 1575/1575 [00:28<00:00, 55.63it/s, loss=0.4255, acc=83.32%]\n"
     ]
    },
    {
     "name": "stdout",
     "output_type": "stream",
     "text": [
      "Epoch 19/20 - Train Loss: 0.3458, Acc: 84.92% | Val Loss: 0.4267, Acc: 83.32% (Best Val: 83.87%)\n"
     ]
    },
    {
     "name": "stderr",
     "output_type": "stream",
     "text": [
      "Epoch 20/20 [Train]: 100%|██████████| 6300/6300 [02:58<00:00, 35.30it/s, loss=0.1529, acc=84.83%]\n",
      "Epoch 20/20 [Val]: 100%|██████████| 1575/1575 [00:25<00:00, 61.43it/s, loss=0.3863, acc=83.00%]\n"
     ]
    },
    {
     "name": "stdout",
     "output_type": "stream",
     "text": [
      "Epoch 20/20 - Train Loss: 0.3468, Acc: 84.83% | Val Loss: 0.4278, Acc: 83.00% (Best Val: 83.87%)\n",
      "Training completed!\n",
      "Training time: 4139.565165499924\n",
      "Best validation accuracy: 83.87%\n"
     ]
    }
   ],
   "execution_count": 7
  },
  {
   "metadata": {
    "ExecuteTime": {
     "end_time": "2025-07-31T15:36:46.460136Z",
     "start_time": "2025-07-31T15:36:46.450174Z"
    }
   },
   "cell_type": "code",
   "source": [
    "# save model to disk\n",
    "torch.save(trained_model.state_dict(), model_save_path)"
   ],
   "id": "a63141819c2a698",
   "outputs": [],
   "execution_count": 12
  },
  {
   "metadata": {
    "ExecuteTime": {
     "end_time": "2025-07-31T17:27:12.141029Z",
     "start_time": "2025-07-31T15:36:46.514011Z"
    }
   },
   "cell_type": "code",
   "source": [
    "trained_model, history = simple_train_model_v2(\n",
    "    dataset,\n",
    "    gnn_model=model,\n",
    "    num_epochs=20,\n",
    "    batch_size=12,\n",
    "    learning_rate=0.001,\n",
    "    start_index=0,\n",
    "    num_graphs_to_use=63000,\n",
    ")"
   ],
   "id": "de25ee5362a43f3b",
   "outputs": [
    {
     "name": "stdout",
     "output_type": "stream",
     "text": [
      "Label 1: 40414 instances\n",
      "Label 0: 22586 instances\n",
      "Label 1: 64.15% of total instances\n",
      "Label 0: 35.85% of total instances\n",
      "Class weights: tensor([2.7893, 1.5589], device='cuda:0')\n",
      "Splitting dataset into train and validation sets\n",
      "Train samples: 50400\n",
      "Validation samples: 12600\n",
      "\n",
      "Starting training for 20 epochs...\n"
     ]
    },
    {
     "name": "stderr",
     "output_type": "stream",
     "text": [
      "Epoch 1/20 [Train]: 100%|██████████| 4200/4200 [02:51<00:00, 24.46it/s, loss=0.7851, acc=79.05%]\n",
      "Epoch 1/20 [Val]: 100%|██████████| 1050/1050 [00:28<00:00, 36.62it/s, loss=0.2869, acc=78.86%]\n"
     ]
    },
    {
     "name": "stdout",
     "output_type": "stream",
     "text": [
      "Epoch 1/20 - Train Loss: 0.4570, Acc: 79.05% | Val Loss: 0.4601, Acc: 78.86% (Best Val: 78.86%)\n"
     ]
    },
    {
     "name": "stderr",
     "output_type": "stream",
     "text": [
      "Epoch 2/20 [Train]: 100%|██████████| 4200/4200 [02:48<00:00, 24.93it/s, loss=0.4724, acc=79.19%]\n",
      "Epoch 2/20 [Val]: 100%|██████████| 1050/1050 [00:23<00:00, 45.09it/s, loss=0.2278, acc=79.54%]\n"
     ]
    },
    {
     "name": "stdout",
     "output_type": "stream",
     "text": [
      "Epoch 2/20 - Train Loss: 0.4527, Acc: 79.19% | Val Loss: 0.4623, Acc: 79.54% (Best Val: 79.54%)\n"
     ]
    },
    {
     "name": "stderr",
     "output_type": "stream",
     "text": [
      "Epoch 3/20 [Train]: 100%|██████████| 4200/4200 [04:39<00:00, 15.04it/s, loss=0.5542, acc=79.32%]\n",
      "Epoch 3/20 [Val]: 100%|██████████| 1050/1050 [00:29<00:00, 35.41it/s, loss=0.2971, acc=77.90%]\n"
     ]
    },
    {
     "name": "stdout",
     "output_type": "stream",
     "text": [
      "Epoch 3/20 - Train Loss: 0.4514, Acc: 79.32% | Val Loss: 0.4596, Acc: 77.90% (Best Val: 79.54%)\n"
     ]
    },
    {
     "name": "stderr",
     "output_type": "stream",
     "text": [
      "Epoch 4/20 [Train]: 100%|██████████| 4200/4200 [03:37<00:00, 19.31it/s, loss=0.7107, acc=79.61%]\n",
      "Epoch 4/20 [Val]: 100%|██████████| 1050/1050 [00:29<00:00, 35.32it/s, loss=0.2412, acc=78.71%]\n"
     ]
    },
    {
     "name": "stdout",
     "output_type": "stream",
     "text": [
      "Epoch 4/20 - Train Loss: 0.4490, Acc: 79.61% | Val Loss: 0.4556, Acc: 78.71% (Best Val: 79.54%)\n"
     ]
    },
    {
     "name": "stderr",
     "output_type": "stream",
     "text": [
      "Epoch 5/20 [Train]: 100%|██████████| 4200/4200 [03:15<00:00, 21.49it/s, loss=0.3960, acc=79.61%]\n",
      "Epoch 5/20 [Val]: 100%|██████████| 1050/1050 [00:29<00:00, 35.52it/s, loss=0.2803, acc=78.30%]\n"
     ]
    },
    {
     "name": "stdout",
     "output_type": "stream",
     "text": [
      "Epoch 5/20 - Train Loss: 0.4459, Acc: 79.61% | Val Loss: 0.4529, Acc: 78.30% (Best Val: 79.54%)\n"
     ]
    },
    {
     "name": "stderr",
     "output_type": "stream",
     "text": [
      "Epoch 6/20 [Train]: 100%|██████████| 4200/4200 [03:26<00:00, 20.35it/s, loss=0.2764, acc=79.62%]\n",
      "Epoch 6/20 [Val]: 100%|██████████| 1050/1050 [00:31<00:00, 33.66it/s, loss=0.1821, acc=79.70%]\n"
     ]
    },
    {
     "name": "stdout",
     "output_type": "stream",
     "text": [
      "Epoch 6/20 - Train Loss: 0.4450, Acc: 79.62% | Val Loss: 0.4649, Acc: 79.70% (Best Val: 79.70%)\n"
     ]
    },
    {
     "name": "stderr",
     "output_type": "stream",
     "text": [
      "Epoch 7/20 [Train]: 100%|██████████| 4200/4200 [03:15<00:00, 21.52it/s, loss=0.4282, acc=79.70%]\n",
      "Epoch 7/20 [Val]: 100%|██████████| 1050/1050 [00:29<00:00, 36.01it/s, loss=0.2692, acc=79.02%]\n"
     ]
    },
    {
     "name": "stdout",
     "output_type": "stream",
     "text": [
      "Epoch 7/20 - Train Loss: 0.4444, Acc: 79.70% | Val Loss: 0.4600, Acc: 79.02% (Best Val: 79.70%)\n"
     ]
    },
    {
     "name": "stderr",
     "output_type": "stream",
     "text": [
      "Epoch 8/20 [Train]: 100%|██████████| 4200/4200 [02:52<00:00, 24.39it/s, loss=0.6236, acc=79.92%]\n",
      "Epoch 8/20 [Val]: 100%|██████████| 1050/1050 [00:28<00:00, 36.30it/s, loss=0.2778, acc=78.78%]\n"
     ]
    },
    {
     "name": "stdout",
     "output_type": "stream",
     "text": [
      "Epoch 8/20 - Train Loss: 0.4416, Acc: 79.92% | Val Loss: 0.4532, Acc: 78.78% (Best Val: 79.70%)\n"
     ]
    },
    {
     "name": "stderr",
     "output_type": "stream",
     "text": [
      "Epoch 9/20 [Train]: 100%|██████████| 4200/4200 [06:05<00:00, 11.49it/s, loss=0.3026, acc=79.94%]\n",
      "Epoch 9/20 [Val]: 100%|██████████| 1050/1050 [01:15<00:00, 13.86it/s, loss=0.2416, acc=80.10%]\n"
     ]
    },
    {
     "name": "stdout",
     "output_type": "stream",
     "text": [
      "Epoch 9/20 - Train Loss: 0.4396, Acc: 79.94% | Val Loss: 0.4588, Acc: 80.10% (Best Val: 80.10%)\n"
     ]
    },
    {
     "name": "stderr",
     "output_type": "stream",
     "text": [
      "Epoch 10/20 [Train]: 100%|██████████| 4200/4200 [04:44<00:00, 14.76it/s, loss=0.3424, acc=79.95%]\n",
      "Epoch 10/20 [Val]: 100%|██████████| 1050/1050 [00:42<00:00, 24.44it/s, loss=0.2306, acc=79.85%]\n"
     ]
    },
    {
     "name": "stdout",
     "output_type": "stream",
     "text": [
      "Epoch 10/20 - Train Loss: 0.4383, Acc: 79.95% | Val Loss: 0.4479, Acc: 79.85% (Best Val: 80.10%)\n"
     ]
    },
    {
     "name": "stderr",
     "output_type": "stream",
     "text": [
      "Epoch 11/20 [Train]: 100%|██████████| 4200/4200 [04:42<00:00, 14.88it/s, loss=0.2684, acc=80.39%]\n",
      "Epoch 11/20 [Val]: 100%|██████████| 1050/1050 [01:42<00:00, 10.28it/s, loss=0.2821, acc=79.85%]\n"
     ]
    },
    {
     "name": "stdout",
     "output_type": "stream",
     "text": [
      "Epoch 11/20 - Train Loss: 0.4367, Acc: 80.39% | Val Loss: 0.4572, Acc: 79.85% (Best Val: 80.10%)\n"
     ]
    },
    {
     "name": "stderr",
     "output_type": "stream",
     "text": [
      "Epoch 12/20 [Train]: 100%|██████████| 4200/4200 [04:32<00:00, 15.42it/s, loss=0.2806, acc=80.49%]\n",
      "Epoch 12/20 [Val]: 100%|██████████| 1050/1050 [00:29<00:00, 36.16it/s, loss=0.2902, acc=80.20%]\n"
     ]
    },
    {
     "name": "stdout",
     "output_type": "stream",
     "text": [
      "Epoch 12/20 - Train Loss: 0.4338, Acc: 80.49% | Val Loss: 0.4573, Acc: 80.20% (Best Val: 80.20%)\n"
     ]
    },
    {
     "name": "stderr",
     "output_type": "stream",
     "text": [
      "Epoch 13/20 [Train]: 100%|██████████| 4200/4200 [06:28<00:00, 10.81it/s, loss=0.1696, acc=80.20%]\n",
      "Epoch 13/20 [Val]: 100%|██████████| 1050/1050 [03:53<00:00,  4.50it/s, loss=0.2727, acc=80.83%]\n"
     ]
    },
    {
     "name": "stdout",
     "output_type": "stream",
     "text": [
      "Epoch 13/20 - Train Loss: 0.4333, Acc: 80.20% | Val Loss: 0.4570, Acc: 80.83% (Best Val: 80.83%)\n"
     ]
    },
    {
     "name": "stderr",
     "output_type": "stream",
     "text": [
      "Epoch 14/20 [Train]: 100%|██████████| 4200/4200 [05:13<00:00, 13.39it/s, loss=0.3205, acc=80.30%]\n",
      "Epoch 14/20 [Val]: 100%|██████████| 1050/1050 [00:34<00:00, 30.54it/s, loss=0.2176, acc=80.12%]\n"
     ]
    },
    {
     "name": "stdout",
     "output_type": "stream",
     "text": [
      "Epoch 14/20 - Train Loss: 0.4324, Acc: 80.30% | Val Loss: 0.4540, Acc: 80.12% (Best Val: 80.83%)\n"
     ]
    },
    {
     "name": "stderr",
     "output_type": "stream",
     "text": [
      "Epoch 15/20 [Train]: 100%|██████████| 4200/4200 [03:29<00:00, 20.06it/s, loss=0.3868, acc=80.51%]\n",
      "Epoch 15/20 [Val]: 100%|██████████| 1050/1050 [01:12<00:00, 14.56it/s, loss=0.2767, acc=80.88%]\n"
     ]
    },
    {
     "name": "stdout",
     "output_type": "stream",
     "text": [
      "Epoch 15/20 - Train Loss: 0.4311, Acc: 80.51% | Val Loss: 0.4562, Acc: 80.88% (Best Val: 80.88%)\n"
     ]
    },
    {
     "name": "stderr",
     "output_type": "stream",
     "text": [
      "Epoch 16/20 [Train]: 100%|██████████| 4200/4200 [04:00<00:00, 17.45it/s, loss=0.1970, acc=80.59%]\n",
      "Epoch 16/20 [Val]: 100%|██████████| 1050/1050 [00:24<00:00, 43.60it/s, loss=0.3210, acc=80.09%]\n"
     ]
    },
    {
     "name": "stdout",
     "output_type": "stream",
     "text": [
      "Epoch 16/20 - Train Loss: 0.4285, Acc: 80.59% | Val Loss: 0.4491, Acc: 80.09% (Best Val: 80.88%)\n"
     ]
    },
    {
     "name": "stderr",
     "output_type": "stream",
     "text": [
      "Epoch 17/20 [Train]: 100%|██████████| 4200/4200 [02:46<00:00, 25.27it/s, loss=0.4434, acc=80.61%]\n",
      "Epoch 17/20 [Val]: 100%|██████████| 1050/1050 [00:23<00:00, 45.15it/s, loss=0.2030, acc=80.56%]\n"
     ]
    },
    {
     "name": "stdout",
     "output_type": "stream",
     "text": [
      "Epoch 17/20 - Train Loss: 0.4287, Acc: 80.61% | Val Loss: 0.4529, Acc: 80.56% (Best Val: 80.88%)\n"
     ]
    },
    {
     "name": "stderr",
     "output_type": "stream",
     "text": [
      "Epoch 18/20 [Train]: 100%|██████████| 4200/4200 [03:18<00:00, 21.20it/s, loss=0.2447, acc=80.84%]\n",
      "Epoch 18/20 [Val]: 100%|██████████| 1050/1050 [00:30<00:00, 34.83it/s, loss=0.3326, acc=80.59%]\n"
     ]
    },
    {
     "name": "stdout",
     "output_type": "stream",
     "text": [
      "Epoch 18/20 - Train Loss: 0.4257, Acc: 80.84% | Val Loss: 0.4507, Acc: 80.59% (Best Val: 80.88%)\n"
     ]
    },
    {
     "name": "stderr",
     "output_type": "stream",
     "text": [
      "Epoch 19/20 [Train]: 100%|██████████| 4200/4200 [03:00<00:00, 23.31it/s, loss=0.3815, acc=80.59%]\n",
      "Epoch 19/20 [Val]: 100%|██████████| 1050/1050 [00:29<00:00, 35.96it/s, loss=0.2295, acc=80.44%]\n"
     ]
    },
    {
     "name": "stdout",
     "output_type": "stream",
     "text": [
      "Epoch 19/20 - Train Loss: 0.4254, Acc: 80.59% | Val Loss: 0.4492, Acc: 80.44% (Best Val: 80.88%)\n"
     ]
    },
    {
     "name": "stderr",
     "output_type": "stream",
     "text": [
      "Epoch 20/20 [Train]: 100%|██████████| 4200/4200 [15:55<00:00,  4.40it/s, loss=0.4462, acc=80.66%]\n",
      "Epoch 20/20 [Val]: 100%|██████████| 1050/1050 [03:49<00:00,  4.58it/s, loss=0.3490, acc=80.16%]\n"
     ]
    },
    {
     "name": "stdout",
     "output_type": "stream",
     "text": [
      "Epoch 20/20 - Train Loss: 0.4246, Acc: 80.66% | Val Loss: 0.4492, Acc: 80.16% (Best Val: 80.88%)\n",
      "Training completed!\n",
      "Training time: 6625.62071129994\n",
      "Best validation accuracy: 80.88%\n"
     ]
    }
   ],
   "execution_count": 13
  },
  {
   "metadata": {
    "ExecuteTime": {
     "end_time": "2025-07-23T14:18:36.325538Z",
     "start_time": "2025-07-23T14:18:36.258775Z"
    }
   },
   "cell_type": "code",
   "source": [
    "dataset_trim = FastSTEPDataset(PROCESSED_DATA_DIR, start_index=0, end_index=7)\n",
    "get_dataset_stats(dataset_trim)"
   ],
   "id": "1cea51e286893d38",
   "outputs": [
    {
     "name": "stdout",
     "output_type": "stream",
     "text": [
      "Fast dataset loaded:\n",
      "- Total samples: 64579\n",
      "- Processed successfully: 64579\n",
      "- Failed processing: 77\n",
      "Label counts in dataset:\n",
      "Label 1: 40873 instances\n",
      "Label 0: 23706 instances\n",
      "Label 1: 63.29% of total instances\n",
      "Label 0: 36.71% of total instances\n",
      "Class weights for loss function: [1.5799916815501676, 2.7241626592423858]\n"
     ]
    }
   ],
   "execution_count": 9
  },
  {
   "metadata": {
    "ExecuteTime": {
     "end_time": "2025-07-23T14:21:14.814345Z",
     "start_time": "2025-07-23T14:21:14.808815Z"
    }
   },
   "cell_type": "code",
   "source": "dataset_trim[0].x",
   "id": "69ba1fad5d47fe63",
   "outputs": [
    {
     "data": {
      "text/plain": [
       "tensor([[228.0000,  -0.5517,  -0.9249,  ...,  -1.0000,  -0.9971,  -0.7675],\n",
       "        [287.0000,  -0.7946,  -0.9850,  ...,  -0.9887,  -0.9943,  -1.0000],\n",
       "        [ 17.0000,  -0.8704,  -0.9925,  ...,  -1.0000,  -0.9971,  -1.0000],\n",
       "        ...,\n",
       "        [ 59.0000,  -0.8704,  -0.9925,  ...,  -0.9785,  -0.9938,  -1.0000],\n",
       "        [146.0000,  -0.8704,  -0.9925,  ...,  -0.9785,  -0.9938,  -1.0000],\n",
       "        [146.0000,  -0.8704,  -0.9925,  ...,  -0.9785,  -0.9938,  -1.0000]])"
      ]
     },
     "execution_count": 10,
     "metadata": {},
     "output_type": "execute_result"
    }
   ],
   "execution_count": 10
  },
  {
   "metadata": {
    "ExecuteTime": {
     "end_time": "2025-07-23T14:24:40.076587Z",
     "start_time": "2025-07-23T14:24:40.067823Z"
    }
   },
   "cell_type": "code",
   "source": [
    "model_with_embed = DynamicGNN_Embedding_GlobalFeatures(\n",
    "    input_features=dataset[0].x.shape[1],\n",
    "    embedding_dim=16,\n",
    "    hidden_sizes=[512, 512],\n",
    "    conv_dropout_rate=0.2,\n",
    "    classifier_dropout_rate=0.2,\n",
    "    use_layer_norm=True,\n",
    "    pool_hidden_size=128\n",
    ")"
   ],
   "id": "437307e067d3a6f6",
   "outputs": [
    {
     "name": "stdout",
     "output_type": "stream",
     "text": [
      "Created Dynamic GNN model:\n",
      "- Input features: 22\n",
      "- Embedding dimension: 16\n",
      "- Number of hidden layers: 2\n",
      "- Hidden layer sizes: [512, 512]\n",
      "- Output classes: 2\n",
      "- Convolution dropout rate: 0.2\n",
      "- Classifier dropout rate: 0.2\n",
      "- Layer normalization: True\n"
     ]
    }
   ],
   "execution_count": 13
  },
  {
   "metadata": {
    "ExecuteTime": {
     "end_time": "2025-07-23T14:29:03.395622Z",
     "start_time": "2025-07-23T14:25:29.010379Z"
    }
   },
   "cell_type": "code",
   "source": [
    "trained_model, history = simple_train_model_v2(\n",
    "    dataset_trim,\n",
    "    gnn_model=model_with_embed,\n",
    "    num_epochs=300,\n",
    "    batch_size=32,\n",
    "    learning_rate=0.001,\n",
    "    start_index=0,\n",
    "    num_graphs_to_use=50000,\n",
    ")"
   ],
   "id": "ff2563e7d6aee670",
   "outputs": [
    {
     "name": "stdout",
     "output_type": "stream",
     "text": [
      "Label 1: 346 instances\n",
      "Label 0: 154 instances\n",
      "Label 1: 69.20% of total instances\n",
      "Label 0: 30.80% of total instances\n",
      "Class weights: tensor([3.2468, 1.4451], device='cuda:0')\n",
      "Splitting dataset into train and validation sets\n",
      "Train samples: 400\n",
      "Validation samples: 100\n",
      "\n",
      "Starting training for 100 epochs...\n"
     ]
    },
    {
     "name": "stderr",
     "output_type": "stream",
     "text": [
      "Epoch 1/100 [Train]: 100%|██████████| 13/13 [00:01<00:00,  7.33it/s, loss=0.5732, acc=77.00%]\n",
      "Epoch 1/100 [Val]: 100%|██████████| 4/4 [00:00<00:00, 19.11it/s, loss=0.9531, acc=74.00%]\n"
     ]
    },
    {
     "name": "stdout",
     "output_type": "stream",
     "text": [
      "Epoch 1/100 - Train Loss: 0.5530, Acc: 77.00% | Val Loss: 0.6855, Acc: 74.00% (Best Val: 74.00%)\n"
     ]
    },
    {
     "name": "stderr",
     "output_type": "stream",
     "text": [
      "Epoch 2/100 [Train]: 100%|██████████| 13/13 [00:01<00:00,  8.98it/s, loss=0.4445, acc=78.00%]\n",
      "Epoch 2/100 [Val]: 100%|██████████| 4/4 [00:00<00:00, 13.93it/s, loss=0.9515, acc=75.00%]\n"
     ]
    },
    {
     "name": "stdout",
     "output_type": "stream",
     "text": [
      "Epoch 2/100 - Train Loss: 0.5348, Acc: 78.00% | Val Loss: 0.6761, Acc: 75.00% (Best Val: 75.00%)\n"
     ]
    },
    {
     "name": "stderr",
     "output_type": "stream",
     "text": [
      "Epoch 3/100 [Train]: 100%|██████████| 13/13 [00:01<00:00,  7.98it/s, loss=0.5006, acc=79.25%]\n",
      "Epoch 3/100 [Val]: 100%|██████████| 4/4 [00:00<00:00,  4.35it/s, loss=0.9785, acc=76.00%]\n"
     ]
    },
    {
     "name": "stdout",
     "output_type": "stream",
     "text": [
      "Epoch 3/100 - Train Loss: 0.5294, Acc: 79.25% | Val Loss: 0.6843, Acc: 76.00% (Best Val: 76.00%)\n"
     ]
    },
    {
     "name": "stderr",
     "output_type": "stream",
     "text": [
      "Epoch 4/100 [Train]: 100%|██████████| 13/13 [00:01<00:00,  8.25it/s, loss=0.3063, acc=80.75%]\n",
      "Epoch 4/100 [Val]: 100%|██████████| 4/4 [00:00<00:00, 17.78it/s, loss=1.2825, acc=74.00%]\n"
     ]
    },
    {
     "name": "stdout",
     "output_type": "stream",
     "text": [
      "Epoch 4/100 - Train Loss: 0.5098, Acc: 80.75% | Val Loss: 0.7334, Acc: 74.00% (Best Val: 76.00%)\n"
     ]
    },
    {
     "name": "stderr",
     "output_type": "stream",
     "text": [
      "Epoch 5/100 [Train]: 100%|██████████| 13/13 [00:02<00:00,  5.13it/s, loss=0.5089, acc=79.25%]\n",
      "Epoch 5/100 [Val]: 100%|██████████| 4/4 [00:01<00:00,  2.81it/s, loss=1.5979, acc=66.00%]\n"
     ]
    },
    {
     "name": "stdout",
     "output_type": "stream",
     "text": [
      "Epoch 5/100 - Train Loss: 0.5079, Acc: 79.25% | Val Loss: 0.8200, Acc: 66.00% (Best Val: 76.00%)\n"
     ]
    },
    {
     "name": "stderr",
     "output_type": "stream",
     "text": [
      "Epoch 6/100 [Train]: 100%|██████████| 13/13 [00:02<00:00,  5.41it/s, loss=0.5463, acc=77.25%]\n",
      "Epoch 6/100 [Val]: 100%|██████████| 4/4 [00:01<00:00,  3.60it/s, loss=1.4387, acc=69.00%]\n"
     ]
    },
    {
     "name": "stdout",
     "output_type": "stream",
     "text": [
      "Epoch 6/100 - Train Loss: 0.5497, Acc: 77.25% | Val Loss: 0.7718, Acc: 69.00% (Best Val: 76.00%)\n"
     ]
    },
    {
     "name": "stderr",
     "output_type": "stream",
     "text": [
      "Epoch 7/100 [Train]: 100%|██████████| 13/13 [00:01<00:00,  8.05it/s, loss=0.4408, acc=75.25%]\n",
      "Epoch 7/100 [Val]: 100%|██████████| 4/4 [00:00<00:00, 18.94it/s, loss=0.6987, acc=78.00%]\n"
     ]
    },
    {
     "name": "stdout",
     "output_type": "stream",
     "text": [
      "Epoch 7/100 - Train Loss: 0.5368, Acc: 75.25% | Val Loss: 0.5328, Acc: 78.00% (Best Val: 78.00%)\n"
     ]
    },
    {
     "name": "stderr",
     "output_type": "stream",
     "text": [
      "Epoch 8/100 [Train]: 100%|██████████| 13/13 [00:01<00:00,  8.57it/s, loss=0.4710, acc=74.75%]\n",
      "Epoch 8/100 [Val]: 100%|██████████| 4/4 [00:00<00:00, 13.56it/s, loss=0.4405, acc=79.00%]\n"
     ]
    },
    {
     "name": "stdout",
     "output_type": "stream",
     "text": [
      "Epoch 8/100 - Train Loss: 0.4953, Acc: 74.75% | Val Loss: 0.4883, Acc: 79.00% (Best Val: 79.00%)\n"
     ]
    },
    {
     "name": "stderr",
     "output_type": "stream",
     "text": [
      "Epoch 9/100 [Train]: 100%|██████████| 13/13 [00:01<00:00,  8.18it/s, loss=0.4388, acc=76.50%]\n",
      "Epoch 9/100 [Val]: 100%|██████████| 4/4 [00:00<00:00, 18.65it/s, loss=0.8442, acc=80.00%]\n"
     ]
    },
    {
     "name": "stdout",
     "output_type": "stream",
     "text": [
      "Epoch 9/100 - Train Loss: 0.4505, Acc: 76.50% | Val Loss: 0.5542, Acc: 80.00% (Best Val: 80.00%)\n"
     ]
    },
    {
     "name": "stderr",
     "output_type": "stream",
     "text": [
      "Epoch 10/100 [Train]: 100%|██████████| 13/13 [00:01<00:00,  8.06it/s, loss=0.6516, acc=75.75%]\n",
      "Epoch 10/100 [Val]: 100%|██████████| 4/4 [00:00<00:00, 19.08it/s, loss=0.8097, acc=81.00%]\n"
     ]
    },
    {
     "name": "stdout",
     "output_type": "stream",
     "text": [
      "Epoch 10/100 - Train Loss: 0.4738, Acc: 75.75% | Val Loss: 0.5553, Acc: 81.00% (Best Val: 81.00%)\n"
     ]
    },
    {
     "name": "stderr",
     "output_type": "stream",
     "text": [
      "Epoch 11/100 [Train]: 100%|██████████| 13/13 [00:01<00:00,  8.29it/s, loss=0.5347, acc=79.75%]\n",
      "Epoch 11/100 [Val]: 100%|██████████| 4/4 [00:00<00:00, 19.38it/s, loss=0.8365, acc=74.00%]\n"
     ]
    },
    {
     "name": "stdout",
     "output_type": "stream",
     "text": [
      "Epoch 11/100 - Train Loss: 0.4567, Acc: 79.75% | Val Loss: 0.5592, Acc: 74.00% (Best Val: 81.00%)\n"
     ]
    },
    {
     "name": "stderr",
     "output_type": "stream",
     "text": [
      "Epoch 12/100 [Train]: 100%|██████████| 13/13 [00:01<00:00,  8.27it/s, loss=0.6810, acc=78.25%]\n",
      "Epoch 12/100 [Val]: 100%|██████████| 4/4 [00:00<00:00, 18.75it/s, loss=0.7132, acc=83.00%]\n"
     ]
    },
    {
     "name": "stdout",
     "output_type": "stream",
     "text": [
      "Epoch 12/100 - Train Loss: 0.4631, Acc: 78.25% | Val Loss: 0.5245, Acc: 83.00% (Best Val: 83.00%)\n"
     ]
    },
    {
     "name": "stderr",
     "output_type": "stream",
     "text": [
      "Epoch 13/100 [Train]: 100%|██████████| 13/13 [00:02<00:00,  5.77it/s, loss=0.3440, acc=75.25%]\n",
      "Epoch 13/100 [Val]: 100%|██████████| 4/4 [00:00<00:00,  9.66it/s, loss=0.6615, acc=79.00%]\n"
     ]
    },
    {
     "name": "stdout",
     "output_type": "stream",
     "text": [
      "Epoch 13/100 - Train Loss: 0.4303, Acc: 75.25% | Val Loss: 0.5230, Acc: 79.00% (Best Val: 83.00%)\n"
     ]
    },
    {
     "name": "stderr",
     "output_type": "stream",
     "text": [
      "Epoch 14/100 [Train]: 100%|██████████| 13/13 [00:01<00:00,  8.09it/s, loss=0.4574, acc=79.50%]\n",
      "Epoch 14/100 [Val]: 100%|██████████| 4/4 [00:00<00:00, 19.62it/s, loss=0.5958, acc=77.00%]\n"
     ]
    },
    {
     "name": "stdout",
     "output_type": "stream",
     "text": [
      "Epoch 14/100 - Train Loss: 0.4219, Acc: 79.50% | Val Loss: 0.5091, Acc: 77.00% (Best Val: 83.00%)\n"
     ]
    },
    {
     "name": "stderr",
     "output_type": "stream",
     "text": [
      "Epoch 15/100 [Train]: 100%|██████████| 13/13 [00:01<00:00,  8.08it/s, loss=0.4369, acc=79.50%]\n",
      "Epoch 15/100 [Val]: 100%|██████████| 4/4 [00:01<00:00,  3.37it/s, loss=0.3961, acc=79.00%]\n"
     ]
    },
    {
     "name": "stdout",
     "output_type": "stream",
     "text": [
      "Epoch 15/100 - Train Loss: 0.4320, Acc: 79.50% | Val Loss: 0.4493, Acc: 79.00% (Best Val: 83.00%)\n"
     ]
    },
    {
     "name": "stderr",
     "output_type": "stream",
     "text": [
      "Epoch 16/100 [Train]: 100%|██████████| 13/13 [00:01<00:00,  7.91it/s, loss=0.2317, acc=78.25%]\n",
      "Epoch 16/100 [Val]: 100%|██████████| 4/4 [00:00<00:00,  6.36it/s, loss=0.3510, acc=80.00%]\n"
     ]
    },
    {
     "name": "stdout",
     "output_type": "stream",
     "text": [
      "Epoch 16/100 - Train Loss: 0.4231, Acc: 78.25% | Val Loss: 0.4332, Acc: 80.00% (Best Val: 83.00%)\n"
     ]
    },
    {
     "name": "stderr",
     "output_type": "stream",
     "text": [
      "Epoch 17/100 [Train]: 100%|██████████| 13/13 [00:01<00:00,  8.08it/s, loss=0.2420, acc=81.25%]\n",
      "Epoch 17/100 [Val]: 100%|██████████| 4/4 [00:00<00:00, 18.90it/s, loss=0.2109, acc=82.00%]\n"
     ]
    },
    {
     "name": "stdout",
     "output_type": "stream",
     "text": [
      "Epoch 17/100 - Train Loss: 0.4171, Acc: 81.25% | Val Loss: 0.4294, Acc: 82.00% (Best Val: 83.00%)\n"
     ]
    },
    {
     "name": "stderr",
     "output_type": "stream",
     "text": [
      "Epoch 18/100 [Train]: 100%|██████████| 13/13 [00:01<00:00,  8.07it/s, loss=0.4179, acc=82.25%]\n",
      "Epoch 18/100 [Val]: 100%|██████████| 4/4 [00:00<00:00, 18.73it/s, loss=0.4975, acc=78.00%]\n"
     ]
    },
    {
     "name": "stdout",
     "output_type": "stream",
     "text": [
      "Epoch 18/100 - Train Loss: 0.4209, Acc: 82.25% | Val Loss: 0.4820, Acc: 78.00% (Best Val: 83.00%)\n"
     ]
    },
    {
     "name": "stderr",
     "output_type": "stream",
     "text": [
      "Epoch 19/100 [Train]: 100%|██████████| 13/13 [00:01<00:00,  8.64it/s, loss=0.5235, acc=82.25%]\n",
      "Epoch 19/100 [Val]: 100%|██████████| 4/4 [00:00<00:00, 13.59it/s, loss=0.7975, acc=79.00%]\n"
     ]
    },
    {
     "name": "stdout",
     "output_type": "stream",
     "text": [
      "Epoch 19/100 - Train Loss: 0.4146, Acc: 82.25% | Val Loss: 0.5474, Acc: 79.00% (Best Val: 83.00%)\n"
     ]
    },
    {
     "name": "stderr",
     "output_type": "stream",
     "text": [
      "Epoch 20/100 [Train]: 100%|██████████| 13/13 [00:01<00:00,  8.30it/s, loss=0.3789, acc=81.75%]\n",
      "Epoch 20/100 [Val]: 100%|██████████| 4/4 [00:00<00:00, 13.65it/s, loss=0.6180, acc=77.00%]\n"
     ]
    },
    {
     "name": "stdout",
     "output_type": "stream",
     "text": [
      "Epoch 20/100 - Train Loss: 0.4056, Acc: 81.75% | Val Loss: 0.4958, Acc: 77.00% (Best Val: 83.00%)\n"
     ]
    },
    {
     "name": "stderr",
     "output_type": "stream",
     "text": [
      "Epoch 21/100 [Train]: 100%|██████████| 13/13 [00:01<00:00,  8.17it/s, loss=0.5459, acc=81.00%]\n",
      "Epoch 21/100 [Val]: 100%|██████████| 4/4 [00:00<00:00, 19.05it/s, loss=0.8563, acc=81.00%]\n"
     ]
    },
    {
     "name": "stdout",
     "output_type": "stream",
     "text": [
      "Epoch 21/100 - Train Loss: 0.4161, Acc: 81.00% | Val Loss: 0.5422, Acc: 81.00% (Best Val: 83.00%)\n"
     ]
    },
    {
     "name": "stderr",
     "output_type": "stream",
     "text": [
      "Epoch 22/100 [Train]: 100%|██████████| 13/13 [00:01<00:00,  7.19it/s, loss=0.5314, acc=78.25%]\n",
      "Epoch 22/100 [Val]: 100%|██████████| 4/4 [00:00<00:00, 16.03it/s, loss=0.4567, acc=82.00%]\n"
     ]
    },
    {
     "name": "stdout",
     "output_type": "stream",
     "text": [
      "Epoch 22/100 - Train Loss: 0.4285, Acc: 78.25% | Val Loss: 0.4535, Acc: 82.00% (Best Val: 83.00%)\n"
     ]
    },
    {
     "name": "stderr",
     "output_type": "stream",
     "text": [
      "Epoch 23/100 [Train]: 100%|██████████| 13/13 [00:02<00:00,  5.26it/s, loss=0.7411, acc=79.50%]\n",
      "Epoch 23/100 [Val]: 100%|██████████| 4/4 [00:00<00:00, 19.90it/s, loss=0.5303, acc=81.00%]\n"
     ]
    },
    {
     "name": "stdout",
     "output_type": "stream",
     "text": [
      "Epoch 23/100 - Train Loss: 0.4258, Acc: 79.50% | Val Loss: 0.4660, Acc: 81.00% (Best Val: 83.00%)\n"
     ]
    },
    {
     "name": "stderr",
     "output_type": "stream",
     "text": [
      "Epoch 24/100 [Train]: 100%|██████████| 13/13 [00:01<00:00,  8.06it/s, loss=0.3285, acc=83.00%]\n",
      "Epoch 24/100 [Val]: 100%|██████████| 4/4 [00:00<00:00, 19.72it/s, loss=0.6637, acc=80.00%]\n"
     ]
    },
    {
     "name": "stdout",
     "output_type": "stream",
     "text": [
      "Epoch 24/100 - Train Loss: 0.3927, Acc: 83.00% | Val Loss: 0.4861, Acc: 80.00% (Best Val: 83.00%)\n"
     ]
    },
    {
     "name": "stderr",
     "output_type": "stream",
     "text": [
      "Epoch 25/100 [Train]: 100%|██████████| 13/13 [00:01<00:00,  8.28it/s, loss=0.4402, acc=80.00%]\n",
      "Epoch 25/100 [Val]: 100%|██████████| 4/4 [00:00<00:00, 20.01it/s, loss=0.3224, acc=83.00%]\n"
     ]
    },
    {
     "name": "stdout",
     "output_type": "stream",
     "text": [
      "Epoch 25/100 - Train Loss: 0.4043, Acc: 80.00% | Val Loss: 0.3986, Acc: 83.00% (Best Val: 83.00%)\n"
     ]
    },
    {
     "name": "stderr",
     "output_type": "stream",
     "text": [
      "Epoch 26/100 [Train]: 100%|██████████| 13/13 [00:01<00:00,  8.92it/s, loss=0.6624, acc=81.75%]\n",
      "Epoch 26/100 [Val]: 100%|██████████| 4/4 [00:00<00:00, 13.78it/s, loss=0.5078, acc=84.00%]\n"
     ]
    },
    {
     "name": "stdout",
     "output_type": "stream",
     "text": [
      "Epoch 26/100 - Train Loss: 0.4187, Acc: 81.75% | Val Loss: 0.4587, Acc: 84.00% (Best Val: 84.00%)\n"
     ]
    },
    {
     "name": "stderr",
     "output_type": "stream",
     "text": [
      "Epoch 27/100 [Train]: 100%|██████████| 13/13 [00:01<00:00,  8.54it/s, loss=0.3204, acc=81.75%]\n",
      "Epoch 27/100 [Val]: 100%|██████████| 4/4 [00:00<00:00, 19.60it/s, loss=0.3293, acc=79.00%]\n"
     ]
    },
    {
     "name": "stdout",
     "output_type": "stream",
     "text": [
      "Epoch 27/100 - Train Loss: 0.3819, Acc: 81.75% | Val Loss: 0.4274, Acc: 79.00% (Best Val: 84.00%)\n"
     ]
    },
    {
     "name": "stderr",
     "output_type": "stream",
     "text": [
      "Epoch 28/100 [Train]: 100%|██████████| 13/13 [00:01<00:00,  8.23it/s, loss=0.6802, acc=79.50%]\n",
      "Epoch 28/100 [Val]: 100%|██████████| 4/4 [00:00<00:00, 19.45it/s, loss=0.5154, acc=80.00%]\n"
     ]
    },
    {
     "name": "stdout",
     "output_type": "stream",
     "text": [
      "Epoch 28/100 - Train Loss: 0.4076, Acc: 79.50% | Val Loss: 0.4479, Acc: 80.00% (Best Val: 84.00%)\n"
     ]
    },
    {
     "name": "stderr",
     "output_type": "stream",
     "text": [
      "Epoch 29/100 [Train]: 100%|██████████| 13/13 [00:02<00:00,  5.73it/s, loss=0.3598, acc=78.50%]\n",
      "Epoch 29/100 [Val]: 100%|██████████| 4/4 [00:00<00:00,  9.44it/s, loss=0.3400, acc=85.00%]\n"
     ]
    },
    {
     "name": "stdout",
     "output_type": "stream",
     "text": [
      "Epoch 29/100 - Train Loss: 0.4001, Acc: 78.50% | Val Loss: 0.4053, Acc: 85.00% (Best Val: 85.00%)\n"
     ]
    },
    {
     "name": "stderr",
     "output_type": "stream",
     "text": [
      "Epoch 30/100 [Train]: 100%|██████████| 13/13 [00:01<00:00,  7.61it/s, loss=0.7224, acc=80.50%]\n",
      "Epoch 30/100 [Val]: 100%|██████████| 4/4 [00:00<00:00, 18.86it/s, loss=0.2324, acc=83.00%]\n"
     ]
    },
    {
     "name": "stdout",
     "output_type": "stream",
     "text": [
      "Epoch 30/100 - Train Loss: 0.4105, Acc: 80.50% | Val Loss: 0.4002, Acc: 83.00% (Best Val: 85.00%)\n"
     ]
    },
    {
     "name": "stderr",
     "output_type": "stream",
     "text": [
      "Epoch 31/100 [Train]: 100%|██████████| 13/13 [00:02<00:00,  5.02it/s, loss=0.5838, acc=80.50%]\n",
      "Epoch 31/100 [Val]: 100%|██████████| 4/4 [00:00<00:00,  6.40it/s, loss=0.2845, acc=85.00%]\n"
     ]
    },
    {
     "name": "stdout",
     "output_type": "stream",
     "text": [
      "Epoch 31/100 - Train Loss: 0.4079, Acc: 80.50% | Val Loss: 0.3902, Acc: 85.00% (Best Val: 85.00%)\n"
     ]
    },
    {
     "name": "stderr",
     "output_type": "stream",
     "text": [
      "Epoch 32/100 [Train]: 100%|██████████| 13/13 [00:02<00:00,  5.92it/s, loss=0.3396, acc=80.50%]\n",
      "Epoch 32/100 [Val]: 100%|██████████| 4/4 [00:00<00:00,  8.75it/s, loss=0.2602, acc=83.00%]\n"
     ]
    },
    {
     "name": "stdout",
     "output_type": "stream",
     "text": [
      "Epoch 32/100 - Train Loss: 0.3872, Acc: 80.50% | Val Loss: 0.3866, Acc: 83.00% (Best Val: 85.00%)\n"
     ]
    },
    {
     "name": "stderr",
     "output_type": "stream",
     "text": [
      "Epoch 33/100 [Train]: 100%|██████████| 13/13 [00:01<00:00,  8.19it/s, loss=0.7593, acc=82.75%]\n",
      "Epoch 33/100 [Val]: 100%|██████████| 4/4 [00:00<00:00, 19.16it/s, loss=0.2753, acc=82.00%]\n"
     ]
    },
    {
     "name": "stdout",
     "output_type": "stream",
     "text": [
      "Epoch 33/100 - Train Loss: 0.4111, Acc: 82.75% | Val Loss: 0.3976, Acc: 82.00% (Best Val: 85.00%)\n"
     ]
    },
    {
     "name": "stderr",
     "output_type": "stream",
     "text": [
      "Epoch 34/100 [Train]: 100%|██████████| 13/13 [00:01<00:00,  8.23it/s, loss=0.6417, acc=80.00%]\n",
      "Epoch 34/100 [Val]: 100%|██████████| 4/4 [00:00<00:00, 19.08it/s, loss=0.8627, acc=77.00%]\n"
     ]
    },
    {
     "name": "stdout",
     "output_type": "stream",
     "text": [
      "Epoch 34/100 - Train Loss: 0.4104, Acc: 80.00% | Val Loss: 0.5335, Acc: 77.00% (Best Val: 85.00%)\n"
     ]
    },
    {
     "name": "stderr",
     "output_type": "stream",
     "text": [
      "Epoch 35/100 [Train]: 100%|██████████| 13/13 [00:01<00:00,  8.36it/s, loss=0.2762, acc=78.75%]\n",
      "Epoch 35/100 [Val]: 100%|██████████| 4/4 [00:00<00:00, 18.73it/s, loss=0.4712, acc=79.00%]\n"
     ]
    },
    {
     "name": "stdout",
     "output_type": "stream",
     "text": [
      "Epoch 35/100 - Train Loss: 0.3863, Acc: 78.75% | Val Loss: 0.4302, Acc: 79.00% (Best Val: 85.00%)\n"
     ]
    },
    {
     "name": "stderr",
     "output_type": "stream",
     "text": [
      "Epoch 36/100 [Train]: 100%|██████████| 13/13 [00:01<00:00,  8.41it/s, loss=0.4434, acc=80.75%]\n",
      "Epoch 36/100 [Val]: 100%|██████████| 4/4 [00:00<00:00,  9.03it/s, loss=0.3376, acc=83.00%]\n"
     ]
    },
    {
     "name": "stdout",
     "output_type": "stream",
     "text": [
      "Epoch 36/100 - Train Loss: 0.3915, Acc: 80.75% | Val Loss: 0.3928, Acc: 83.00% (Best Val: 85.00%)\n"
     ]
    },
    {
     "name": "stderr",
     "output_type": "stream",
     "text": [
      "Epoch 37/100 [Train]: 100%|██████████| 13/13 [00:01<00:00,  7.28it/s, loss=0.6093, acc=80.50%]\n",
      "Epoch 37/100 [Val]: 100%|██████████| 4/4 [00:00<00:00, 19.20it/s, loss=0.3924, acc=83.00%]\n"
     ]
    },
    {
     "name": "stdout",
     "output_type": "stream",
     "text": [
      "Epoch 37/100 - Train Loss: 0.3954, Acc: 80.50% | Val Loss: 0.3994, Acc: 83.00% (Best Val: 85.00%)\n"
     ]
    },
    {
     "name": "stderr",
     "output_type": "stream",
     "text": [
      "Epoch 38/100 [Train]: 100%|██████████| 13/13 [00:01<00:00,  8.71it/s, loss=0.6447, acc=79.25%]\n",
      "Epoch 38/100 [Val]: 100%|██████████| 4/4 [00:00<00:00, 13.47it/s, loss=0.6260, acc=83.00%]\n"
     ]
    },
    {
     "name": "stdout",
     "output_type": "stream",
     "text": [
      "Epoch 38/100 - Train Loss: 0.4075, Acc: 79.25% | Val Loss: 0.4819, Acc: 83.00% (Best Val: 85.00%)\n"
     ]
    },
    {
     "name": "stderr",
     "output_type": "stream",
     "text": [
      "Epoch 39/100 [Train]: 100%|██████████| 13/13 [00:01<00:00,  8.73it/s, loss=0.5172, acc=79.50%]\n",
      "Epoch 39/100 [Val]: 100%|██████████| 4/4 [00:00<00:00, 13.53it/s, loss=0.2909, acc=83.00%]\n"
     ]
    },
    {
     "name": "stdout",
     "output_type": "stream",
     "text": [
      "Epoch 39/100 - Train Loss: 0.3899, Acc: 79.50% | Val Loss: 0.3780, Acc: 83.00% (Best Val: 85.00%)\n"
     ]
    },
    {
     "name": "stderr",
     "output_type": "stream",
     "text": [
      "Epoch 40/100 [Train]: 100%|██████████| 13/13 [00:01<00:00,  8.45it/s, loss=0.7189, acc=80.75%]\n",
      "Epoch 40/100 [Val]: 100%|██████████| 4/4 [00:00<00:00, 19.78it/s, loss=0.4121, acc=79.00%]\n"
     ]
    },
    {
     "name": "stdout",
     "output_type": "stream",
     "text": [
      "Epoch 40/100 - Train Loss: 0.3938, Acc: 80.75% | Val Loss: 0.3984, Acc: 79.00% (Best Val: 85.00%)\n"
     ]
    },
    {
     "name": "stderr",
     "output_type": "stream",
     "text": [
      "Epoch 41/100 [Train]: 100%|██████████| 13/13 [00:01<00:00,  8.09it/s, loss=0.2847, acc=81.00%]\n",
      "Epoch 41/100 [Val]: 100%|██████████| 4/4 [00:00<00:00, 19.47it/s, loss=0.4170, acc=86.00%]\n"
     ]
    },
    {
     "name": "stdout",
     "output_type": "stream",
     "text": [
      "Epoch 41/100 - Train Loss: 0.3698, Acc: 81.00% | Val Loss: 0.4059, Acc: 86.00% (Best Val: 86.00%)\n"
     ]
    },
    {
     "name": "stderr",
     "output_type": "stream",
     "text": [
      "Epoch 42/100 [Train]: 100%|██████████| 13/13 [00:01<00:00,  8.39it/s, loss=0.3444, acc=81.25%]\n",
      "Epoch 42/100 [Val]: 100%|██████████| 4/4 [00:00<00:00,  8.56it/s, loss=0.2583, acc=85.00%]\n"
     ]
    },
    {
     "name": "stdout",
     "output_type": "stream",
     "text": [
      "Epoch 42/100 - Train Loss: 0.3741, Acc: 81.25% | Val Loss: 0.3565, Acc: 85.00% (Best Val: 86.00%)\n"
     ]
    },
    {
     "name": "stderr",
     "output_type": "stream",
     "text": [
      "Epoch 43/100 [Train]: 100%|██████████| 13/13 [00:01<00:00,  8.11it/s, loss=0.3858, acc=81.50%]\n",
      "Epoch 43/100 [Val]: 100%|██████████| 4/4 [00:00<00:00, 19.36it/s, loss=0.2919, acc=86.00%]\n"
     ]
    },
    {
     "name": "stdout",
     "output_type": "stream",
     "text": [
      "Epoch 43/100 - Train Loss: 0.3774, Acc: 81.50% | Val Loss: 0.3680, Acc: 86.00% (Best Val: 86.00%)\n"
     ]
    },
    {
     "name": "stderr",
     "output_type": "stream",
     "text": [
      "Epoch 44/100 [Train]: 100%|██████████| 13/13 [00:01<00:00,  8.53it/s, loss=0.3069, acc=80.75%]\n",
      "Epoch 44/100 [Val]: 100%|██████████| 4/4 [00:00<00:00, 19.27it/s, loss=0.7174, acc=83.00%]\n"
     ]
    },
    {
     "name": "stdout",
     "output_type": "stream",
     "text": [
      "Epoch 44/100 - Train Loss: 0.3668, Acc: 80.75% | Val Loss: 0.4891, Acc: 83.00% (Best Val: 86.00%)\n"
     ]
    },
    {
     "name": "stderr",
     "output_type": "stream",
     "text": [
      "Epoch 45/100 [Train]: 100%|██████████| 13/13 [00:02<00:00,  5.98it/s, loss=0.6782, acc=80.00%]\n",
      "Epoch 45/100 [Val]: 100%|██████████| 4/4 [00:00<00:00,  5.05it/s, loss=1.1601, acc=76.00%]\n"
     ]
    },
    {
     "name": "stdout",
     "output_type": "stream",
     "text": [
      "Epoch 45/100 - Train Loss: 0.4069, Acc: 80.00% | Val Loss: 0.6086, Acc: 76.00% (Best Val: 86.00%)\n"
     ]
    },
    {
     "name": "stderr",
     "output_type": "stream",
     "text": [
      "Epoch 46/100 [Train]: 100%|██████████| 13/13 [00:02<00:00,  5.51it/s, loss=0.4254, acc=80.50%]\n",
      "Epoch 46/100 [Val]: 100%|██████████| 4/4 [00:00<00:00,  5.57it/s, loss=0.6569, acc=82.00%]\n"
     ]
    },
    {
     "name": "stdout",
     "output_type": "stream",
     "text": [
      "Epoch 46/100 - Train Loss: 0.3719, Acc: 80.50% | Val Loss: 0.4684, Acc: 82.00% (Best Val: 86.00%)\n"
     ]
    },
    {
     "name": "stderr",
     "output_type": "stream",
     "text": [
      "Epoch 47/100 [Train]: 100%|██████████| 13/13 [00:01<00:00,  7.91it/s, loss=0.5047, acc=81.25%]\n",
      "Epoch 47/100 [Val]: 100%|██████████| 4/4 [00:00<00:00, 18.93it/s, loss=0.5950, acc=81.00%]\n"
     ]
    },
    {
     "name": "stdout",
     "output_type": "stream",
     "text": [
      "Epoch 47/100 - Train Loss: 0.3825, Acc: 81.25% | Val Loss: 0.4539, Acc: 81.00% (Best Val: 86.00%)\n"
     ]
    },
    {
     "name": "stderr",
     "output_type": "stream",
     "text": [
      "Epoch 48/100 [Train]: 100%|██████████| 13/13 [00:01<00:00,  8.32it/s, loss=0.2118, acc=81.75%]\n",
      "Epoch 48/100 [Val]: 100%|██████████| 4/4 [00:00<00:00,  7.39it/s, loss=0.8258, acc=84.00%]\n"
     ]
    },
    {
     "name": "stdout",
     "output_type": "stream",
     "text": [
      "Epoch 48/100 - Train Loss: 0.3678, Acc: 81.75% | Val Loss: 0.5178, Acc: 84.00% (Best Val: 86.00%)\n"
     ]
    },
    {
     "name": "stderr",
     "output_type": "stream",
     "text": [
      "Epoch 49/100 [Train]: 100%|██████████| 13/13 [00:01<00:00,  8.13it/s, loss=0.3020, acc=80.75%]\n",
      "Epoch 49/100 [Val]: 100%|██████████| 4/4 [00:00<00:00, 19.29it/s, loss=0.3947, acc=82.00%]\n"
     ]
    },
    {
     "name": "stdout",
     "output_type": "stream",
     "text": [
      "Epoch 49/100 - Train Loss: 0.3600, Acc: 80.75% | Val Loss: 0.4157, Acc: 82.00% (Best Val: 86.00%)\n"
     ]
    },
    {
     "name": "stderr",
     "output_type": "stream",
     "text": [
      "Epoch 50/100 [Train]: 100%|██████████| 13/13 [00:01<00:00,  8.29it/s, loss=0.5424, acc=81.50%]\n",
      "Epoch 50/100 [Val]: 100%|██████████| 4/4 [00:00<00:00,  7.77it/s, loss=0.4545, acc=84.00%]\n"
     ]
    },
    {
     "name": "stdout",
     "output_type": "stream",
     "text": [
      "Epoch 50/100 - Train Loss: 0.3814, Acc: 81.50% | Val Loss: 0.4140, Acc: 84.00% (Best Val: 86.00%)\n"
     ]
    },
    {
     "name": "stderr",
     "output_type": "stream",
     "text": [
      "Epoch 51/100 [Train]: 100%|██████████| 13/13 [00:02<00:00,  4.63it/s, loss=0.3383, acc=81.00%]\n",
      "Epoch 51/100 [Val]: 100%|██████████| 4/4 [00:01<00:00,  3.10it/s, loss=0.4995, acc=83.00%]\n"
     ]
    },
    {
     "name": "stdout",
     "output_type": "stream",
     "text": [
      "Epoch 51/100 - Train Loss: 0.3590, Acc: 81.00% | Val Loss: 0.4220, Acc: 83.00% (Best Val: 86.00%)\n"
     ]
    },
    {
     "name": "stderr",
     "output_type": "stream",
     "text": [
      "Epoch 52/100 [Train]: 100%|██████████| 13/13 [00:01<00:00,  8.34it/s, loss=0.4531, acc=81.25%]\n",
      "Epoch 52/100 [Val]: 100%|██████████| 4/4 [00:00<00:00, 13.39it/s, loss=0.5412, acc=83.00%]\n"
     ]
    },
    {
     "name": "stdout",
     "output_type": "stream",
     "text": [
      "Epoch 52/100 - Train Loss: 0.3774, Acc: 81.25% | Val Loss: 0.4300, Acc: 83.00% (Best Val: 86.00%)\n"
     ]
    },
    {
     "name": "stderr",
     "output_type": "stream",
     "text": [
      "Epoch 53/100 [Train]: 100%|██████████| 13/13 [00:01<00:00,  8.47it/s, loss=0.2807, acc=80.25%]\n",
      "Epoch 53/100 [Val]: 100%|██████████| 4/4 [00:00<00:00, 19.01it/s, loss=0.6973, acc=79.00%]\n"
     ]
    },
    {
     "name": "stdout",
     "output_type": "stream",
     "text": [
      "Epoch 53/100 - Train Loss: 0.3623, Acc: 80.25% | Val Loss: 0.4655, Acc: 79.00% (Best Val: 86.00%)\n"
     ]
    },
    {
     "name": "stderr",
     "output_type": "stream",
     "text": [
      "Epoch 54/100 [Train]: 100%|██████████| 13/13 [00:01<00:00,  8.55it/s, loss=0.3987, acc=79.75%]\n",
      "Epoch 54/100 [Val]: 100%|██████████| 4/4 [00:00<00:00, 13.59it/s, loss=0.5777, acc=82.00%]\n"
     ]
    },
    {
     "name": "stdout",
     "output_type": "stream",
     "text": [
      "Epoch 54/100 - Train Loss: 0.3746, Acc: 79.75% | Val Loss: 0.4495, Acc: 82.00% (Best Val: 86.00%)\n"
     ]
    },
    {
     "name": "stderr",
     "output_type": "stream",
     "text": [
      "Epoch 55/100 [Train]: 100%|██████████| 13/13 [00:01<00:00,  8.62it/s, loss=0.2397, acc=81.50%]\n",
      "Epoch 55/100 [Val]: 100%|██████████| 4/4 [00:00<00:00, 18.76it/s, loss=0.5884, acc=82.00%]\n"
     ]
    },
    {
     "name": "stdout",
     "output_type": "stream",
     "text": [
      "Epoch 55/100 - Train Loss: 0.3632, Acc: 81.50% | Val Loss: 0.4391, Acc: 82.00% (Best Val: 86.00%)\n"
     ]
    },
    {
     "name": "stderr",
     "output_type": "stream",
     "text": [
      "Epoch 56/100 [Train]: 100%|██████████| 13/13 [00:01<00:00,  8.76it/s, loss=0.5585, acc=81.00%]\n",
      "Epoch 56/100 [Val]: 100%|██████████| 4/4 [00:00<00:00, 19.63it/s, loss=0.4898, acc=82.00%]\n"
     ]
    },
    {
     "name": "stdout",
     "output_type": "stream",
     "text": [
      "Epoch 56/100 - Train Loss: 0.3470, Acc: 81.00% | Val Loss: 0.4082, Acc: 82.00% (Best Val: 86.00%)\n"
     ]
    },
    {
     "name": "stderr",
     "output_type": "stream",
     "text": [
      "Epoch 57/100 [Train]: 100%|██████████| 13/13 [00:01<00:00,  8.24it/s, loss=0.5003, acc=81.25%]\n",
      "Epoch 57/100 [Val]: 100%|██████████| 4/4 [00:00<00:00,  8.58it/s, loss=0.7737, acc=78.00%]\n"
     ]
    },
    {
     "name": "stdout",
     "output_type": "stream",
     "text": [
      "Epoch 57/100 - Train Loss: 0.3671, Acc: 81.25% | Val Loss: 0.5172, Acc: 78.00% (Best Val: 86.00%)\n"
     ]
    },
    {
     "name": "stderr",
     "output_type": "stream",
     "text": [
      "Epoch 58/100 [Train]: 100%|██████████| 13/13 [00:01<00:00,  8.53it/s, loss=0.2096, acc=81.00%]\n",
      "Epoch 58/100 [Val]: 100%|██████████| 4/4 [00:00<00:00, 19.20it/s, loss=0.5673, acc=80.00%]\n"
     ]
    },
    {
     "name": "stdout",
     "output_type": "stream",
     "text": [
      "Epoch 58/100 - Train Loss: 0.3689, Acc: 81.00% | Val Loss: 0.4578, Acc: 80.00% (Best Val: 86.00%)\n"
     ]
    },
    {
     "name": "stderr",
     "output_type": "stream",
     "text": [
      "Epoch 59/100 [Train]: 100%|██████████| 13/13 [00:02<00:00,  5.99it/s, loss=0.4168, acc=81.75%]\n",
      "Epoch 59/100 [Val]: 100%|██████████| 4/4 [00:00<00:00,  8.21it/s, loss=0.8079, acc=79.00%]\n"
     ]
    },
    {
     "name": "stdout",
     "output_type": "stream",
     "text": [
      "Epoch 59/100 - Train Loss: 0.3774, Acc: 81.75% | Val Loss: 0.5181, Acc: 79.00% (Best Val: 86.00%)\n"
     ]
    },
    {
     "name": "stderr",
     "output_type": "stream",
     "text": [
      "Epoch 60/100 [Train]: 100%|██████████| 13/13 [00:01<00:00,  8.11it/s, loss=0.2878, acc=80.00%]\n",
      "Epoch 60/100 [Val]: 100%|██████████| 4/4 [00:00<00:00,  5.75it/s, loss=0.4865, acc=81.00%]\n"
     ]
    },
    {
     "name": "stdout",
     "output_type": "stream",
     "text": [
      "Epoch 60/100 - Train Loss: 0.3652, Acc: 80.00% | Val Loss: 0.4370, Acc: 81.00% (Best Val: 86.00%)\n"
     ]
    },
    {
     "name": "stderr",
     "output_type": "stream",
     "text": [
      "Epoch 61/100 [Train]: 100%|██████████| 13/13 [00:01<00:00,  7.80it/s, loss=0.2732, acc=81.50%]\n",
      "Epoch 61/100 [Val]: 100%|██████████| 4/4 [00:00<00:00, 17.91it/s, loss=0.5636, acc=82.00%]\n"
     ]
    },
    {
     "name": "stdout",
     "output_type": "stream",
     "text": [
      "Epoch 61/100 - Train Loss: 0.3859, Acc: 81.50% | Val Loss: 0.4374, Acc: 82.00% (Best Val: 86.00%)\n"
     ]
    },
    {
     "name": "stderr",
     "output_type": "stream",
     "text": [
      "Epoch 62/100 [Train]: 100%|██████████| 13/13 [00:01<00:00,  8.69it/s, loss=0.3056, acc=81.00%]\n",
      "Epoch 62/100 [Val]: 100%|██████████| 4/4 [00:00<00:00, 13.73it/s, loss=0.6771, acc=79.00%]\n"
     ]
    },
    {
     "name": "stdout",
     "output_type": "stream",
     "text": [
      "Epoch 62/100 - Train Loss: 0.3582, Acc: 81.00% | Val Loss: 0.4757, Acc: 79.00% (Best Val: 86.00%)\n"
     ]
    },
    {
     "name": "stderr",
     "output_type": "stream",
     "text": [
      "Epoch 63/100 [Train]: 100%|██████████| 13/13 [00:01<00:00,  8.70it/s, loss=0.4449, acc=79.50%]\n",
      "Epoch 63/100 [Val]: 100%|██████████| 4/4 [00:00<00:00, 13.82it/s, loss=0.5613, acc=79.00%]\n"
     ]
    },
    {
     "name": "stdout",
     "output_type": "stream",
     "text": [
      "Epoch 63/100 - Train Loss: 0.3677, Acc: 79.50% | Val Loss: 0.4450, Acc: 79.00% (Best Val: 86.00%)\n"
     ]
    },
    {
     "name": "stderr",
     "output_type": "stream",
     "text": [
      "Epoch 64/100 [Train]: 100%|██████████| 13/13 [00:01<00:00,  8.48it/s, loss=0.3364, acc=81.75%]\n",
      "Epoch 64/100 [Val]: 100%|██████████| 4/4 [00:00<00:00, 19.56it/s, loss=0.4261, acc=83.00%]\n"
     ]
    },
    {
     "name": "stdout",
     "output_type": "stream",
     "text": [
      "Epoch 64/100 - Train Loss: 0.3588, Acc: 81.75% | Val Loss: 0.4054, Acc: 83.00% (Best Val: 86.00%)\n"
     ]
    },
    {
     "name": "stderr",
     "output_type": "stream",
     "text": [
      "Epoch 65/100 [Train]: 100%|██████████| 13/13 [00:01<00:00,  8.35it/s, loss=0.4222, acc=82.50%]\n",
      "Epoch 65/100 [Val]: 100%|██████████| 4/4 [00:00<00:00,  5.79it/s, loss=0.5059, acc=80.00%]\n"
     ]
    },
    {
     "name": "stdout",
     "output_type": "stream",
     "text": [
      "Epoch 65/100 - Train Loss: 0.3524, Acc: 82.50% | Val Loss: 0.4266, Acc: 80.00% (Best Val: 86.00%)\n"
     ]
    },
    {
     "name": "stderr",
     "output_type": "stream",
     "text": [
      "Epoch 66/100 [Train]: 100%|██████████| 13/13 [00:01<00:00,  8.51it/s, loss=0.3062, acc=82.25%]\n",
      "Epoch 66/100 [Val]: 100%|██████████| 4/4 [00:00<00:00, 19.10it/s, loss=0.4479, acc=82.00%]\n"
     ]
    },
    {
     "name": "stdout",
     "output_type": "stream",
     "text": [
      "Epoch 66/100 - Train Loss: 0.3374, Acc: 82.25% | Val Loss: 0.4096, Acc: 82.00% (Best Val: 86.00%)\n"
     ]
    },
    {
     "name": "stderr",
     "output_type": "stream",
     "text": [
      "Epoch 67/100 [Train]: 100%|██████████| 13/13 [00:01<00:00,  8.35it/s, loss=0.6877, acc=83.50%]\n",
      "Epoch 67/100 [Val]: 100%|██████████| 4/4 [00:00<00:00, 19.39it/s, loss=0.4464, acc=80.00%]\n"
     ]
    },
    {
     "name": "stdout",
     "output_type": "stream",
     "text": [
      "Epoch 67/100 - Train Loss: 0.3722, Acc: 83.50% | Val Loss: 0.4146, Acc: 80.00% (Best Val: 86.00%)\n"
     ]
    },
    {
     "name": "stderr",
     "output_type": "stream",
     "text": [
      "Epoch 68/100 [Train]: 100%|██████████| 13/13 [00:02<00:00,  4.89it/s, loss=0.3744, acc=84.75%]\n",
      "Epoch 68/100 [Val]: 100%|██████████| 4/4 [00:00<00:00,  6.99it/s, loss=0.4839, acc=84.00%]\n"
     ]
    },
    {
     "name": "stdout",
     "output_type": "stream",
     "text": [
      "Epoch 68/100 - Train Loss: 0.3403, Acc: 84.75% | Val Loss: 0.4086, Acc: 84.00% (Best Val: 86.00%)\n"
     ]
    },
    {
     "name": "stderr",
     "output_type": "stream",
     "text": [
      "Epoch 69/100 [Train]: 100%|██████████| 13/13 [00:01<00:00,  8.69it/s, loss=0.1787, acc=84.75%]\n",
      "Epoch 69/100 [Val]: 100%|██████████| 4/4 [00:00<00:00, 13.95it/s, loss=0.3276, acc=81.00%]\n"
     ]
    },
    {
     "name": "stdout",
     "output_type": "stream",
     "text": [
      "Epoch 69/100 - Train Loss: 0.3526, Acc: 84.75% | Val Loss: 0.4223, Acc: 81.00% (Best Val: 86.00%)\n"
     ]
    },
    {
     "name": "stderr",
     "output_type": "stream",
     "text": [
      "Epoch 70/100 [Train]: 100%|██████████| 13/13 [00:01<00:00,  8.61it/s, loss=0.6215, acc=82.50%]\n",
      "Epoch 70/100 [Val]: 100%|██████████| 4/4 [00:00<00:00, 19.53it/s, loss=0.5162, acc=82.00%]\n"
     ]
    },
    {
     "name": "stdout",
     "output_type": "stream",
     "text": [
      "Epoch 70/100 - Train Loss: 0.3870, Acc: 82.50% | Val Loss: 0.4330, Acc: 82.00% (Best Val: 86.00%)\n"
     ]
    },
    {
     "name": "stderr",
     "output_type": "stream",
     "text": [
      "Epoch 71/100 [Train]: 100%|██████████| 13/13 [00:01<00:00,  8.39it/s, loss=0.4205, acc=83.25%]\n",
      "Epoch 71/100 [Val]: 100%|██████████| 4/4 [00:00<00:00, 18.95it/s, loss=0.8127, acc=79.00%]\n"
     ]
    },
    {
     "name": "stdout",
     "output_type": "stream",
     "text": [
      "Epoch 71/100 - Train Loss: 0.3724, Acc: 83.25% | Val Loss: 0.5092, Acc: 79.00% (Best Val: 86.00%)\n"
     ]
    },
    {
     "name": "stderr",
     "output_type": "stream",
     "text": [
      "Epoch 72/100 [Train]: 100%|██████████| 13/13 [00:01<00:00,  8.53it/s, loss=0.6122, acc=83.25%]\n",
      "Epoch 72/100 [Val]: 100%|██████████| 4/4 [00:00<00:00, 13.53it/s, loss=0.3690, acc=80.00%]\n"
     ]
    },
    {
     "name": "stdout",
     "output_type": "stream",
     "text": [
      "Epoch 72/100 - Train Loss: 0.3918, Acc: 83.25% | Val Loss: 0.4119, Acc: 80.00% (Best Val: 86.00%)\n"
     ]
    },
    {
     "name": "stderr",
     "output_type": "stream",
     "text": [
      "Epoch 73/100 [Train]: 100%|██████████| 13/13 [00:01<00:00,  8.50it/s, loss=0.3711, acc=84.25%]\n",
      "Epoch 73/100 [Val]: 100%|██████████| 4/4 [00:00<00:00, 19.36it/s, loss=0.5315, acc=81.00%]\n"
     ]
    },
    {
     "name": "stdout",
     "output_type": "stream",
     "text": [
      "Epoch 73/100 - Train Loss: 0.3553, Acc: 84.25% | Val Loss: 0.4533, Acc: 81.00% (Best Val: 86.00%)\n"
     ]
    },
    {
     "name": "stderr",
     "output_type": "stream",
     "text": [
      "Epoch 74/100 [Train]: 100%|██████████| 13/13 [00:01<00:00,  8.27it/s, loss=0.1323, acc=84.00%]\n",
      "Epoch 74/100 [Val]: 100%|██████████| 4/4 [00:00<00:00, 19.41it/s, loss=0.4081, acc=83.00%]\n"
     ]
    },
    {
     "name": "stdout",
     "output_type": "stream",
     "text": [
      "Epoch 74/100 - Train Loss: 0.3500, Acc: 84.00% | Val Loss: 0.4001, Acc: 83.00% (Best Val: 86.00%)\n"
     ]
    },
    {
     "name": "stderr",
     "output_type": "stream",
     "text": [
      "Epoch 75/100 [Train]: 100%|██████████| 13/13 [00:02<00:00,  4.95it/s, loss=0.4786, acc=83.25%]\n",
      "Epoch 75/100 [Val]: 100%|██████████| 4/4 [00:00<00:00,  6.71it/s, loss=0.3885, acc=81.00%]\n"
     ]
    },
    {
     "name": "stdout",
     "output_type": "stream",
     "text": [
      "Epoch 75/100 - Train Loss: 0.3596, Acc: 83.25% | Val Loss: 0.4009, Acc: 81.00% (Best Val: 86.00%)\n"
     ]
    },
    {
     "name": "stderr",
     "output_type": "stream",
     "text": [
      "Epoch 76/100 [Train]: 100%|██████████| 13/13 [00:01<00:00,  8.13it/s, loss=0.3920, acc=82.50%]\n",
      "Epoch 76/100 [Val]: 100%|██████████| 4/4 [00:00<00:00, 19.57it/s, loss=0.4881, acc=84.00%]\n"
     ]
    },
    {
     "name": "stdout",
     "output_type": "stream",
     "text": [
      "Epoch 76/100 - Train Loss: 0.3550, Acc: 82.50% | Val Loss: 0.4236, Acc: 84.00% (Best Val: 86.00%)\n"
     ]
    },
    {
     "name": "stderr",
     "output_type": "stream",
     "text": [
      "Epoch 77/100 [Train]: 100%|██████████| 13/13 [00:01<00:00,  8.07it/s, loss=0.1555, acc=83.75%]\n",
      "Epoch 77/100 [Val]: 100%|██████████| 4/4 [00:00<00:00, 18.52it/s, loss=0.3822, acc=84.00%]\n"
     ]
    },
    {
     "name": "stdout",
     "output_type": "stream",
     "text": [
      "Epoch 77/100 - Train Loss: 0.3348, Acc: 83.75% | Val Loss: 0.3842, Acc: 84.00% (Best Val: 86.00%)\n"
     ]
    },
    {
     "name": "stderr",
     "output_type": "stream",
     "text": [
      "Epoch 78/100 [Train]: 100%|██████████| 13/13 [00:02<00:00,  4.86it/s, loss=0.2958, acc=85.00%]\n",
      "Epoch 78/100 [Val]: 100%|██████████| 4/4 [00:00<00:00,  7.12it/s, loss=0.3979, acc=82.00%]\n"
     ]
    },
    {
     "name": "stdout",
     "output_type": "stream",
     "text": [
      "Epoch 78/100 - Train Loss: 0.3473, Acc: 85.00% | Val Loss: 0.3872, Acc: 82.00% (Best Val: 86.00%)\n"
     ]
    },
    {
     "name": "stderr",
     "output_type": "stream",
     "text": [
      "Epoch 79/100 [Train]: 100%|██████████| 13/13 [00:01<00:00,  8.94it/s, loss=0.5281, acc=84.50%]\n",
      "Epoch 79/100 [Val]: 100%|██████████| 4/4 [00:00<00:00, 13.43it/s, loss=0.4025, acc=83.00%]\n"
     ]
    },
    {
     "name": "stdout",
     "output_type": "stream",
     "text": [
      "Epoch 79/100 - Train Loss: 0.3569, Acc: 84.50% | Val Loss: 0.4115, Acc: 83.00% (Best Val: 86.00%)\n"
     ]
    },
    {
     "name": "stderr",
     "output_type": "stream",
     "text": [
      "Epoch 80/100 [Train]: 100%|██████████| 13/13 [00:01<00:00,  8.31it/s, loss=0.1026, acc=83.75%]\n",
      "Epoch 80/100 [Val]: 100%|██████████| 4/4 [00:00<00:00,  7.70it/s, loss=0.6151, acc=84.00%]\n"
     ]
    },
    {
     "name": "stdout",
     "output_type": "stream",
     "text": [
      "Epoch 80/100 - Train Loss: 0.3391, Acc: 83.75% | Val Loss: 0.4367, Acc: 84.00% (Best Val: 86.00%)\n"
     ]
    },
    {
     "name": "stderr",
     "output_type": "stream",
     "text": [
      "Epoch 81/100 [Train]: 100%|██████████| 13/13 [00:01<00:00,  8.24it/s, loss=0.7196, acc=83.75%]\n",
      "Epoch 81/100 [Val]: 100%|██████████| 4/4 [00:00<00:00, 18.91it/s, loss=0.3354, acc=83.00%]\n"
     ]
    },
    {
     "name": "stdout",
     "output_type": "stream",
     "text": [
      "Epoch 81/100 - Train Loss: 0.3767, Acc: 83.75% | Val Loss: 0.3744, Acc: 83.00% (Best Val: 86.00%)\n"
     ]
    },
    {
     "name": "stderr",
     "output_type": "stream",
     "text": [
      "Epoch 82/100 [Train]: 100%|██████████| 13/13 [00:01<00:00,  8.53it/s, loss=0.3397, acc=82.50%]\n",
      "Epoch 82/100 [Val]: 100%|██████████| 4/4 [00:00<00:00, 18.47it/s, loss=0.3431, acc=84.00%]\n"
     ]
    },
    {
     "name": "stdout",
     "output_type": "stream",
     "text": [
      "Epoch 82/100 - Train Loss: 0.3496, Acc: 82.50% | Val Loss: 0.3804, Acc: 84.00% (Best Val: 86.00%)\n"
     ]
    },
    {
     "name": "stderr",
     "output_type": "stream",
     "text": [
      "Epoch 83/100 [Train]: 100%|██████████| 13/13 [00:01<00:00,  7.53it/s, loss=0.5121, acc=83.75%]\n",
      "Epoch 83/100 [Val]: 100%|██████████| 4/4 [00:00<00:00, 19.28it/s, loss=0.3169, acc=83.00%]\n"
     ]
    },
    {
     "name": "stdout",
     "output_type": "stream",
     "text": [
      "Epoch 83/100 - Train Loss: 0.3473, Acc: 83.75% | Val Loss: 0.3652, Acc: 83.00% (Best Val: 86.00%)\n"
     ]
    },
    {
     "name": "stderr",
     "output_type": "stream",
     "text": [
      "Epoch 84/100 [Train]: 100%|██████████| 13/13 [00:01<00:00,  8.76it/s, loss=0.2361, acc=84.00%]\n",
      "Epoch 84/100 [Val]: 100%|██████████| 4/4 [00:00<00:00, 18.68it/s, loss=0.2896, acc=87.00%]\n"
     ]
    },
    {
     "name": "stdout",
     "output_type": "stream",
     "text": [
      "Epoch 84/100 - Train Loss: 0.3240, Acc: 84.00% | Val Loss: 0.3394, Acc: 87.00% (Best Val: 87.00%)\n"
     ]
    },
    {
     "name": "stderr",
     "output_type": "stream",
     "text": [
      "Epoch 85/100 [Train]: 100%|██████████| 13/13 [00:01<00:00,  8.25it/s, loss=0.4911, acc=84.00%]\n",
      "Epoch 85/100 [Val]: 100%|██████████| 4/4 [00:00<00:00,  6.77it/s, loss=0.2789, acc=87.00%]\n"
     ]
    },
    {
     "name": "stdout",
     "output_type": "stream",
     "text": [
      "Epoch 85/100 - Train Loss: 0.3442, Acc: 84.00% | Val Loss: 0.3333, Acc: 87.00% (Best Val: 87.00%)\n"
     ]
    },
    {
     "name": "stderr",
     "output_type": "stream",
     "text": [
      "Epoch 86/100 [Train]: 100%|██████████| 13/13 [00:01<00:00,  8.09it/s, loss=0.3421, acc=83.00%]\n",
      "Epoch 86/100 [Val]: 100%|██████████| 4/4 [00:00<00:00, 18.68it/s, loss=0.3557, acc=85.00%]\n"
     ]
    },
    {
     "name": "stdout",
     "output_type": "stream",
     "text": [
      "Epoch 86/100 - Train Loss: 0.3246, Acc: 83.00% | Val Loss: 0.3864, Acc: 85.00% (Best Val: 87.00%)\n"
     ]
    },
    {
     "name": "stderr",
     "output_type": "stream",
     "text": [
      "Epoch 87/100 [Train]: 100%|██████████| 13/13 [00:01<00:00,  8.50it/s, loss=0.4112, acc=86.00%]\n",
      "Epoch 87/100 [Val]: 100%|██████████| 4/4 [00:00<00:00, 19.41it/s, loss=0.4218, acc=80.00%]\n"
     ]
    },
    {
     "name": "stdout",
     "output_type": "stream",
     "text": [
      "Epoch 87/100 - Train Loss: 0.3377, Acc: 86.00% | Val Loss: 0.4053, Acc: 80.00% (Best Val: 87.00%)\n"
     ]
    },
    {
     "name": "stderr",
     "output_type": "stream",
     "text": [
      "Epoch 88/100 [Train]: 100%|██████████| 13/13 [00:01<00:00,  8.23it/s, loss=0.3171, acc=83.00%]\n",
      "Epoch 88/100 [Val]: 100%|██████████| 4/4 [00:00<00:00, 18.95it/s, loss=0.2977, acc=81.00%]\n"
     ]
    },
    {
     "name": "stdout",
     "output_type": "stream",
     "text": [
      "Epoch 88/100 - Train Loss: 0.3495, Acc: 83.00% | Val Loss: 0.4054, Acc: 81.00% (Best Val: 87.00%)\n"
     ]
    },
    {
     "name": "stderr",
     "output_type": "stream",
     "text": [
      "Epoch 89/100 [Train]: 100%|██████████| 13/13 [00:01<00:00,  8.31it/s, loss=0.3200, acc=85.75%]\n",
      "Epoch 89/100 [Val]: 100%|██████████| 4/4 [00:00<00:00, 18.79it/s, loss=0.3159, acc=85.00%]\n"
     ]
    },
    {
     "name": "stdout",
     "output_type": "stream",
     "text": [
      "Epoch 89/100 - Train Loss: 0.3261, Acc: 85.75% | Val Loss: 0.3676, Acc: 85.00% (Best Val: 87.00%)\n"
     ]
    },
    {
     "name": "stderr",
     "output_type": "stream",
     "text": [
      "Epoch 90/100 [Train]: 100%|██████████| 13/13 [00:01<00:00,  8.48it/s, loss=0.4651, acc=87.00%]\n",
      "Epoch 90/100 [Val]: 100%|██████████| 4/4 [00:00<00:00, 13.46it/s, loss=0.2597, acc=83.00%]\n"
     ]
    },
    {
     "name": "stdout",
     "output_type": "stream",
     "text": [
      "Epoch 90/100 - Train Loss: 0.3320, Acc: 87.00% | Val Loss: 0.3418, Acc: 83.00% (Best Val: 87.00%)\n"
     ]
    },
    {
     "name": "stderr",
     "output_type": "stream",
     "text": [
      "Epoch 91/100 [Train]: 100%|██████████| 13/13 [00:01<00:00,  7.77it/s, loss=0.4249, acc=84.50%]\n",
      "Epoch 91/100 [Val]: 100%|██████████| 4/4 [00:00<00:00, 17.05it/s, loss=0.2714, acc=80.00%]\n"
     ]
    },
    {
     "name": "stdout",
     "output_type": "stream",
     "text": [
      "Epoch 91/100 - Train Loss: 0.3414, Acc: 84.50% | Val Loss: 0.3804, Acc: 80.00% (Best Val: 87.00%)\n"
     ]
    },
    {
     "name": "stderr",
     "output_type": "stream",
     "text": [
      "Epoch 92/100 [Train]: 100%|██████████| 13/13 [00:01<00:00,  8.59it/s, loss=0.2562, acc=84.75%]\n",
      "Epoch 92/100 [Val]: 100%|██████████| 4/4 [00:00<00:00, 18.85it/s, loss=0.3503, acc=81.00%]\n"
     ]
    },
    {
     "name": "stdout",
     "output_type": "stream",
     "text": [
      "Epoch 92/100 - Train Loss: 0.3320, Acc: 84.75% | Val Loss: 0.3957, Acc: 81.00% (Best Val: 87.00%)\n"
     ]
    },
    {
     "name": "stderr",
     "output_type": "stream",
     "text": [
      "Epoch 93/100 [Train]: 100%|██████████| 13/13 [00:01<00:00,  8.21it/s, loss=0.4131, acc=82.75%]\n",
      "Epoch 93/100 [Val]: 100%|██████████| 4/4 [00:00<00:00, 18.79it/s, loss=0.2565, acc=83.00%]\n"
     ]
    },
    {
     "name": "stdout",
     "output_type": "stream",
     "text": [
      "Epoch 93/100 - Train Loss: 0.3216, Acc: 82.75% | Val Loss: 0.3375, Acc: 83.00% (Best Val: 87.00%)\n"
     ]
    },
    {
     "name": "stderr",
     "output_type": "stream",
     "text": [
      "Epoch 94/100 [Train]: 100%|██████████| 13/13 [00:01<00:00,  8.04it/s, loss=0.5367, acc=85.50%]\n",
      "Epoch 94/100 [Val]: 100%|██████████| 4/4 [00:00<00:00,  5.14it/s, loss=0.3129, acc=80.00%]\n"
     ]
    },
    {
     "name": "stdout",
     "output_type": "stream",
     "text": [
      "Epoch 94/100 - Train Loss: 0.3263, Acc: 85.50% | Val Loss: 0.3809, Acc: 80.00% (Best Val: 87.00%)\n"
     ]
    },
    {
     "name": "stderr",
     "output_type": "stream",
     "text": [
      "Epoch 95/100 [Train]: 100%|██████████| 13/13 [00:01<00:00,  8.32it/s, loss=0.3564, acc=86.25%]\n",
      "Epoch 95/100 [Val]: 100%|██████████| 4/4 [00:00<00:00, 18.59it/s, loss=0.3275, acc=85.00%]\n"
     ]
    },
    {
     "name": "stdout",
     "output_type": "stream",
     "text": [
      "Epoch 95/100 - Train Loss: 0.3390, Acc: 86.25% | Val Loss: 0.3594, Acc: 85.00% (Best Val: 87.00%)\n"
     ]
    },
    {
     "name": "stderr",
     "output_type": "stream",
     "text": [
      "Epoch 96/100 [Train]: 100%|██████████| 13/13 [00:01<00:00,  8.27it/s, loss=0.3764, acc=84.50%]\n",
      "Epoch 96/100 [Val]: 100%|██████████| 4/4 [00:00<00:00, 18.95it/s, loss=0.3410, acc=84.00%]\n"
     ]
    },
    {
     "name": "stdout",
     "output_type": "stream",
     "text": [
      "Epoch 96/100 - Train Loss: 0.3218, Acc: 84.50% | Val Loss: 0.3934, Acc: 84.00% (Best Val: 87.00%)\n"
     ]
    },
    {
     "name": "stderr",
     "output_type": "stream",
     "text": [
      "Epoch 97/100 [Train]: 100%|██████████| 13/13 [00:01<00:00,  8.27it/s, loss=0.3069, acc=84.25%]\n",
      "Epoch 97/100 [Val]: 100%|██████████| 4/4 [00:00<00:00, 18.90it/s, loss=0.2870, acc=81.00%]\n"
     ]
    },
    {
     "name": "stdout",
     "output_type": "stream",
     "text": [
      "Epoch 97/100 - Train Loss: 0.3278, Acc: 84.25% | Val Loss: 0.3521, Acc: 81.00% (Best Val: 87.00%)\n"
     ]
    },
    {
     "name": "stderr",
     "output_type": "stream",
     "text": [
      "Epoch 98/100 [Train]: 100%|██████████| 13/13 [00:01<00:00,  8.25it/s, loss=0.1469, acc=85.75%]\n",
      "Epoch 98/100 [Val]: 100%|██████████| 4/4 [00:00<00:00,  7.10it/s, loss=0.3306, acc=84.00%]\n"
     ]
    },
    {
     "name": "stdout",
     "output_type": "stream",
     "text": [
      "Epoch 98/100 - Train Loss: 0.3052, Acc: 85.75% | Val Loss: 0.3501, Acc: 84.00% (Best Val: 87.00%)\n"
     ]
    },
    {
     "name": "stderr",
     "output_type": "stream",
     "text": [
      "Epoch 99/100 [Train]: 100%|██████████| 13/13 [00:01<00:00,  7.75it/s, loss=0.2029, acc=83.50%]\n",
      "Epoch 99/100 [Val]: 100%|██████████| 4/4 [00:00<00:00,  4.99it/s, loss=0.3400, acc=78.00%]\n"
     ]
    },
    {
     "name": "stdout",
     "output_type": "stream",
     "text": [
      "Epoch 99/100 - Train Loss: 0.3034, Acc: 83.50% | Val Loss: 0.3731, Acc: 78.00% (Best Val: 87.00%)\n"
     ]
    },
    {
     "name": "stderr",
     "output_type": "stream",
     "text": [
      "Epoch 100/100 [Train]: 100%|██████████| 13/13 [00:01<00:00,  8.14it/s, loss=0.5201, acc=85.50%]\n",
      "Epoch 100/100 [Val]: 100%|██████████| 4/4 [00:00<00:00, 18.82it/s, loss=0.3051, acc=82.00%]"
     ]
    },
    {
     "name": "stdout",
     "output_type": "stream",
     "text": [
      "Epoch 100/100 - Train Loss: 0.3170, Acc: 85.50% | Val Loss: 0.3469, Acc: 82.00% (Best Val: 87.00%)\n",
      "Training completed!\n",
      "Training time: 214.380928999999\n",
      "Best validation accuracy: 87.00%\n"
     ]
    },
    {
     "name": "stderr",
     "output_type": "stream",
     "text": [
      "\n"
     ]
    }
   ],
   "execution_count": 15
  },
  {
   "metadata": {},
   "cell_type": "code",
   "outputs": [],
   "execution_count": null,
   "source": "trained_model.embedding",
   "id": "d40c114d1b56ef2"
  }
 ],
 "metadata": {
  "kernelspec": {
   "display_name": "Python 3",
   "language": "python",
   "name": "python3"
  },
  "language_info": {
   "codemirror_mode": {
    "name": "ipython",
    "version": 2
   },
   "file_extension": ".py",
   "mimetype": "text/x-python",
   "name": "python",
   "nbconvert_exporter": "python",
   "pygments_lexer": "ipython2",
   "version": "2.7.6"
  }
 },
 "nbformat": 4,
 "nbformat_minor": 5
}
