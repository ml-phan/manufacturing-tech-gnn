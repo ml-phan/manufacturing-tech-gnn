{
 "cells": [
  {
   "metadata": {
    "ExecuteTime": {
     "end_time": "2025-07-23T14:15:11.834403Z",
     "start_time": "2025-07-23T14:15:11.762010Z"
    }
   },
   "cell_type": "code",
   "source": [
    "# autoimport\n",
    "%load_ext autoreload\n",
    "%autoreload 1"
   ],
   "id": "8d4ccefef01da2a",
   "outputs": [],
   "execution_count": 1
  },
  {
   "cell_type": "code",
   "id": "initial_id",
   "metadata": {
    "collapsed": true,
    "ExecuteTime": {
     "end_time": "2025-07-23T14:15:16.877526Z",
     "start_time": "2025-07-23T14:15:12.764395Z"
    }
   },
   "source": [
    "import pandas as pd\n",
    "import joblib\n",
    "import importlib\n",
    "\n",
    "from pathlib import Path\n",
    "from src.gnn_models import *\n",
    "# import src.gnn_models\n",
    "#\n",
    "# importlib.reload(src.gnn_models)\n",
    "%aimport src.gnn_models"
   ],
   "outputs": [],
   "execution_count": 2
  },
  {
   "metadata": {
    "ExecuteTime": {
     "end_time": "2025-07-23T14:15:32.545937Z",
     "start_time": "2025-07-23T14:15:32.475955Z"
    }
   },
   "cell_type": "code",
   "source": [
    "PROCESSED_DATA_DIR = r\"E:\\gnn_data\\processed_step_data_full_node_features\"\n",
    "dataset = FastSTEPDataset(PROCESSED_DATA_DIR, start_index=1)\n",
    "get_dataset_stats(dataset)"
   ],
   "id": "6d62584266fcacbe",
   "outputs": [
    {
     "name": "stdout",
     "output_type": "stream",
     "text": [
      "Fast dataset loaded:\n",
      "- Total samples: 64579\n",
      "- Processed successfully: 64579\n",
      "- Failed processing: 77\n",
      "Label counts in dataset:\n",
      "Label 1: 40873 instances\n",
      "Label 0: 23706 instances\n",
      "Label 1: 63.29% of total instances\n",
      "Label 0: 36.71% of total instances\n",
      "Class weights for loss function: [1.5799916815501676, 2.7241626592423858]\n"
     ]
    }
   ],
   "execution_count": 4
  },
  {
   "metadata": {
    "ExecuteTime": {
     "end_time": "2025-07-23T14:16:55.242501Z",
     "start_time": "2025-07-23T14:16:55.235243Z"
    }
   },
   "cell_type": "code",
   "source": "dataset[0].x",
   "id": "f6bd9e864ab8c66a",
   "outputs": [
    {
     "data": {
      "text/plain": [
       "tensor([[-0.5517, -0.9249, -1.0000,  ..., -0.3974,  0.0397, -0.0896],\n",
       "        [-0.7946, -0.9850, -0.9998,  ..., -0.2904,  0.2174, -0.0353],\n",
       "        [-0.8704, -0.9925, -1.0000,  ..., -0.1551,  0.1201, -0.3482],\n",
       "        ...,\n",
       "        [-0.8704, -0.9925, -1.0000,  ...,  0.3507, -0.0930, -0.2071],\n",
       "        [-0.8704, -0.9925, -1.0000,  ...,  0.1529, -0.1725,  0.4640],\n",
       "        [-0.8704, -0.9925, -1.0000,  ...,  0.1529, -0.1725,  0.4640]])"
      ]
     },
     "execution_count": 7,
     "metadata": {},
     "output_type": "execute_result"
    }
   ],
   "execution_count": 7
  },
  {
   "metadata": {
    "ExecuteTime": {
     "end_time": "2025-07-23T14:16:27.638427Z",
     "start_time": "2025-07-23T14:16:27.596624Z"
    }
   },
   "cell_type": "code",
   "source": [
    "model = DynamicGNN(\n",
    "    input_features=dataset[0].x.shape[1],\n",
    "    hidden_sizes=[512, 512],\n",
    "    conv_dropout_rate=0.1,\n",
    "    classifier_dropout_rate=0.0,\n",
    "    use_layer_norm=True,\n",
    "    pool_hidden_size=128\n",
    ")"
   ],
   "id": "a51a5569cc5e6c9f",
   "outputs": [
    {
     "name": "stdout",
     "output_type": "stream",
     "text": [
      "Created Dynamic GNN model:\n",
      "- Input features: 22\n",
      "- Number of hidden layers: 2\n",
      "- Hidden layer sizes: [512, 512]\n",
      "- Output classes: 2\n",
      "- Convolution dropout rate: 0.1\n",
      "- Classifier dropout rate: 0.0\n",
      "- Layer normalization: True\n"
     ]
    },
    {
     "name": "stderr",
     "output_type": "stream",
     "text": [
      "C:\\Users\\phanm\\miniconda3\\envs\\machine-learning\\Lib\\site-packages\\torch_geometric\\deprecation.py:26: UserWarning: 'nn.glob.GlobalAttention' is deprecated, use 'nn.aggr.AttentionalAggregation' instead\n",
      "  warnings.warn(out)\n"
     ]
    }
   ],
   "execution_count": 5
  },
  {
   "metadata": {
    "ExecuteTime": {
     "end_time": "2025-07-20T17:30:41.842404Z",
     "start_time": "2025-07-20T17:30:41.746430Z"
    }
   },
   "cell_type": "code",
   "source": [
    "# load model from disk\n",
    "model_save_path = \"dynamic_gnn_model.pth\"\n",
    "if Path(model_save_path).exists():\n",
    "    print(f\"Loading model from {model_save_path}\")\n",
    "    model.load_state_dict(torch.load(model_save_path))\n",
    "else:\n",
    "    print(f\"Model file {model_save_path} does not exist. Initializing a new model.\")"
   ],
   "id": "8b83a260eddd957c",
   "outputs": [
    {
     "name": "stdout",
     "output_type": "stream",
     "text": [
      "Loading model from dynamic_gnn_model.pth\n"
     ]
    }
   ],
   "execution_count": 12
  },
  {
   "metadata": {},
   "cell_type": "code",
   "source": [
    "torch.cuda.empty_cache()\n",
    "\n",
    "trained_model, history = simple_train_model_v2(\n",
    "    dataset,\n",
    "    gnn_model=model,\n",
    "    num_epochs=5,\n",
    "    batch_size=8,\n",
    "    learning_rate=0.001,\n",
    "    start_index=0,\n",
    "    num_graphs_to_use=500,\n",
    ")"
   ],
   "id": "f9bbea70b3f36e82",
   "outputs": [],
   "execution_count": null
  },
  {
   "metadata": {
    "ExecuteTime": {
     "end_time": "2025-07-20T17:27:06.549133100Z",
     "start_time": "2025-07-20T16:07:18.279499Z"
    }
   },
   "cell_type": "code",
   "source": [
    "# save model to disk\n",
    "model_save_path = \"dynamic_gnn_model.pth\"\n",
    "torch.save(trained_model.state_dict(), model_save_path)\n",
    "# save training history\n",
    "history_save_path = \"training_history.pkl\"\n",
    "with open(history_save_path, \"wb\") as f:\n",
    "    joblib.dump(history, f)"
   ],
   "id": "a63141819c2a698",
   "outputs": [],
   "execution_count": 18
  },
  {
   "metadata": {
    "ExecuteTime": {
     "end_time": "2025-07-23T14:18:36.325538Z",
     "start_time": "2025-07-23T14:18:36.258775Z"
    }
   },
   "cell_type": "code",
   "source": [
    "dataset_trim = FastSTEPDataset(PROCESSED_DATA_DIR, start_index=0, end_index=7)\n",
    "get_dataset_stats(dataset_trim)"
   ],
   "id": "1cea51e286893d38",
   "outputs": [
    {
     "name": "stdout",
     "output_type": "stream",
     "text": [
      "Fast dataset loaded:\n",
      "- Total samples: 64579\n",
      "- Processed successfully: 64579\n",
      "- Failed processing: 77\n",
      "Label counts in dataset:\n",
      "Label 1: 40873 instances\n",
      "Label 0: 23706 instances\n",
      "Label 1: 63.29% of total instances\n",
      "Label 0: 36.71% of total instances\n",
      "Class weights for loss function: [1.5799916815501676, 2.7241626592423858]\n"
     ]
    }
   ],
   "execution_count": 9
  },
  {
   "metadata": {
    "ExecuteTime": {
     "end_time": "2025-07-23T14:21:14.814345Z",
     "start_time": "2025-07-23T14:21:14.808815Z"
    }
   },
   "cell_type": "code",
   "source": "dataset_trim[0].x",
   "id": "69ba1fad5d47fe63",
   "outputs": [
    {
     "data": {
      "text/plain": [
       "tensor([[228.0000,  -0.5517,  -0.9249,  ...,  -1.0000,  -0.9971,  -0.7675],\n",
       "        [287.0000,  -0.7946,  -0.9850,  ...,  -0.9887,  -0.9943,  -1.0000],\n",
       "        [ 17.0000,  -0.8704,  -0.9925,  ...,  -1.0000,  -0.9971,  -1.0000],\n",
       "        ...,\n",
       "        [ 59.0000,  -0.8704,  -0.9925,  ...,  -0.9785,  -0.9938,  -1.0000],\n",
       "        [146.0000,  -0.8704,  -0.9925,  ...,  -0.9785,  -0.9938,  -1.0000],\n",
       "        [146.0000,  -0.8704,  -0.9925,  ...,  -0.9785,  -0.9938,  -1.0000]])"
      ]
     },
     "execution_count": 10,
     "metadata": {},
     "output_type": "execute_result"
    }
   ],
   "execution_count": 10
  },
  {
   "metadata": {
    "ExecuteTime": {
     "end_time": "2025-07-23T14:24:40.076587Z",
     "start_time": "2025-07-23T14:24:40.067823Z"
    }
   },
   "cell_type": "code",
   "source": [
    "model_with_embed = DynamicGNN_Embedding(\n",
    "    input_features=dataset[0].x.shape[1],\n",
    "    embedding_dim=16,\n",
    "    hidden_sizes=[512, 512],\n",
    "    conv_dropout_rate=0.2,\n",
    "    classifier_dropout_rate=0.2,\n",
    "    use_layer_norm=True,\n",
    "    pool_hidden_size=128\n",
    ")"
   ],
   "id": "437307e067d3a6f6",
   "outputs": [
    {
     "name": "stdout",
     "output_type": "stream",
     "text": [
      "Created Dynamic GNN model:\n",
      "- Input features: 22\n",
      "- Embedding dimension: 16\n",
      "- Number of hidden layers: 2\n",
      "- Hidden layer sizes: [512, 512]\n",
      "- Output classes: 2\n",
      "- Convolution dropout rate: 0.2\n",
      "- Classifier dropout rate: 0.2\n",
      "- Layer normalization: True\n"
     ]
    }
   ],
   "execution_count": 13
  },
  {
   "metadata": {
    "ExecuteTime": {
     "end_time": "2025-07-23T14:29:03.395622Z",
     "start_time": "2025-07-23T14:25:29.010379Z"
    }
   },
   "cell_type": "code",
   "source": [
    "trained_model, history = simple_train_model_v2(\n",
    "    dataset_trim,\n",
    "    gnn_model=model_with_embed,\n",
    "    num_epochs=300,\n",
    "    batch_size=32,\n",
    "    learning_rate=0.001,\n",
    "    start_index=0,\n",
    "    num_graphs_to_use=50000,\n",
    ")"
   ],
   "id": "ff2563e7d6aee670",
   "outputs": [
    {
     "name": "stdout",
     "output_type": "stream",
     "text": [
      "Label 1: 346 instances\n",
      "Label 0: 154 instances\n",
      "Label 1: 69.20% of total instances\n",
      "Label 0: 30.80% of total instances\n",
      "Class weights: tensor([3.2468, 1.4451], device='cuda:0')\n",
      "Splitting dataset into train and validation sets\n",
      "Train samples: 400\n",
      "Validation samples: 100\n",
      "\n",
      "Starting training for 100 epochs...\n"
     ]
    },
    {
     "name": "stderr",
     "output_type": "stream",
     "text": [
      "Epoch 1/100 [Train]: 100%|██████████| 13/13 [00:01<00:00,  7.33it/s, loss=0.5732, acc=77.00%]\n",
      "Epoch 1/100 [Val]: 100%|██████████| 4/4 [00:00<00:00, 19.11it/s, loss=0.9531, acc=74.00%]\n"
     ]
    },
    {
     "name": "stdout",
     "output_type": "stream",
     "text": [
      "Epoch 1/100 - Train Loss: 0.5530, Acc: 77.00% | Val Loss: 0.6855, Acc: 74.00% (Best Val: 74.00%)\n"
     ]
    },
    {
     "name": "stderr",
     "output_type": "stream",
     "text": [
      "Epoch 2/100 [Train]: 100%|██████████| 13/13 [00:01<00:00,  8.98it/s, loss=0.4445, acc=78.00%]\n",
      "Epoch 2/100 [Val]: 100%|██████████| 4/4 [00:00<00:00, 13.93it/s, loss=0.9515, acc=75.00%]\n"
     ]
    },
    {
     "name": "stdout",
     "output_type": "stream",
     "text": [
      "Epoch 2/100 - Train Loss: 0.5348, Acc: 78.00% | Val Loss: 0.6761, Acc: 75.00% (Best Val: 75.00%)\n"
     ]
    },
    {
     "name": "stderr",
     "output_type": "stream",
     "text": [
      "Epoch 3/100 [Train]: 100%|██████████| 13/13 [00:01<00:00,  7.98it/s, loss=0.5006, acc=79.25%]\n",
      "Epoch 3/100 [Val]: 100%|██████████| 4/4 [00:00<00:00,  4.35it/s, loss=0.9785, acc=76.00%]\n"
     ]
    },
    {
     "name": "stdout",
     "output_type": "stream",
     "text": [
      "Epoch 3/100 - Train Loss: 0.5294, Acc: 79.25% | Val Loss: 0.6843, Acc: 76.00% (Best Val: 76.00%)\n"
     ]
    },
    {
     "name": "stderr",
     "output_type": "stream",
     "text": [
      "Epoch 4/100 [Train]: 100%|██████████| 13/13 [00:01<00:00,  8.25it/s, loss=0.3063, acc=80.75%]\n",
      "Epoch 4/100 [Val]: 100%|██████████| 4/4 [00:00<00:00, 17.78it/s, loss=1.2825, acc=74.00%]\n"
     ]
    },
    {
     "name": "stdout",
     "output_type": "stream",
     "text": [
      "Epoch 4/100 - Train Loss: 0.5098, Acc: 80.75% | Val Loss: 0.7334, Acc: 74.00% (Best Val: 76.00%)\n"
     ]
    },
    {
     "name": "stderr",
     "output_type": "stream",
     "text": [
      "Epoch 5/100 [Train]: 100%|██████████| 13/13 [00:02<00:00,  5.13it/s, loss=0.5089, acc=79.25%]\n",
      "Epoch 5/100 [Val]: 100%|██████████| 4/4 [00:01<00:00,  2.81it/s, loss=1.5979, acc=66.00%]\n"
     ]
    },
    {
     "name": "stdout",
     "output_type": "stream",
     "text": [
      "Epoch 5/100 - Train Loss: 0.5079, Acc: 79.25% | Val Loss: 0.8200, Acc: 66.00% (Best Val: 76.00%)\n"
     ]
    },
    {
     "name": "stderr",
     "output_type": "stream",
     "text": [
      "Epoch 6/100 [Train]: 100%|██████████| 13/13 [00:02<00:00,  5.41it/s, loss=0.5463, acc=77.25%]\n",
      "Epoch 6/100 [Val]: 100%|██████████| 4/4 [00:01<00:00,  3.60it/s, loss=1.4387, acc=69.00%]\n"
     ]
    },
    {
     "name": "stdout",
     "output_type": "stream",
     "text": [
      "Epoch 6/100 - Train Loss: 0.5497, Acc: 77.25% | Val Loss: 0.7718, Acc: 69.00% (Best Val: 76.00%)\n"
     ]
    },
    {
     "name": "stderr",
     "output_type": "stream",
     "text": [
      "Epoch 7/100 [Train]: 100%|██████████| 13/13 [00:01<00:00,  8.05it/s, loss=0.4408, acc=75.25%]\n",
      "Epoch 7/100 [Val]: 100%|██████████| 4/4 [00:00<00:00, 18.94it/s, loss=0.6987, acc=78.00%]\n"
     ]
    },
    {
     "name": "stdout",
     "output_type": "stream",
     "text": [
      "Epoch 7/100 - Train Loss: 0.5368, Acc: 75.25% | Val Loss: 0.5328, Acc: 78.00% (Best Val: 78.00%)\n"
     ]
    },
    {
     "name": "stderr",
     "output_type": "stream",
     "text": [
      "Epoch 8/100 [Train]: 100%|██████████| 13/13 [00:01<00:00,  8.57it/s, loss=0.4710, acc=74.75%]\n",
      "Epoch 8/100 [Val]: 100%|██████████| 4/4 [00:00<00:00, 13.56it/s, loss=0.4405, acc=79.00%]\n"
     ]
    },
    {
     "name": "stdout",
     "output_type": "stream",
     "text": [
      "Epoch 8/100 - Train Loss: 0.4953, Acc: 74.75% | Val Loss: 0.4883, Acc: 79.00% (Best Val: 79.00%)\n"
     ]
    },
    {
     "name": "stderr",
     "output_type": "stream",
     "text": [
      "Epoch 9/100 [Train]: 100%|██████████| 13/13 [00:01<00:00,  8.18it/s, loss=0.4388, acc=76.50%]\n",
      "Epoch 9/100 [Val]: 100%|██████████| 4/4 [00:00<00:00, 18.65it/s, loss=0.8442, acc=80.00%]\n"
     ]
    },
    {
     "name": "stdout",
     "output_type": "stream",
     "text": [
      "Epoch 9/100 - Train Loss: 0.4505, Acc: 76.50% | Val Loss: 0.5542, Acc: 80.00% (Best Val: 80.00%)\n"
     ]
    },
    {
     "name": "stderr",
     "output_type": "stream",
     "text": [
      "Epoch 10/100 [Train]: 100%|██████████| 13/13 [00:01<00:00,  8.06it/s, loss=0.6516, acc=75.75%]\n",
      "Epoch 10/100 [Val]: 100%|██████████| 4/4 [00:00<00:00, 19.08it/s, loss=0.8097, acc=81.00%]\n"
     ]
    },
    {
     "name": "stdout",
     "output_type": "stream",
     "text": [
      "Epoch 10/100 - Train Loss: 0.4738, Acc: 75.75% | Val Loss: 0.5553, Acc: 81.00% (Best Val: 81.00%)\n"
     ]
    },
    {
     "name": "stderr",
     "output_type": "stream",
     "text": [
      "Epoch 11/100 [Train]: 100%|██████████| 13/13 [00:01<00:00,  8.29it/s, loss=0.5347, acc=79.75%]\n",
      "Epoch 11/100 [Val]: 100%|██████████| 4/4 [00:00<00:00, 19.38it/s, loss=0.8365, acc=74.00%]\n"
     ]
    },
    {
     "name": "stdout",
     "output_type": "stream",
     "text": [
      "Epoch 11/100 - Train Loss: 0.4567, Acc: 79.75% | Val Loss: 0.5592, Acc: 74.00% (Best Val: 81.00%)\n"
     ]
    },
    {
     "name": "stderr",
     "output_type": "stream",
     "text": [
      "Epoch 12/100 [Train]: 100%|██████████| 13/13 [00:01<00:00,  8.27it/s, loss=0.6810, acc=78.25%]\n",
      "Epoch 12/100 [Val]: 100%|██████████| 4/4 [00:00<00:00, 18.75it/s, loss=0.7132, acc=83.00%]\n"
     ]
    },
    {
     "name": "stdout",
     "output_type": "stream",
     "text": [
      "Epoch 12/100 - Train Loss: 0.4631, Acc: 78.25% | Val Loss: 0.5245, Acc: 83.00% (Best Val: 83.00%)\n"
     ]
    },
    {
     "name": "stderr",
     "output_type": "stream",
     "text": [
      "Epoch 13/100 [Train]: 100%|██████████| 13/13 [00:02<00:00,  5.77it/s, loss=0.3440, acc=75.25%]\n",
      "Epoch 13/100 [Val]: 100%|██████████| 4/4 [00:00<00:00,  9.66it/s, loss=0.6615, acc=79.00%]\n"
     ]
    },
    {
     "name": "stdout",
     "output_type": "stream",
     "text": [
      "Epoch 13/100 - Train Loss: 0.4303, Acc: 75.25% | Val Loss: 0.5230, Acc: 79.00% (Best Val: 83.00%)\n"
     ]
    },
    {
     "name": "stderr",
     "output_type": "stream",
     "text": [
      "Epoch 14/100 [Train]: 100%|██████████| 13/13 [00:01<00:00,  8.09it/s, loss=0.4574, acc=79.50%]\n",
      "Epoch 14/100 [Val]: 100%|██████████| 4/4 [00:00<00:00, 19.62it/s, loss=0.5958, acc=77.00%]\n"
     ]
    },
    {
     "name": "stdout",
     "output_type": "stream",
     "text": [
      "Epoch 14/100 - Train Loss: 0.4219, Acc: 79.50% | Val Loss: 0.5091, Acc: 77.00% (Best Val: 83.00%)\n"
     ]
    },
    {
     "name": "stderr",
     "output_type": "stream",
     "text": [
      "Epoch 15/100 [Train]: 100%|██████████| 13/13 [00:01<00:00,  8.08it/s, loss=0.4369, acc=79.50%]\n",
      "Epoch 15/100 [Val]: 100%|██████████| 4/4 [00:01<00:00,  3.37it/s, loss=0.3961, acc=79.00%]\n"
     ]
    },
    {
     "name": "stdout",
     "output_type": "stream",
     "text": [
      "Epoch 15/100 - Train Loss: 0.4320, Acc: 79.50% | Val Loss: 0.4493, Acc: 79.00% (Best Val: 83.00%)\n"
     ]
    },
    {
     "name": "stderr",
     "output_type": "stream",
     "text": [
      "Epoch 16/100 [Train]: 100%|██████████| 13/13 [00:01<00:00,  7.91it/s, loss=0.2317, acc=78.25%]\n",
      "Epoch 16/100 [Val]: 100%|██████████| 4/4 [00:00<00:00,  6.36it/s, loss=0.3510, acc=80.00%]\n"
     ]
    },
    {
     "name": "stdout",
     "output_type": "stream",
     "text": [
      "Epoch 16/100 - Train Loss: 0.4231, Acc: 78.25% | Val Loss: 0.4332, Acc: 80.00% (Best Val: 83.00%)\n"
     ]
    },
    {
     "name": "stderr",
     "output_type": "stream",
     "text": [
      "Epoch 17/100 [Train]: 100%|██████████| 13/13 [00:01<00:00,  8.08it/s, loss=0.2420, acc=81.25%]\n",
      "Epoch 17/100 [Val]: 100%|██████████| 4/4 [00:00<00:00, 18.90it/s, loss=0.2109, acc=82.00%]\n"
     ]
    },
    {
     "name": "stdout",
     "output_type": "stream",
     "text": [
      "Epoch 17/100 - Train Loss: 0.4171, Acc: 81.25% | Val Loss: 0.4294, Acc: 82.00% (Best Val: 83.00%)\n"
     ]
    },
    {
     "name": "stderr",
     "output_type": "stream",
     "text": [
      "Epoch 18/100 [Train]: 100%|██████████| 13/13 [00:01<00:00,  8.07it/s, loss=0.4179, acc=82.25%]\n",
      "Epoch 18/100 [Val]: 100%|██████████| 4/4 [00:00<00:00, 18.73it/s, loss=0.4975, acc=78.00%]\n"
     ]
    },
    {
     "name": "stdout",
     "output_type": "stream",
     "text": [
      "Epoch 18/100 - Train Loss: 0.4209, Acc: 82.25% | Val Loss: 0.4820, Acc: 78.00% (Best Val: 83.00%)\n"
     ]
    },
    {
     "name": "stderr",
     "output_type": "stream",
     "text": [
      "Epoch 19/100 [Train]: 100%|██████████| 13/13 [00:01<00:00,  8.64it/s, loss=0.5235, acc=82.25%]\n",
      "Epoch 19/100 [Val]: 100%|██████████| 4/4 [00:00<00:00, 13.59it/s, loss=0.7975, acc=79.00%]\n"
     ]
    },
    {
     "name": "stdout",
     "output_type": "stream",
     "text": [
      "Epoch 19/100 - Train Loss: 0.4146, Acc: 82.25% | Val Loss: 0.5474, Acc: 79.00% (Best Val: 83.00%)\n"
     ]
    },
    {
     "name": "stderr",
     "output_type": "stream",
     "text": [
      "Epoch 20/100 [Train]: 100%|██████████| 13/13 [00:01<00:00,  8.30it/s, loss=0.3789, acc=81.75%]\n",
      "Epoch 20/100 [Val]: 100%|██████████| 4/4 [00:00<00:00, 13.65it/s, loss=0.6180, acc=77.00%]\n"
     ]
    },
    {
     "name": "stdout",
     "output_type": "stream",
     "text": [
      "Epoch 20/100 - Train Loss: 0.4056, Acc: 81.75% | Val Loss: 0.4958, Acc: 77.00% (Best Val: 83.00%)\n"
     ]
    },
    {
     "name": "stderr",
     "output_type": "stream",
     "text": [
      "Epoch 21/100 [Train]: 100%|██████████| 13/13 [00:01<00:00,  8.17it/s, loss=0.5459, acc=81.00%]\n",
      "Epoch 21/100 [Val]: 100%|██████████| 4/4 [00:00<00:00, 19.05it/s, loss=0.8563, acc=81.00%]\n"
     ]
    },
    {
     "name": "stdout",
     "output_type": "stream",
     "text": [
      "Epoch 21/100 - Train Loss: 0.4161, Acc: 81.00% | Val Loss: 0.5422, Acc: 81.00% (Best Val: 83.00%)\n"
     ]
    },
    {
     "name": "stderr",
     "output_type": "stream",
     "text": [
      "Epoch 22/100 [Train]: 100%|██████████| 13/13 [00:01<00:00,  7.19it/s, loss=0.5314, acc=78.25%]\n",
      "Epoch 22/100 [Val]: 100%|██████████| 4/4 [00:00<00:00, 16.03it/s, loss=0.4567, acc=82.00%]\n"
     ]
    },
    {
     "name": "stdout",
     "output_type": "stream",
     "text": [
      "Epoch 22/100 - Train Loss: 0.4285, Acc: 78.25% | Val Loss: 0.4535, Acc: 82.00% (Best Val: 83.00%)\n"
     ]
    },
    {
     "name": "stderr",
     "output_type": "stream",
     "text": [
      "Epoch 23/100 [Train]: 100%|██████████| 13/13 [00:02<00:00,  5.26it/s, loss=0.7411, acc=79.50%]\n",
      "Epoch 23/100 [Val]: 100%|██████████| 4/4 [00:00<00:00, 19.90it/s, loss=0.5303, acc=81.00%]\n"
     ]
    },
    {
     "name": "stdout",
     "output_type": "stream",
     "text": [
      "Epoch 23/100 - Train Loss: 0.4258, Acc: 79.50% | Val Loss: 0.4660, Acc: 81.00% (Best Val: 83.00%)\n"
     ]
    },
    {
     "name": "stderr",
     "output_type": "stream",
     "text": [
      "Epoch 24/100 [Train]: 100%|██████████| 13/13 [00:01<00:00,  8.06it/s, loss=0.3285, acc=83.00%]\n",
      "Epoch 24/100 [Val]: 100%|██████████| 4/4 [00:00<00:00, 19.72it/s, loss=0.6637, acc=80.00%]\n"
     ]
    },
    {
     "name": "stdout",
     "output_type": "stream",
     "text": [
      "Epoch 24/100 - Train Loss: 0.3927, Acc: 83.00% | Val Loss: 0.4861, Acc: 80.00% (Best Val: 83.00%)\n"
     ]
    },
    {
     "name": "stderr",
     "output_type": "stream",
     "text": [
      "Epoch 25/100 [Train]: 100%|██████████| 13/13 [00:01<00:00,  8.28it/s, loss=0.4402, acc=80.00%]\n",
      "Epoch 25/100 [Val]: 100%|██████████| 4/4 [00:00<00:00, 20.01it/s, loss=0.3224, acc=83.00%]\n"
     ]
    },
    {
     "name": "stdout",
     "output_type": "stream",
     "text": [
      "Epoch 25/100 - Train Loss: 0.4043, Acc: 80.00% | Val Loss: 0.3986, Acc: 83.00% (Best Val: 83.00%)\n"
     ]
    },
    {
     "name": "stderr",
     "output_type": "stream",
     "text": [
      "Epoch 26/100 [Train]: 100%|██████████| 13/13 [00:01<00:00,  8.92it/s, loss=0.6624, acc=81.75%]\n",
      "Epoch 26/100 [Val]: 100%|██████████| 4/4 [00:00<00:00, 13.78it/s, loss=0.5078, acc=84.00%]\n"
     ]
    },
    {
     "name": "stdout",
     "output_type": "stream",
     "text": [
      "Epoch 26/100 - Train Loss: 0.4187, Acc: 81.75% | Val Loss: 0.4587, Acc: 84.00% (Best Val: 84.00%)\n"
     ]
    },
    {
     "name": "stderr",
     "output_type": "stream",
     "text": [
      "Epoch 27/100 [Train]: 100%|██████████| 13/13 [00:01<00:00,  8.54it/s, loss=0.3204, acc=81.75%]\n",
      "Epoch 27/100 [Val]: 100%|██████████| 4/4 [00:00<00:00, 19.60it/s, loss=0.3293, acc=79.00%]\n"
     ]
    },
    {
     "name": "stdout",
     "output_type": "stream",
     "text": [
      "Epoch 27/100 - Train Loss: 0.3819, Acc: 81.75% | Val Loss: 0.4274, Acc: 79.00% (Best Val: 84.00%)\n"
     ]
    },
    {
     "name": "stderr",
     "output_type": "stream",
     "text": [
      "Epoch 28/100 [Train]: 100%|██████████| 13/13 [00:01<00:00,  8.23it/s, loss=0.6802, acc=79.50%]\n",
      "Epoch 28/100 [Val]: 100%|██████████| 4/4 [00:00<00:00, 19.45it/s, loss=0.5154, acc=80.00%]\n"
     ]
    },
    {
     "name": "stdout",
     "output_type": "stream",
     "text": [
      "Epoch 28/100 - Train Loss: 0.4076, Acc: 79.50% | Val Loss: 0.4479, Acc: 80.00% (Best Val: 84.00%)\n"
     ]
    },
    {
     "name": "stderr",
     "output_type": "stream",
     "text": [
      "Epoch 29/100 [Train]: 100%|██████████| 13/13 [00:02<00:00,  5.73it/s, loss=0.3598, acc=78.50%]\n",
      "Epoch 29/100 [Val]: 100%|██████████| 4/4 [00:00<00:00,  9.44it/s, loss=0.3400, acc=85.00%]\n"
     ]
    },
    {
     "name": "stdout",
     "output_type": "stream",
     "text": [
      "Epoch 29/100 - Train Loss: 0.4001, Acc: 78.50% | Val Loss: 0.4053, Acc: 85.00% (Best Val: 85.00%)\n"
     ]
    },
    {
     "name": "stderr",
     "output_type": "stream",
     "text": [
      "Epoch 30/100 [Train]: 100%|██████████| 13/13 [00:01<00:00,  7.61it/s, loss=0.7224, acc=80.50%]\n",
      "Epoch 30/100 [Val]: 100%|██████████| 4/4 [00:00<00:00, 18.86it/s, loss=0.2324, acc=83.00%]\n"
     ]
    },
    {
     "name": "stdout",
     "output_type": "stream",
     "text": [
      "Epoch 30/100 - Train Loss: 0.4105, Acc: 80.50% | Val Loss: 0.4002, Acc: 83.00% (Best Val: 85.00%)\n"
     ]
    },
    {
     "name": "stderr",
     "output_type": "stream",
     "text": [
      "Epoch 31/100 [Train]: 100%|██████████| 13/13 [00:02<00:00,  5.02it/s, loss=0.5838, acc=80.50%]\n",
      "Epoch 31/100 [Val]: 100%|██████████| 4/4 [00:00<00:00,  6.40it/s, loss=0.2845, acc=85.00%]\n"
     ]
    },
    {
     "name": "stdout",
     "output_type": "stream",
     "text": [
      "Epoch 31/100 - Train Loss: 0.4079, Acc: 80.50% | Val Loss: 0.3902, Acc: 85.00% (Best Val: 85.00%)\n"
     ]
    },
    {
     "name": "stderr",
     "output_type": "stream",
     "text": [
      "Epoch 32/100 [Train]: 100%|██████████| 13/13 [00:02<00:00,  5.92it/s, loss=0.3396, acc=80.50%]\n",
      "Epoch 32/100 [Val]: 100%|██████████| 4/4 [00:00<00:00,  8.75it/s, loss=0.2602, acc=83.00%]\n"
     ]
    },
    {
     "name": "stdout",
     "output_type": "stream",
     "text": [
      "Epoch 32/100 - Train Loss: 0.3872, Acc: 80.50% | Val Loss: 0.3866, Acc: 83.00% (Best Val: 85.00%)\n"
     ]
    },
    {
     "name": "stderr",
     "output_type": "stream",
     "text": [
      "Epoch 33/100 [Train]: 100%|██████████| 13/13 [00:01<00:00,  8.19it/s, loss=0.7593, acc=82.75%]\n",
      "Epoch 33/100 [Val]: 100%|██████████| 4/4 [00:00<00:00, 19.16it/s, loss=0.2753, acc=82.00%]\n"
     ]
    },
    {
     "name": "stdout",
     "output_type": "stream",
     "text": [
      "Epoch 33/100 - Train Loss: 0.4111, Acc: 82.75% | Val Loss: 0.3976, Acc: 82.00% (Best Val: 85.00%)\n"
     ]
    },
    {
     "name": "stderr",
     "output_type": "stream",
     "text": [
      "Epoch 34/100 [Train]: 100%|██████████| 13/13 [00:01<00:00,  8.23it/s, loss=0.6417, acc=80.00%]\n",
      "Epoch 34/100 [Val]: 100%|██████████| 4/4 [00:00<00:00, 19.08it/s, loss=0.8627, acc=77.00%]\n"
     ]
    },
    {
     "name": "stdout",
     "output_type": "stream",
     "text": [
      "Epoch 34/100 - Train Loss: 0.4104, Acc: 80.00% | Val Loss: 0.5335, Acc: 77.00% (Best Val: 85.00%)\n"
     ]
    },
    {
     "name": "stderr",
     "output_type": "stream",
     "text": [
      "Epoch 35/100 [Train]: 100%|██████████| 13/13 [00:01<00:00,  8.36it/s, loss=0.2762, acc=78.75%]\n",
      "Epoch 35/100 [Val]: 100%|██████████| 4/4 [00:00<00:00, 18.73it/s, loss=0.4712, acc=79.00%]\n"
     ]
    },
    {
     "name": "stdout",
     "output_type": "stream",
     "text": [
      "Epoch 35/100 - Train Loss: 0.3863, Acc: 78.75% | Val Loss: 0.4302, Acc: 79.00% (Best Val: 85.00%)\n"
     ]
    },
    {
     "name": "stderr",
     "output_type": "stream",
     "text": [
      "Epoch 36/100 [Train]: 100%|██████████| 13/13 [00:01<00:00,  8.41it/s, loss=0.4434, acc=80.75%]\n",
      "Epoch 36/100 [Val]: 100%|██████████| 4/4 [00:00<00:00,  9.03it/s, loss=0.3376, acc=83.00%]\n"
     ]
    },
    {
     "name": "stdout",
     "output_type": "stream",
     "text": [
      "Epoch 36/100 - Train Loss: 0.3915, Acc: 80.75% | Val Loss: 0.3928, Acc: 83.00% (Best Val: 85.00%)\n"
     ]
    },
    {
     "name": "stderr",
     "output_type": "stream",
     "text": [
      "Epoch 37/100 [Train]: 100%|██████████| 13/13 [00:01<00:00,  7.28it/s, loss=0.6093, acc=80.50%]\n",
      "Epoch 37/100 [Val]: 100%|██████████| 4/4 [00:00<00:00, 19.20it/s, loss=0.3924, acc=83.00%]\n"
     ]
    },
    {
     "name": "stdout",
     "output_type": "stream",
     "text": [
      "Epoch 37/100 - Train Loss: 0.3954, Acc: 80.50% | Val Loss: 0.3994, Acc: 83.00% (Best Val: 85.00%)\n"
     ]
    },
    {
     "name": "stderr",
     "output_type": "stream",
     "text": [
      "Epoch 38/100 [Train]: 100%|██████████| 13/13 [00:01<00:00,  8.71it/s, loss=0.6447, acc=79.25%]\n",
      "Epoch 38/100 [Val]: 100%|██████████| 4/4 [00:00<00:00, 13.47it/s, loss=0.6260, acc=83.00%]\n"
     ]
    },
    {
     "name": "stdout",
     "output_type": "stream",
     "text": [
      "Epoch 38/100 - Train Loss: 0.4075, Acc: 79.25% | Val Loss: 0.4819, Acc: 83.00% (Best Val: 85.00%)\n"
     ]
    },
    {
     "name": "stderr",
     "output_type": "stream",
     "text": [
      "Epoch 39/100 [Train]: 100%|██████████| 13/13 [00:01<00:00,  8.73it/s, loss=0.5172, acc=79.50%]\n",
      "Epoch 39/100 [Val]: 100%|██████████| 4/4 [00:00<00:00, 13.53it/s, loss=0.2909, acc=83.00%]\n"
     ]
    },
    {
     "name": "stdout",
     "output_type": "stream",
     "text": [
      "Epoch 39/100 - Train Loss: 0.3899, Acc: 79.50% | Val Loss: 0.3780, Acc: 83.00% (Best Val: 85.00%)\n"
     ]
    },
    {
     "name": "stderr",
     "output_type": "stream",
     "text": [
      "Epoch 40/100 [Train]: 100%|██████████| 13/13 [00:01<00:00,  8.45it/s, loss=0.7189, acc=80.75%]\n",
      "Epoch 40/100 [Val]: 100%|██████████| 4/4 [00:00<00:00, 19.78it/s, loss=0.4121, acc=79.00%]\n"
     ]
    },
    {
     "name": "stdout",
     "output_type": "stream",
     "text": [
      "Epoch 40/100 - Train Loss: 0.3938, Acc: 80.75% | Val Loss: 0.3984, Acc: 79.00% (Best Val: 85.00%)\n"
     ]
    },
    {
     "name": "stderr",
     "output_type": "stream",
     "text": [
      "Epoch 41/100 [Train]: 100%|██████████| 13/13 [00:01<00:00,  8.09it/s, loss=0.2847, acc=81.00%]\n",
      "Epoch 41/100 [Val]: 100%|██████████| 4/4 [00:00<00:00, 19.47it/s, loss=0.4170, acc=86.00%]\n"
     ]
    },
    {
     "name": "stdout",
     "output_type": "stream",
     "text": [
      "Epoch 41/100 - Train Loss: 0.3698, Acc: 81.00% | Val Loss: 0.4059, Acc: 86.00% (Best Val: 86.00%)\n"
     ]
    },
    {
     "name": "stderr",
     "output_type": "stream",
     "text": [
      "Epoch 42/100 [Train]: 100%|██████████| 13/13 [00:01<00:00,  8.39it/s, loss=0.3444, acc=81.25%]\n",
      "Epoch 42/100 [Val]: 100%|██████████| 4/4 [00:00<00:00,  8.56it/s, loss=0.2583, acc=85.00%]\n"
     ]
    },
    {
     "name": "stdout",
     "output_type": "stream",
     "text": [
      "Epoch 42/100 - Train Loss: 0.3741, Acc: 81.25% | Val Loss: 0.3565, Acc: 85.00% (Best Val: 86.00%)\n"
     ]
    },
    {
     "name": "stderr",
     "output_type": "stream",
     "text": [
      "Epoch 43/100 [Train]: 100%|██████████| 13/13 [00:01<00:00,  8.11it/s, loss=0.3858, acc=81.50%]\n",
      "Epoch 43/100 [Val]: 100%|██████████| 4/4 [00:00<00:00, 19.36it/s, loss=0.2919, acc=86.00%]\n"
     ]
    },
    {
     "name": "stdout",
     "output_type": "stream",
     "text": [
      "Epoch 43/100 - Train Loss: 0.3774, Acc: 81.50% | Val Loss: 0.3680, Acc: 86.00% (Best Val: 86.00%)\n"
     ]
    },
    {
     "name": "stderr",
     "output_type": "stream",
     "text": [
      "Epoch 44/100 [Train]: 100%|██████████| 13/13 [00:01<00:00,  8.53it/s, loss=0.3069, acc=80.75%]\n",
      "Epoch 44/100 [Val]: 100%|██████████| 4/4 [00:00<00:00, 19.27it/s, loss=0.7174, acc=83.00%]\n"
     ]
    },
    {
     "name": "stdout",
     "output_type": "stream",
     "text": [
      "Epoch 44/100 - Train Loss: 0.3668, Acc: 80.75% | Val Loss: 0.4891, Acc: 83.00% (Best Val: 86.00%)\n"
     ]
    },
    {
     "name": "stderr",
     "output_type": "stream",
     "text": [
      "Epoch 45/100 [Train]: 100%|██████████| 13/13 [00:02<00:00,  5.98it/s, loss=0.6782, acc=80.00%]\n",
      "Epoch 45/100 [Val]: 100%|██████████| 4/4 [00:00<00:00,  5.05it/s, loss=1.1601, acc=76.00%]\n"
     ]
    },
    {
     "name": "stdout",
     "output_type": "stream",
     "text": [
      "Epoch 45/100 - Train Loss: 0.4069, Acc: 80.00% | Val Loss: 0.6086, Acc: 76.00% (Best Val: 86.00%)\n"
     ]
    },
    {
     "name": "stderr",
     "output_type": "stream",
     "text": [
      "Epoch 46/100 [Train]: 100%|██████████| 13/13 [00:02<00:00,  5.51it/s, loss=0.4254, acc=80.50%]\n",
      "Epoch 46/100 [Val]: 100%|██████████| 4/4 [00:00<00:00,  5.57it/s, loss=0.6569, acc=82.00%]\n"
     ]
    },
    {
     "name": "stdout",
     "output_type": "stream",
     "text": [
      "Epoch 46/100 - Train Loss: 0.3719, Acc: 80.50% | Val Loss: 0.4684, Acc: 82.00% (Best Val: 86.00%)\n"
     ]
    },
    {
     "name": "stderr",
     "output_type": "stream",
     "text": [
      "Epoch 47/100 [Train]: 100%|██████████| 13/13 [00:01<00:00,  7.91it/s, loss=0.5047, acc=81.25%]\n",
      "Epoch 47/100 [Val]: 100%|██████████| 4/4 [00:00<00:00, 18.93it/s, loss=0.5950, acc=81.00%]\n"
     ]
    },
    {
     "name": "stdout",
     "output_type": "stream",
     "text": [
      "Epoch 47/100 - Train Loss: 0.3825, Acc: 81.25% | Val Loss: 0.4539, Acc: 81.00% (Best Val: 86.00%)\n"
     ]
    },
    {
     "name": "stderr",
     "output_type": "stream",
     "text": [
      "Epoch 48/100 [Train]: 100%|██████████| 13/13 [00:01<00:00,  8.32it/s, loss=0.2118, acc=81.75%]\n",
      "Epoch 48/100 [Val]: 100%|██████████| 4/4 [00:00<00:00,  7.39it/s, loss=0.8258, acc=84.00%]\n"
     ]
    },
    {
     "name": "stdout",
     "output_type": "stream",
     "text": [
      "Epoch 48/100 - Train Loss: 0.3678, Acc: 81.75% | Val Loss: 0.5178, Acc: 84.00% (Best Val: 86.00%)\n"
     ]
    },
    {
     "name": "stderr",
     "output_type": "stream",
     "text": [
      "Epoch 49/100 [Train]: 100%|██████████| 13/13 [00:01<00:00,  8.13it/s, loss=0.3020, acc=80.75%]\n",
      "Epoch 49/100 [Val]: 100%|██████████| 4/4 [00:00<00:00, 19.29it/s, loss=0.3947, acc=82.00%]\n"
     ]
    },
    {
     "name": "stdout",
     "output_type": "stream",
     "text": [
      "Epoch 49/100 - Train Loss: 0.3600, Acc: 80.75% | Val Loss: 0.4157, Acc: 82.00% (Best Val: 86.00%)\n"
     ]
    },
    {
     "name": "stderr",
     "output_type": "stream",
     "text": [
      "Epoch 50/100 [Train]: 100%|██████████| 13/13 [00:01<00:00,  8.29it/s, loss=0.5424, acc=81.50%]\n",
      "Epoch 50/100 [Val]: 100%|██████████| 4/4 [00:00<00:00,  7.77it/s, loss=0.4545, acc=84.00%]\n"
     ]
    },
    {
     "name": "stdout",
     "output_type": "stream",
     "text": [
      "Epoch 50/100 - Train Loss: 0.3814, Acc: 81.50% | Val Loss: 0.4140, Acc: 84.00% (Best Val: 86.00%)\n"
     ]
    },
    {
     "name": "stderr",
     "output_type": "stream",
     "text": [
      "Epoch 51/100 [Train]: 100%|██████████| 13/13 [00:02<00:00,  4.63it/s, loss=0.3383, acc=81.00%]\n",
      "Epoch 51/100 [Val]: 100%|██████████| 4/4 [00:01<00:00,  3.10it/s, loss=0.4995, acc=83.00%]\n"
     ]
    },
    {
     "name": "stdout",
     "output_type": "stream",
     "text": [
      "Epoch 51/100 - Train Loss: 0.3590, Acc: 81.00% | Val Loss: 0.4220, Acc: 83.00% (Best Val: 86.00%)\n"
     ]
    },
    {
     "name": "stderr",
     "output_type": "stream",
     "text": [
      "Epoch 52/100 [Train]: 100%|██████████| 13/13 [00:01<00:00,  8.34it/s, loss=0.4531, acc=81.25%]\n",
      "Epoch 52/100 [Val]: 100%|██████████| 4/4 [00:00<00:00, 13.39it/s, loss=0.5412, acc=83.00%]\n"
     ]
    },
    {
     "name": "stdout",
     "output_type": "stream",
     "text": [
      "Epoch 52/100 - Train Loss: 0.3774, Acc: 81.25% | Val Loss: 0.4300, Acc: 83.00% (Best Val: 86.00%)\n"
     ]
    },
    {
     "name": "stderr",
     "output_type": "stream",
     "text": [
      "Epoch 53/100 [Train]: 100%|██████████| 13/13 [00:01<00:00,  8.47it/s, loss=0.2807, acc=80.25%]\n",
      "Epoch 53/100 [Val]: 100%|██████████| 4/4 [00:00<00:00, 19.01it/s, loss=0.6973, acc=79.00%]\n"
     ]
    },
    {
     "name": "stdout",
     "output_type": "stream",
     "text": [
      "Epoch 53/100 - Train Loss: 0.3623, Acc: 80.25% | Val Loss: 0.4655, Acc: 79.00% (Best Val: 86.00%)\n"
     ]
    },
    {
     "name": "stderr",
     "output_type": "stream",
     "text": [
      "Epoch 54/100 [Train]: 100%|██████████| 13/13 [00:01<00:00,  8.55it/s, loss=0.3987, acc=79.75%]\n",
      "Epoch 54/100 [Val]: 100%|██████████| 4/4 [00:00<00:00, 13.59it/s, loss=0.5777, acc=82.00%]\n"
     ]
    },
    {
     "name": "stdout",
     "output_type": "stream",
     "text": [
      "Epoch 54/100 - Train Loss: 0.3746, Acc: 79.75% | Val Loss: 0.4495, Acc: 82.00% (Best Val: 86.00%)\n"
     ]
    },
    {
     "name": "stderr",
     "output_type": "stream",
     "text": [
      "Epoch 55/100 [Train]: 100%|██████████| 13/13 [00:01<00:00,  8.62it/s, loss=0.2397, acc=81.50%]\n",
      "Epoch 55/100 [Val]: 100%|██████████| 4/4 [00:00<00:00, 18.76it/s, loss=0.5884, acc=82.00%]\n"
     ]
    },
    {
     "name": "stdout",
     "output_type": "stream",
     "text": [
      "Epoch 55/100 - Train Loss: 0.3632, Acc: 81.50% | Val Loss: 0.4391, Acc: 82.00% (Best Val: 86.00%)\n"
     ]
    },
    {
     "name": "stderr",
     "output_type": "stream",
     "text": [
      "Epoch 56/100 [Train]: 100%|██████████| 13/13 [00:01<00:00,  8.76it/s, loss=0.5585, acc=81.00%]\n",
      "Epoch 56/100 [Val]: 100%|██████████| 4/4 [00:00<00:00, 19.63it/s, loss=0.4898, acc=82.00%]\n"
     ]
    },
    {
     "name": "stdout",
     "output_type": "stream",
     "text": [
      "Epoch 56/100 - Train Loss: 0.3470, Acc: 81.00% | Val Loss: 0.4082, Acc: 82.00% (Best Val: 86.00%)\n"
     ]
    },
    {
     "name": "stderr",
     "output_type": "stream",
     "text": [
      "Epoch 57/100 [Train]: 100%|██████████| 13/13 [00:01<00:00,  8.24it/s, loss=0.5003, acc=81.25%]\n",
      "Epoch 57/100 [Val]: 100%|██████████| 4/4 [00:00<00:00,  8.58it/s, loss=0.7737, acc=78.00%]\n"
     ]
    },
    {
     "name": "stdout",
     "output_type": "stream",
     "text": [
      "Epoch 57/100 - Train Loss: 0.3671, Acc: 81.25% | Val Loss: 0.5172, Acc: 78.00% (Best Val: 86.00%)\n"
     ]
    },
    {
     "name": "stderr",
     "output_type": "stream",
     "text": [
      "Epoch 58/100 [Train]: 100%|██████████| 13/13 [00:01<00:00,  8.53it/s, loss=0.2096, acc=81.00%]\n",
      "Epoch 58/100 [Val]: 100%|██████████| 4/4 [00:00<00:00, 19.20it/s, loss=0.5673, acc=80.00%]\n"
     ]
    },
    {
     "name": "stdout",
     "output_type": "stream",
     "text": [
      "Epoch 58/100 - Train Loss: 0.3689, Acc: 81.00% | Val Loss: 0.4578, Acc: 80.00% (Best Val: 86.00%)\n"
     ]
    },
    {
     "name": "stderr",
     "output_type": "stream",
     "text": [
      "Epoch 59/100 [Train]: 100%|██████████| 13/13 [00:02<00:00,  5.99it/s, loss=0.4168, acc=81.75%]\n",
      "Epoch 59/100 [Val]: 100%|██████████| 4/4 [00:00<00:00,  8.21it/s, loss=0.8079, acc=79.00%]\n"
     ]
    },
    {
     "name": "stdout",
     "output_type": "stream",
     "text": [
      "Epoch 59/100 - Train Loss: 0.3774, Acc: 81.75% | Val Loss: 0.5181, Acc: 79.00% (Best Val: 86.00%)\n"
     ]
    },
    {
     "name": "stderr",
     "output_type": "stream",
     "text": [
      "Epoch 60/100 [Train]: 100%|██████████| 13/13 [00:01<00:00,  8.11it/s, loss=0.2878, acc=80.00%]\n",
      "Epoch 60/100 [Val]: 100%|██████████| 4/4 [00:00<00:00,  5.75it/s, loss=0.4865, acc=81.00%]\n"
     ]
    },
    {
     "name": "stdout",
     "output_type": "stream",
     "text": [
      "Epoch 60/100 - Train Loss: 0.3652, Acc: 80.00% | Val Loss: 0.4370, Acc: 81.00% (Best Val: 86.00%)\n"
     ]
    },
    {
     "name": "stderr",
     "output_type": "stream",
     "text": [
      "Epoch 61/100 [Train]: 100%|██████████| 13/13 [00:01<00:00,  7.80it/s, loss=0.2732, acc=81.50%]\n",
      "Epoch 61/100 [Val]: 100%|██████████| 4/4 [00:00<00:00, 17.91it/s, loss=0.5636, acc=82.00%]\n"
     ]
    },
    {
     "name": "stdout",
     "output_type": "stream",
     "text": [
      "Epoch 61/100 - Train Loss: 0.3859, Acc: 81.50% | Val Loss: 0.4374, Acc: 82.00% (Best Val: 86.00%)\n"
     ]
    },
    {
     "name": "stderr",
     "output_type": "stream",
     "text": [
      "Epoch 62/100 [Train]: 100%|██████████| 13/13 [00:01<00:00,  8.69it/s, loss=0.3056, acc=81.00%]\n",
      "Epoch 62/100 [Val]: 100%|██████████| 4/4 [00:00<00:00, 13.73it/s, loss=0.6771, acc=79.00%]\n"
     ]
    },
    {
     "name": "stdout",
     "output_type": "stream",
     "text": [
      "Epoch 62/100 - Train Loss: 0.3582, Acc: 81.00% | Val Loss: 0.4757, Acc: 79.00% (Best Val: 86.00%)\n"
     ]
    },
    {
     "name": "stderr",
     "output_type": "stream",
     "text": [
      "Epoch 63/100 [Train]: 100%|██████████| 13/13 [00:01<00:00,  8.70it/s, loss=0.4449, acc=79.50%]\n",
      "Epoch 63/100 [Val]: 100%|██████████| 4/4 [00:00<00:00, 13.82it/s, loss=0.5613, acc=79.00%]\n"
     ]
    },
    {
     "name": "stdout",
     "output_type": "stream",
     "text": [
      "Epoch 63/100 - Train Loss: 0.3677, Acc: 79.50% | Val Loss: 0.4450, Acc: 79.00% (Best Val: 86.00%)\n"
     ]
    },
    {
     "name": "stderr",
     "output_type": "stream",
     "text": [
      "Epoch 64/100 [Train]: 100%|██████████| 13/13 [00:01<00:00,  8.48it/s, loss=0.3364, acc=81.75%]\n",
      "Epoch 64/100 [Val]: 100%|██████████| 4/4 [00:00<00:00, 19.56it/s, loss=0.4261, acc=83.00%]\n"
     ]
    },
    {
     "name": "stdout",
     "output_type": "stream",
     "text": [
      "Epoch 64/100 - Train Loss: 0.3588, Acc: 81.75% | Val Loss: 0.4054, Acc: 83.00% (Best Val: 86.00%)\n"
     ]
    },
    {
     "name": "stderr",
     "output_type": "stream",
     "text": [
      "Epoch 65/100 [Train]: 100%|██████████| 13/13 [00:01<00:00,  8.35it/s, loss=0.4222, acc=82.50%]\n",
      "Epoch 65/100 [Val]: 100%|██████████| 4/4 [00:00<00:00,  5.79it/s, loss=0.5059, acc=80.00%]\n"
     ]
    },
    {
     "name": "stdout",
     "output_type": "stream",
     "text": [
      "Epoch 65/100 - Train Loss: 0.3524, Acc: 82.50% | Val Loss: 0.4266, Acc: 80.00% (Best Val: 86.00%)\n"
     ]
    },
    {
     "name": "stderr",
     "output_type": "stream",
     "text": [
      "Epoch 66/100 [Train]: 100%|██████████| 13/13 [00:01<00:00,  8.51it/s, loss=0.3062, acc=82.25%]\n",
      "Epoch 66/100 [Val]: 100%|██████████| 4/4 [00:00<00:00, 19.10it/s, loss=0.4479, acc=82.00%]\n"
     ]
    },
    {
     "name": "stdout",
     "output_type": "stream",
     "text": [
      "Epoch 66/100 - Train Loss: 0.3374, Acc: 82.25% | Val Loss: 0.4096, Acc: 82.00% (Best Val: 86.00%)\n"
     ]
    },
    {
     "name": "stderr",
     "output_type": "stream",
     "text": [
      "Epoch 67/100 [Train]: 100%|██████████| 13/13 [00:01<00:00,  8.35it/s, loss=0.6877, acc=83.50%]\n",
      "Epoch 67/100 [Val]: 100%|██████████| 4/4 [00:00<00:00, 19.39it/s, loss=0.4464, acc=80.00%]\n"
     ]
    },
    {
     "name": "stdout",
     "output_type": "stream",
     "text": [
      "Epoch 67/100 - Train Loss: 0.3722, Acc: 83.50% | Val Loss: 0.4146, Acc: 80.00% (Best Val: 86.00%)\n"
     ]
    },
    {
     "name": "stderr",
     "output_type": "stream",
     "text": [
      "Epoch 68/100 [Train]: 100%|██████████| 13/13 [00:02<00:00,  4.89it/s, loss=0.3744, acc=84.75%]\n",
      "Epoch 68/100 [Val]: 100%|██████████| 4/4 [00:00<00:00,  6.99it/s, loss=0.4839, acc=84.00%]\n"
     ]
    },
    {
     "name": "stdout",
     "output_type": "stream",
     "text": [
      "Epoch 68/100 - Train Loss: 0.3403, Acc: 84.75% | Val Loss: 0.4086, Acc: 84.00% (Best Val: 86.00%)\n"
     ]
    },
    {
     "name": "stderr",
     "output_type": "stream",
     "text": [
      "Epoch 69/100 [Train]: 100%|██████████| 13/13 [00:01<00:00,  8.69it/s, loss=0.1787, acc=84.75%]\n",
      "Epoch 69/100 [Val]: 100%|██████████| 4/4 [00:00<00:00, 13.95it/s, loss=0.3276, acc=81.00%]\n"
     ]
    },
    {
     "name": "stdout",
     "output_type": "stream",
     "text": [
      "Epoch 69/100 - Train Loss: 0.3526, Acc: 84.75% | Val Loss: 0.4223, Acc: 81.00% (Best Val: 86.00%)\n"
     ]
    },
    {
     "name": "stderr",
     "output_type": "stream",
     "text": [
      "Epoch 70/100 [Train]: 100%|██████████| 13/13 [00:01<00:00,  8.61it/s, loss=0.6215, acc=82.50%]\n",
      "Epoch 70/100 [Val]: 100%|██████████| 4/4 [00:00<00:00, 19.53it/s, loss=0.5162, acc=82.00%]\n"
     ]
    },
    {
     "name": "stdout",
     "output_type": "stream",
     "text": [
      "Epoch 70/100 - Train Loss: 0.3870, Acc: 82.50% | Val Loss: 0.4330, Acc: 82.00% (Best Val: 86.00%)\n"
     ]
    },
    {
     "name": "stderr",
     "output_type": "stream",
     "text": [
      "Epoch 71/100 [Train]: 100%|██████████| 13/13 [00:01<00:00,  8.39it/s, loss=0.4205, acc=83.25%]\n",
      "Epoch 71/100 [Val]: 100%|██████████| 4/4 [00:00<00:00, 18.95it/s, loss=0.8127, acc=79.00%]\n"
     ]
    },
    {
     "name": "stdout",
     "output_type": "stream",
     "text": [
      "Epoch 71/100 - Train Loss: 0.3724, Acc: 83.25% | Val Loss: 0.5092, Acc: 79.00% (Best Val: 86.00%)\n"
     ]
    },
    {
     "name": "stderr",
     "output_type": "stream",
     "text": [
      "Epoch 72/100 [Train]: 100%|██████████| 13/13 [00:01<00:00,  8.53it/s, loss=0.6122, acc=83.25%]\n",
      "Epoch 72/100 [Val]: 100%|██████████| 4/4 [00:00<00:00, 13.53it/s, loss=0.3690, acc=80.00%]\n"
     ]
    },
    {
     "name": "stdout",
     "output_type": "stream",
     "text": [
      "Epoch 72/100 - Train Loss: 0.3918, Acc: 83.25% | Val Loss: 0.4119, Acc: 80.00% (Best Val: 86.00%)\n"
     ]
    },
    {
     "name": "stderr",
     "output_type": "stream",
     "text": [
      "Epoch 73/100 [Train]: 100%|██████████| 13/13 [00:01<00:00,  8.50it/s, loss=0.3711, acc=84.25%]\n",
      "Epoch 73/100 [Val]: 100%|██████████| 4/4 [00:00<00:00, 19.36it/s, loss=0.5315, acc=81.00%]\n"
     ]
    },
    {
     "name": "stdout",
     "output_type": "stream",
     "text": [
      "Epoch 73/100 - Train Loss: 0.3553, Acc: 84.25% | Val Loss: 0.4533, Acc: 81.00% (Best Val: 86.00%)\n"
     ]
    },
    {
     "name": "stderr",
     "output_type": "stream",
     "text": [
      "Epoch 74/100 [Train]: 100%|██████████| 13/13 [00:01<00:00,  8.27it/s, loss=0.1323, acc=84.00%]\n",
      "Epoch 74/100 [Val]: 100%|██████████| 4/4 [00:00<00:00, 19.41it/s, loss=0.4081, acc=83.00%]\n"
     ]
    },
    {
     "name": "stdout",
     "output_type": "stream",
     "text": [
      "Epoch 74/100 - Train Loss: 0.3500, Acc: 84.00% | Val Loss: 0.4001, Acc: 83.00% (Best Val: 86.00%)\n"
     ]
    },
    {
     "name": "stderr",
     "output_type": "stream",
     "text": [
      "Epoch 75/100 [Train]: 100%|██████████| 13/13 [00:02<00:00,  4.95it/s, loss=0.4786, acc=83.25%]\n",
      "Epoch 75/100 [Val]: 100%|██████████| 4/4 [00:00<00:00,  6.71it/s, loss=0.3885, acc=81.00%]\n"
     ]
    },
    {
     "name": "stdout",
     "output_type": "stream",
     "text": [
      "Epoch 75/100 - Train Loss: 0.3596, Acc: 83.25% | Val Loss: 0.4009, Acc: 81.00% (Best Val: 86.00%)\n"
     ]
    },
    {
     "name": "stderr",
     "output_type": "stream",
     "text": [
      "Epoch 76/100 [Train]: 100%|██████████| 13/13 [00:01<00:00,  8.13it/s, loss=0.3920, acc=82.50%]\n",
      "Epoch 76/100 [Val]: 100%|██████████| 4/4 [00:00<00:00, 19.57it/s, loss=0.4881, acc=84.00%]\n"
     ]
    },
    {
     "name": "stdout",
     "output_type": "stream",
     "text": [
      "Epoch 76/100 - Train Loss: 0.3550, Acc: 82.50% | Val Loss: 0.4236, Acc: 84.00% (Best Val: 86.00%)\n"
     ]
    },
    {
     "name": "stderr",
     "output_type": "stream",
     "text": [
      "Epoch 77/100 [Train]: 100%|██████████| 13/13 [00:01<00:00,  8.07it/s, loss=0.1555, acc=83.75%]\n",
      "Epoch 77/100 [Val]: 100%|██████████| 4/4 [00:00<00:00, 18.52it/s, loss=0.3822, acc=84.00%]\n"
     ]
    },
    {
     "name": "stdout",
     "output_type": "stream",
     "text": [
      "Epoch 77/100 - Train Loss: 0.3348, Acc: 83.75% | Val Loss: 0.3842, Acc: 84.00% (Best Val: 86.00%)\n"
     ]
    },
    {
     "name": "stderr",
     "output_type": "stream",
     "text": [
      "Epoch 78/100 [Train]: 100%|██████████| 13/13 [00:02<00:00,  4.86it/s, loss=0.2958, acc=85.00%]\n",
      "Epoch 78/100 [Val]: 100%|██████████| 4/4 [00:00<00:00,  7.12it/s, loss=0.3979, acc=82.00%]\n"
     ]
    },
    {
     "name": "stdout",
     "output_type": "stream",
     "text": [
      "Epoch 78/100 - Train Loss: 0.3473, Acc: 85.00% | Val Loss: 0.3872, Acc: 82.00% (Best Val: 86.00%)\n"
     ]
    },
    {
     "name": "stderr",
     "output_type": "stream",
     "text": [
      "Epoch 79/100 [Train]: 100%|██████████| 13/13 [00:01<00:00,  8.94it/s, loss=0.5281, acc=84.50%]\n",
      "Epoch 79/100 [Val]: 100%|██████████| 4/4 [00:00<00:00, 13.43it/s, loss=0.4025, acc=83.00%]\n"
     ]
    },
    {
     "name": "stdout",
     "output_type": "stream",
     "text": [
      "Epoch 79/100 - Train Loss: 0.3569, Acc: 84.50% | Val Loss: 0.4115, Acc: 83.00% (Best Val: 86.00%)\n"
     ]
    },
    {
     "name": "stderr",
     "output_type": "stream",
     "text": [
      "Epoch 80/100 [Train]: 100%|██████████| 13/13 [00:01<00:00,  8.31it/s, loss=0.1026, acc=83.75%]\n",
      "Epoch 80/100 [Val]: 100%|██████████| 4/4 [00:00<00:00,  7.70it/s, loss=0.6151, acc=84.00%]\n"
     ]
    },
    {
     "name": "stdout",
     "output_type": "stream",
     "text": [
      "Epoch 80/100 - Train Loss: 0.3391, Acc: 83.75% | Val Loss: 0.4367, Acc: 84.00% (Best Val: 86.00%)\n"
     ]
    },
    {
     "name": "stderr",
     "output_type": "stream",
     "text": [
      "Epoch 81/100 [Train]: 100%|██████████| 13/13 [00:01<00:00,  8.24it/s, loss=0.7196, acc=83.75%]\n",
      "Epoch 81/100 [Val]: 100%|██████████| 4/4 [00:00<00:00, 18.91it/s, loss=0.3354, acc=83.00%]\n"
     ]
    },
    {
     "name": "stdout",
     "output_type": "stream",
     "text": [
      "Epoch 81/100 - Train Loss: 0.3767, Acc: 83.75% | Val Loss: 0.3744, Acc: 83.00% (Best Val: 86.00%)\n"
     ]
    },
    {
     "name": "stderr",
     "output_type": "stream",
     "text": [
      "Epoch 82/100 [Train]: 100%|██████████| 13/13 [00:01<00:00,  8.53it/s, loss=0.3397, acc=82.50%]\n",
      "Epoch 82/100 [Val]: 100%|██████████| 4/4 [00:00<00:00, 18.47it/s, loss=0.3431, acc=84.00%]\n"
     ]
    },
    {
     "name": "stdout",
     "output_type": "stream",
     "text": [
      "Epoch 82/100 - Train Loss: 0.3496, Acc: 82.50% | Val Loss: 0.3804, Acc: 84.00% (Best Val: 86.00%)\n"
     ]
    },
    {
     "name": "stderr",
     "output_type": "stream",
     "text": [
      "Epoch 83/100 [Train]: 100%|██████████| 13/13 [00:01<00:00,  7.53it/s, loss=0.5121, acc=83.75%]\n",
      "Epoch 83/100 [Val]: 100%|██████████| 4/4 [00:00<00:00, 19.28it/s, loss=0.3169, acc=83.00%]\n"
     ]
    },
    {
     "name": "stdout",
     "output_type": "stream",
     "text": [
      "Epoch 83/100 - Train Loss: 0.3473, Acc: 83.75% | Val Loss: 0.3652, Acc: 83.00% (Best Val: 86.00%)\n"
     ]
    },
    {
     "name": "stderr",
     "output_type": "stream",
     "text": [
      "Epoch 84/100 [Train]: 100%|██████████| 13/13 [00:01<00:00,  8.76it/s, loss=0.2361, acc=84.00%]\n",
      "Epoch 84/100 [Val]: 100%|██████████| 4/4 [00:00<00:00, 18.68it/s, loss=0.2896, acc=87.00%]\n"
     ]
    },
    {
     "name": "stdout",
     "output_type": "stream",
     "text": [
      "Epoch 84/100 - Train Loss: 0.3240, Acc: 84.00% | Val Loss: 0.3394, Acc: 87.00% (Best Val: 87.00%)\n"
     ]
    },
    {
     "name": "stderr",
     "output_type": "stream",
     "text": [
      "Epoch 85/100 [Train]: 100%|██████████| 13/13 [00:01<00:00,  8.25it/s, loss=0.4911, acc=84.00%]\n",
      "Epoch 85/100 [Val]: 100%|██████████| 4/4 [00:00<00:00,  6.77it/s, loss=0.2789, acc=87.00%]\n"
     ]
    },
    {
     "name": "stdout",
     "output_type": "stream",
     "text": [
      "Epoch 85/100 - Train Loss: 0.3442, Acc: 84.00% | Val Loss: 0.3333, Acc: 87.00% (Best Val: 87.00%)\n"
     ]
    },
    {
     "name": "stderr",
     "output_type": "stream",
     "text": [
      "Epoch 86/100 [Train]: 100%|██████████| 13/13 [00:01<00:00,  8.09it/s, loss=0.3421, acc=83.00%]\n",
      "Epoch 86/100 [Val]: 100%|██████████| 4/4 [00:00<00:00, 18.68it/s, loss=0.3557, acc=85.00%]\n"
     ]
    },
    {
     "name": "stdout",
     "output_type": "stream",
     "text": [
      "Epoch 86/100 - Train Loss: 0.3246, Acc: 83.00% | Val Loss: 0.3864, Acc: 85.00% (Best Val: 87.00%)\n"
     ]
    },
    {
     "name": "stderr",
     "output_type": "stream",
     "text": [
      "Epoch 87/100 [Train]: 100%|██████████| 13/13 [00:01<00:00,  8.50it/s, loss=0.4112, acc=86.00%]\n",
      "Epoch 87/100 [Val]: 100%|██████████| 4/4 [00:00<00:00, 19.41it/s, loss=0.4218, acc=80.00%]\n"
     ]
    },
    {
     "name": "stdout",
     "output_type": "stream",
     "text": [
      "Epoch 87/100 - Train Loss: 0.3377, Acc: 86.00% | Val Loss: 0.4053, Acc: 80.00% (Best Val: 87.00%)\n"
     ]
    },
    {
     "name": "stderr",
     "output_type": "stream",
     "text": [
      "Epoch 88/100 [Train]: 100%|██████████| 13/13 [00:01<00:00,  8.23it/s, loss=0.3171, acc=83.00%]\n",
      "Epoch 88/100 [Val]: 100%|██████████| 4/4 [00:00<00:00, 18.95it/s, loss=0.2977, acc=81.00%]\n"
     ]
    },
    {
     "name": "stdout",
     "output_type": "stream",
     "text": [
      "Epoch 88/100 - Train Loss: 0.3495, Acc: 83.00% | Val Loss: 0.4054, Acc: 81.00% (Best Val: 87.00%)\n"
     ]
    },
    {
     "name": "stderr",
     "output_type": "stream",
     "text": [
      "Epoch 89/100 [Train]: 100%|██████████| 13/13 [00:01<00:00,  8.31it/s, loss=0.3200, acc=85.75%]\n",
      "Epoch 89/100 [Val]: 100%|██████████| 4/4 [00:00<00:00, 18.79it/s, loss=0.3159, acc=85.00%]\n"
     ]
    },
    {
     "name": "stdout",
     "output_type": "stream",
     "text": [
      "Epoch 89/100 - Train Loss: 0.3261, Acc: 85.75% | Val Loss: 0.3676, Acc: 85.00% (Best Val: 87.00%)\n"
     ]
    },
    {
     "name": "stderr",
     "output_type": "stream",
     "text": [
      "Epoch 90/100 [Train]: 100%|██████████| 13/13 [00:01<00:00,  8.48it/s, loss=0.4651, acc=87.00%]\n",
      "Epoch 90/100 [Val]: 100%|██████████| 4/4 [00:00<00:00, 13.46it/s, loss=0.2597, acc=83.00%]\n"
     ]
    },
    {
     "name": "stdout",
     "output_type": "stream",
     "text": [
      "Epoch 90/100 - Train Loss: 0.3320, Acc: 87.00% | Val Loss: 0.3418, Acc: 83.00% (Best Val: 87.00%)\n"
     ]
    },
    {
     "name": "stderr",
     "output_type": "stream",
     "text": [
      "Epoch 91/100 [Train]: 100%|██████████| 13/13 [00:01<00:00,  7.77it/s, loss=0.4249, acc=84.50%]\n",
      "Epoch 91/100 [Val]: 100%|██████████| 4/4 [00:00<00:00, 17.05it/s, loss=0.2714, acc=80.00%]\n"
     ]
    },
    {
     "name": "stdout",
     "output_type": "stream",
     "text": [
      "Epoch 91/100 - Train Loss: 0.3414, Acc: 84.50% | Val Loss: 0.3804, Acc: 80.00% (Best Val: 87.00%)\n"
     ]
    },
    {
     "name": "stderr",
     "output_type": "stream",
     "text": [
      "Epoch 92/100 [Train]: 100%|██████████| 13/13 [00:01<00:00,  8.59it/s, loss=0.2562, acc=84.75%]\n",
      "Epoch 92/100 [Val]: 100%|██████████| 4/4 [00:00<00:00, 18.85it/s, loss=0.3503, acc=81.00%]\n"
     ]
    },
    {
     "name": "stdout",
     "output_type": "stream",
     "text": [
      "Epoch 92/100 - Train Loss: 0.3320, Acc: 84.75% | Val Loss: 0.3957, Acc: 81.00% (Best Val: 87.00%)\n"
     ]
    },
    {
     "name": "stderr",
     "output_type": "stream",
     "text": [
      "Epoch 93/100 [Train]: 100%|██████████| 13/13 [00:01<00:00,  8.21it/s, loss=0.4131, acc=82.75%]\n",
      "Epoch 93/100 [Val]: 100%|██████████| 4/4 [00:00<00:00, 18.79it/s, loss=0.2565, acc=83.00%]\n"
     ]
    },
    {
     "name": "stdout",
     "output_type": "stream",
     "text": [
      "Epoch 93/100 - Train Loss: 0.3216, Acc: 82.75% | Val Loss: 0.3375, Acc: 83.00% (Best Val: 87.00%)\n"
     ]
    },
    {
     "name": "stderr",
     "output_type": "stream",
     "text": [
      "Epoch 94/100 [Train]: 100%|██████████| 13/13 [00:01<00:00,  8.04it/s, loss=0.5367, acc=85.50%]\n",
      "Epoch 94/100 [Val]: 100%|██████████| 4/4 [00:00<00:00,  5.14it/s, loss=0.3129, acc=80.00%]\n"
     ]
    },
    {
     "name": "stdout",
     "output_type": "stream",
     "text": [
      "Epoch 94/100 - Train Loss: 0.3263, Acc: 85.50% | Val Loss: 0.3809, Acc: 80.00% (Best Val: 87.00%)\n"
     ]
    },
    {
     "name": "stderr",
     "output_type": "stream",
     "text": [
      "Epoch 95/100 [Train]: 100%|██████████| 13/13 [00:01<00:00,  8.32it/s, loss=0.3564, acc=86.25%]\n",
      "Epoch 95/100 [Val]: 100%|██████████| 4/4 [00:00<00:00, 18.59it/s, loss=0.3275, acc=85.00%]\n"
     ]
    },
    {
     "name": "stdout",
     "output_type": "stream",
     "text": [
      "Epoch 95/100 - Train Loss: 0.3390, Acc: 86.25% | Val Loss: 0.3594, Acc: 85.00% (Best Val: 87.00%)\n"
     ]
    },
    {
     "name": "stderr",
     "output_type": "stream",
     "text": [
      "Epoch 96/100 [Train]: 100%|██████████| 13/13 [00:01<00:00,  8.27it/s, loss=0.3764, acc=84.50%]\n",
      "Epoch 96/100 [Val]: 100%|██████████| 4/4 [00:00<00:00, 18.95it/s, loss=0.3410, acc=84.00%]\n"
     ]
    },
    {
     "name": "stdout",
     "output_type": "stream",
     "text": [
      "Epoch 96/100 - Train Loss: 0.3218, Acc: 84.50% | Val Loss: 0.3934, Acc: 84.00% (Best Val: 87.00%)\n"
     ]
    },
    {
     "name": "stderr",
     "output_type": "stream",
     "text": [
      "Epoch 97/100 [Train]: 100%|██████████| 13/13 [00:01<00:00,  8.27it/s, loss=0.3069, acc=84.25%]\n",
      "Epoch 97/100 [Val]: 100%|██████████| 4/4 [00:00<00:00, 18.90it/s, loss=0.2870, acc=81.00%]\n"
     ]
    },
    {
     "name": "stdout",
     "output_type": "stream",
     "text": [
      "Epoch 97/100 - Train Loss: 0.3278, Acc: 84.25% | Val Loss: 0.3521, Acc: 81.00% (Best Val: 87.00%)\n"
     ]
    },
    {
     "name": "stderr",
     "output_type": "stream",
     "text": [
      "Epoch 98/100 [Train]: 100%|██████████| 13/13 [00:01<00:00,  8.25it/s, loss=0.1469, acc=85.75%]\n",
      "Epoch 98/100 [Val]: 100%|██████████| 4/4 [00:00<00:00,  7.10it/s, loss=0.3306, acc=84.00%]\n"
     ]
    },
    {
     "name": "stdout",
     "output_type": "stream",
     "text": [
      "Epoch 98/100 - Train Loss: 0.3052, Acc: 85.75% | Val Loss: 0.3501, Acc: 84.00% (Best Val: 87.00%)\n"
     ]
    },
    {
     "name": "stderr",
     "output_type": "stream",
     "text": [
      "Epoch 99/100 [Train]: 100%|██████████| 13/13 [00:01<00:00,  7.75it/s, loss=0.2029, acc=83.50%]\n",
      "Epoch 99/100 [Val]: 100%|██████████| 4/4 [00:00<00:00,  4.99it/s, loss=0.3400, acc=78.00%]\n"
     ]
    },
    {
     "name": "stdout",
     "output_type": "stream",
     "text": [
      "Epoch 99/100 - Train Loss: 0.3034, Acc: 83.50% | Val Loss: 0.3731, Acc: 78.00% (Best Val: 87.00%)\n"
     ]
    },
    {
     "name": "stderr",
     "output_type": "stream",
     "text": [
      "Epoch 100/100 [Train]: 100%|██████████| 13/13 [00:01<00:00,  8.14it/s, loss=0.5201, acc=85.50%]\n",
      "Epoch 100/100 [Val]: 100%|██████████| 4/4 [00:00<00:00, 18.82it/s, loss=0.3051, acc=82.00%]"
     ]
    },
    {
     "name": "stdout",
     "output_type": "stream",
     "text": [
      "Epoch 100/100 - Train Loss: 0.3170, Acc: 85.50% | Val Loss: 0.3469, Acc: 82.00% (Best Val: 87.00%)\n",
      "Training completed!\n",
      "Training time: 214.380928999999\n",
      "Best validation accuracy: 87.00%\n"
     ]
    },
    {
     "name": "stderr",
     "output_type": "stream",
     "text": [
      "\n"
     ]
    }
   ],
   "execution_count": 15
  },
  {
   "metadata": {},
   "cell_type": "code",
   "outputs": [],
   "execution_count": null,
   "source": "trained_model.embedding",
   "id": "d40c114d1b56ef2"
  }
 ],
 "metadata": {
  "kernelspec": {
   "display_name": "Python 3",
   "language": "python",
   "name": "python3"
  },
  "language_info": {
   "codemirror_mode": {
    "name": "ipython",
    "version": 2
   },
   "file_extension": ".py",
   "mimetype": "text/x-python",
   "name": "python",
   "nbconvert_exporter": "python",
   "pygments_lexer": "ipython2",
   "version": "2.7.6"
  }
 },
 "nbformat": 4,
 "nbformat_minor": 5
}
