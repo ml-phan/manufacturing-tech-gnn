{
 "cells": [
  {
   "metadata": {
    "ExecuteTime": {
     "end_time": "2025-07-07T20:33:31.518457Z",
     "start_time": "2025-07-07T20:33:31.396979Z"
    }
   },
   "cell_type": "code",
   "source": [
    "# autoimport\n",
    "%load_ext autoreload\n",
    "%autoreload 1"
   ],
   "id": "8d4ccefef01da2a",
   "outputs": [],
   "execution_count": 1
  },
  {
   "cell_type": "code",
   "id": "initial_id",
   "metadata": {
    "collapsed": true,
    "ExecuteTime": {
     "end_time": "2025-07-07T20:33:38.819985Z",
     "start_time": "2025-07-07T20:33:31.816916Z"
    }
   },
   "source": [
    "import pandas as pd\n",
    "\n",
    "from pathlib import Path\n",
    "from src.gnn_models import *\n",
    "\n",
    "%aimport src.gnn_models"
   ],
   "outputs": [],
   "execution_count": 2
  },
  {
   "metadata": {
    "ExecuteTime": {
     "end_time": "2025-07-07T20:33:39.643104Z",
     "start_time": "2025-07-07T20:33:39.559109Z"
    }
   },
   "cell_type": "code",
   "source": [
    "PROCESSED_DATA_DIR = r\"E:\\gnn_data\\processed_step_data_full_node_features\"\n",
    "dataset = FastSTEPDataset(PROCESSED_DATA_DIR)"
   ],
   "id": "6d62584266fcacbe",
   "outputs": [
    {
     "name": "stdout",
     "output_type": "stream",
     "text": [
      "Fast dataset loaded:\n",
      "- Total samples: 62591\n",
      "- Processed successfully: 62591\n",
      "- Failed processing: 80\n"
     ]
    }
   ],
   "execution_count": 3
  },
  {
   "metadata": {
    "ExecuteTime": {
     "end_time": "2025-07-07T20:33:40.346548Z",
     "start_time": "2025-07-07T20:33:40.289833Z"
    }
   },
   "cell_type": "code",
   "source": "dataset_trim = FastSTEPDataset(PROCESSED_DATA_DIR, trim_start=6)",
   "id": "2a46c85a99990e39",
   "outputs": [
    {
     "name": "stdout",
     "output_type": "stream",
     "text": [
      "Fast dataset loaded:\n",
      "- Total samples: 62591\n",
      "- Processed successfully: 62591\n",
      "- Failed processing: 80\n"
     ]
    }
   ],
   "execution_count": 4
  },
  {
   "metadata": {
    "ExecuteTime": {
     "end_time": "2025-07-07T20:33:43.323975Z",
     "start_time": "2025-07-07T20:33:43.315264Z"
    }
   },
   "cell_type": "code",
   "source": "dataset_trim[0].x",
   "id": "d218e9b81304d776",
   "outputs": [
    {
     "data": {
      "text/plain": [
       "tensor([[-1.4771, -0.6946,  0.1994,  ...,  0.8061, -0.2022, -1.7305],\n",
       "        [-0.2763,  0.3516, -2.6291,  ..., -0.7756,  0.0729,  0.5812],\n",
       "        [ 2.2368,  0.1307,  1.6555,  ...,  0.6421, -1.6990,  0.7435],\n",
       "        ...,\n",
       "        [ 0.6480,  0.3485,  2.0575,  ...,  0.4278,  1.4448, -0.1901],\n",
       "        [ 0.6480,  0.3485,  2.0575,  ...,  0.4278,  1.4448, -0.1901],\n",
       "        [ 0.6480,  0.3485,  2.0575,  ...,  0.4278,  1.4448, -0.1901]])"
      ]
     },
     "execution_count": 5,
     "metadata": {},
     "output_type": "execute_result"
    }
   ],
   "execution_count": 5
  },
  {
   "metadata": {
    "ExecuteTime": {
     "end_time": "2025-07-07T20:33:45.174671Z",
     "start_time": "2025-07-07T20:33:45.169434Z"
    }
   },
   "cell_type": "code",
   "source": "dataset[0].x",
   "id": "9efee868b4da9bc0",
   "outputs": [
    {
     "data": {
      "text/plain": [
       "tensor([[ 0.0000,  0.0000,  0.0000,  ...,  0.8061, -0.2022, -1.7305],\n",
       "        [ 0.0000,  0.0000,  0.0000,  ..., -0.7756,  0.0729,  0.5812],\n",
       "        [ 0.0000,  0.0000,  0.0000,  ...,  0.6421, -1.6990,  0.7435],\n",
       "        ...,\n",
       "        [ 0.0000,  0.0000,  0.0000,  ...,  0.4278,  1.4448, -0.1901],\n",
       "        [ 0.0000,  0.0000,  0.0000,  ...,  0.4278,  1.4448, -0.1901],\n",
       "        [ 0.0000,  0.0000,  0.0000,  ...,  0.4278,  1.4448, -0.1901]])"
      ]
     },
     "execution_count": 6,
     "metadata": {},
     "output_type": "execute_result"
    }
   ],
   "execution_count": 6
  },
  {
   "metadata": {
    "ExecuteTime": {
     "end_time": "2025-07-07T20:42:31.747335Z",
     "start_time": "2025-07-07T20:42:31.734249Z"
    }
   },
   "cell_type": "code",
   "source": [
    "# Count zeros and ones in the dataset_trim, and show percentage of each label\n",
    "from collections import Counter\n",
    "labels = dataset_trim.get_labels()\n",
    "label_counts = Counter(dataset_trim.get_labels())\n",
    "print(\"Label counts in dataset_trim:\")\n",
    "for label, count in label_counts.items():\n",
    "    print(f\"Label {label}: {count} instances\")\n",
    "# Calculate the percentage of each label\n",
    "total_count = sum(label_counts.values())\n",
    "for label, count in label_counts.items():\n",
    "    percentage = (count / total_count) * 100\n",
    "    print(f\"Label {label}: {percentage:.2f}% of total instances\")\n",
    "class_weights = [len(labels) / count for label, count in\n",
    "                     label_counts.items()]\n",
    "print(\"Class weights for loss function:\", class_weights)\n",
    "# dataset_trim.get_labels()"
   ],
   "id": "b15fe17c76a345e",
   "outputs": [
    {
     "name": "stdout",
     "output_type": "stream",
     "text": [
      "Label counts in dataset_trim:\n",
      "Label 1: 39497 instances\n",
      "Label 0: 23094 instances\n",
      "Label 1: 63.10% of total instances\n",
      "Label 0: 36.90% of total instances\n",
      "Class weights for loss function: None\n"
     ]
    }
   ],
   "execution_count": 14
  },
  {
   "metadata": {
    "ExecuteTime": {
     "end_time": "2025-07-08T07:58:01.590969Z",
     "start_time": "2025-07-07T21:04:05.757545Z"
    }
   },
   "cell_type": "code",
   "source": [
    "torch.cuda.empty_cache()\n",
    "trained_model, history = simple_train_model_v2(\n",
    "    dataset_trim,\n",
    "    num_epochs=100,  # Start with just 5 epochs for testing\n",
    "    batch_size=32,  # Small batch size due to large graphs\n",
    "    learning_rate=0.002,\n",
    "    num_graphs_to_use=50000\n",
    ")"
   ],
   "id": "f9bbea70b3f36e82",
   "outputs": [
    {
     "name": "stderr",
     "output_type": "stream",
     "text": [
      "C:\\Users\\phanm\\miniconda3\\envs\\machine-learning\\Lib\\site-packages\\torch_geometric\\deprecation.py:26: UserWarning: 'nn.glob.GlobalAttention' is deprecated, use 'nn.aggr.AttentionalAggregation' instead\n",
      "  warnings.warn(out)\n"
     ]
    },
    {
     "name": "stdout",
     "output_type": "stream",
     "text": [
      "Limiting training to the first 50000 graphs.\n",
      "Label 1: 31733 instances\n",
      "Label 0: 18267 instances\n",
      "Label 1: 63.47% of total instances\n",
      "Label 0: 36.53% of total instances\n",
      "Class weights: tensor([2.7372, 1.5756], device='cuda:0')\n",
      "Splitting dataset into train and validation sets\n",
      "Train samples: 40000\n",
      "Validation samples: 10000\n",
      "Created GNN model:\n",
      "- Input features: 64\n",
      "- Hidden sizes: 128, 64\n",
      "- Output classes: 2\n",
      "- Convolution dropout rate: 0.6\n",
      "- Classifier dropout rate: 0.6\n",
      "\n",
      "Starting training for 100 epochs...\n"
     ]
    },
    {
     "name": "stderr",
     "output_type": "stream",
     "text": [
      "Epoch 1/100 [Train]: 100%|██████████| 1250/1250 [05:34<00:00,  3.73it/s, loss=0.6931, acc=54.67%]\n",
      "Epoch 1/100 [Val]: 100%|██████████| 313/313 [01:37<00:00,  3.23it/s, loss=0.6916, acc=36.19%]\n"
     ]
    },
    {
     "name": "stdout",
     "output_type": "stream",
     "text": [
      "Epoch 1/100 - Train Loss: 0.6941, Acc: 54.67% | Val Loss: 0.6931, Acc: 36.19% (Best Val: 36.19%)\n"
     ]
    },
    {
     "name": "stderr",
     "output_type": "stream",
     "text": [
      "Epoch 2/100 [Train]: 100%|██████████| 1250/1250 [05:16<00:00,  3.95it/s, loss=0.7054, acc=56.18%]\n",
      "Epoch 2/100 [Val]: 100%|██████████| 313/313 [01:37<00:00,  3.21it/s, loss=0.7007, acc=56.99%]\n"
     ]
    },
    {
     "name": "stdout",
     "output_type": "stream",
     "text": [
      "Epoch 2/100 - Train Loss: 0.6931, Acc: 56.18% | Val Loss: 0.6923, Acc: 56.99% (Best Val: 56.99%)\n"
     ]
    },
    {
     "name": "stderr",
     "output_type": "stream",
     "text": [
      "Epoch 3/100 [Train]: 100%|██████████| 1250/1250 [05:10<00:00,  4.02it/s, loss=0.6874, acc=57.72%]\n",
      "Epoch 3/100 [Val]: 100%|██████████| 313/313 [01:37<00:00,  3.22it/s, loss=0.6934, acc=56.95%]\n"
     ]
    },
    {
     "name": "stdout",
     "output_type": "stream",
     "text": [
      "Epoch 3/100 - Train Loss: 0.6929, Acc: 57.72% | Val Loss: 0.6913, Acc: 56.95% (Best Val: 56.99%)\n"
     ]
    },
    {
     "name": "stderr",
     "output_type": "stream",
     "text": [
      "Epoch 4/100 [Train]: 100%|██████████| 1250/1250 [05:09<00:00,  4.04it/s, loss=0.6901, acc=59.50%]\n",
      "Epoch 4/100 [Val]: 100%|██████████| 313/313 [01:38<00:00,  3.18it/s, loss=0.7014, acc=63.16%]\n"
     ]
    },
    {
     "name": "stdout",
     "output_type": "stream",
     "text": [
      "Epoch 4/100 - Train Loss: 0.6922, Acc: 59.50% | Val Loss: 0.6913, Acc: 63.16% (Best Val: 63.16%)\n"
     ]
    },
    {
     "name": "stderr",
     "output_type": "stream",
     "text": [
      "Epoch 5/100 [Train]: 100%|██████████| 1250/1250 [05:07<00:00,  4.06it/s, loss=0.6852, acc=59.59%]\n",
      "Epoch 5/100 [Val]: 100%|██████████| 313/313 [01:38<00:00,  3.18it/s, loss=0.7216, acc=43.89%]\n"
     ]
    },
    {
     "name": "stdout",
     "output_type": "stream",
     "text": [
      "Epoch 5/100 - Train Loss: 0.6910, Acc: 59.59% | Val Loss: 0.6900, Acc: 43.89% (Best Val: 63.16%)\n"
     ]
    },
    {
     "name": "stderr",
     "output_type": "stream",
     "text": [
      "Epoch 6/100 [Train]: 100%|██████████| 1250/1250 [05:12<00:00,  4.00it/s, loss=0.6913, acc=60.55%]\n",
      "Epoch 6/100 [Val]: 100%|██████████| 313/313 [01:38<00:00,  3.19it/s, loss=0.7238, acc=61.86%]\n"
     ]
    },
    {
     "name": "stdout",
     "output_type": "stream",
     "text": [
      "Epoch 6/100 - Train Loss: 0.6895, Acc: 60.55% | Val Loss: 0.6880, Acc: 61.86% (Best Val: 63.16%)\n"
     ]
    },
    {
     "name": "stderr",
     "output_type": "stream",
     "text": [
      "Epoch 7/100 [Train]: 100%|██████████| 1250/1250 [05:11<00:00,  4.01it/s, loss=0.7087, acc=60.96%]\n",
      "Epoch 7/100 [Val]: 100%|██████████| 313/313 [01:37<00:00,  3.20it/s, loss=0.6874, acc=61.49%]\n"
     ]
    },
    {
     "name": "stdout",
     "output_type": "stream",
     "text": [
      "Epoch 7/100 - Train Loss: 0.6885, Acc: 60.96% | Val Loss: 0.6876, Acc: 61.49% (Best Val: 63.16%)\n"
     ]
    },
    {
     "name": "stderr",
     "output_type": "stream",
     "text": [
      "Epoch 8/100 [Train]: 100%|██████████| 1250/1250 [05:08<00:00,  4.05it/s, loss=0.6714, acc=60.97%]\n",
      "Epoch 8/100 [Val]: 100%|██████████| 313/313 [01:36<00:00,  3.25it/s, loss=0.7152, acc=61.39%]\n"
     ]
    },
    {
     "name": "stdout",
     "output_type": "stream",
     "text": [
      "Epoch 8/100 - Train Loss: 0.6865, Acc: 60.97% | Val Loss: 0.6862, Acc: 61.39% (Best Val: 63.16%)\n"
     ]
    },
    {
     "name": "stderr",
     "output_type": "stream",
     "text": [
      "Epoch 9/100 [Train]: 100%|██████████| 1250/1250 [05:17<00:00,  3.94it/s, loss=0.6818, acc=61.41%]\n",
      "Epoch 9/100 [Val]: 100%|██████████| 313/313 [01:38<00:00,  3.18it/s, loss=0.7843, acc=63.08%]\n"
     ]
    },
    {
     "name": "stdout",
     "output_type": "stream",
     "text": [
      "Epoch 9/100 - Train Loss: 0.6853, Acc: 61.41% | Val Loss: 0.6858, Acc: 63.08% (Best Val: 63.16%)\n"
     ]
    },
    {
     "name": "stderr",
     "output_type": "stream",
     "text": [
      "Epoch 10/100 [Train]: 100%|██████████| 1250/1250 [05:27<00:00,  3.82it/s, loss=0.6831, acc=62.08%]\n",
      "Epoch 10/100 [Val]: 100%|██████████| 313/313 [01:38<00:00,  3.17it/s, loss=0.7298, acc=62.58%]\n"
     ]
    },
    {
     "name": "stdout",
     "output_type": "stream",
     "text": [
      "Epoch 10/100 - Train Loss: 0.6840, Acc: 62.08% | Val Loss: 0.6867, Acc: 62.58% (Best Val: 63.16%)\n"
     ]
    },
    {
     "name": "stderr",
     "output_type": "stream",
     "text": [
      "Epoch 11/100 [Train]: 100%|██████████| 1250/1250 [05:25<00:00,  3.85it/s, loss=0.6633, acc=62.07%]\n",
      "Epoch 11/100 [Val]: 100%|██████████| 313/313 [01:40<00:00,  3.12it/s, loss=0.7289, acc=64.57%]\n"
     ]
    },
    {
     "name": "stdout",
     "output_type": "stream",
     "text": [
      "Epoch 11/100 - Train Loss: 0.6821, Acc: 62.07% | Val Loss: 0.6852, Acc: 64.57% (Best Val: 64.57%)\n"
     ]
    },
    {
     "name": "stderr",
     "output_type": "stream",
     "text": [
      "Epoch 12/100 [Train]: 100%|██████████| 1250/1250 [05:24<00:00,  3.85it/s, loss=0.7179, acc=61.98%]\n",
      "Epoch 12/100 [Val]: 100%|██████████| 313/313 [01:40<00:00,  3.12it/s, loss=0.6971, acc=64.53%]\n"
     ]
    },
    {
     "name": "stdout",
     "output_type": "stream",
     "text": [
      "Epoch 12/100 - Train Loss: 0.6799, Acc: 61.98% | Val Loss: 0.6867, Acc: 64.53% (Best Val: 64.57%)\n"
     ]
    },
    {
     "name": "stderr",
     "output_type": "stream",
     "text": [
      "Epoch 13/100 [Train]: 100%|██████████| 1250/1250 [05:23<00:00,  3.86it/s, loss=0.6809, acc=62.49%]\n",
      "Epoch 13/100 [Val]: 100%|██████████| 313/313 [01:38<00:00,  3.17it/s, loss=0.8224, acc=64.26%]\n"
     ]
    },
    {
     "name": "stdout",
     "output_type": "stream",
     "text": [
      "Epoch 13/100 - Train Loss: 0.6778, Acc: 62.49% | Val Loss: 0.6882, Acc: 64.26% (Best Val: 64.57%)\n"
     ]
    },
    {
     "name": "stderr",
     "output_type": "stream",
     "text": [
      "Epoch 14/100 [Train]: 100%|██████████| 1250/1250 [05:19<00:00,  3.92it/s, loss=0.6747, acc=63.17%]\n",
      "Epoch 14/100 [Val]: 100%|██████████| 313/313 [01:42<00:00,  3.06it/s, loss=1.0144, acc=64.00%]\n"
     ]
    },
    {
     "name": "stdout",
     "output_type": "stream",
     "text": [
      "Epoch 14/100 - Train Loss: 0.6763, Acc: 63.17% | Val Loss: 0.6956, Acc: 64.00% (Best Val: 64.57%)\n"
     ]
    },
    {
     "name": "stderr",
     "output_type": "stream",
     "text": [
      "Epoch 15/100 [Train]: 100%|██████████| 1250/1250 [05:16<00:00,  3.94it/s, loss=0.6958, acc=63.38%]\n",
      "Epoch 15/100 [Val]: 100%|██████████| 313/313 [01:41<00:00,  3.09it/s, loss=0.7923, acc=63.90%]\n"
     ]
    },
    {
     "name": "stdout",
     "output_type": "stream",
     "text": [
      "Epoch 15/100 - Train Loss: 0.6751, Acc: 63.38% | Val Loss: 0.6931, Acc: 63.90% (Best Val: 64.57%)\n"
     ]
    },
    {
     "name": "stderr",
     "output_type": "stream",
     "text": [
      "Epoch 16/100 [Train]: 100%|██████████| 1250/1250 [05:12<00:00,  4.00it/s, loss=0.6535, acc=63.77%]\n",
      "Epoch 16/100 [Val]: 100%|██████████| 313/313 [01:39<00:00,  3.14it/s, loss=1.0905, acc=62.57%]\n"
     ]
    },
    {
     "name": "stdout",
     "output_type": "stream",
     "text": [
      "Epoch 16/100 - Train Loss: 0.6737, Acc: 63.77% | Val Loss: 0.7015, Acc: 62.57% (Best Val: 64.57%)\n"
     ]
    },
    {
     "name": "stderr",
     "output_type": "stream",
     "text": [
      "Epoch 17/100 [Train]: 100%|██████████| 1250/1250 [05:11<00:00,  4.02it/s, loss=0.6756, acc=63.81%]\n",
      "Epoch 17/100 [Val]: 100%|██████████| 313/313 [01:39<00:00,  3.14it/s, loss=1.0765, acc=64.22%]\n"
     ]
    },
    {
     "name": "stdout",
     "output_type": "stream",
     "text": [
      "Epoch 17/100 - Train Loss: 0.6713, Acc: 63.81% | Val Loss: 0.6941, Acc: 64.22% (Best Val: 64.57%)\n"
     ]
    },
    {
     "name": "stderr",
     "output_type": "stream",
     "text": [
      "Epoch 18/100 [Train]: 100%|██████████| 1250/1250 [05:15<00:00,  3.96it/s, loss=0.6759, acc=63.95%]\n",
      "Epoch 18/100 [Val]: 100%|██████████| 313/313 [01:39<00:00,  3.14it/s, loss=1.0199, acc=62.86%]\n"
     ]
    },
    {
     "name": "stdout",
     "output_type": "stream",
     "text": [
      "Epoch 18/100 - Train Loss: 0.6695, Acc: 63.95% | Val Loss: 0.7068, Acc: 62.86% (Best Val: 64.57%)\n"
     ]
    },
    {
     "name": "stderr",
     "output_type": "stream",
     "text": [
      "Epoch 19/100 [Train]: 100%|██████████| 1250/1250 [05:13<00:00,  3.99it/s, loss=0.7171, acc=64.51%]\n",
      "Epoch 19/100 [Val]: 100%|██████████| 313/313 [01:38<00:00,  3.18it/s, loss=1.0647, acc=62.50%]\n"
     ]
    },
    {
     "name": "stdout",
     "output_type": "stream",
     "text": [
      "Epoch 19/100 - Train Loss: 0.6680, Acc: 64.51% | Val Loss: 0.7177, Acc: 62.50% (Best Val: 64.57%)\n"
     ]
    },
    {
     "name": "stderr",
     "output_type": "stream",
     "text": [
      "Epoch 20/100 [Train]: 100%|██████████| 1250/1250 [05:12<00:00,  3.99it/s, loss=0.6893, acc=64.68%]\n",
      "Epoch 20/100 [Val]: 100%|██████████| 313/313 [01:39<00:00,  3.14it/s, loss=1.0424, acc=63.59%]\n"
     ]
    },
    {
     "name": "stdout",
     "output_type": "stream",
     "text": [
      "Epoch 20/100 - Train Loss: 0.6659, Acc: 64.68% | Val Loss: 0.7089, Acc: 63.59% (Best Val: 64.57%)\n"
     ]
    },
    {
     "name": "stderr",
     "output_type": "stream",
     "text": [
      "Epoch 21/100 [Train]: 100%|██████████| 1250/1250 [05:20<00:00,  3.90it/s, loss=0.6911, acc=64.98%]\n",
      "Epoch 21/100 [Val]: 100%|██████████| 313/313 [01:41<00:00,  3.09it/s, loss=1.0449, acc=63.46%]\n"
     ]
    },
    {
     "name": "stdout",
     "output_type": "stream",
     "text": [
      "Epoch 21/100 - Train Loss: 0.6643, Acc: 64.98% | Val Loss: 0.7073, Acc: 63.46% (Best Val: 64.57%)\n"
     ]
    },
    {
     "name": "stderr",
     "output_type": "stream",
     "text": [
      "Epoch 22/100 [Train]: 100%|██████████| 1250/1250 [05:12<00:00,  4.00it/s, loss=0.6740, acc=65.56%]\n",
      "Epoch 22/100 [Val]: 100%|██████████| 313/313 [01:44<00:00,  2.98it/s, loss=1.1738, acc=61.74%]\n"
     ]
    },
    {
     "name": "stdout",
     "output_type": "stream",
     "text": [
      "Epoch 22/100 - Train Loss: 0.6624, Acc: 65.56% | Val Loss: 0.7393, Acc: 61.74% (Best Val: 64.57%)\n"
     ]
    },
    {
     "name": "stderr",
     "output_type": "stream",
     "text": [
      "Epoch 23/100 [Train]: 100%|██████████| 1250/1250 [06:32<00:00,  3.19it/s, loss=0.6870, acc=65.61%]\n",
      "Epoch 23/100 [Val]: 100%|██████████| 313/313 [01:54<00:00,  2.73it/s, loss=1.0220, acc=62.50%]\n"
     ]
    },
    {
     "name": "stdout",
     "output_type": "stream",
     "text": [
      "Epoch 23/100 - Train Loss: 0.6613, Acc: 65.61% | Val Loss: 0.7275, Acc: 62.50% (Best Val: 64.57%)\n"
     ]
    },
    {
     "name": "stderr",
     "output_type": "stream",
     "text": [
      "Epoch 24/100 [Train]: 100%|██████████| 1250/1250 [06:33<00:00,  3.18it/s, loss=0.6494, acc=65.61%]\n",
      "Epoch 24/100 [Val]: 100%|██████████| 313/313 [01:53<00:00,  2.77it/s, loss=1.2358, acc=62.42%]\n"
     ]
    },
    {
     "name": "stdout",
     "output_type": "stream",
     "text": [
      "Epoch 24/100 - Train Loss: 0.6590, Acc: 65.61% | Val Loss: 0.7356, Acc: 62.42% (Best Val: 64.57%)\n"
     ]
    },
    {
     "name": "stderr",
     "output_type": "stream",
     "text": [
      "Epoch 25/100 [Train]: 100%|██████████| 1250/1250 [05:35<00:00,  3.72it/s, loss=0.6300, acc=65.94%]\n",
      "Epoch 25/100 [Val]: 100%|██████████| 313/313 [01:42<00:00,  3.05it/s, loss=1.1865, acc=62.12%]\n"
     ]
    },
    {
     "name": "stdout",
     "output_type": "stream",
     "text": [
      "Epoch 25/100 - Train Loss: 0.6588, Acc: 65.94% | Val Loss: 0.7418, Acc: 62.12% (Best Val: 64.57%)\n"
     ]
    },
    {
     "name": "stderr",
     "output_type": "stream",
     "text": [
      "Epoch 26/100 [Train]: 100%|██████████| 1250/1250 [05:20<00:00,  3.90it/s, loss=0.6006, acc=66.53%]\n",
      "Epoch 26/100 [Val]: 100%|██████████| 313/313 [01:39<00:00,  3.16it/s, loss=1.3279, acc=62.62%]\n"
     ]
    },
    {
     "name": "stdout",
     "output_type": "stream",
     "text": [
      "Epoch 26/100 - Train Loss: 0.6550, Acc: 66.53% | Val Loss: 0.7404, Acc: 62.62% (Best Val: 64.57%)\n"
     ]
    },
    {
     "name": "stderr",
     "output_type": "stream",
     "text": [
      "Epoch 27/100 [Train]: 100%|██████████| 1250/1250 [05:15<00:00,  3.96it/s, loss=0.6783, acc=66.31%]\n",
      "Epoch 27/100 [Val]: 100%|██████████| 313/313 [01:41<00:00,  3.09it/s, loss=1.2267, acc=62.59%]\n"
     ]
    },
    {
     "name": "stdout",
     "output_type": "stream",
     "text": [
      "Epoch 27/100 - Train Loss: 0.6545, Acc: 66.31% | Val Loss: 0.7281, Acc: 62.59% (Best Val: 64.57%)\n"
     ]
    },
    {
     "name": "stderr",
     "output_type": "stream",
     "text": [
      "Epoch 28/100 [Train]: 100%|██████████| 1250/1250 [05:17<00:00,  3.94it/s, loss=0.6012, acc=66.35%]\n",
      "Epoch 28/100 [Val]: 100%|██████████| 313/313 [01:40<00:00,  3.13it/s, loss=1.1468, acc=63.24%]\n"
     ]
    },
    {
     "name": "stdout",
     "output_type": "stream",
     "text": [
      "Epoch 28/100 - Train Loss: 0.6529, Acc: 66.35% | Val Loss: 0.7217, Acc: 63.24% (Best Val: 64.57%)\n"
     ]
    },
    {
     "name": "stderr",
     "output_type": "stream",
     "text": [
      "Epoch 29/100 [Train]: 100%|██████████| 1250/1250 [05:10<00:00,  4.02it/s, loss=0.7053, acc=66.78%]\n",
      "Epoch 29/100 [Val]: 100%|██████████| 313/313 [01:39<00:00,  3.15it/s, loss=1.1094, acc=63.29%]\n"
     ]
    },
    {
     "name": "stdout",
     "output_type": "stream",
     "text": [
      "Epoch 29/100 - Train Loss: 0.6518, Acc: 66.78% | Val Loss: 0.7195, Acc: 63.29% (Best Val: 64.57%)\n"
     ]
    },
    {
     "name": "stderr",
     "output_type": "stream",
     "text": [
      "Epoch 30/100 [Train]: 100%|██████████| 1250/1250 [05:35<00:00,  3.73it/s, loss=0.5976, acc=66.52%]\n",
      "Epoch 30/100 [Val]: 100%|██████████| 313/313 [02:10<00:00,  2.40it/s, loss=1.3386, acc=61.26%]\n"
     ]
    },
    {
     "name": "stdout",
     "output_type": "stream",
     "text": [
      "Epoch 30/100 - Train Loss: 0.6531, Acc: 66.52% | Val Loss: 0.7445, Acc: 61.26% (Best Val: 64.57%)\n"
     ]
    },
    {
     "name": "stderr",
     "output_type": "stream",
     "text": [
      "Epoch 31/100 [Train]: 100%|██████████| 1250/1250 [05:20<00:00,  3.91it/s, loss=0.6397, acc=66.99%]\n",
      "Epoch 31/100 [Val]: 100%|██████████| 313/313 [01:39<00:00,  3.16it/s, loss=1.4461, acc=62.04%]\n"
     ]
    },
    {
     "name": "stdout",
     "output_type": "stream",
     "text": [
      "Epoch 31/100 - Train Loss: 0.6501, Acc: 66.99% | Val Loss: 0.7517, Acc: 62.04% (Best Val: 64.57%)\n"
     ]
    },
    {
     "name": "stderr",
     "output_type": "stream",
     "text": [
      "Epoch 32/100 [Train]: 100%|██████████| 1250/1250 [05:14<00:00,  3.97it/s, loss=0.7317, acc=67.29%]\n",
      "Epoch 32/100 [Val]: 100%|██████████| 313/313 [01:40<00:00,  3.13it/s, loss=1.2585, acc=61.90%]\n"
     ]
    },
    {
     "name": "stdout",
     "output_type": "stream",
     "text": [
      "Epoch 32/100 - Train Loss: 0.6486, Acc: 67.29% | Val Loss: 0.7430, Acc: 61.90% (Best Val: 64.57%)\n"
     ]
    },
    {
     "name": "stderr",
     "output_type": "stream",
     "text": [
      "Epoch 33/100 [Train]: 100%|██████████| 1250/1250 [05:09<00:00,  4.04it/s, loss=0.6249, acc=67.40%]\n",
      "Epoch 33/100 [Val]: 100%|██████████| 313/313 [01:38<00:00,  3.16it/s, loss=1.3605, acc=61.96%]\n"
     ]
    },
    {
     "name": "stdout",
     "output_type": "stream",
     "text": [
      "Epoch 33/100 - Train Loss: 0.6463, Acc: 67.40% | Val Loss: 0.7432, Acc: 61.96% (Best Val: 64.57%)\n"
     ]
    },
    {
     "name": "stderr",
     "output_type": "stream",
     "text": [
      "Epoch 34/100 [Train]: 100%|██████████| 1250/1250 [05:09<00:00,  4.04it/s, loss=0.6138, acc=67.44%]\n",
      "Epoch 34/100 [Val]: 100%|██████████| 313/313 [01:38<00:00,  3.17it/s, loss=1.2494, acc=62.17%]\n"
     ]
    },
    {
     "name": "stdout",
     "output_type": "stream",
     "text": [
      "Epoch 34/100 - Train Loss: 0.6471, Acc: 67.44% | Val Loss: 0.7355, Acc: 62.17% (Best Val: 64.57%)\n"
     ]
    },
    {
     "name": "stderr",
     "output_type": "stream",
     "text": [
      "Epoch 35/100 [Train]: 100%|██████████| 1250/1250 [05:09<00:00,  4.04it/s, loss=0.6653, acc=67.42%]\n",
      "Epoch 35/100 [Val]: 100%|██████████| 313/313 [01:38<00:00,  3.19it/s, loss=1.3141, acc=62.95%]\n"
     ]
    },
    {
     "name": "stdout",
     "output_type": "stream",
     "text": [
      "Epoch 35/100 - Train Loss: 0.6449, Acc: 67.42% | Val Loss: 0.7510, Acc: 62.95% (Best Val: 64.57%)\n"
     ]
    },
    {
     "name": "stderr",
     "output_type": "stream",
     "text": [
      "Epoch 36/100 [Train]: 100%|██████████| 1250/1250 [05:19<00:00,  3.92it/s, loss=0.6860, acc=67.44%]\n",
      "Epoch 36/100 [Val]: 100%|██████████| 313/313 [01:32<00:00,  3.39it/s, loss=1.4241, acc=60.33%]\n"
     ]
    },
    {
     "name": "stdout",
     "output_type": "stream",
     "text": [
      "Epoch 36/100 - Train Loss: 0.6446, Acc: 67.44% | Val Loss: 0.7693, Acc: 60.33% (Best Val: 64.57%)\n"
     ]
    },
    {
     "name": "stderr",
     "output_type": "stream",
     "text": [
      "Epoch 37/100 [Train]: 100%|██████████| 1250/1250 [05:08<00:00,  4.05it/s, loss=0.6549, acc=67.55%]\n",
      "Epoch 37/100 [Val]: 100%|██████████| 313/313 [01:33<00:00,  3.34it/s, loss=1.2336, acc=60.86%]\n"
     ]
    },
    {
     "name": "stdout",
     "output_type": "stream",
     "text": [
      "Epoch 37/100 - Train Loss: 0.6444, Acc: 67.55% | Val Loss: 0.7608, Acc: 60.86% (Best Val: 64.57%)\n"
     ]
    },
    {
     "name": "stderr",
     "output_type": "stream",
     "text": [
      "Epoch 38/100 [Train]: 100%|██████████| 1250/1250 [04:53<00:00,  4.26it/s, loss=0.6426, acc=67.82%]\n",
      "Epoch 38/100 [Val]: 100%|██████████| 313/313 [01:32<00:00,  3.39it/s, loss=1.3817, acc=58.16%]\n"
     ]
    },
    {
     "name": "stdout",
     "output_type": "stream",
     "text": [
      "Epoch 38/100 - Train Loss: 0.6435, Acc: 67.82% | Val Loss: 0.7741, Acc: 58.16% (Best Val: 64.57%)\n"
     ]
    },
    {
     "name": "stderr",
     "output_type": "stream",
     "text": [
      "Epoch 39/100 [Train]: 100%|██████████| 1250/1250 [04:50<00:00,  4.30it/s, loss=0.5705, acc=67.99%]\n",
      "Epoch 39/100 [Val]: 100%|██████████| 313/313 [01:31<00:00,  3.43it/s, loss=1.6551, acc=60.30%]\n"
     ]
    },
    {
     "name": "stdout",
     "output_type": "stream",
     "text": [
      "Epoch 39/100 - Train Loss: 0.6418, Acc: 67.99% | Val Loss: 0.7862, Acc: 60.30% (Best Val: 64.57%)\n"
     ]
    },
    {
     "name": "stderr",
     "output_type": "stream",
     "text": [
      "Epoch 40/100 [Train]: 100%|██████████| 1250/1250 [04:55<00:00,  4.24it/s, loss=0.6121, acc=67.78%]\n",
      "Epoch 40/100 [Val]: 100%|██████████| 313/313 [01:33<00:00,  3.35it/s, loss=1.4082, acc=61.64%]\n"
     ]
    },
    {
     "name": "stdout",
     "output_type": "stream",
     "text": [
      "Epoch 40/100 - Train Loss: 0.6421, Acc: 67.78% | Val Loss: 0.7550, Acc: 61.64% (Best Val: 64.57%)\n"
     ]
    },
    {
     "name": "stderr",
     "output_type": "stream",
     "text": [
      "Epoch 41/100 [Train]: 100%|██████████| 1250/1250 [04:53<00:00,  4.26it/s, loss=0.5575, acc=68.01%]\n",
      "Epoch 41/100 [Val]: 100%|██████████| 313/313 [01:31<00:00,  3.41it/s, loss=1.2441, acc=61.19%]\n"
     ]
    },
    {
     "name": "stdout",
     "output_type": "stream",
     "text": [
      "Epoch 41/100 - Train Loss: 0.6403, Acc: 68.01% | Val Loss: 0.7487, Acc: 61.19% (Best Val: 64.57%)\n"
     ]
    },
    {
     "name": "stderr",
     "output_type": "stream",
     "text": [
      "Epoch 42/100 [Train]: 100%|██████████| 1250/1250 [04:56<00:00,  4.22it/s, loss=0.6573, acc=67.89%]\n",
      "Epoch 42/100 [Val]: 100%|██████████| 313/313 [01:33<00:00,  3.36it/s, loss=1.3176, acc=59.90%]\n"
     ]
    },
    {
     "name": "stdout",
     "output_type": "stream",
     "text": [
      "Epoch 42/100 - Train Loss: 0.6407, Acc: 67.89% | Val Loss: 0.7744, Acc: 59.90% (Best Val: 64.57%)\n"
     ]
    },
    {
     "name": "stderr",
     "output_type": "stream",
     "text": [
      "Epoch 43/100 [Train]: 100%|██████████| 1250/1250 [04:58<00:00,  4.19it/s, loss=0.5817, acc=68.43%]\n",
      "Epoch 43/100 [Val]: 100%|██████████| 313/313 [01:39<00:00,  3.14it/s, loss=1.4753, acc=61.80%]\n"
     ]
    },
    {
     "name": "stdout",
     "output_type": "stream",
     "text": [
      "Epoch 43/100 - Train Loss: 0.6370, Acc: 68.43% | Val Loss: 0.7592, Acc: 61.80% (Best Val: 64.57%)\n"
     ]
    },
    {
     "name": "stderr",
     "output_type": "stream",
     "text": [
      "Epoch 44/100 [Train]: 100%|██████████| 1250/1250 [04:56<00:00,  4.22it/s, loss=0.6057, acc=68.17%]\n",
      "Epoch 44/100 [Val]: 100%|██████████| 313/313 [01:31<00:00,  3.43it/s, loss=1.5686, acc=61.42%]\n"
     ]
    },
    {
     "name": "stdout",
     "output_type": "stream",
     "text": [
      "Epoch 44/100 - Train Loss: 0.6377, Acc: 68.17% | Val Loss: 0.7466, Acc: 61.42% (Best Val: 64.57%)\n"
     ]
    },
    {
     "name": "stderr",
     "output_type": "stream",
     "text": [
      "Epoch 45/100 [Train]: 100%|██████████| 1250/1250 [04:56<00:00,  4.22it/s, loss=0.6144, acc=68.53%]\n",
      "Epoch 45/100 [Val]: 100%|██████████| 313/313 [01:32<00:00,  3.39it/s, loss=1.4512, acc=61.04%]\n"
     ]
    },
    {
     "name": "stdout",
     "output_type": "stream",
     "text": [
      "Epoch 45/100 - Train Loss: 0.6363, Acc: 68.53% | Val Loss: 0.7475, Acc: 61.04% (Best Val: 64.57%)\n"
     ]
    },
    {
     "name": "stderr",
     "output_type": "stream",
     "text": [
      "Epoch 46/100 [Train]: 100%|██████████| 1250/1250 [04:57<00:00,  4.20it/s, loss=0.6907, acc=68.61%]\n",
      "Epoch 46/100 [Val]: 100%|██████████| 313/313 [01:30<00:00,  3.46it/s, loss=1.5265, acc=60.86%]\n"
     ]
    },
    {
     "name": "stdout",
     "output_type": "stream",
     "text": [
      "Epoch 46/100 - Train Loss: 0.6374, Acc: 68.61% | Val Loss: 0.7659, Acc: 60.86% (Best Val: 64.57%)\n"
     ]
    },
    {
     "name": "stderr",
     "output_type": "stream",
     "text": [
      "Epoch 47/100 [Train]: 100%|██████████| 1250/1250 [04:56<00:00,  4.22it/s, loss=0.6561, acc=68.59%]\n",
      "Epoch 47/100 [Val]: 100%|██████████| 313/313 [01:32<00:00,  3.40it/s, loss=1.4135, acc=59.60%]\n"
     ]
    },
    {
     "name": "stdout",
     "output_type": "stream",
     "text": [
      "Epoch 47/100 - Train Loss: 0.6364, Acc: 68.59% | Val Loss: 0.7896, Acc: 59.60% (Best Val: 64.57%)\n"
     ]
    },
    {
     "name": "stderr",
     "output_type": "stream",
     "text": [
      "Epoch 48/100 [Train]: 100%|██████████| 1250/1250 [04:56<00:00,  4.22it/s, loss=0.5843, acc=68.73%]\n",
      "Epoch 48/100 [Val]: 100%|██████████| 313/313 [01:31<00:00,  3.41it/s, loss=1.3637, acc=59.02%]\n"
     ]
    },
    {
     "name": "stdout",
     "output_type": "stream",
     "text": [
      "Epoch 48/100 - Train Loss: 0.6353, Acc: 68.73% | Val Loss: 0.7761, Acc: 59.02% (Best Val: 64.57%)\n"
     ]
    },
    {
     "name": "stderr",
     "output_type": "stream",
     "text": [
      "Epoch 49/100 [Train]: 100%|██████████| 1250/1250 [04:56<00:00,  4.21it/s, loss=0.5554, acc=68.59%]\n",
      "Epoch 49/100 [Val]: 100%|██████████| 313/313 [01:44<00:00,  3.00it/s, loss=1.3320, acc=59.25%]\n"
     ]
    },
    {
     "name": "stdout",
     "output_type": "stream",
     "text": [
      "Epoch 49/100 - Train Loss: 0.6325, Acc: 68.59% | Val Loss: 0.7713, Acc: 59.25% (Best Val: 64.57%)\n"
     ]
    },
    {
     "name": "stderr",
     "output_type": "stream",
     "text": [
      "Epoch 50/100 [Train]: 100%|██████████| 1250/1250 [04:58<00:00,  4.18it/s, loss=0.7603, acc=68.72%]\n",
      "Epoch 50/100 [Val]: 100%|██████████| 313/313 [01:32<00:00,  3.37it/s, loss=1.4211, acc=59.58%]\n"
     ]
    },
    {
     "name": "stdout",
     "output_type": "stream",
     "text": [
      "Epoch 50/100 - Train Loss: 0.6331, Acc: 68.72% | Val Loss: 0.7978, Acc: 59.58% (Best Val: 64.57%)\n"
     ]
    },
    {
     "name": "stderr",
     "output_type": "stream",
     "text": [
      "Epoch 51/100 [Train]: 100%|██████████| 1250/1250 [05:01<00:00,  4.15it/s, loss=0.5094, acc=69.04%]\n",
      "Epoch 51/100 [Val]: 100%|██████████| 313/313 [01:31<00:00,  3.42it/s, loss=1.4027, acc=61.38%]\n"
     ]
    },
    {
     "name": "stdout",
     "output_type": "stream",
     "text": [
      "Epoch 51/100 - Train Loss: 0.6296, Acc: 69.04% | Val Loss: 0.7830, Acc: 61.38% (Best Val: 64.57%)\n"
     ]
    },
    {
     "name": "stderr",
     "output_type": "stream",
     "text": [
      "Epoch 52/100 [Train]: 100%|██████████| 1250/1250 [04:55<00:00,  4.23it/s, loss=0.7129, acc=68.98%]\n",
      "Epoch 52/100 [Val]: 100%|██████████| 313/313 [01:30<00:00,  3.47it/s, loss=1.2935, acc=60.22%]\n"
     ]
    },
    {
     "name": "stdout",
     "output_type": "stream",
     "text": [
      "Epoch 52/100 - Train Loss: 0.6318, Acc: 68.98% | Val Loss: 0.7636, Acc: 60.22% (Best Val: 64.57%)\n"
     ]
    },
    {
     "name": "stderr",
     "output_type": "stream",
     "text": [
      "Epoch 53/100 [Train]: 100%|██████████| 1250/1250 [04:55<00:00,  4.23it/s, loss=0.6446, acc=69.06%]\n",
      "Epoch 53/100 [Val]: 100%|██████████| 313/313 [01:29<00:00,  3.48it/s, loss=1.4210, acc=58.84%]\n"
     ]
    },
    {
     "name": "stdout",
     "output_type": "stream",
     "text": [
      "Epoch 53/100 - Train Loss: 0.6301, Acc: 69.06% | Val Loss: 0.7866, Acc: 58.84% (Best Val: 64.57%)\n"
     ]
    },
    {
     "name": "stderr",
     "output_type": "stream",
     "text": [
      "Epoch 54/100 [Train]: 100%|██████████| 1250/1250 [04:55<00:00,  4.24it/s, loss=0.5615, acc=69.02%]\n",
      "Epoch 54/100 [Val]: 100%|██████████| 313/313 [01:32<00:00,  3.39it/s, loss=1.3359, acc=61.98%]\n"
     ]
    },
    {
     "name": "stdout",
     "output_type": "stream",
     "text": [
      "Epoch 54/100 - Train Loss: 0.6304, Acc: 69.02% | Val Loss: 0.7566, Acc: 61.98% (Best Val: 64.57%)\n"
     ]
    },
    {
     "name": "stderr",
     "output_type": "stream",
     "text": [
      "Epoch 55/100 [Train]: 100%|██████████| 1250/1250 [04:57<00:00,  4.21it/s, loss=0.5512, acc=68.88%]\n",
      "Epoch 55/100 [Val]: 100%|██████████| 313/313 [01:30<00:00,  3.48it/s, loss=1.4777, acc=59.84%]\n"
     ]
    },
    {
     "name": "stdout",
     "output_type": "stream",
     "text": [
      "Epoch 55/100 - Train Loss: 0.6296, Acc: 68.88% | Val Loss: 0.7767, Acc: 59.84% (Best Val: 64.57%)\n"
     ]
    },
    {
     "name": "stderr",
     "output_type": "stream",
     "text": [
      "Epoch 56/100 [Train]: 100%|██████████| 1250/1250 [04:58<00:00,  4.18it/s, loss=0.6091, acc=69.08%]\n",
      "Epoch 56/100 [Val]: 100%|██████████| 313/313 [01:32<00:00,  3.40it/s, loss=1.5604, acc=60.55%]\n"
     ]
    },
    {
     "name": "stdout",
     "output_type": "stream",
     "text": [
      "Epoch 56/100 - Train Loss: 0.6294, Acc: 69.08% | Val Loss: 0.7679, Acc: 60.55% (Best Val: 64.57%)\n"
     ]
    },
    {
     "name": "stderr",
     "output_type": "stream",
     "text": [
      "Epoch 57/100 [Train]: 100%|██████████| 1250/1250 [04:55<00:00,  4.22it/s, loss=0.6021, acc=69.09%]\n",
      "Epoch 57/100 [Val]: 100%|██████████| 313/313 [01:32<00:00,  3.40it/s, loss=1.2976, acc=60.40%]\n"
     ]
    },
    {
     "name": "stdout",
     "output_type": "stream",
     "text": [
      "Epoch 57/100 - Train Loss: 0.6302, Acc: 69.09% | Val Loss: 0.7578, Acc: 60.40% (Best Val: 64.57%)\n"
     ]
    },
    {
     "name": "stderr",
     "output_type": "stream",
     "text": [
      "Epoch 58/100 [Train]: 100%|██████████| 1250/1250 [04:58<00:00,  4.19it/s, loss=0.5941, acc=69.06%]\n",
      "Epoch 58/100 [Val]: 100%|██████████| 313/313 [01:32<00:00,  3.39it/s, loss=1.3467, acc=60.22%]\n"
     ]
    },
    {
     "name": "stdout",
     "output_type": "stream",
     "text": [
      "Epoch 58/100 - Train Loss: 0.6280, Acc: 69.06% | Val Loss: 0.7654, Acc: 60.22% (Best Val: 64.57%)\n"
     ]
    },
    {
     "name": "stderr",
     "output_type": "stream",
     "text": [
      "Epoch 59/100 [Train]: 100%|██████████| 1250/1250 [04:56<00:00,  4.21it/s, loss=0.5923, acc=68.94%]\n",
      "Epoch 59/100 [Val]: 100%|██████████| 313/313 [01:31<00:00,  3.42it/s, loss=1.3818, acc=61.26%]\n"
     ]
    },
    {
     "name": "stdout",
     "output_type": "stream",
     "text": [
      "Epoch 59/100 - Train Loss: 0.6290, Acc: 68.94% | Val Loss: 0.7504, Acc: 61.26% (Best Val: 64.57%)\n"
     ]
    },
    {
     "name": "stderr",
     "output_type": "stream",
     "text": [
      "Epoch 60/100 [Train]: 100%|██████████| 1250/1250 [04:58<00:00,  4.18it/s, loss=0.6838, acc=69.03%]\n",
      "Epoch 60/100 [Val]: 100%|██████████| 313/313 [01:34<00:00,  3.31it/s, loss=1.4457, acc=60.65%]\n"
     ]
    },
    {
     "name": "stdout",
     "output_type": "stream",
     "text": [
      "Epoch 60/100 - Train Loss: 0.6273, Acc: 69.03% | Val Loss: 0.7621, Acc: 60.65% (Best Val: 64.57%)\n"
     ]
    },
    {
     "name": "stderr",
     "output_type": "stream",
     "text": [
      "Epoch 61/100 [Train]: 100%|██████████| 1250/1250 [05:01<00:00,  4.14it/s, loss=0.5420, acc=69.02%]\n",
      "Epoch 61/100 [Val]: 100%|██████████| 313/313 [01:30<00:00,  3.47it/s, loss=1.3742, acc=60.08%]\n"
     ]
    },
    {
     "name": "stdout",
     "output_type": "stream",
     "text": [
      "Epoch 61/100 - Train Loss: 0.6282, Acc: 69.02% | Val Loss: 0.7593, Acc: 60.08% (Best Val: 64.57%)\n"
     ]
    },
    {
     "name": "stderr",
     "output_type": "stream",
     "text": [
      "Epoch 62/100 [Train]: 100%|██████████| 1250/1250 [04:57<00:00,  4.20it/s, loss=0.6634, acc=68.86%]\n",
      "Epoch 62/100 [Val]: 100%|██████████| 313/313 [01:32<00:00,  3.37it/s, loss=1.3794, acc=60.22%]\n"
     ]
    },
    {
     "name": "stdout",
     "output_type": "stream",
     "text": [
      "Epoch 62/100 - Train Loss: 0.6263, Acc: 68.86% | Val Loss: 0.7620, Acc: 60.22% (Best Val: 64.57%)\n"
     ]
    },
    {
     "name": "stderr",
     "output_type": "stream",
     "text": [
      "Epoch 63/100 [Train]: 100%|██████████| 1250/1250 [05:00<00:00,  4.16it/s, loss=0.7595, acc=69.15%]\n",
      "Epoch 63/100 [Val]: 100%|██████████| 313/313 [01:32<00:00,  3.38it/s, loss=1.4965, acc=61.60%]\n"
     ]
    },
    {
     "name": "stdout",
     "output_type": "stream",
     "text": [
      "Epoch 63/100 - Train Loss: 0.6243, Acc: 69.15% | Val Loss: 0.7718, Acc: 61.60% (Best Val: 64.57%)\n"
     ]
    },
    {
     "name": "stderr",
     "output_type": "stream",
     "text": [
      "Epoch 64/100 [Train]: 100%|██████████| 1250/1250 [05:00<00:00,  4.16it/s, loss=0.5486, acc=69.19%]\n",
      "Epoch 64/100 [Val]: 100%|██████████| 313/313 [01:30<00:00,  3.47it/s, loss=1.3406, acc=61.07%]\n"
     ]
    },
    {
     "name": "stdout",
     "output_type": "stream",
     "text": [
      "Epoch 64/100 - Train Loss: 0.6240, Acc: 69.19% | Val Loss: 0.7733, Acc: 61.07% (Best Val: 64.57%)\n"
     ]
    },
    {
     "name": "stderr",
     "output_type": "stream",
     "text": [
      "Epoch 65/100 [Train]: 100%|██████████| 1250/1250 [05:03<00:00,  4.12it/s, loss=0.6574, acc=69.58%]\n",
      "Epoch 65/100 [Val]: 100%|██████████| 313/313 [01:34<00:00,  3.32it/s, loss=1.4085, acc=61.26%]\n"
     ]
    },
    {
     "name": "stdout",
     "output_type": "stream",
     "text": [
      "Epoch 65/100 - Train Loss: 0.6241, Acc: 69.58% | Val Loss: 0.7840, Acc: 61.26% (Best Val: 64.57%)\n"
     ]
    },
    {
     "name": "stderr",
     "output_type": "stream",
     "text": [
      "Epoch 66/100 [Train]: 100%|██████████| 1250/1250 [05:00<00:00,  4.16it/s, loss=0.5367, acc=69.48%]\n",
      "Epoch 66/100 [Val]: 100%|██████████| 313/313 [01:30<00:00,  3.44it/s, loss=1.3643, acc=61.69%]\n"
     ]
    },
    {
     "name": "stdout",
     "output_type": "stream",
     "text": [
      "Epoch 66/100 - Train Loss: 0.6240, Acc: 69.48% | Val Loss: 0.7587, Acc: 61.69% (Best Val: 64.57%)\n"
     ]
    },
    {
     "name": "stderr",
     "output_type": "stream",
     "text": [
      "Epoch 67/100 [Train]: 100%|██████████| 1250/1250 [04:56<00:00,  4.21it/s, loss=0.5623, acc=69.56%]\n",
      "Epoch 67/100 [Val]: 100%|██████████| 313/313 [01:33<00:00,  3.35it/s, loss=1.4795, acc=59.36%]\n"
     ]
    },
    {
     "name": "stdout",
     "output_type": "stream",
     "text": [
      "Epoch 67/100 - Train Loss: 0.6226, Acc: 69.56% | Val Loss: 0.7834, Acc: 59.36% (Best Val: 64.57%)\n"
     ]
    },
    {
     "name": "stderr",
     "output_type": "stream",
     "text": [
      "Epoch 68/100 [Train]: 100%|██████████| 1250/1250 [05:02<00:00,  4.13it/s, loss=0.6122, acc=69.30%]\n",
      "Epoch 68/100 [Val]: 100%|██████████| 313/313 [01:31<00:00,  3.42it/s, loss=1.4647, acc=59.84%]\n"
     ]
    },
    {
     "name": "stdout",
     "output_type": "stream",
     "text": [
      "Epoch 68/100 - Train Loss: 0.6246, Acc: 69.30% | Val Loss: 0.7901, Acc: 59.84% (Best Val: 64.57%)\n"
     ]
    },
    {
     "name": "stderr",
     "output_type": "stream",
     "text": [
      "Epoch 69/100 [Train]: 100%|██████████| 1250/1250 [05:00<00:00,  4.16it/s, loss=0.6411, acc=69.49%]\n",
      "Epoch 69/100 [Val]: 100%|██████████| 313/313 [01:31<00:00,  3.42it/s, loss=1.5658, acc=59.10%]\n"
     ]
    },
    {
     "name": "stdout",
     "output_type": "stream",
     "text": [
      "Epoch 69/100 - Train Loss: 0.6211, Acc: 69.49% | Val Loss: 0.8052, Acc: 59.10% (Best Val: 64.57%)\n"
     ]
    },
    {
     "name": "stderr",
     "output_type": "stream",
     "text": [
      "Epoch 70/100 [Train]: 100%|██████████| 1250/1250 [04:58<00:00,  4.19it/s, loss=0.7989, acc=69.60%]\n",
      "Epoch 70/100 [Val]: 100%|██████████| 313/313 [01:31<00:00,  3.43it/s, loss=1.2976, acc=58.74%]\n"
     ]
    },
    {
     "name": "stdout",
     "output_type": "stream",
     "text": [
      "Epoch 70/100 - Train Loss: 0.6203, Acc: 69.60% | Val Loss: 0.8051, Acc: 58.74% (Best Val: 64.57%)\n"
     ]
    },
    {
     "name": "stderr",
     "output_type": "stream",
     "text": [
      "Epoch 71/100 [Train]: 100%|██████████| 1250/1250 [05:00<00:00,  4.16it/s, loss=0.6054, acc=69.71%]\n",
      "Epoch 71/100 [Val]: 100%|██████████| 313/313 [01:32<00:00,  3.38it/s, loss=1.2165, acc=61.29%]\n"
     ]
    },
    {
     "name": "stdout",
     "output_type": "stream",
     "text": [
      "Epoch 71/100 - Train Loss: 0.6203, Acc: 69.71% | Val Loss: 0.7480, Acc: 61.29% (Best Val: 64.57%)\n"
     ]
    },
    {
     "name": "stderr",
     "output_type": "stream",
     "text": [
      "Epoch 72/100 [Train]: 100%|██████████| 1250/1250 [04:58<00:00,  4.19it/s, loss=0.6447, acc=69.50%]\n",
      "Epoch 72/100 [Val]: 100%|██████████| 313/313 [01:31<00:00,  3.41it/s, loss=0.9912, acc=59.99%]\n"
     ]
    },
    {
     "name": "stdout",
     "output_type": "stream",
     "text": [
      "Epoch 72/100 - Train Loss: 0.6199, Acc: 69.50% | Val Loss: 0.7649, Acc: 59.99% (Best Val: 64.57%)\n"
     ]
    },
    {
     "name": "stderr",
     "output_type": "stream",
     "text": [
      "Epoch 73/100 [Train]: 100%|██████████| 1250/1250 [05:01<00:00,  4.14it/s, loss=0.6280, acc=69.12%]\n",
      "Epoch 73/100 [Val]: 100%|██████████| 313/313 [01:34<00:00,  3.31it/s, loss=1.1308, acc=60.03%]\n"
     ]
    },
    {
     "name": "stdout",
     "output_type": "stream",
     "text": [
      "Epoch 73/100 - Train Loss: 0.6226, Acc: 69.12% | Val Loss: 0.7735, Acc: 60.03% (Best Val: 64.57%)\n"
     ]
    },
    {
     "name": "stderr",
     "output_type": "stream",
     "text": [
      "Epoch 74/100 [Train]: 100%|██████████| 1250/1250 [05:04<00:00,  4.10it/s, loss=0.5619, acc=69.39%]\n",
      "Epoch 74/100 [Val]: 100%|██████████| 313/313 [01:31<00:00,  3.43it/s, loss=1.2159, acc=59.98%]\n"
     ]
    },
    {
     "name": "stdout",
     "output_type": "stream",
     "text": [
      "Epoch 74/100 - Train Loss: 0.6202, Acc: 69.39% | Val Loss: 0.7816, Acc: 59.98% (Best Val: 64.57%)\n"
     ]
    },
    {
     "name": "stderr",
     "output_type": "stream",
     "text": [
      "Epoch 75/100 [Train]: 100%|██████████| 1250/1250 [05:01<00:00,  4.15it/s, loss=0.5888, acc=69.61%]\n",
      "Epoch 75/100 [Val]: 100%|██████████| 313/313 [01:31<00:00,  3.43it/s, loss=1.2803, acc=59.85%]\n"
     ]
    },
    {
     "name": "stdout",
     "output_type": "stream",
     "text": [
      "Epoch 75/100 - Train Loss: 0.6200, Acc: 69.61% | Val Loss: 0.7803, Acc: 59.85% (Best Val: 64.57%)\n"
     ]
    },
    {
     "name": "stderr",
     "output_type": "stream",
     "text": [
      "Epoch 76/100 [Train]: 100%|██████████| 1250/1250 [05:00<00:00,  4.16it/s, loss=0.7130, acc=69.69%]\n",
      "Epoch 76/100 [Val]: 100%|██████████| 313/313 [01:34<00:00,  3.32it/s, loss=1.0762, acc=59.29%]\n"
     ]
    },
    {
     "name": "stdout",
     "output_type": "stream",
     "text": [
      "Epoch 76/100 - Train Loss: 0.6187, Acc: 69.69% | Val Loss: 0.7786, Acc: 59.29% (Best Val: 64.57%)\n"
     ]
    },
    {
     "name": "stderr",
     "output_type": "stream",
     "text": [
      "Epoch 77/100 [Train]: 100%|██████████| 1250/1250 [05:03<00:00,  4.12it/s, loss=0.6336, acc=69.53%]\n",
      "Epoch 77/100 [Val]: 100%|██████████| 313/313 [01:34<00:00,  3.31it/s, loss=1.2513, acc=59.31%]\n"
     ]
    },
    {
     "name": "stdout",
     "output_type": "stream",
     "text": [
      "Epoch 77/100 - Train Loss: 0.6191, Acc: 69.53% | Val Loss: 0.7677, Acc: 59.31% (Best Val: 64.57%)\n"
     ]
    },
    {
     "name": "stderr",
     "output_type": "stream",
     "text": [
      "Epoch 78/100 [Train]: 100%|██████████| 1250/1250 [05:03<00:00,  4.12it/s, loss=0.6033, acc=69.86%]\n",
      "Epoch 78/100 [Val]: 100%|██████████| 313/313 [01:32<00:00,  3.38it/s, loss=1.2973, acc=59.97%]\n"
     ]
    },
    {
     "name": "stdout",
     "output_type": "stream",
     "text": [
      "Epoch 78/100 - Train Loss: 0.6167, Acc: 69.86% | Val Loss: 0.7750, Acc: 59.97% (Best Val: 64.57%)\n"
     ]
    },
    {
     "name": "stderr",
     "output_type": "stream",
     "text": [
      "Epoch 79/100 [Train]: 100%|██████████| 1250/1250 [04:57<00:00,  4.21it/s, loss=0.6285, acc=69.83%]\n",
      "Epoch 79/100 [Val]: 100%|██████████| 313/313 [01:32<00:00,  3.37it/s, loss=1.0828, acc=59.85%]\n"
     ]
    },
    {
     "name": "stdout",
     "output_type": "stream",
     "text": [
      "Epoch 79/100 - Train Loss: 0.6159, Acc: 69.83% | Val Loss: 0.7723, Acc: 59.85% (Best Val: 64.57%)\n"
     ]
    },
    {
     "name": "stderr",
     "output_type": "stream",
     "text": [
      "Epoch 80/100 [Train]: 100%|██████████| 1250/1250 [04:57<00:00,  4.20it/s, loss=0.5820, acc=69.83%]\n",
      "Epoch 80/100 [Val]: 100%|██████████| 313/313 [01:32<00:00,  3.38it/s, loss=1.0014, acc=60.64%]\n"
     ]
    },
    {
     "name": "stdout",
     "output_type": "stream",
     "text": [
      "Epoch 80/100 - Train Loss: 0.6160, Acc: 69.83% | Val Loss: 0.7459, Acc: 60.64% (Best Val: 64.57%)\n"
     ]
    },
    {
     "name": "stderr",
     "output_type": "stream",
     "text": [
      "Epoch 81/100 [Train]: 100%|██████████| 1250/1250 [05:00<00:00,  4.16it/s, loss=0.5844, acc=69.87%]\n",
      "Epoch 81/100 [Val]: 100%|██████████| 313/313 [01:31<00:00,  3.41it/s, loss=1.2617, acc=59.31%]\n"
     ]
    },
    {
     "name": "stdout",
     "output_type": "stream",
     "text": [
      "Epoch 81/100 - Train Loss: 0.6143, Acc: 69.87% | Val Loss: 0.7769, Acc: 59.31% (Best Val: 64.57%)\n"
     ]
    },
    {
     "name": "stderr",
     "output_type": "stream",
     "text": [
      "Epoch 82/100 [Train]: 100%|██████████| 1250/1250 [05:00<00:00,  4.16it/s, loss=0.6412, acc=70.38%]\n",
      "Epoch 82/100 [Val]: 100%|██████████| 313/313 [01:33<00:00,  3.36it/s, loss=1.2152, acc=60.13%]\n"
     ]
    },
    {
     "name": "stdout",
     "output_type": "stream",
     "text": [
      "Epoch 82/100 - Train Loss: 0.6128, Acc: 70.38% | Val Loss: 0.7695, Acc: 60.13% (Best Val: 64.57%)\n"
     ]
    },
    {
     "name": "stderr",
     "output_type": "stream",
     "text": [
      "Epoch 83/100 [Train]: 100%|██████████| 1250/1250 [05:00<00:00,  4.16it/s, loss=0.6480, acc=70.02%]\n",
      "Epoch 83/100 [Val]: 100%|██████████| 313/313 [01:35<00:00,  3.29it/s, loss=1.1379, acc=59.25%]\n"
     ]
    },
    {
     "name": "stdout",
     "output_type": "stream",
     "text": [
      "Epoch 83/100 - Train Loss: 0.6157, Acc: 70.02% | Val Loss: 0.7803, Acc: 59.25% (Best Val: 64.57%)\n"
     ]
    },
    {
     "name": "stderr",
     "output_type": "stream",
     "text": [
      "Epoch 84/100 [Train]: 100%|██████████| 1250/1250 [04:58<00:00,  4.19it/s, loss=0.5558, acc=69.72%]\n",
      "Epoch 84/100 [Val]: 100%|██████████| 313/313 [01:31<00:00,  3.41it/s, loss=1.1394, acc=59.21%]\n"
     ]
    },
    {
     "name": "stdout",
     "output_type": "stream",
     "text": [
      "Epoch 84/100 - Train Loss: 0.6156, Acc: 69.72% | Val Loss: 0.7665, Acc: 59.21% (Best Val: 64.57%)\n"
     ]
    },
    {
     "name": "stderr",
     "output_type": "stream",
     "text": [
      "Epoch 85/100 [Train]: 100%|██████████| 1250/1250 [04:58<00:00,  4.19it/s, loss=0.6186, acc=70.17%]\n",
      "Epoch 85/100 [Val]: 100%|██████████| 313/313 [01:30<00:00,  3.45it/s, loss=1.1876, acc=58.76%]\n"
     ]
    },
    {
     "name": "stdout",
     "output_type": "stream",
     "text": [
      "Epoch 85/100 - Train Loss: 0.6149, Acc: 70.17% | Val Loss: 0.7683, Acc: 58.76% (Best Val: 64.57%)\n"
     ]
    },
    {
     "name": "stderr",
     "output_type": "stream",
     "text": [
      "Epoch 86/100 [Train]: 100%|██████████| 1250/1250 [04:56<00:00,  4.22it/s, loss=0.6390, acc=69.82%]\n",
      "Epoch 86/100 [Val]: 100%|██████████| 313/313 [01:29<00:00,  3.49it/s, loss=1.0573, acc=59.31%]\n"
     ]
    },
    {
     "name": "stdout",
     "output_type": "stream",
     "text": [
      "Epoch 86/100 - Train Loss: 0.6162, Acc: 69.82% | Val Loss: 0.7703, Acc: 59.31% (Best Val: 64.57%)\n"
     ]
    },
    {
     "name": "stderr",
     "output_type": "stream",
     "text": [
      "Epoch 87/100 [Train]: 100%|██████████| 1250/1250 [05:01<00:00,  4.14it/s, loss=0.4920, acc=70.01%]\n",
      "Epoch 87/100 [Val]: 100%|██████████| 313/313 [01:33<00:00,  3.35it/s, loss=1.2182, acc=60.57%]\n"
     ]
    },
    {
     "name": "stdout",
     "output_type": "stream",
     "text": [
      "Epoch 87/100 - Train Loss: 0.6137, Acc: 70.01% | Val Loss: 0.7784, Acc: 60.57% (Best Val: 64.57%)\n"
     ]
    },
    {
     "name": "stderr",
     "output_type": "stream",
     "text": [
      "Epoch 88/100 [Train]: 100%|██████████| 1250/1250 [05:06<00:00,  4.08it/s, loss=0.4949, acc=70.15%]\n",
      "Epoch 88/100 [Val]: 100%|██████████| 313/313 [01:31<00:00,  3.42it/s, loss=1.1356, acc=57.85%]\n"
     ]
    },
    {
     "name": "stdout",
     "output_type": "stream",
     "text": [
      "Epoch 88/100 - Train Loss: 0.6141, Acc: 70.15% | Val Loss: 0.7966, Acc: 57.85% (Best Val: 64.57%)\n"
     ]
    },
    {
     "name": "stderr",
     "output_type": "stream",
     "text": [
      "Epoch 89/100 [Train]: 100%|██████████| 1250/1250 [05:01<00:00,  4.14it/s, loss=0.5658, acc=69.72%]\n",
      "Epoch 89/100 [Val]: 100%|██████████| 313/313 [01:32<00:00,  3.39it/s, loss=1.0975, acc=58.90%]\n"
     ]
    },
    {
     "name": "stdout",
     "output_type": "stream",
     "text": [
      "Epoch 89/100 - Train Loss: 0.6127, Acc: 69.72% | Val Loss: 0.7985, Acc: 58.90% (Best Val: 64.57%)\n"
     ]
    },
    {
     "name": "stderr",
     "output_type": "stream",
     "text": [
      "Epoch 90/100 [Train]: 100%|██████████| 1250/1250 [05:04<00:00,  4.11it/s, loss=0.5454, acc=70.39%]\n",
      "Epoch 90/100 [Val]: 100%|██████████| 313/313 [01:33<00:00,  3.35it/s, loss=0.9926, acc=60.12%]\n"
     ]
    },
    {
     "name": "stdout",
     "output_type": "stream",
     "text": [
      "Epoch 90/100 - Train Loss: 0.6111, Acc: 70.39% | Val Loss: 0.7630, Acc: 60.12% (Best Val: 64.57%)\n"
     ]
    },
    {
     "name": "stderr",
     "output_type": "stream",
     "text": [
      "Epoch 91/100 [Train]: 100%|██████████| 1250/1250 [05:38<00:00,  3.69it/s, loss=0.6446, acc=70.05%]\n",
      "Epoch 91/100 [Val]: 100%|██████████| 313/313 [01:34<00:00,  3.32it/s, loss=1.0758, acc=58.85%]\n"
     ]
    },
    {
     "name": "stdout",
     "output_type": "stream",
     "text": [
      "Epoch 91/100 - Train Loss: 0.6134, Acc: 70.05% | Val Loss: 0.7696, Acc: 58.85% (Best Val: 64.57%)\n"
     ]
    },
    {
     "name": "stderr",
     "output_type": "stream",
     "text": [
      "Epoch 92/100 [Train]: 100%|██████████| 1250/1250 [05:02<00:00,  4.13it/s, loss=0.5890, acc=69.97%]\n",
      "Epoch 92/100 [Val]: 100%|██████████| 313/313 [01:32<00:00,  3.37it/s, loss=1.1664, acc=59.50%]\n"
     ]
    },
    {
     "name": "stdout",
     "output_type": "stream",
     "text": [
      "Epoch 92/100 - Train Loss: 0.6131, Acc: 69.97% | Val Loss: 0.7805, Acc: 59.50% (Best Val: 64.57%)\n"
     ]
    },
    {
     "name": "stderr",
     "output_type": "stream",
     "text": [
      "Epoch 93/100 [Train]: 100%|██████████| 1250/1250 [05:02<00:00,  4.14it/s, loss=0.5625, acc=70.14%]\n",
      "Epoch 93/100 [Val]: 100%|██████████| 313/313 [01:32<00:00,  3.40it/s, loss=1.1258, acc=58.58%]\n"
     ]
    },
    {
     "name": "stdout",
     "output_type": "stream",
     "text": [
      "Epoch 93/100 - Train Loss: 0.6098, Acc: 70.14% | Val Loss: 0.8043, Acc: 58.58% (Best Val: 64.57%)\n"
     ]
    },
    {
     "name": "stderr",
     "output_type": "stream",
     "text": [
      "Epoch 94/100 [Train]: 100%|██████████| 1250/1250 [05:02<00:00,  4.13it/s, loss=0.4963, acc=70.25%]\n",
      "Epoch 94/100 [Val]: 100%|██████████| 313/313 [01:31<00:00,  3.44it/s, loss=1.2594, acc=57.17%]\n"
     ]
    },
    {
     "name": "stdout",
     "output_type": "stream",
     "text": [
      "Epoch 94/100 - Train Loss: 0.6117, Acc: 70.25% | Val Loss: 0.7916, Acc: 57.17% (Best Val: 64.57%)\n"
     ]
    },
    {
     "name": "stderr",
     "output_type": "stream",
     "text": [
      "Epoch 95/100 [Train]: 100%|██████████| 1250/1250 [05:01<00:00,  4.15it/s, loss=0.5954, acc=70.25%]\n",
      "Epoch 95/100 [Val]: 100%|██████████| 313/313 [01:32<00:00,  3.38it/s, loss=1.0769, acc=59.93%]\n"
     ]
    },
    {
     "name": "stdout",
     "output_type": "stream",
     "text": [
      "Epoch 95/100 - Train Loss: 0.6121, Acc: 70.25% | Val Loss: 0.7607, Acc: 59.93% (Best Val: 64.57%)\n"
     ]
    },
    {
     "name": "stderr",
     "output_type": "stream",
     "text": [
      "Epoch 96/100 [Train]: 100%|██████████| 1250/1250 [05:03<00:00,  4.12it/s, loss=0.5705, acc=70.40%]\n",
      "Epoch 96/100 [Val]: 100%|██████████| 313/313 [01:33<00:00,  3.33it/s, loss=1.1636, acc=59.80%]\n"
     ]
    },
    {
     "name": "stdout",
     "output_type": "stream",
     "text": [
      "Epoch 96/100 - Train Loss: 0.6095, Acc: 70.40% | Val Loss: 0.7771, Acc: 59.80% (Best Val: 64.57%)\n"
     ]
    },
    {
     "name": "stderr",
     "output_type": "stream",
     "text": [
      "Epoch 97/100 [Train]: 100%|██████████| 1250/1250 [05:07<00:00,  4.06it/s, loss=0.5261, acc=70.50%]\n",
      "Epoch 97/100 [Val]: 100%|██████████| 313/313 [01:32<00:00,  3.39it/s, loss=1.2999, acc=59.59%]\n"
     ]
    },
    {
     "name": "stdout",
     "output_type": "stream",
     "text": [
      "Epoch 97/100 - Train Loss: 0.6087, Acc: 70.50% | Val Loss: 0.7784, Acc: 59.59% (Best Val: 64.57%)\n"
     ]
    },
    {
     "name": "stderr",
     "output_type": "stream",
     "text": [
      "Epoch 98/100 [Train]:  31%|███       | 390/1250 [01:19<02:55,  4.91it/s, loss=0.5857, acc=70.67%]\n"
     ]
    },
    {
     "ename": "KeyboardInterrupt",
     "evalue": "",
     "output_type": "error",
     "traceback": [
      "\u001B[31m---------------------------------------------------------------------------\u001B[39m",
      "\u001B[31mKeyboardInterrupt\u001B[39m                         Traceback (most recent call last)",
      "\u001B[36mCell\u001B[39m\u001B[36m \u001B[39m\u001B[32mIn[17]\u001B[39m\u001B[32m, line 2\u001B[39m\n\u001B[32m      1\u001B[39m torch.cuda.empty_cache()\n\u001B[32m----> \u001B[39m\u001B[32m2\u001B[39m trained_model, history = simple_train_model_v2(\n\u001B[32m      3\u001B[39m     dataset_trim,\n\u001B[32m      4\u001B[39m     num_epochs=\u001B[32m100\u001B[39m,  \u001B[38;5;66;03m# Start with just 5 epochs for testing\u001B[39;00m\n\u001B[32m      5\u001B[39m     batch_size=\u001B[32m32\u001B[39m,  \u001B[38;5;66;03m# Small batch size due to large graphs\u001B[39;00m\n\u001B[32m      6\u001B[39m     learning_rate=\u001B[32m0.002\u001B[39m,\n\u001B[32m      7\u001B[39m     num_graphs_to_use=\u001B[32m50000\u001B[39m\n\u001B[32m      8\u001B[39m )\n",
      "\u001B[36mFile \u001B[39m\u001B[32m<string>:51\u001B[39m, in \u001B[36msimple_train_model_v2\u001B[39m\u001B[34m(dataset, num_epochs, batch_size, learning_rate, num_graphs_to_use)\u001B[39m\n",
      "\u001B[36mFile \u001B[39m\u001B[32m~\\miniconda3\\envs\\machine-learning\\Lib\\site-packages\\tqdm\\std.py:1181\u001B[39m, in \u001B[36mtqdm.__iter__\u001B[39m\u001B[34m(self)\u001B[39m\n\u001B[32m   1178\u001B[39m time = \u001B[38;5;28mself\u001B[39m._time\n\u001B[32m   1180\u001B[39m \u001B[38;5;28;01mtry\u001B[39;00m:\n\u001B[32m-> \u001B[39m\u001B[32m1181\u001B[39m     \u001B[38;5;28;01mfor\u001B[39;00m obj \u001B[38;5;129;01min\u001B[39;00m iterable:\n\u001B[32m   1182\u001B[39m         \u001B[38;5;28;01myield\u001B[39;00m obj\n\u001B[32m   1183\u001B[39m         \u001B[38;5;66;03m# Update and possibly print the progressbar.\u001B[39;00m\n\u001B[32m   1184\u001B[39m         \u001B[38;5;66;03m# Note: does not call self.update(1) for speed optimisation.\u001B[39;00m\n",
      "\u001B[36mFile \u001B[39m\u001B[32m~\\miniconda3\\envs\\machine-learning\\Lib\\site-packages\\torch\\utils\\data\\dataloader.py:708\u001B[39m, in \u001B[36m_BaseDataLoaderIter.__next__\u001B[39m\u001B[34m(self)\u001B[39m\n\u001B[32m    705\u001B[39m \u001B[38;5;28;01mif\u001B[39;00m \u001B[38;5;28mself\u001B[39m._sampler_iter \u001B[38;5;129;01mis\u001B[39;00m \u001B[38;5;28;01mNone\u001B[39;00m:\n\u001B[32m    706\u001B[39m     \u001B[38;5;66;03m# TODO(https://github.com/pytorch/pytorch/issues/76750)\u001B[39;00m\n\u001B[32m    707\u001B[39m     \u001B[38;5;28mself\u001B[39m._reset()  \u001B[38;5;66;03m# type: ignore[call-arg]\u001B[39;00m\n\u001B[32m--> \u001B[39m\u001B[32m708\u001B[39m data = \u001B[38;5;28mself\u001B[39m._next_data()\n\u001B[32m    709\u001B[39m \u001B[38;5;28mself\u001B[39m._num_yielded += \u001B[32m1\u001B[39m\n\u001B[32m    710\u001B[39m \u001B[38;5;28;01mif\u001B[39;00m (\n\u001B[32m    711\u001B[39m     \u001B[38;5;28mself\u001B[39m._dataset_kind == _DatasetKind.Iterable\n\u001B[32m    712\u001B[39m     \u001B[38;5;129;01mand\u001B[39;00m \u001B[38;5;28mself\u001B[39m._IterableDataset_len_called \u001B[38;5;129;01mis\u001B[39;00m \u001B[38;5;129;01mnot\u001B[39;00m \u001B[38;5;28;01mNone\u001B[39;00m\n\u001B[32m    713\u001B[39m     \u001B[38;5;129;01mand\u001B[39;00m \u001B[38;5;28mself\u001B[39m._num_yielded > \u001B[38;5;28mself\u001B[39m._IterableDataset_len_called\n\u001B[32m    714\u001B[39m ):\n",
      "\u001B[36mFile \u001B[39m\u001B[32m~\\miniconda3\\envs\\machine-learning\\Lib\\site-packages\\torch\\utils\\data\\dataloader.py:764\u001B[39m, in \u001B[36m_SingleProcessDataLoaderIter._next_data\u001B[39m\u001B[34m(self)\u001B[39m\n\u001B[32m    762\u001B[39m \u001B[38;5;28;01mdef\u001B[39;00m\u001B[38;5;250m \u001B[39m\u001B[34m_next_data\u001B[39m(\u001B[38;5;28mself\u001B[39m):\n\u001B[32m    763\u001B[39m     index = \u001B[38;5;28mself\u001B[39m._next_index()  \u001B[38;5;66;03m# may raise StopIteration\u001B[39;00m\n\u001B[32m--> \u001B[39m\u001B[32m764\u001B[39m     data = \u001B[38;5;28mself\u001B[39m._dataset_fetcher.fetch(index)  \u001B[38;5;66;03m# may raise StopIteration\u001B[39;00m\n\u001B[32m    765\u001B[39m     \u001B[38;5;28;01mif\u001B[39;00m \u001B[38;5;28mself\u001B[39m._pin_memory:\n\u001B[32m    766\u001B[39m         data = _utils.pin_memory.pin_memory(data, \u001B[38;5;28mself\u001B[39m._pin_memory_device)\n",
      "\u001B[36mFile \u001B[39m\u001B[32m~\\miniconda3\\envs\\machine-learning\\Lib\\site-packages\\torch\\utils\\data\\_utils\\fetch.py:50\u001B[39m, in \u001B[36m_MapDatasetFetcher.fetch\u001B[39m\u001B[34m(self, possibly_batched_index)\u001B[39m\n\u001B[32m     48\u001B[39m \u001B[38;5;28;01mif\u001B[39;00m \u001B[38;5;28mself\u001B[39m.auto_collation:\n\u001B[32m     49\u001B[39m     \u001B[38;5;28;01mif\u001B[39;00m \u001B[38;5;28mhasattr\u001B[39m(\u001B[38;5;28mself\u001B[39m.dataset, \u001B[33m\"\u001B[39m\u001B[33m__getitems__\u001B[39m\u001B[33m\"\u001B[39m) \u001B[38;5;129;01mand\u001B[39;00m \u001B[38;5;28mself\u001B[39m.dataset.__getitems__:\n\u001B[32m---> \u001B[39m\u001B[32m50\u001B[39m         data = \u001B[38;5;28mself\u001B[39m.dataset.__getitems__(possibly_batched_index)\n\u001B[32m     51\u001B[39m     \u001B[38;5;28;01melse\u001B[39;00m:\n\u001B[32m     52\u001B[39m         data = [\u001B[38;5;28mself\u001B[39m.dataset[idx] \u001B[38;5;28;01mfor\u001B[39;00m idx \u001B[38;5;129;01min\u001B[39;00m possibly_batched_index]\n",
      "\u001B[36mFile \u001B[39m\u001B[32m~\\miniconda3\\envs\\machine-learning\\Lib\\site-packages\\torch\\utils\\data\\dataset.py:420\u001B[39m, in \u001B[36mSubset.__getitems__\u001B[39m\u001B[34m(self, indices)\u001B[39m\n\u001B[32m    418\u001B[39m     \u001B[38;5;28;01mreturn\u001B[39;00m \u001B[38;5;28mself\u001B[39m.dataset.__getitems__([\u001B[38;5;28mself\u001B[39m.indices[idx] \u001B[38;5;28;01mfor\u001B[39;00m idx \u001B[38;5;129;01min\u001B[39;00m indices])  \u001B[38;5;66;03m# type: ignore[attr-defined]\u001B[39;00m\n\u001B[32m    419\u001B[39m \u001B[38;5;28;01melse\u001B[39;00m:\n\u001B[32m--> \u001B[39m\u001B[32m420\u001B[39m     \u001B[38;5;28;01mreturn\u001B[39;00m [\u001B[38;5;28mself\u001B[39m.dataset[\u001B[38;5;28mself\u001B[39m.indices[idx]] \u001B[38;5;28;01mfor\u001B[39;00m idx \u001B[38;5;129;01min\u001B[39;00m indices]\n",
      "\u001B[36mFile \u001B[39m\u001B[32m~\\miniconda3\\envs\\machine-learning\\Lib\\site-packages\\torch\\utils\\data\\dataset.py:420\u001B[39m, in \u001B[36m<listcomp>\u001B[39m\u001B[34m(.0)\u001B[39m\n\u001B[32m    418\u001B[39m     \u001B[38;5;28;01mreturn\u001B[39;00m \u001B[38;5;28mself\u001B[39m.dataset.__getitems__([\u001B[38;5;28mself\u001B[39m.indices[idx] \u001B[38;5;28;01mfor\u001B[39;00m idx \u001B[38;5;129;01min\u001B[39;00m indices])  \u001B[38;5;66;03m# type: ignore[attr-defined]\u001B[39;00m\n\u001B[32m    419\u001B[39m \u001B[38;5;28;01melse\u001B[39;00m:\n\u001B[32m--> \u001B[39m\u001B[32m420\u001B[39m     \u001B[38;5;28;01mreturn\u001B[39;00m [\u001B[38;5;28mself\u001B[39m.dataset[\u001B[38;5;28mself\u001B[39m.indices[idx]] \u001B[38;5;28;01mfor\u001B[39;00m idx \u001B[38;5;129;01min\u001B[39;00m indices]\n",
      "\u001B[36mFile \u001B[39m\u001B[32m~\\OneDrive\\Documents\\Study\\PythonProjects\\manufacturing-tech-gnn\\src\\gnn_models.py:109\u001B[39m, in \u001B[36mFastSTEPDataset.__getitem__\u001B[39m\u001B[34m(self, index)\u001B[39m\n\u001B[32m    106\u001B[39m processed_path = file_info[\u001B[33m'\u001B[39m\u001B[33mprocessed_path\u001B[39m\u001B[33m'\u001B[39m]\n\u001B[32m    108\u001B[39m \u001B[38;5;66;03m# Load the pre-processed PyTorch Geometric data\u001B[39;00m\n\u001B[32m--> \u001B[39m\u001B[32m109\u001B[39m data = torch.load(processed_path, weights_only=\u001B[38;5;28;01mFalse\u001B[39;00m)\n\u001B[32m    110\u001B[39m \u001B[38;5;28;01mif\u001B[39;00m \u001B[38;5;28mself\u001B[39m.trim_start \u001B[38;5;129;01mis\u001B[39;00m \u001B[38;5;129;01mnot\u001B[39;00m \u001B[38;5;28;01mNone\u001B[39;00m \u001B[38;5;129;01mand\u001B[39;00m \u001B[38;5;28mhasattr\u001B[39m(data,\n\u001B[32m    111\u001B[39m                                            \u001B[33m'\u001B[39m\u001B[33mx\u001B[39m\u001B[33m'\u001B[39m) \u001B[38;5;129;01mand\u001B[39;00m data.x \u001B[38;5;129;01mis\u001B[39;00m \u001B[38;5;129;01mnot\u001B[39;00m \u001B[38;5;28;01mNone\u001B[39;00m:\n\u001B[32m    112\u001B[39m     data = data.clone()\n",
      "\u001B[36mFile \u001B[39m\u001B[32m~\\miniconda3\\envs\\machine-learning\\Lib\\site-packages\\torch\\serialization.py:1425\u001B[39m, in \u001B[36mload\u001B[39m\u001B[34m(f, map_location, pickle_module, weights_only, mmap, **pickle_load_args)\u001B[39m\n\u001B[32m   1422\u001B[39m \u001B[38;5;28;01mif\u001B[39;00m \u001B[33m\"\u001B[39m\u001B[33mencoding\u001B[39m\u001B[33m\"\u001B[39m \u001B[38;5;129;01mnot\u001B[39;00m \u001B[38;5;129;01min\u001B[39;00m pickle_load_args.keys():\n\u001B[32m   1423\u001B[39m     pickle_load_args[\u001B[33m\"\u001B[39m\u001B[33mencoding\u001B[39m\u001B[33m\"\u001B[39m] = \u001B[33m\"\u001B[39m\u001B[33mutf-8\u001B[39m\u001B[33m\"\u001B[39m\n\u001B[32m-> \u001B[39m\u001B[32m1425\u001B[39m \u001B[38;5;28;01mwith\u001B[39;00m _open_file_like(f, \u001B[33m\"\u001B[39m\u001B[33mrb\u001B[39m\u001B[33m\"\u001B[39m) \u001B[38;5;28;01mas\u001B[39;00m opened_file:\n\u001B[32m   1426\u001B[39m     \u001B[38;5;28;01mif\u001B[39;00m _is_zipfile(opened_file):\n\u001B[32m   1427\u001B[39m         \u001B[38;5;66;03m# The zipfile reader is going to advance the current file position.\u001B[39;00m\n\u001B[32m   1428\u001B[39m         \u001B[38;5;66;03m# If we want to actually tail call to torch.jit.load, we need to\u001B[39;00m\n\u001B[32m   1429\u001B[39m         \u001B[38;5;66;03m# reset back to the original position.\u001B[39;00m\n\u001B[32m   1430\u001B[39m         orig_position = opened_file.tell()\n",
      "\u001B[36mFile \u001B[39m\u001B[32m~\\miniconda3\\envs\\machine-learning\\Lib\\site-packages\\torch\\serialization.py:751\u001B[39m, in \u001B[36m_open_file_like\u001B[39m\u001B[34m(name_or_buffer, mode)\u001B[39m\n\u001B[32m    749\u001B[39m \u001B[38;5;28;01mdef\u001B[39;00m\u001B[38;5;250m \u001B[39m\u001B[34m_open_file_like\u001B[39m(name_or_buffer, mode):\n\u001B[32m    750\u001B[39m     \u001B[38;5;28;01mif\u001B[39;00m _is_path(name_or_buffer):\n\u001B[32m--> \u001B[39m\u001B[32m751\u001B[39m         \u001B[38;5;28;01mreturn\u001B[39;00m _open_file(name_or_buffer, mode)\n\u001B[32m    752\u001B[39m     \u001B[38;5;28;01melse\u001B[39;00m:\n\u001B[32m    753\u001B[39m         \u001B[38;5;28;01mif\u001B[39;00m \u001B[33m\"\u001B[39m\u001B[33mw\u001B[39m\u001B[33m\"\u001B[39m \u001B[38;5;129;01min\u001B[39;00m mode:\n",
      "\u001B[36mFile \u001B[39m\u001B[32m~\\miniconda3\\envs\\machine-learning\\Lib\\site-packages\\torch\\serialization.py:732\u001B[39m, in \u001B[36m_open_file.__init__\u001B[39m\u001B[34m(self, name, mode)\u001B[39m\n\u001B[32m    731\u001B[39m \u001B[38;5;28;01mdef\u001B[39;00m\u001B[38;5;250m \u001B[39m\u001B[34m__init__\u001B[39m(\u001B[38;5;28mself\u001B[39m, name, mode):\n\u001B[32m--> \u001B[39m\u001B[32m732\u001B[39m     \u001B[38;5;28msuper\u001B[39m().\u001B[34m__init__\u001B[39m(\u001B[38;5;28mopen\u001B[39m(name, mode))\n",
      "\u001B[31mKeyboardInterrupt\u001B[39m: "
     ]
    }
   ],
   "execution_count": 17
  },
  {
   "metadata": {
    "ExecuteTime": {
     "end_time": "2025-07-07T08:57:09.353770Z",
     "start_time": "2025-07-07T08:57:09.330373Z"
    }
   },
   "cell_type": "code",
   "source": [
    "labels = dataset.get_labels()\n",
    "indices = list(range(len(dataset)))\n",
    "print(\"Splitting dataset into train and validation sets\")\n",
    "train_indices, val_indices = train_test_split(\n",
    "    indices,\n",
    "    test_size=0.2,\n",
    "    stratify=labels,\n",
    "    random_state=42\n",
    ")\n",
    "\n",
    "print(f\"Train samples: {len(train_indices)}\")\n",
    "print(f\"Validation samples: {len(val_indices)}\")"
   ],
   "id": "1cea51e286893d38",
   "outputs": [
    {
     "name": "stdout",
     "output_type": "stream",
     "text": [
      "Splitting dataset into train and validation sets\n",
      "Train samples: 50072\n",
      "Validation samples: 12519\n"
     ]
    }
   ],
   "execution_count": 25
  },
  {
   "metadata": {
    "ExecuteTime": {
     "end_time": "2025-07-07T09:11:27.790390Z",
     "start_time": "2025-07-07T09:11:27.774390Z"
    }
   },
   "cell_type": "code",
   "source": [
    "from torch.utils.data import Subset\n",
    "\n",
    "train_dataset = Subset(dataset, train_indices)\n",
    "val_dataset = Subset(dataset, val_indices)"
   ],
   "id": "979d82cc17089b8",
   "outputs": [],
   "execution_count": 31
  },
  {
   "metadata": {
    "ExecuteTime": {
     "end_time": "2025-07-07T09:12:51.049168Z",
     "start_time": "2025-07-07T09:12:51.044364Z"
    }
   },
   "cell_type": "code",
   "source": "train_dataset[0].x.shape[1]  # Check number of features",
   "id": "ab77855a118bfdc8",
   "outputs": [
    {
     "data": {
      "text/plain": [
       "70"
      ]
     },
     "execution_count": 36,
     "metadata": {},
     "output_type": "execute_result"
    }
   ],
   "execution_count": 36
  },
  {
   "metadata": {
    "ExecuteTime": {
     "end_time": "2025-07-07T09:11:30.088918Z",
     "start_time": "2025-07-07T09:11:30.085079Z"
    }
   },
   "cell_type": "code",
   "source": [
    "train_loader = DataLoader(train_dataset, batch_size=32, shuffle=True)\n",
    "val_loader = DataLoader(val_dataset, batch_size=32, shuffle=False)"
   ],
   "id": "264ae1d1f219defe",
   "outputs": [],
   "execution_count": 32
  },
  {
   "metadata": {},
   "cell_type": "code",
   "source": [
    "# Feature scaling\n",
    "print(\"Scaling features...\")\n",
    "raw_features = torch.cat([data.x[:, :6] for data in train_dataset],\n",
    "                         dim=0).numpy()\n",
    "scaler = MinMaxScaler()\n",
    "scaler.fit(raw_features)\n",
    "\n",
    "for data in train_dataset:\n",
    "    raw = data.x[:, :6].numpy()\n",
    "    scaled_raw = torch.tensor(scaler.transform(raw), dtype=torch.float)\n",
    "    data.x = torch.cat([scaled_raw, data.x[:, 6:]], dim=1)\n",
    "print(\"Training dataset features scaled.\")\n",
    "for data in val_dataset:\n",
    "    raw = data.x[:, :6].numpy()\n",
    "    scaled_raw = torch.tensor(scaler.transform(raw), dtype=torch.float)\n",
    "    data.x = torch.cat([scaled_raw, data.x[:, 6:]], dim=1)\n",
    "print(\"Validation dataset features scaled.\")"
   ],
   "id": "e940ce2b7f7d338b",
   "outputs": [],
   "execution_count": null
  },
  {
   "metadata": {
    "ExecuteTime": {
     "end_time": "2025-07-07T11:54:57.152787Z",
     "start_time": "2025-07-07T11:54:57.007378Z"
    }
   },
   "cell_type": "code",
   "source": "new_model = model = SimpleGNN(input_features=70).to(device)",
   "id": "9f8754cd7862d759",
   "outputs": [
    {
     "name": "stdout",
     "output_type": "stream",
     "text": [
      "Created GNN model:\n",
      "- Input features: 70\n",
      "- Hidden sizes: 128, 64\n",
      "- Output classes: 2\n"
     ]
    },
    {
     "name": "stderr",
     "output_type": "stream",
     "text": [
      "C:\\Users\\phanm\\miniconda3\\envs\\machine-learning\\Lib\\site-packages\\torch_geometric\\deprecation.py:26: UserWarning: 'nn.glob.GlobalAttention' is deprecated, use 'nn.aggr.AttentionalAggregation' instead\n",
      "  warnings.warn(out)\n"
     ]
    }
   ],
   "execution_count": 4
  }
 ],
 "metadata": {
  "kernelspec": {
   "display_name": "Python 3",
   "language": "python",
   "name": "python3"
  },
  "language_info": {
   "codemirror_mode": {
    "name": "ipython",
    "version": 2
   },
   "file_extension": ".py",
   "mimetype": "text/x-python",
   "name": "python",
   "nbconvert_exporter": "python",
   "pygments_lexer": "ipython2",
   "version": "2.7.6"
  }
 },
 "nbformat": 4,
 "nbformat_minor": 5
}
