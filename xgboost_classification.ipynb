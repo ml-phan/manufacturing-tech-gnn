{
 "cells": [
  {
   "cell_type": "code",
   "id": "initial_id",
   "metadata": {
    "collapsed": true,
    "ExecuteTime": {
     "end_time": "2025-09-02T08:31:28.250117Z",
     "start_time": "2025-09-02T08:31:27.514056Z"
    }
   },
   "source": [
    "import pandas as pd\n",
    "%load_ext autoreload\n",
    "%autoreload 1"
   ],
   "outputs": [],
   "execution_count": 1
  },
  {
   "metadata": {
    "ExecuteTime": {
     "end_time": "2025-09-02T08:31:31.055146Z",
     "start_time": "2025-09-02T08:31:28.256781Z"
    }
   },
   "cell_type": "code",
   "source": [
    "from src.pipeline import *\n",
    "# from src.convert_graphml_to_pyg_data_multithread import *\n",
    "\n",
    "optuna.logging.set_verbosity(optuna.logging.WARNING)\n",
    "\n",
    "%aimport src.pipeline\n",
    "# %aimport src.convert_graphml_to_pyg_data_multithread"
   ],
   "id": "666b5ff7346766d0",
   "outputs": [
    {
     "ename": "ModuleNotFoundError",
     "evalue": "No module named 'torch'",
     "output_type": "error",
     "traceback": [
      "\u001B[31m---------------------------------------------------------------------------\u001B[39m",
      "\u001B[31mModuleNotFoundError\u001B[39m                       Traceback (most recent call last)",
      "\u001B[36mCell\u001B[39m\u001B[36m \u001B[39m\u001B[32mIn[2]\u001B[39m\u001B[32m, line 1\u001B[39m\n\u001B[32m----> \u001B[39m\u001B[32m1\u001B[39m \u001B[38;5;28;01mfrom\u001B[39;00m\u001B[38;5;250m \u001B[39m\u001B[34;01msrc\u001B[39;00m\u001B[34;01m.\u001B[39;00m\u001B[34;01mpipeline\u001B[39;00m\u001B[38;5;250m \u001B[39m\u001B[38;5;28;01mimport\u001B[39;00m *\n\u001B[32m      2\u001B[39m \u001B[38;5;66;03m# from src.convert_graphml_to_pyg_data_multithread import *\u001B[39;00m\n\u001B[32m      4\u001B[39m optuna.logging.set_verbosity(optuna.logging.WARNING)\n",
      "\u001B[36mFile \u001B[39m\u001B[32m~\\PycharmProjects\\manufacturing-tech-gnn\\src\\pipeline.py:11\u001B[39m\n\u001B[32m      9\u001B[39m \u001B[38;5;28;01mimport\u001B[39;00m\u001B[38;5;250m \u001B[39m\u001B[34;01moptuna\u001B[39;00m\n\u001B[32m     10\u001B[39m \u001B[38;5;28;01mimport\u001B[39;00m\u001B[38;5;250m \u001B[39m\u001B[34;01mthreading\u001B[39;00m\n\u001B[32m---> \u001B[39m\u001B[32m11\u001B[39m \u001B[38;5;28;01mimport\u001B[39;00m\u001B[38;5;250m \u001B[39m\u001B[34;01mtorch\u001B[39;00m\n\u001B[32m     12\u001B[39m \u001B[38;5;28;01mimport\u001B[39;00m\u001B[38;5;250m \u001B[39m\u001B[34;01mtorch\u001B[39;00m\u001B[34;01m.\u001B[39;00m\u001B[34;01mnn\u001B[39;00m\u001B[34;01m.\u001B[39;00m\u001B[34;01mfunctional\u001B[39;00m\u001B[38;5;250m \u001B[39m\u001B[38;5;28;01mas\u001B[39;00m\u001B[38;5;250m \u001B[39m\u001B[34;01mF\u001B[39;00m\n\u001B[32m     13\u001B[39m \u001B[38;5;28;01mfrom\u001B[39;00m\u001B[38;5;250m \u001B[39m\u001B[34;01msklearn\u001B[39;00m\u001B[34;01m.\u001B[39;00m\u001B[34;01mpreprocessing\u001B[39;00m\u001B[38;5;250m \u001B[39m\u001B[38;5;28;01mimport\u001B[39;00m PowerTransformer, StandardScaler\n",
      "\u001B[31mModuleNotFoundError\u001B[39m: No module named 'torch'"
     ]
    }
   ],
   "execution_count": 2
  },
  {
   "metadata": {
    "ExecuteTime": {
     "end_time": "2025-09-02T08:31:31.121084900Z",
     "start_time": "2025-09-01T19:55:28.066579Z"
    }
   },
   "cell_type": "code",
   "source": [
    "features = [\n",
    "    \"faces\", \"edges\", \"vertices\", \"quantity\",\n",
    "    \"height\", \"width\", \"depth\", \"volume\", \"area\",\n",
    "    \"bbox_height\", \"bbox_width\", \"bbox_depth\", \"bbox_volume\",\n",
    "    \"bbox_area\",\n",
    "]\n",
    "data = pd.read_csv(\"./data/synced_dataset_final.csv\")"
   ],
   "id": "cb5d3b76e77f8920",
   "outputs": [],
   "execution_count": 3
  },
  {
   "metadata": {
    "ExecuteTime": {
     "end_time": "2025-09-01T19:56:18.066433Z",
     "start_time": "2025-09-01T19:55:28.549933Z"
    }
   },
   "cell_type": "code",
   "source": [
    "X = data[features]\n",
    "X_train, X_test, y_train_index, y_test_index = train_test_split(\n",
    "    X, range(len(X)),\n",
    "    test_size=0.2,\n",
    "    random_state=100,\n",
    "    stratify=data[\"is_cnc\"])\n",
    "y_multi_train = data[\"multiclass_labels\"].iloc[y_train_index]\n",
    "y_multi_test = data[\"multiclass_labels\"].iloc[y_test_index]\n",
    "\n",
    "y_binary_train = data[\"is_cnc\"].iloc[y_train_index]\n",
    "y_binary_test = data[\"is_cnc\"].iloc[y_test_index]\n",
    "\n",
    "params = {\n",
    "    \"n_estimators\": randint(100, 300),\n",
    "    \"max_depth\": randint(3, 10),\n",
    "    \"learning_rate\": uniform(0.005, 0.3),\n",
    "}\n",
    "best_search_binary = randomizedsearchcv_xgboost(\n",
    "    X_train, y_binary_train,\n",
    "    params, n_iter=50,\n",
    ")"
   ],
   "id": "ed1980a55a7deb35",
   "outputs": [],
   "execution_count": 4
  },
  {
   "metadata": {
    "ExecuteTime": {
     "end_time": "2025-09-01T19:56:18.276146Z",
     "start_time": "2025-09-01T19:56:18.091523Z"
    }
   },
   "cell_type": "code",
   "source": [
    "y_binary_pred = best_search_binary.best_estimator_.predict(X_test)\n",
    "y_binary_prob = best_search_binary.best_estimator_.predict_proba(X_test)\n",
    "y_binary_pred_train = best_search_binary.best_estimator_.predict(X_train)\n",
    "y_binary_prob_train = best_search_binary.best_estimator_.predict_proba(X_train)\n",
    "metrics_binary_validation = evaluate_classification(\n",
    "    y_true=y_binary_test,\n",
    "    y_pred=y_binary_pred,\n",
    "    y_prob=y_binary_prob,\n",
    ")\n",
    "metrics_binary_train = evaluate_classification(\n",
    "    y_true=y_binary_train,\n",
    "    y_pred=y_binary_pred_train,\n",
    "    y_prob=y_binary_prob_train,\n",
    ")\n",
    "pd.DataFrame([metrics_binary_train, metrics_binary_validation], index=[\"train\", \"validation\"]).T"
   ],
   "id": "ac96927799226d6a",
   "outputs": [
    {
     "data": {
      "text/plain": [
       "                      train  validation\n",
       "accuracy           0.951304    0.870498\n",
       "f1_macro           0.947830    0.860209\n",
       "f1_weighted        0.951724    0.871178\n",
       "roc_auc            0.992262    0.936981\n",
       "average_precision  0.995679    0.961874"
      ],
      "text/html": [
       "<div>\n",
       "<style scoped>\n",
       "    .dataframe tbody tr th:only-of-type {\n",
       "        vertical-align: middle;\n",
       "    }\n",
       "\n",
       "    .dataframe tbody tr th {\n",
       "        vertical-align: top;\n",
       "    }\n",
       "\n",
       "    .dataframe thead th {\n",
       "        text-align: right;\n",
       "    }\n",
       "</style>\n",
       "<table border=\"1\" class=\"dataframe\">\n",
       "  <thead>\n",
       "    <tr style=\"text-align: right;\">\n",
       "      <th></th>\n",
       "      <th>train</th>\n",
       "      <th>validation</th>\n",
       "    </tr>\n",
       "  </thead>\n",
       "  <tbody>\n",
       "    <tr>\n",
       "      <th>accuracy</th>\n",
       "      <td>0.951304</td>\n",
       "      <td>0.870498</td>\n",
       "    </tr>\n",
       "    <tr>\n",
       "      <th>f1_macro</th>\n",
       "      <td>0.947830</td>\n",
       "      <td>0.860209</td>\n",
       "    </tr>\n",
       "    <tr>\n",
       "      <th>f1_weighted</th>\n",
       "      <td>0.951724</td>\n",
       "      <td>0.871178</td>\n",
       "    </tr>\n",
       "    <tr>\n",
       "      <th>roc_auc</th>\n",
       "      <td>0.992262</td>\n",
       "      <td>0.936981</td>\n",
       "    </tr>\n",
       "    <tr>\n",
       "      <th>average_precision</th>\n",
       "      <td>0.995679</td>\n",
       "      <td>0.961874</td>\n",
       "    </tr>\n",
       "  </tbody>\n",
       "</table>\n",
       "</div>"
      ]
     },
     "execution_count": 5,
     "metadata": {},
     "output_type": "execute_result"
    }
   ],
   "execution_count": 5
  },
  {
   "metadata": {
    "ExecuteTime": {
     "end_time": "2025-09-01T19:56:25.541913Z",
     "start_time": "2025-09-01T19:56:25.535368Z"
    }
   },
   "cell_type": "code",
   "source": [
    "feature_importance = best_search_binary.best_estimator_.feature_importances_\n",
    "\n",
    "# If you have feature names\n",
    "feature_names = X_train.columns  # assuming X_train is a DataFrame\n",
    "importance_df = pd.DataFrame({\n",
    "    'feature': feature_names,\n",
    "    'importance': feature_importance\n",
    "}).sort_values('importance', ascending=False)\n",
    "\n",
    "print(importance_df)"
   ],
   "id": "9b9fd3ce3f0b0a4f",
   "outputs": [
    {
     "name": "stdout",
     "output_type": "stream",
     "text": [
      "        feature  importance\n",
      "7        volume    0.098656\n",
      "12  bbox_volume    0.091828\n",
      "3      quantity    0.087310\n",
      "1         edges    0.086577\n",
      "11   bbox_depth    0.084575\n",
      "10   bbox_width    0.077502\n",
      "9   bbox_height    0.074926\n",
      "2      vertices    0.073620\n",
      "5         width    0.069759\n",
      "8          area    0.069744\n",
      "4        height    0.065861\n",
      "6         depth    0.060392\n",
      "0         faces    0.059251\n",
      "13    bbox_area    0.000000\n"
     ]
    }
   ],
   "execution_count": 6
  },
  {
   "metadata": {
    "ExecuteTime": {
     "end_time": "2025-09-01T20:00:13.618044Z",
     "start_time": "2025-09-01T19:59:44.597010Z"
    }
   },
   "cell_type": "code",
   "source": [
    "fold_results = xgboost_optuna(\n",
    "    data,\n",
    "    n_trials=100,\n",
    "    features=features\n",
    ")"
   ],
   "id": "a4b47c9fdb2c19f9",
   "outputs": [
    {
     "name": "stdout",
     "output_type": "stream",
     "text": [
      "Optimizing fold 0:\n"
     ]
    },
    {
     "data": {
      "text/plain": [
       "  0%|          | 0/100 [00:00<?, ?it/s]"
      ],
      "application/vnd.jupyter.widget-view+json": {
       "version_major": 2,
       "version_minor": 0,
       "model_id": "678cb96933dc4529b77052bd57db00a7"
      }
     },
     "metadata": {},
     "output_type": "display_data"
    }
   ],
   "execution_count": 8
  },
  {
   "metadata": {
    "ExecuteTime": {
     "end_time": "2025-09-01T20:44:35.853979Z",
     "start_time": "2025-09-01T20:44:35.849403Z"
    }
   },
   "cell_type": "code",
   "source": "fold_results[\"fold_0\"][\"best_params\"]",
   "id": "2140cac68dd4946f",
   "outputs": [
    {
     "data": {
      "text/plain": [
       "{'n_estimators': 229,\n",
       " 'max_depth': 10,\n",
       " 'learning_rate': 0.23010627398694375,\n",
       " 'min_child_weight': 5,\n",
       " 'subsample': 0.8515134589080573,\n",
       " 'colsample_bytree': 0.7674160634634193,\n",
       " 'reg_alpha': 3.8657297966420128,\n",
       " 'reg_lambda': 0.6141160901516102}"
      ]
     },
     "execution_count": 37,
     "metadata": {},
     "output_type": "execute_result"
    }
   ],
   "execution_count": 37
  },
  {
   "metadata": {
    "ExecuteTime": {
     "end_time": "2025-09-01T20:10:48.091181Z",
     "start_time": "2025-09-01T20:10:40.240553Z"
    }
   },
   "cell_type": "code",
   "source": "fold_all_results = xgboost_optuna_run_with_best_params(data, fold_results[\"fold_0\"][\"best_params\"], features=features)",
   "id": "3b5d9d32fc06ff60",
   "outputs": [
    {
     "name": "stdout",
     "output_type": "stream",
     "text": [
      "Optimizing fold 0.0:\n",
      "Optimizing fold 1.0:\n",
      "Optimizing fold 2.0:\n",
      "Optimizing fold 3.0:\n",
      "Optimizing fold 4.0:\n",
      "Optimizing fold 5.0:\n",
      "Optimizing fold 6.0:\n",
      "Optimizing fold 7.0:\n",
      "Optimizing fold 8.0:\n",
      "Optimizing fold 9.0:\n"
     ]
    }
   ],
   "execution_count": 28
  },
  {
   "metadata": {
    "ExecuteTime": {
     "end_time": "2025-09-01T20:11:58.028810Z",
     "start_time": "2025-09-01T20:11:58.011432Z"
    }
   },
   "cell_type": "code",
   "source": "pd.DataFrame(fold_all_results).T.to_csv(r\"xgboost_optuna_results.csv\")",
   "id": "8b50b9a7c6185201",
   "outputs": [],
   "execution_count": 33
  },
  {
   "metadata": {
    "ExecuteTime": {
     "end_time": "2025-09-01T20:52:27.868941Z",
     "start_time": "2025-09-01T20:52:27.862488Z"
    }
   },
   "cell_type": "code",
   "source": [
    "results_df = pd.DataFrame(fold_all_results).T\n",
    "results_df"
   ],
   "id": "6c41f38969a5271a",
   "outputs": [
    {
     "data": {
      "text/plain": [
       "          accuracy  f1_macro  f1_weighted   roc_auc  average_precision\n",
       "fold_0.0  0.866720  0.857440     0.867966  0.936974           0.960162\n",
       "fold_1.0  0.868489  0.858456     0.869361  0.934957           0.958854\n",
       "fold_2.0  0.871383  0.861899     0.872372  0.937414           0.961699\n",
       "fold_3.0  0.868489  0.858298     0.869295  0.932645           0.956106\n",
       "fold_4.0  0.870096  0.860057     0.870892  0.932009           0.955883\n",
       "fold_5.0  0.864309  0.854771     0.865529  0.935983           0.959806\n",
       "fold_6.0  0.863505  0.853453     0.864548  0.932416           0.958994\n",
       "fold_7.0  0.861576  0.851569     0.862709  0.931229           0.955024\n",
       "fold_8.0  0.864930  0.855317     0.866105  0.929549           0.956050\n",
       "fold_9.0  0.864608  0.854895     0.865755  0.933825           0.958898"
      ],
      "text/html": [
       "<div>\n",
       "<style scoped>\n",
       "    .dataframe tbody tr th:only-of-type {\n",
       "        vertical-align: middle;\n",
       "    }\n",
       "\n",
       "    .dataframe tbody tr th {\n",
       "        vertical-align: top;\n",
       "    }\n",
       "\n",
       "    .dataframe thead th {\n",
       "        text-align: right;\n",
       "    }\n",
       "</style>\n",
       "<table border=\"1\" class=\"dataframe\">\n",
       "  <thead>\n",
       "    <tr style=\"text-align: right;\">\n",
       "      <th></th>\n",
       "      <th>accuracy</th>\n",
       "      <th>f1_macro</th>\n",
       "      <th>f1_weighted</th>\n",
       "      <th>roc_auc</th>\n",
       "      <th>average_precision</th>\n",
       "    </tr>\n",
       "  </thead>\n",
       "  <tbody>\n",
       "    <tr>\n",
       "      <th>fold_0.0</th>\n",
       "      <td>0.866720</td>\n",
       "      <td>0.857440</td>\n",
       "      <td>0.867966</td>\n",
       "      <td>0.936974</td>\n",
       "      <td>0.960162</td>\n",
       "    </tr>\n",
       "    <tr>\n",
       "      <th>fold_1.0</th>\n",
       "      <td>0.868489</td>\n",
       "      <td>0.858456</td>\n",
       "      <td>0.869361</td>\n",
       "      <td>0.934957</td>\n",
       "      <td>0.958854</td>\n",
       "    </tr>\n",
       "    <tr>\n",
       "      <th>fold_2.0</th>\n",
       "      <td>0.871383</td>\n",
       "      <td>0.861899</td>\n",
       "      <td>0.872372</td>\n",
       "      <td>0.937414</td>\n",
       "      <td>0.961699</td>\n",
       "    </tr>\n",
       "    <tr>\n",
       "      <th>fold_3.0</th>\n",
       "      <td>0.868489</td>\n",
       "      <td>0.858298</td>\n",
       "      <td>0.869295</td>\n",
       "      <td>0.932645</td>\n",
       "      <td>0.956106</td>\n",
       "    </tr>\n",
       "    <tr>\n",
       "      <th>fold_4.0</th>\n",
       "      <td>0.870096</td>\n",
       "      <td>0.860057</td>\n",
       "      <td>0.870892</td>\n",
       "      <td>0.932009</td>\n",
       "      <td>0.955883</td>\n",
       "    </tr>\n",
       "    <tr>\n",
       "      <th>fold_5.0</th>\n",
       "      <td>0.864309</td>\n",
       "      <td>0.854771</td>\n",
       "      <td>0.865529</td>\n",
       "      <td>0.935983</td>\n",
       "      <td>0.959806</td>\n",
       "    </tr>\n",
       "    <tr>\n",
       "      <th>fold_6.0</th>\n",
       "      <td>0.863505</td>\n",
       "      <td>0.853453</td>\n",
       "      <td>0.864548</td>\n",
       "      <td>0.932416</td>\n",
       "      <td>0.958994</td>\n",
       "    </tr>\n",
       "    <tr>\n",
       "      <th>fold_7.0</th>\n",
       "      <td>0.861576</td>\n",
       "      <td>0.851569</td>\n",
       "      <td>0.862709</td>\n",
       "      <td>0.931229</td>\n",
       "      <td>0.955024</td>\n",
       "    </tr>\n",
       "    <tr>\n",
       "      <th>fold_8.0</th>\n",
       "      <td>0.864930</td>\n",
       "      <td>0.855317</td>\n",
       "      <td>0.866105</td>\n",
       "      <td>0.929549</td>\n",
       "      <td>0.956050</td>\n",
       "    </tr>\n",
       "    <tr>\n",
       "      <th>fold_9.0</th>\n",
       "      <td>0.864608</td>\n",
       "      <td>0.854895</td>\n",
       "      <td>0.865755</td>\n",
       "      <td>0.933825</td>\n",
       "      <td>0.958898</td>\n",
       "    </tr>\n",
       "  </tbody>\n",
       "</table>\n",
       "</div>"
      ]
     },
     "execution_count": 40,
     "metadata": {},
     "output_type": "execute_result"
    }
   ],
   "execution_count": 40
  },
  {
   "metadata": {
    "ExecuteTime": {
     "end_time": "2025-09-01T21:01:26.954929Z",
     "start_time": "2025-09-01T21:01:26.950956Z"
    }
   },
   "cell_type": "code",
   "source": [
    "xg_auroc = results_df[\"roc_auc\"].tolist()\n",
    "xg_auroc"
   ],
   "id": "397377daa9514f94",
   "outputs": [
    {
     "data": {
      "text/plain": [
       "[0.9369739113754075,\n",
       " 0.9349566694124418,\n",
       " 0.9374142697554756,\n",
       " 0.9326450277022377,\n",
       " 0.9320086454053684,\n",
       " 0.935982573808659,\n",
       " 0.9324164794747773,\n",
       " 0.9312290787609381,\n",
       " 0.9295489560254133,\n",
       " 0.9338254199544237]"
      ]
     },
     "execution_count": 58,
     "metadata": {},
     "output_type": "execute_result"
    }
   ],
   "execution_count": 58
  },
  {
   "metadata": {
    "ExecuteTime": {
     "end_time": "2025-09-01T20:56:07.918120Z",
     "start_time": "2025-09-01T20:56:07.913372Z"
    }
   },
   "cell_type": "code",
   "source": [
    "from scipy.stats import sem\n",
    "sem(results_df[\"roc_auc\"]), np.mean(results_df[\"roc_auc\"])"
   ],
   "id": "388c4360b976228c",
   "outputs": [
    {
     "data": {
      "text/plain": [
       "(0.0008183796760417202, 0.9337001031675143)"
      ]
     },
     "execution_count": 44,
     "metadata": {},
     "output_type": "execute_result"
    }
   ],
   "execution_count": 44
  },
  {
   "metadata": {
    "ExecuteTime": {
     "end_time": "2025-09-01T20:56:56.075238Z",
     "start_time": "2025-09-01T20:56:56.070867Z"
    }
   },
   "cell_type": "code",
   "source": [
    "import json\n",
    "with open(r\"C:\\Users\\phanm\\OneDrive\\Documents\\Study\\PythonProjects\\manufacturing-tech-gnn\\optuna_gine_all_fold_results.json\", \"rb\") as f:\n",
    "    all_fold_results = json.load(f)"
   ],
   "id": "1db01e3c7136eef1",
   "outputs": [],
   "execution_count": 48
  },
  {
   "metadata": {
    "ExecuteTime": {
     "end_time": "2025-09-01T21:00:45.000920Z",
     "start_time": "2025-09-01T21:00:44.995825Z"
    }
   },
   "cell_type": "code",
   "source": [
    "gnn_auroc = [item[\"val_tracker\"][\"auroc\"] for item in all_fold_results.values()]\n",
    "sem(gnn_auroc), np.mean(gnn_auroc)"
   ],
   "id": "d35a87fb828c617e",
   "outputs": [
    {
     "data": {
      "text/plain": [
       "(0.0007362313565860531, 0.9425765573978424)"
      ]
     },
     "execution_count": 57,
     "metadata": {},
     "output_type": "execute_result"
    }
   ],
   "execution_count": 57
  },
  {
   "metadata": {
    "ExecuteTime": {
     "end_time": "2025-09-01T21:01:36.694818Z",
     "start_time": "2025-09-01T21:01:36.691149Z"
    }
   },
   "cell_type": "code",
   "source": "gnn_auroc",
   "id": "d4296bde828fb900",
   "outputs": [
    {
     "data": {
      "text/plain": [
       "[0.9475449919700623,\n",
       " 0.9430391788482666,\n",
       " 0.944582998752594,\n",
       " 0.9434629678726196,\n",
       " 0.9422585368156433,\n",
       " 0.9399271011352539,\n",
       " 0.9431166648864746,\n",
       " 0.9405849575996399,\n",
       " 0.9404380917549133,\n",
       " 0.9408100843429565]"
      ]
     },
     "execution_count": 59,
     "metadata": {},
     "output_type": "execute_result"
    }
   ],
   "execution_count": 59
  },
  {
   "metadata": {
    "ExecuteTime": {
     "end_time": "2025-09-01T21:03:29.202730Z",
     "start_time": "2025-09-01T21:03:29.193038Z"
    }
   },
   "cell_type": "code",
   "source": [
    "from scipy.stats import ttest_rel\n",
    "t_stat, p_value = ttest_rel(gnn_auroc, xg_auroc)\n",
    "\n",
    "print(\"t-statistic:\", t_stat)\n",
    "print(\"p-value:\", p_value)"
   ],
   "id": "6acc501541c19ad1",
   "outputs": [
    {
     "name": "stdout",
     "output_type": "stream",
     "text": [
      "t-statistic: 12.20764749791187\n",
      "p-value: 6.652107671946196e-07\n"
     ]
    }
   ],
   "execution_count": 60
  }
 ],
 "metadata": {
  "kernelspec": {
   "display_name": "Python 3",
   "language": "python",
   "name": "python3"
  },
  "language_info": {
   "codemirror_mode": {
    "name": "ipython",
    "version": 2
   },
   "file_extension": ".py",
   "mimetype": "text/x-python",
   "name": "python",
   "nbconvert_exporter": "python",
   "pygments_lexer": "ipython2",
   "version": "2.7.6"
  }
 },
 "nbformat": 4,
 "nbformat_minor": 5
}
