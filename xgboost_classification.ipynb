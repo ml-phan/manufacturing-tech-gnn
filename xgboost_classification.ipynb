{
 "cells": [
  {
   "cell_type": "code",
   "id": "initial_id",
   "metadata": {
    "collapsed": true
   },
   "source": [
    "import pandas as pd\n",
    "%load_ext autoreload\n",
    "%autoreload 1"
   ],
   "outputs": [],
   "execution_count": null
  },
  {
   "metadata": {},
   "cell_type": "code",
   "source": [
    "from src.pipeline import *\n",
    "from scipy.stats import sem\n",
    "# from src.convert_graphml_to_pyg_data_multithread import *\n",
    "\n",
    "optuna.logging.set_verbosity(optuna.logging.WARNING)\n",
    "\n",
    "%aimport src.pipeline\n",
    "# %aimport src.convert_graphml_to_pyg_data_multithread"
   ],
   "id": "666b5ff7346766d0",
   "outputs": [],
   "execution_count": null
  },
  {
   "metadata": {},
   "cell_type": "code",
   "source": [
    "features = [\n",
    "    \"faces\", \"edges\", \"vertices\", \"quantity\",\n",
    "    \"height\", \"width\", \"depth\", \"volume\", \"area\",\n",
    "    \"bbox_height\", \"bbox_width\", \"bbox_depth\", \"bbox_volume\",\n",
    "    \"bbox_area\",\n",
    "]\n",
    "data = pd.read_csv(\"./data/synced_dataset_final.csv\")"
   ],
   "id": "cb5d3b76e77f8920",
   "outputs": [],
   "execution_count": null
  },
  {
   "metadata": {},
   "cell_type": "code",
   "source": [
    "X = data[features]\n",
    "X_train, X_test, y_train_index, y_test_index = train_test_split(\n",
    "    X, range(len(X)),\n",
    "    test_size=0.2,\n",
    "    random_state=100,\n",
    "    stratify=data[\"is_cnc\"])\n",
    "y_multi_train = data[\"multiclass_labels\"].iloc[y_train_index]\n",
    "y_multi_test = data[\"multiclass_labels\"].iloc[y_test_index]\n",
    "\n",
    "y_binary_train = data[\"is_cnc\"].iloc[y_train_index]\n",
    "y_binary_test = data[\"is_cnc\"].iloc[y_test_index]\n",
    "\n",
    "params = {\n",
    "    \"n_estimators\": randint(100, 300),\n",
    "    \"max_depth\": randint(3, 10),\n",
    "    \"learning_rate\": uniform(0.005, 0.3),\n",
    "}\n",
    "best_search_binary = randomizedsearchcv_xgboost(\n",
    "    X_train, y_binary_train,\n",
    "    params, n_iter=50,\n",
    ")"
   ],
   "id": "ed1980a55a7deb35",
   "outputs": [],
   "execution_count": null
  },
  {
   "metadata": {},
   "cell_type": "code",
   "source": [
    "y_binary_pred = best_search_binary.best_estimator_.predict(X_test)\n",
    "y_binary_prob = best_search_binary.best_estimator_.predict_proba(X_test)\n",
    "y_binary_pred_train = best_search_binary.best_estimator_.predict(X_train)\n",
    "y_binary_prob_train = best_search_binary.best_estimator_.predict_proba(X_train)\n",
    "metrics_binary_validation = evaluate_classification(\n",
    "    y_true=y_binary_test,\n",
    "    y_pred=y_binary_pred,\n",
    "    y_prob=y_binary_prob,\n",
    ")\n",
    "metrics_binary_train = evaluate_classification(\n",
    "    y_true=y_binary_train,\n",
    "    y_pred=y_binary_pred_train,\n",
    "    y_prob=y_binary_prob_train,\n",
    ")\n",
    "pd.DataFrame([metrics_binary_train, metrics_binary_validation],\n",
    "             index=[\"train\", \"validation\"]).T"
   ],
   "id": "ac96927799226d6a",
   "outputs": [],
   "execution_count": null
  },
  {
   "metadata": {},
   "cell_type": "code",
   "source": [
    "feature_importance = best_search_binary.best_estimator_.feature_importances_\n",
    "\n",
    "# If you have feature names\n",
    "feature_names = X_train.columns  # assuming X_train is a DataFrame\n",
    "importance_df = pd.DataFrame({\n",
    "    'feature': feature_names,\n",
    "    'importance': feature_importance\n",
    "}).sort_values('importance', ascending=False)\n",
    "\n",
    "print(importance_df)"
   ],
   "id": "9b9fd3ce3f0b0a4f",
   "outputs": [],
   "execution_count": null
  },
  {
   "metadata": {},
   "cell_type": "code",
   "source": [
    "fold_results = xgboost_optuna(\n",
    "    data,\n",
    "    n_trials=100,\n",
    "    features=features\n",
    ")"
   ],
   "id": "a4b47c9fdb2c19f9",
   "outputs": [],
   "execution_count": null
  },
  {
   "metadata": {},
   "cell_type": "code",
   "source": "fold_results[\"fold_0\"][\"best_params\"]",
   "id": "2140cac68dd4946f",
   "outputs": [],
   "execution_count": null
  },
  {
   "metadata": {},
   "cell_type": "code",
   "source": [
    "best_params = {'n_estimators': 229,\n",
    "               'max_depth': 10,\n",
    "               'learning_rate': 0.23010627398694375,\n",
    "               'min_child_weight': 5,\n",
    "               'subsample': 0.8515134589080573,\n",
    "               'colsample_bytree': 0.7674160634634193,\n",
    "               'reg_alpha': 3.8657297966420128,\n",
    "               'reg_lambda': 0.6141160901516102}\n",
    "fold_all_results = xgboost_optuna_run_with_best_params(\n",
    "    data=data,\n",
    "    best_params=best_params,\n",
    "    features=features\n",
    ")"
   ],
   "id": "3b5d9d32fc06ff60",
   "outputs": [],
   "execution_count": null
  },
  {
   "metadata": {},
   "cell_type": "code",
   "source": "pd.DataFrame(fold_all_results).T.to_csv(r\"xgboost_optuna_results.csv\")",
   "id": "8b50b9a7c6185201",
   "outputs": [],
   "execution_count": null
  },
  {
   "metadata": {},
   "cell_type": "code",
   "source": [
    "results_df = pd.DataFrame(fold_all_results).T\n",
    "results_df"
   ],
   "id": "6c41f38969a5271a",
   "outputs": [],
   "execution_count": null
  },
  {
   "metadata": {},
   "cell_type": "code",
   "outputs": [],
   "execution_count": null,
   "source": [
    "xg_auroc = results_df[\"roc_auc\"].tolist()\n",
    "xg_auroc"
   ],
   "id": "397377daa9514f94"
  },
  {
   "metadata": {},
   "cell_type": "code",
   "source": "sem(results_df[\"roc_auc\"]), np.mean(results_df[\"roc_auc\"])",
   "id": "388c4360b976228c",
   "outputs": [],
   "execution_count": null
  },
  {
   "metadata": {},
   "cell_type": "code",
   "source": [
    "import json\n",
    "\n",
    "with open(\n",
    "        r\"C:\\Users\\phanm\\OneDrive\\Documents\\Study\\PythonProjects\\manufacturing-tech-gnn\\optuna_gine_all_fold_results.json\",\n",
    "        \"rb\") as f:\n",
    "    all_fold_results = json.load(f)"
   ],
   "id": "1db01e3c7136eef1",
   "outputs": [],
   "execution_count": null
  },
  {
   "metadata": {},
   "cell_type": "code",
   "source": [
    "gnn_auroc = [item[\"val_tracker\"][\"auroc\"] for item in\n",
    "             all_fold_results.values()]\n",
    "sem(gnn_auroc), np.mean(gnn_auroc)"
   ],
   "id": "d35a87fb828c617e",
   "outputs": [],
   "execution_count": null
  },
  {
   "metadata": {},
   "cell_type": "code",
   "source": "gnn_auroc",
   "id": "d4296bde828fb900",
   "outputs": [],
   "execution_count": null
  },
  {
   "metadata": {},
   "cell_type": "code",
   "source": [
    "from scipy.stats import ttest_rel\n",
    "\n",
    "t_stat, p_value = ttest_rel(gnn_auroc, xg_auroc)\n",
    "\n",
    "print(\"t-statistic:\", t_stat)\n",
    "print(\"p-value:\", p_value)"
   ],
   "id": "6acc501541c19ad1",
   "outputs": [],
   "execution_count": null
  }
 ],
 "metadata": {
  "kernelspec": {
   "display_name": "Python 3",
   "language": "python",
   "name": "python3"
  },
  "language_info": {
   "codemirror_mode": {
    "name": "ipython",
    "version": 2
   },
   "file_extension": ".py",
   "mimetype": "text/x-python",
   "name": "python",
   "nbconvert_exporter": "python",
   "pygments_lexer": "ipython2",
   "version": "2.7.6"
  }
 },
 "nbformat": 4,
 "nbformat_minor": 5
}
