{
 "cells": [
  {
   "cell_type": "code",
   "id": "initial_id",
   "metadata": {
    "collapsed": true,
    "ExecuteTime": {
     "end_time": "2025-08-17T20:35:36.251440Z",
     "start_time": "2025-08-17T20:35:36.176336Z"
    }
   },
   "source": [
    "import pandas as pd\n",
    "%load_ext autoreload\n",
    "%autoreload 1"
   ],
   "outputs": [],
   "execution_count": 1
  },
  {
   "metadata": {
    "ExecuteTime": {
     "end_time": "2025-08-17T20:35:41.091055Z",
     "start_time": "2025-08-17T20:35:36.465401Z"
    }
   },
   "cell_type": "code",
   "source": [
    "from src.pipeline import *\n",
    "# from src.convert_graphml_to_pyg_data_multithread import *\n",
    "\n",
    "optuna.logging.set_verbosity(optuna.logging.WARNING)\n",
    "\n",
    "%aimport src.pipeline\n",
    "# %aimport src.convert_graphml_to_pyg_data_multithread"
   ],
   "id": "666b5ff7346766d0",
   "outputs": [],
   "execution_count": 2
  },
  {
   "metadata": {
    "ExecuteTime": {
     "end_time": "2025-08-17T20:35:41.519639Z",
     "start_time": "2025-08-17T20:35:41.101087Z"
    }
   },
   "cell_type": "code",
   "source": [
    "features = [\n",
    "    \"faces\", \"edges\", \"vertices\", \"quantity\",\n",
    "    \"height\", \"width\", \"depth\", \"volume\", \"area\",\n",
    "    \"bbox_height\", \"bbox_width\", \"bbox_depth\", \"bbox_volume\",\n",
    "    \"bbox_area\",\n",
    "]\n",
    "data = pd.read_csv(\"./data/synced_dataset_final.csv\")"
   ],
   "id": "cb5d3b76e77f8920",
   "outputs": [],
   "execution_count": 3
  },
  {
   "metadata": {
    "ExecuteTime": {
     "end_time": "2025-08-17T20:42:01.261061Z",
     "start_time": "2025-08-17T20:41:10.176060Z"
    }
   },
   "cell_type": "code",
   "source": [
    "X = data[features]\n",
    "X_train, X_test, y_train_index, y_test_index = train_test_split(\n",
    "    X, range(len(X)),\n",
    "    test_size=0.2,\n",
    "    random_state=100,\n",
    "    stratify=data[\"is_cnc\"])\n",
    "y_multi_train = data[\"multiclass_labels\"].iloc[y_train_index]\n",
    "y_multi_test = data[\"multiclass_labels\"].iloc[y_test_index]\n",
    "\n",
    "y_binary_train = data[\"is_cnc\"].iloc[y_train_index]\n",
    "y_binary_test = data[\"is_cnc\"].iloc[y_test_index]\n",
    "\n",
    "params = {\n",
    "    \"n_estimators\": randint(100, 300),\n",
    "    \"max_depth\": randint(3, 10),\n",
    "    \"learning_rate\": uniform(0.005, 0.3),\n",
    "}\n",
    "best_search_binary = randomizedsearchcv_xgboost(\n",
    "    X_train, y_binary_train,\n",
    "    params, n_iter=50,\n",
    ")"
   ],
   "id": "ed1980a55a7deb35",
   "outputs": [],
   "execution_count": 10
  },
  {
   "metadata": {
    "ExecuteTime": {
     "end_time": "2025-08-17T20:42:01.494045Z",
     "start_time": "2025-08-17T20:42:01.288074Z"
    }
   },
   "cell_type": "code",
   "source": [
    "y_binary_pred = best_search_binary.best_estimator_.predict(X_test)\n",
    "y_binary_prob = best_search_binary.best_estimator_.predict_proba(X_test)\n",
    "y_binary_pred_train = best_search_binary.best_estimator_.predict(X_train)\n",
    "y_binary_prob_train = best_search_binary.best_estimator_.predict_proba(X_train)\n",
    "metrics_binary_validation = evaluate_classification(\n",
    "    y_true=y_binary_test,\n",
    "    y_pred=y_binary_pred,\n",
    "    y_prob=y_binary_prob,\n",
    ")\n",
    "metrics_binary_train = evaluate_classification(\n",
    "    y_true=y_binary_train,\n",
    "    y_pred=y_binary_pred_train,\n",
    "    y_prob=y_binary_prob_train,\n",
    ")\n",
    "pd.DataFrame([metrics_binary_train, metrics_binary_validation], index=[\"train\", \"validation\"]).T"
   ],
   "id": "ac96927799226d6a",
   "outputs": [
    {
     "data": {
      "text/plain": [
       "                      train  validation\n",
       "accuracy           0.951304    0.870498\n",
       "f1_macro           0.947830    0.860209\n",
       "f1_weighted        0.951724    0.871178\n",
       "roc_auc            0.992262    0.936981\n",
       "average_precision  0.995679    0.961874"
      ],
      "text/html": [
       "<div>\n",
       "<style scoped>\n",
       "    .dataframe tbody tr th:only-of-type {\n",
       "        vertical-align: middle;\n",
       "    }\n",
       "\n",
       "    .dataframe tbody tr th {\n",
       "        vertical-align: top;\n",
       "    }\n",
       "\n",
       "    .dataframe thead th {\n",
       "        text-align: right;\n",
       "    }\n",
       "</style>\n",
       "<table border=\"1\" class=\"dataframe\">\n",
       "  <thead>\n",
       "    <tr style=\"text-align: right;\">\n",
       "      <th></th>\n",
       "      <th>train</th>\n",
       "      <th>validation</th>\n",
       "    </tr>\n",
       "  </thead>\n",
       "  <tbody>\n",
       "    <tr>\n",
       "      <th>accuracy</th>\n",
       "      <td>0.951304</td>\n",
       "      <td>0.870498</td>\n",
       "    </tr>\n",
       "    <tr>\n",
       "      <th>f1_macro</th>\n",
       "      <td>0.947830</td>\n",
       "      <td>0.860209</td>\n",
       "    </tr>\n",
       "    <tr>\n",
       "      <th>f1_weighted</th>\n",
       "      <td>0.951724</td>\n",
       "      <td>0.871178</td>\n",
       "    </tr>\n",
       "    <tr>\n",
       "      <th>roc_auc</th>\n",
       "      <td>0.992262</td>\n",
       "      <td>0.936981</td>\n",
       "    </tr>\n",
       "    <tr>\n",
       "      <th>average_precision</th>\n",
       "      <td>0.995679</td>\n",
       "      <td>0.961874</td>\n",
       "    </tr>\n",
       "  </tbody>\n",
       "</table>\n",
       "</div>"
      ]
     },
     "execution_count": 11,
     "metadata": {},
     "output_type": "execute_result"
    }
   ],
   "execution_count": 11
  },
  {
   "metadata": {
    "ExecuteTime": {
     "end_time": "2025-08-18T11:45:13.687924Z",
     "start_time": "2025-08-18T08:02:14.568572Z"
    }
   },
   "cell_type": "code",
   "source": [
    "fold_results = xgboost_optuna(\n",
    "    data,\n",
    "    n_trials=2000,\n",
    "    features=features\n",
    ")"
   ],
   "id": "a4b47c9fdb2c19f9",
   "outputs": [
    {
     "name": "stdout",
     "output_type": "stream",
     "text": [
      "Optimizing fold 0.0:\n"
     ]
    },
    {
     "data": {
      "text/plain": [
       "  0%|          | 0/2000 [00:00<?, ?it/s]"
      ],
      "application/vnd.jupyter.widget-view+json": {
       "version_major": 2,
       "version_minor": 0,
       "model_id": "9cdea962629145648bc97c094582d4e1"
      }
     },
     "metadata": {},
     "output_type": "display_data"
    },
    {
     "name": "stdout",
     "output_type": "stream",
     "text": [
      "Optimizing fold 1.0:\n"
     ]
    },
    {
     "data": {
      "text/plain": [
       "  0%|          | 0/2000 [00:00<?, ?it/s]"
      ],
      "application/vnd.jupyter.widget-view+json": {
       "version_major": 2,
       "version_minor": 0,
       "model_id": "6fe3639a627f43ebb78119a17fb56fa5"
      }
     },
     "metadata": {},
     "output_type": "display_data"
    },
    {
     "name": "stdout",
     "output_type": "stream",
     "text": [
      "Optimizing fold 2.0:\n"
     ]
    },
    {
     "data": {
      "text/plain": [
       "  0%|          | 0/2000 [00:00<?, ?it/s]"
      ],
      "application/vnd.jupyter.widget-view+json": {
       "version_major": 2,
       "version_minor": 0,
       "model_id": "4c84b1fed43a47cf84c078bed638311c"
      }
     },
     "metadata": {},
     "output_type": "display_data"
    },
    {
     "name": "stdout",
     "output_type": "stream",
     "text": [
      "Optimizing fold 3.0:\n"
     ]
    },
    {
     "data": {
      "text/plain": [
       "  0%|          | 0/2000 [00:00<?, ?it/s]"
      ],
      "application/vnd.jupyter.widget-view+json": {
       "version_major": 2,
       "version_minor": 0,
       "model_id": "669b9bae4ba94ea68197557ef86bf12d"
      }
     },
     "metadata": {},
     "output_type": "display_data"
    },
    {
     "name": "stdout",
     "output_type": "stream",
     "text": [
      "Optimizing fold 4.0:\n"
     ]
    },
    {
     "data": {
      "text/plain": [
       "  0%|          | 0/2000 [00:00<?, ?it/s]"
      ],
      "application/vnd.jupyter.widget-view+json": {
       "version_major": 2,
       "version_minor": 0,
       "model_id": "5841cfc4ae774bebb872dfa25fb764cc"
      }
     },
     "metadata": {},
     "output_type": "display_data"
    },
    {
     "name": "stdout",
     "output_type": "stream",
     "text": [
      "Optimizing fold 5.0:\n"
     ]
    },
    {
     "data": {
      "text/plain": [
       "  0%|          | 0/2000 [00:00<?, ?it/s]"
      ],
      "application/vnd.jupyter.widget-view+json": {
       "version_major": 2,
       "version_minor": 0,
       "model_id": "52a9cbf6b5b94511bb046d7562ab1470"
      }
     },
     "metadata": {},
     "output_type": "display_data"
    },
    {
     "name": "stdout",
     "output_type": "stream",
     "text": [
      "Optimizing fold 6.0:\n"
     ]
    },
    {
     "data": {
      "text/plain": [
       "  0%|          | 0/2000 [00:00<?, ?it/s]"
      ],
      "application/vnd.jupyter.widget-view+json": {
       "version_major": 2,
       "version_minor": 0,
       "model_id": "97510e251e7b4993948b30be77620d6b"
      }
     },
     "metadata": {},
     "output_type": "display_data"
    },
    {
     "name": "stdout",
     "output_type": "stream",
     "text": [
      "Optimizing fold 7.0:\n"
     ]
    },
    {
     "data": {
      "text/plain": [
       "  0%|          | 0/2000 [00:00<?, ?it/s]"
      ],
      "application/vnd.jupyter.widget-view+json": {
       "version_major": 2,
       "version_minor": 0,
       "model_id": "7de72367bed645b4a69faa29f1b1e8ef"
      }
     },
     "metadata": {},
     "output_type": "display_data"
    },
    {
     "name": "stdout",
     "output_type": "stream",
     "text": [
      "Optimizing fold 8.0:\n"
     ]
    },
    {
     "data": {
      "text/plain": [
       "  0%|          | 0/2000 [00:00<?, ?it/s]"
      ],
      "application/vnd.jupyter.widget-view+json": {
       "version_major": 2,
       "version_minor": 0,
       "model_id": "175e882fd962413782892fd701ceae10"
      }
     },
     "metadata": {},
     "output_type": "display_data"
    },
    {
     "name": "stdout",
     "output_type": "stream",
     "text": [
      "Optimizing fold 9.0:\n"
     ]
    },
    {
     "data": {
      "text/plain": [
       "  0%|          | 0/2000 [00:00<?, ?it/s]"
      ],
      "application/vnd.jupyter.widget-view+json": {
       "version_major": 2,
       "version_minor": 0,
       "model_id": "5da659eb4d8a44ed8be260101f998b48"
      }
     },
     "metadata": {},
     "output_type": "display_data"
    }
   ],
   "execution_count": 17
  },
  {
   "metadata": {
    "ExecuteTime": {
     "end_time": "2025-08-18T13:02:07.126767Z",
     "start_time": "2025-08-18T13:02:02.302498Z"
    }
   },
   "cell_type": "code",
   "source": [
    "with open(r\"./data/xgboost_binary_optuna_results.pkl\", \"wb\") as f:\n",
    "    joblib.dump(fold_results, f)"
   ],
   "id": "5d70cfb2b8e4e11d",
   "outputs": [],
   "execution_count": 18
  },
  {
   "metadata": {
    "ExecuteTime": {
     "end_time": "2025-08-18T13:04:45.250890Z",
     "start_time": "2025-08-18T13:04:45.241739Z"
    }
   },
   "cell_type": "code",
   "source": [
    "pd.DataFrame({key: (value[\"study\"].best_trial.user_attrs[\"train_auroc\"],\n",
    "                    value[\"best_score\"]) for key, value in\n",
    "              fold_results.items()}, index=[\"train_auroc\", \"validation_auroc\"]).T"
   ],
   "id": "c836ee5355fba4b2",
   "outputs": [
    {
     "data": {
      "text/plain": [
       "          train_auroc  validation_auroc\n",
       "fold_0.0     0.993062          0.946157\n",
       "fold_1.0     0.992681          0.944985\n",
       "fold_2.0     0.992461          0.943859\n",
       "fold_3.0     0.992555          0.941675\n",
       "fold_4.0     0.993113          0.941118\n",
       "fold_5.0     0.992562          0.943324\n",
       "fold_6.0     0.992182          0.940895\n",
       "fold_7.0     0.993285          0.940183\n",
       "fold_8.0     0.993506          0.940808\n",
       "fold_9.0     0.993249          0.942123"
      ],
      "text/html": [
       "<div>\n",
       "<style scoped>\n",
       "    .dataframe tbody tr th:only-of-type {\n",
       "        vertical-align: middle;\n",
       "    }\n",
       "\n",
       "    .dataframe tbody tr th {\n",
       "        vertical-align: top;\n",
       "    }\n",
       "\n",
       "    .dataframe thead th {\n",
       "        text-align: right;\n",
       "    }\n",
       "</style>\n",
       "<table border=\"1\" class=\"dataframe\">\n",
       "  <thead>\n",
       "    <tr style=\"text-align: right;\">\n",
       "      <th></th>\n",
       "      <th>train_auroc</th>\n",
       "      <th>validation_auroc</th>\n",
       "    </tr>\n",
       "  </thead>\n",
       "  <tbody>\n",
       "    <tr>\n",
       "      <th>fold_0.0</th>\n",
       "      <td>0.993062</td>\n",
       "      <td>0.946157</td>\n",
       "    </tr>\n",
       "    <tr>\n",
       "      <th>fold_1.0</th>\n",
       "      <td>0.992681</td>\n",
       "      <td>0.944985</td>\n",
       "    </tr>\n",
       "    <tr>\n",
       "      <th>fold_2.0</th>\n",
       "      <td>0.992461</td>\n",
       "      <td>0.943859</td>\n",
       "    </tr>\n",
       "    <tr>\n",
       "      <th>fold_3.0</th>\n",
       "      <td>0.992555</td>\n",
       "      <td>0.941675</td>\n",
       "    </tr>\n",
       "    <tr>\n",
       "      <th>fold_4.0</th>\n",
       "      <td>0.993113</td>\n",
       "      <td>0.941118</td>\n",
       "    </tr>\n",
       "    <tr>\n",
       "      <th>fold_5.0</th>\n",
       "      <td>0.992562</td>\n",
       "      <td>0.943324</td>\n",
       "    </tr>\n",
       "    <tr>\n",
       "      <th>fold_6.0</th>\n",
       "      <td>0.992182</td>\n",
       "      <td>0.940895</td>\n",
       "    </tr>\n",
       "    <tr>\n",
       "      <th>fold_7.0</th>\n",
       "      <td>0.993285</td>\n",
       "      <td>0.940183</td>\n",
       "    </tr>\n",
       "    <tr>\n",
       "      <th>fold_8.0</th>\n",
       "      <td>0.993506</td>\n",
       "      <td>0.940808</td>\n",
       "    </tr>\n",
       "    <tr>\n",
       "      <th>fold_9.0</th>\n",
       "      <td>0.993249</td>\n",
       "      <td>0.942123</td>\n",
       "    </tr>\n",
       "  </tbody>\n",
       "</table>\n",
       "</div>"
      ]
     },
     "execution_count": 24,
     "metadata": {},
     "output_type": "execute_result"
    }
   ],
   "execution_count": 24
  },
  {
   "metadata": {
    "ExecuteTime": {
     "end_time": "2025-08-18T13:04:49.105599Z",
     "start_time": "2025-08-18T13:04:49.100739Z"
    }
   },
   "cell_type": "code",
   "source": [
    "auroc_scores = [item[\"best_score\"] for item in fold_results.values()]\n",
    "average_mean = np.mean(auroc_scores)\n",
    "average_std = np.std(auroc_scores)\n",
    "print(f\"Average AUROC: {average_mean:.6f} ± {average_std:.6f}\")"
   ],
   "id": "62b440324284ad4",
   "outputs": [
    {
     "name": "stdout",
     "output_type": "stream",
     "text": [
      "Average AUROC: 0.942513 ± 0.001887\n"
     ]
    }
   ],
   "execution_count": 25
  }
 ],
 "metadata": {
  "kernelspec": {
   "display_name": "Python 3",
   "language": "python",
   "name": "python3"
  },
  "language_info": {
   "codemirror_mode": {
    "name": "ipython",
    "version": 2
   },
   "file_extension": ".py",
   "mimetype": "text/x-python",
   "name": "python",
   "nbconvert_exporter": "python",
   "pygments_lexer": "ipython2",
   "version": "2.7.6"
  }
 },
 "nbformat": 4,
 "nbformat_minor": 5
}
