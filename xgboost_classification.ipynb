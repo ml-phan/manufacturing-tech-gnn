{
 "cells": [
  {
   "cell_type": "code",
   "id": "initial_id",
   "metadata": {
    "collapsed": true,
    "ExecuteTime": {
     "end_time": "2025-08-12T16:23:07.743642Z",
     "start_time": "2025-08-12T16:23:07.596559Z"
    }
   },
   "source": [
    "%load_ext autoreload\n",
    "%autoreload 1"
   ],
   "outputs": [],
   "execution_count": 2
  },
  {
   "metadata": {
    "ExecuteTime": {
     "end_time": "2025-08-12T16:23:13.628897Z",
     "start_time": "2025-08-12T16:23:07.770646Z"
    }
   },
   "cell_type": "code",
   "source": [
    "from scipy.stats import randint, uniform\n",
    "from sklearn.model_selection import train_test_split\n",
    "from src.data_loader import *\n",
    "from sklearn.preprocessing import label_binarize, PowerTransformer\n",
    "from PIL import Image\n",
    "from IPython.display import Image, display\n",
    "from src.pipeline import *\n",
    "import joblib\n",
    "from src.convert_graphml_to_pyg_data_multithread import *\n",
    "from tqdm import tqdm\n",
    "\n",
    "import networkx as nx\n",
    "%aimport src.data_loader\n",
    "%aimport src.visualization\n",
    "%aimport src.training\n",
    "%aimport src.evaluation\n",
    "%aimport src.pipeline\n",
    "%aimport src.convert_graphml_to_pyg_data_multithread"
   ],
   "id": "666b5ff7346766d0",
   "outputs": [],
   "execution_count": 3
  },
  {
   "metadata": {
    "ExecuteTime": {
     "end_time": "2025-08-12T16:23:14.211226Z",
     "start_time": "2025-08-12T16:23:13.666864Z"
    }
   },
   "cell_type": "code",
   "source": [
    "features = [\n",
    "            \"faces\", \"edges\", \"vertices\", \"quantity\",\n",
    "            \"height\", \"width\", \"depth\", \"volume\", \"area\",\n",
    "            \"bbox_height\", \"bbox_width\", \"bbox_depth\", \"bbox_volume\",\n",
    "            \"bbox_area\",\n",
    "        ]\n",
    "data = pd.read_csv(\"./data/synced_dataset_final.csv\")"
   ],
   "id": "cb5d3b76e77f8920",
   "outputs": [],
   "execution_count": 4
  },
  {
   "metadata": {
    "ExecuteTime": {
     "end_time": "2025-08-12T16:23:14.267387Z",
     "start_time": "2025-08-12T16:23:14.230602Z"
    }
   },
   "cell_type": "code",
   "source": [
    "X = data[features]\n",
    "X_train, X_test, y_train_index, y_test_index = train_test_split(\n",
    "    X, range(len(X)),\n",
    "    test_size=0.2,\n",
    "    random_state=100,\n",
    "    stratify=data[\"is_cnc\"])\n",
    "y_multi_train = data[\"multiclass_labels\"].iloc[y_train_index]\n",
    "y_multi_test = data[\"multiclass_labels\"].iloc[y_test_index]\n",
    "\n",
    "y_binary_train = data[\"is_cnc\"].iloc[y_train_index]\n",
    "y_binary_test = data[\"is_cnc\"].iloc[y_test_index]\n",
    "\n",
    "\n",
    "params = {\n",
    "    \"n_estimators\": randint(100, 300),\n",
    "    \"max_depth\": randint(3, 10),\n",
    "    \"learning_rate\": uniform(0.01, 0.3),\n",
    "}"
   ],
   "id": "51ea8bd06054f43b",
   "outputs": [],
   "execution_count": 5
  },
  {
   "metadata": {
    "ExecuteTime": {
     "end_time": "2025-08-12T16:23:28.154397Z",
     "start_time": "2025-08-12T16:23:14.291453Z"
    }
   },
   "cell_type": "code",
   "source": "best_search_binary = randomizedsearchcv_xgboost(X_train, y_binary_train, params)",
   "id": "ed1980a55a7deb35",
   "outputs": [],
   "execution_count": 6
  },
  {
   "metadata": {
    "ExecuteTime": {
     "end_time": "2025-08-12T16:23:28.223635Z",
     "start_time": "2025-08-12T16:23:28.180989Z"
    }
   },
   "cell_type": "code",
   "source": [
    "y_binary_pred = best_search_binary.best_estimator_.predict(X_test)\n",
    "y_binary_prob = best_search_binary.best_estimator_.predict_proba(X_test)"
   ],
   "id": "ac96927799226d6a",
   "outputs": [],
   "execution_count": 7
  },
  {
   "metadata": {
    "ExecuteTime": {
     "end_time": "2025-08-12T16:23:28.276209Z",
     "start_time": "2025-08-12T16:23:28.254095Z"
    }
   },
   "cell_type": "code",
   "source": [
    "print(\"Binary Model Evaluation\")\n",
    "metrics_binary = evaluate_classification(\n",
    "    y_true=y_binary_test,\n",
    "    y_pred=y_binary_pred,\n",
    "    y_prob=y_binary_prob,\n",
    ")\n",
    "pprint(metrics_binary)"
   ],
   "id": "cd953fdb13f529f9",
   "outputs": [
    {
     "name": "stdout",
     "output_type": "stream",
     "text": [
      "Binary Model Evaluation\n",
      "{'accuracy': 0.8711414790996784,\n",
      " 'average_precision': 0.9604947229991485,\n",
      " 'f1_macro': 0.8609816827884358,\n",
      " 'f1_weighted': 0.8718514262103362,\n",
      " 'roc_auc': 0.9350805013844213}\n"
     ]
    }
   ],
   "execution_count": 8
  },
  {
   "metadata": {
    "ExecuteTime": {
     "end_time": "2025-08-12T16:23:28.472251Z",
     "start_time": "2025-08-12T16:23:28.306181Z"
    }
   },
   "cell_type": "code",
   "source": [
    "y_binary_pred_train = best_search_binary.best_estimator_.predict(X_train)\n",
    "y_binary_prob_train = best_search_binary.best_estimator_.predict_proba(X_train)\n",
    "\n",
    "metrics_binary_train = evaluate_classification(\n",
    "    y_true=y_binary_train,\n",
    "    y_pred=y_binary_pred_train,\n",
    "    y_prob=y_binary_prob_train,\n",
    ")\n",
    "pprint(metrics_binary_train)"
   ],
   "id": "41fc03450ea12180",
   "outputs": [
    {
     "name": "stdout",
     "output_type": "stream",
     "text": [
      "{'accuracy': 0.9465814542385144,\n",
      " 'average_precision': 0.9942039999295788,\n",
      " 'f1_macro': 0.9427195107495587,\n",
      " 'f1_weighted': 0.9470214527536648,\n",
      " 'roc_auc': 0.9892845813353901}\n"
     ]
    }
   ],
   "execution_count": 9
  },
  {
   "metadata": {},
   "cell_type": "code",
   "outputs": [],
   "execution_count": null,
   "source": "",
   "id": "2ddb24d1463ba460"
  }
 ],
 "metadata": {
  "kernelspec": {
   "display_name": "Python 3",
   "language": "python",
   "name": "python3"
  },
  "language_info": {
   "codemirror_mode": {
    "name": "ipython",
    "version": 2
   },
   "file_extension": ".py",
   "mimetype": "text/x-python",
   "name": "python",
   "nbconvert_exporter": "python",
   "pygments_lexer": "ipython2",
   "version": "2.7.6"
  }
 },
 "nbformat": 4,
 "nbformat_minor": 5
}
