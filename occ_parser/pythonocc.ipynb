{
 "cells": [
  {
   "cell_type": "code",
   "id": "initial_id",
   "metadata": {
    "collapsed": true,
    "ExecuteTime": {
     "end_time": "2025-07-29T13:34:58.026441Z",
     "start_time": "2025-07-29T13:34:58.019412Z"
    }
   },
   "source": [
    "from collections import defaultdict\n",
    "\n",
    "import matplotlib.pyplot as plt\n",
    "import networkx as nx\n",
    "import os\n",
    "import os.path\n",
    "import sys\n",
    "from pathlib import Path\n",
    "\n",
    "from OCC.Core.GProp import GProp_GProps\n",
    "from OCC.Core.STEPControl import STEPControl_Reader\n",
    "from OCC.Core.IFSelect import IFSelect_RetDone, IFSelect_ItemsByEntity\n",
    "from OCC.Core.GeomAbs import GeomAbs_Plane, GeomAbs_Cylinder, GeomAbs_NonUniform\n",
    "from OCC.Core.TopAbs import TopAbs_FACE, TopAbs_EDGE, TopAbs_VERTEX\n",
    "from OCC.Core.TopExp import TopExp_Explorer\n",
    "from OCC.Core.TopoDS import topods, TopoDS_Face\n",
    "from OCC.Core.BRepAdaptor import BRepAdaptor_Surface\n",
    "from OCC.Display.SimpleGui import init_display\n",
    "from OCC.Core.TopoDS import TopoDS_Shape\n",
    "from OCC.Core.BRepAdaptor import BRepAdaptor_Surface, BRepAdaptor_Curve\n",
    "from OCC.Core.GeomAbs import GeomAbs_Plane, GeomAbs_Cylinder, GeomAbs_Sphere, \\\n",
    "    GeomAbs_Cone, GeomAbs_BezierSurface, \\\n",
    "    GeomAbs_BSplineSurface, GeomAbs_OffsetSurface, \\\n",
    "    GeomAbs_SurfaceOfExtrusion, \\\n",
    "    GeomAbs_SurfaceOfRevolution\n",
    "from OCC.Core import GeomAbs, TopExp\n",
    "from OCC.Core.GeomAbs import GeomAbs_SurfaceType\n",
    "import OCC.Core.BRepGProp as brp\n",
    "from OCC.Core.GProp import GProp_GProps\n",
    "from OCC.Core.BRep import BRep_Tool\n",
    "from OCC.Core.BRepLProp import BRepLProp_SLProps\n",
    "\n",
    "from OCC.Extend.TopologyUtils import TopologyExplorer"
   ],
   "outputs": [],
   "execution_count": 19
  },
  {
   "metadata": {
    "ExecuteTime": {
     "end_time": "2025-07-29T13:09:14.214429Z",
     "start_time": "2025-07-29T13:09:14.208007Z"
    }
   },
   "cell_type": "code",
   "source": [
    "def read_step_file(filename):\n",
    "    \"\"\"read the STEP file and returns a compound\"\"\"\n",
    "    step_reader = STEPControl_Reader()\n",
    "    status = step_reader.ReadFile(filename)\n",
    "\n",
    "    if status == IFSelect_RetDone:  # check status\n",
    "        failsonly = False\n",
    "        step_reader.PrintCheckLoad(failsonly, IFSelect_ItemsByEntity)\n",
    "        step_reader.PrintCheckTransfer(failsonly, IFSelect_ItemsByEntity)\n",
    "        step_reader.TransferRoot(1)\n",
    "        a_shape = step_reader.Shape(1)\n",
    "    else:\n",
    "        print(\"Error: can't read file.\")\n",
    "        sys.exit(0)\n",
    "    return a_shape"
   ],
   "id": "3454cb83f65ff4c",
   "outputs": [],
   "execution_count": 3
  },
  {
   "metadata": {
    "ExecuteTime": {
     "end_time": "2025-07-29T13:36:14.422161Z",
     "start_time": "2025-07-29T13:36:14.415751Z"
    }
   },
   "cell_type": "code",
   "source": [
    "def get_face_properties(face):\n",
    "    face_properties = {}\n",
    "    surface = BRepAdaptor_Surface(face)\n",
    "    surface_type = surface.GetType()\n",
    "    edge_count = 0\n",
    "    edge_explorer = TopExp_Explorer(face, TopAbs_EDGE)\n",
    "    while edge_explorer.More():\n",
    "        edge_count += 1\n",
    "        edge_explorer.Next()\n",
    "\n",
    "    vertex_count = 0\n",
    "    vertex_explorer = TopExp_Explorer(face, TopAbs_VERTEX)\n",
    "    while vertex_explorer.More():\n",
    "        vertex_count += 1\n",
    "        vertex_explorer.Next()\n",
    "    props = GProp_GProps()\n",
    "    brp.brepgprop.SurfaceProperties(face, props)\n",
    "    u_min, u_max, v_min, v_max = surface.FirstUParameter(), surface.LastUParameter(), \\\n",
    "        surface.FirstVParameter(), surface.LastVParameter()\n",
    "    u_span = u_max - u_min\n",
    "    v_span = v_max - v_min\n",
    "    u_mid = (u_min + u_max) / 2.0\n",
    "    v_mid = (v_min + v_max) / 2.0\n",
    "    geom_props = BRepLProp_SLProps(surface, 2, 1e-6)\n",
    "    geom_props.SetParameters(u_mid, v_mid)\n",
    "    mean_curvature = None\n",
    "    gaussian_curvature = None\n",
    "    if geom_props.IsCurvatureDefined():\n",
    "        mean_curvature = geom_props.MeanCurvature()\n",
    "        gaussian_curvature = geom_props.GaussianCurvature()\n",
    "    face_properties = {\n",
    "        \"edge_count\": edge_count,\n",
    "        \"vertex_count\": vertex_count,\n",
    "        \"area\" : props.Mass(),\n",
    "        \"u_span\" : u_span,\n",
    "        \"v_span\" : v_span,\n",
    "        \"mean_curvature\" : mean_curvature,\n",
    "        \"gaussian_curvature\" : gaussian_curvature,\n",
    "        \"orientation\": face.Orientation(),\n",
    "    }\n",
    "    return face_properties"
   ],
   "id": "6c385b10f9f4ece8",
   "outputs": [],
   "execution_count": 21
  },
  {
   "metadata": {
    "ExecuteTime": {
     "end_time": "2025-07-29T13:09:14.498413Z",
     "start_time": "2025-07-29T13:09:14.487613Z"
    }
   },
   "cell_type": "code",
   "source": [
    "def parse_step_with_occ(step_file_path: Path or str):\n",
    "    shape = read_step_file(step_file_path)\n",
    "\n",
    "    # Parse all faces\n",
    "    face_explorer = TopExp_Explorer(shape, TopAbs_FACE)\n",
    "    edge_to_faces = defaultdict(list)\n",
    "    face_list = []\n",
    "    face_index = 0\n",
    "    face_to_index = {}\n",
    "    while face_explorer.More():\n",
    "        face = face_explorer.Current()\n",
    "        if face:\n",
    "            face_list.append(face)\n",
    "            face_to_index[face] = face_index\n",
    "            face_index += 1\n",
    "        face_explorer.Next()\n",
    "\n",
    "    # Parse all edges for each face\n",
    "    for face_idx, face in enumerate(face_list):\n",
    "        edge_explorer = TopExp_Explorer(face, TopAbs_EDGE)\n",
    "        while edge_explorer.More():\n",
    "            edge = edge_explorer.Current()\n",
    "            edge_hash = edge.__hash__()\n",
    "            edge_to_faces[edge_hash].append((face_idx, edge))\n",
    "            edge_explorer.Next()\n",
    "    G = nx.Graph()\n",
    "    for idx, face in enumerate(face_list):\n",
    "        G.add_node(idx)\n",
    "    shared_edges_info = []\n",
    "    for edge_hash, face_list in edge_to_faces.items():\n",
    "        if len(face_list) == 2:\n",
    "            face1_idx, face1 = face_list[0]\n",
    "            face2_idx, face2 = face_list[1]\n",
    "            shared_edges_info.append((edge_hash, face1_idx, face2_idx))\n",
    "            G.add_edge(face1_idx, face2_idx, edge_hash=edge_hash, shared_edge_count=len(face_list))\n",
    "        if len(face_list) >= 2:\n",
    "            for i in range(len(face_list)):\n",
    "                for j in range(i + 1, len(face_list)):\n",
    "                    face1_idx, face1 = face_list[i]\n",
    "                    face2_idx, face2 = face_list[j]\n",
    "                    shared_edges_info.append((edge_hash, face1_idx, face2_idx))\n",
    "                    G.add_edge(face1_idx, face2_idx, edge_hash=edge_hash,shared_edge_count = len(face_list))\n",
    "    return G"
   ],
   "id": "7f1bb2af347f52d8",
   "outputs": [],
   "execution_count": 5
  },
  {
   "metadata": {
    "ExecuteTime": {
     "end_time": "2025-07-29T13:14:35.273701Z",
     "start_time": "2025-07-29T13:14:35.235767Z"
    }
   },
   "cell_type": "code",
   "source": "shp = read_step_file(r\"C:\\Users\\ManhPhan.AzureAD\\Downloads\\square_pocket.step\")",
   "id": "bde0a4ed1a187fc9",
   "outputs": [],
   "execution_count": 11
  },
  {
   "metadata": {
    "ExecuteTime": {
     "end_time": "2025-07-29T13:14:36.753228Z",
     "start_time": "2025-07-29T13:14:36.747708Z"
    }
   },
   "cell_type": "code",
   "source": "t = TopologyExplorer(shp)",
   "id": "ef2ed1940f98688f",
   "outputs": [],
   "execution_count": 12
  },
  {
   "metadata": {
    "ExecuteTime": {
     "end_time": "2025-07-29T13:14:37.814702Z",
     "start_time": "2025-07-29T13:14:37.805767Z"
    }
   },
   "cell_type": "code",
   "source": [
    "all_faces = list(t.faces())\n",
    "all_edges = list(t.edges())\n",
    "all_vertices = list(t.vertices())\n",
    "len(all_faces), len(all_edges), len(all_vertices)"
   ],
   "id": "cac2ecd99eb582c8",
   "outputs": [
    {
     "data": {
      "text/plain": [
       "(11, 24, 16)"
      ]
     },
     "execution_count": 13,
     "metadata": {},
     "output_type": "execute_result"
    }
   ],
   "execution_count": 13
  },
  {
   "metadata": {
    "ExecuteTime": {
     "end_time": "2025-07-29T10:51:25.753241Z",
     "start_time": "2025-07-29T10:51:25.747823Z"
    }
   },
   "cell_type": "code",
   "outputs": [],
   "execution_count": 33,
   "source": [
    "face_explorer = TopExp_Explorer(shp, TopAbs_FACE)\n",
    "edge_to_faces = defaultdict(list)\n",
    "face_list = []\n",
    "face_index = 0\n",
    "face_to_index = {}\n",
    "while face_explorer.More():\n",
    "    face = face_explorer.Current()\n",
    "    if face:\n",
    "        face_list.append(face)\n",
    "        face_to_index[face] = face_index\n",
    "        face_index += 1\n",
    "    face_explorer.Next()"
   ],
   "id": "f63ea7852c7aca52"
  },
  {
   "metadata": {
    "ExecuteTime": {
     "end_time": "2025-07-29T10:51:35.689802Z",
     "start_time": "2025-07-29T10:51:35.684606Z"
    }
   },
   "cell_type": "code",
   "source": [
    "for face_idx, face in enumerate(face_list):\n",
    "    edge_explorer = TopExp_Explorer(face, TopAbs_EDGE)\n",
    "    while edge_explorer.More():\n",
    "        edge = edge_explorer.Current()\n",
    "        edge_hash = edge.__hash__()\n",
    "        edge_to_faces[edge_hash].append((face_idx, edge))\n",
    "        edge_explorer.Next()"
   ],
   "id": "5a63edec6159a34",
   "outputs": [],
   "execution_count": 35
  },
  {
   "metadata": {
    "ExecuteTime": {
     "end_time": "2025-07-29T10:58:57.143507Z",
     "start_time": "2025-07-29T10:58:57.135281Z"
    }
   },
   "cell_type": "code",
   "source": "edge_to_faces",
   "id": "64239326de592b74",
   "outputs": [
    {
     "data": {
      "text/plain": [
       "defaultdict(list,\n",
       "            {6525178723372063888: [(0, <class 'TopoDS_Edge'>),\n",
       "              (1, <class 'TopoDS_Edge'>)],\n",
       "             4577556143123394228: [(0, <class 'TopoDS_Edge'>),\n",
       "              (4, <class 'TopoDS_Edge'>)],\n",
       "             2625177178679756922: [(0, <class 'TopoDS_Edge'>),\n",
       "              (2, <class 'TopoDS_Edge'>)],\n",
       "             2080118660258349705: [(0, <class 'TopoDS_Edge'>),\n",
       "              (3, <class 'TopoDS_Edge'>)],\n",
       "             14410038910103509559: [(1, <class 'TopoDS_Edge'>),\n",
       "              (5, <class 'TopoDS_Edge'>)],\n",
       "             5276238884587265063: [(1, <class 'TopoDS_Edge'>),\n",
       "              (4, <class 'TopoDS_Edge'>)],\n",
       "             3803995984709164926: [(1, <class 'TopoDS_Edge'>),\n",
       "              (3, <class 'TopoDS_Edge'>)],\n",
       "             880930479518315574: [(2, <class 'TopoDS_Edge'>),\n",
       "              (4, <class 'TopoDS_Edge'>)],\n",
       "             12433910935932515832: [(2, <class 'TopoDS_Edge'>),\n",
       "              (5, <class 'TopoDS_Edge'>)],\n",
       "             9852180936122676444: [(2, <class 'TopoDS_Edge'>),\n",
       "              (3, <class 'TopoDS_Edge'>)],\n",
       "             4058362888381101217: [(3, <class 'TopoDS_Edge'>),\n",
       "              (5, <class 'TopoDS_Edge'>)],\n",
       "             5189988797989004297: [(4, <class 'TopoDS_Edge'>),\n",
       "              (5, <class 'TopoDS_Edge'>)],\n",
       "             3030198937434057867: [(4, <class 'TopoDS_Edge'>),\n",
       "              (6, <class 'TopoDS_Edge'>)],\n",
       "             11291478720452680909: [(4, <class 'TopoDS_Edge'>),\n",
       "              (9, <class 'TopoDS_Edge'>)],\n",
       "             2796409367205272460: [(4, <class 'TopoDS_Edge'>),\n",
       "              (8, <class 'TopoDS_Edge'>)],\n",
       "             13689707577346497596: [(4, <class 'TopoDS_Edge'>),\n",
       "              (7, <class 'TopoDS_Edge'>)],\n",
       "             1967574981240933286: [(6, <class 'TopoDS_Edge'>),\n",
       "              (9, <class 'TopoDS_Edge'>)],\n",
       "             17394347052503432127: [(6, <class 'TopoDS_Edge'>),\n",
       "              (10, <class 'TopoDS_Edge'>)],\n",
       "             11723088987927907144: [(6, <class 'TopoDS_Edge'>),\n",
       "              (7, <class 'TopoDS_Edge'>)],\n",
       "             15022466691716543766: [(7, <class 'TopoDS_Edge'>),\n",
       "              (10, <class 'TopoDS_Edge'>)],\n",
       "             10340097051856886003: [(7, <class 'TopoDS_Edge'>),\n",
       "              (8, <class 'TopoDS_Edge'>)],\n",
       "             14592462256118254320: [(8, <class 'TopoDS_Edge'>),\n",
       "              (10, <class 'TopoDS_Edge'>)],\n",
       "             14498075042185484698: [(8, <class 'TopoDS_Edge'>),\n",
       "              (9, <class 'TopoDS_Edge'>)],\n",
       "             455518095278221151: [(9, <class 'TopoDS_Edge'>),\n",
       "              (10, <class 'TopoDS_Edge'>)]})"
      ]
     },
     "execution_count": 48,
     "metadata": {},
     "output_type": "execute_result"
    }
   ],
   "execution_count": 48
  },
  {
   "metadata": {
    "ExecuteTime": {
     "end_time": "2025-07-29T12:13:01.808334Z",
     "start_time": "2025-07-29T12:13:01.794510Z"
    }
   },
   "cell_type": "code",
   "source": [
    "G = nx.Graph()\n",
    "for idx, face in enumerate(face_list):\n",
    "    G.add_node(idx)\n",
    "shared_edges_info = []\n",
    "for edge_hash, face_list in edge_to_faces.items():\n",
    "    if len(face_list) == 2:\n",
    "        face1_idx, face1 = face_list[0]\n",
    "        face2_idx, face2 = face_list[1]\n",
    "        shared_edges_info.append((edge_hash, face1_idx, face2_idx))\n",
    "        G.add_edge(face1_idx, face2_idx, edge_hash=edge_hash, shared_edge_count=len(face_list))\n",
    "    if len(face_list) >= 2:\n",
    "        for i in range(len(face_list)):\n",
    "            for j in range(i + 1, len(face_list)):\n",
    "                face1_idx, face1 = face_list[i]\n",
    "                face2_idx, face2 = face_list[j]\n",
    "                shared_edges_info.append((edge_hash, face1_idx, face2_idx))\n",
    "                G.add_edge(face1_idx, face2_idx, edge_hash=edge_hash, shared_edge_count = len(face_list))"
   ],
   "id": "204f8b671d1a1924",
   "outputs": [],
   "execution_count": 109
  },
  {
   "metadata": {
    "ExecuteTime": {
     "end_time": "2025-07-29T12:12:01.142708Z",
     "start_time": "2025-07-29T12:12:01.136407Z"
    }
   },
   "cell_type": "code",
   "source": "G.nodes[0]",
   "id": "1a862bf2bac2b35b",
   "outputs": [
    {
     "data": {
      "text/plain": [
       "{'face': \"(9, <class 'TopoDS_Edge'>)\"}"
      ]
     },
     "execution_count": 106,
     "metadata": {},
     "output_type": "execute_result"
    }
   ],
   "execution_count": 106
  },
  {
   "metadata": {
    "ExecuteTime": {
     "end_time": "2025-07-29T12:12:06.090616Z",
     "start_time": "2025-07-29T12:12:06.041379Z"
    }
   },
   "cell_type": "code",
   "source": "nx.draw(G, with_labels=True)",
   "id": "acfd0580a34849de",
   "outputs": [
    {
     "data": {
      "text/plain": [
       "<Figure size 640x480 with 1 Axes>"
      ],
      "image/png": "[encoded data removed]"
     },
     "metadata": {},
     "output_type": "display_data"
    }
   ],
   "execution_count": 107
  },
  {
   "metadata": {
    "ExecuteTime": {
     "end_time": "2025-07-29T12:12:09.666545Z",
     "start_time": "2025-07-29T12:12:09.661547Z"
    }
   },
   "cell_type": "code",
   "source": [
    "# save graph as graphml format\n",
    "custom_names = {\n",
    "    'edge_hash': 'edge_hash',\n",
    "    'shared_faces_count': 'number_of_shared_faces'\n",
    "}\n",
    "# nx.write_graphml(G, r\"C:\\test_graphml.graphml\", custom_names)\n",
    "nx.write_graphml_lxml(G, r\"C:\\test_graphml.graphml\", prettyprint=True)"
   ],
   "id": "d7af0a3da8a8e505",
   "outputs": [],
   "execution_count": 108
  },
  {
   "metadata": {
    "ExecuteTime": {
     "end_time": "2025-07-29T13:09:27.169582Z",
     "start_time": "2025-07-29T13:09:26.768151Z"
    }
   },
   "cell_type": "code",
   "source": [
    "step_path = r\"C:\\step_files\\70794_DOC_RSG00000547_____ipt.stp\"\n",
    "G2 = parse_step_with_occ(step_path)\n",
    "nx.draw(G2, with_labels=True)\n",
    "nx.write_graphml(G2, r\"C:\\70794_DOC_RSG00000547_____ipt.graphml\", prettyprint=True)"
   ],
   "id": "bb08d63776026348",
   "outputs": [
    {
     "data": {
      "text/plain": [
       "<Figure size 640x480 with 1 Axes>"
      ],
      "image/png": "[encoded data removed]"
     },
     "metadata": {},
     "output_type": "display_data"
    }
   ],
   "execution_count": 7
  },
  {
   "metadata": {
    "ExecuteTime": {
     "end_time": "2025-07-29T13:36:30.999922Z",
     "start_time": "2025-07-29T13:36:30.986164Z"
    }
   },
   "cell_type": "code",
   "source": [
    "shp = read_step_file(step_path)\n",
    "t = TopologyExplorer(shp)\n",
    "for face in t.faces():\n",
    "    print(get_face_properties(face))\n",
    "    break"
   ],
   "id": "2f2e71c1ba00dff6",
   "outputs": [
    {
     "name": "stdout",
     "output_type": "stream",
     "text": [
      "2 - 283.2337873075959 - 6.283185307179586, 2.1213203435596433 - -0.016637806616154067 - -0.0\n",
      "{'edge_count': 4, 'vertex_count': 8, 'area': 283.2337873075959, 'u_span': 6.283185307179586, 'v_span': 2.1213203435596433, 'mean_curvature': -0.016637806616154067, 'gaussian_curvature': -0.0, 'orientation': 0}\n"
     ]
    }
   ],
   "execution_count": 22
  },
  {
   "metadata": {
    "ExecuteTime": {
     "end_time": "2025-07-29T10:18:05.471172Z",
     "start_time": "2025-07-29T10:18:04.946597Z"
    }
   },
   "cell_type": "code",
   "source": [
    "import networkx as nx\n",
    "\n",
    "G = nx.Graph()\n",
    "face_ids = {}\n",
    "counter = 0"
   ],
   "id": "a95612ca2201d1aa",
   "outputs": [],
   "execution_count": 9
  },
  {
   "metadata": {
    "ExecuteTime": {
     "end_time": "2025-07-29T13:17:34.279772Z",
     "start_time": "2025-07-29T13:17:34.268049Z"
    }
   },
   "cell_type": "code",
   "source": [
    "from OCC.Core.BRepAdaptor import BRepAdaptor_Surface\n",
    "from OCC.Core.GeomAbs import GeomAbs_SurfaceType\n",
    "import OCC.Core.BRepGProp as brp\n",
    "from OCC.Core.GProp import GProp_GProps\n",
    "from OCC.Core.GeomLProp import GeomLProp_SLProps\n",
    "from OCC.Core.GeomLProp import GeomLProp_SLProps\n",
    "from OCC.Core.BRep import BRep_Tool\n",
    "from OCC.Core.BRepLProp import BRepLProp_SLProps\n",
    "\n",
    "for face in all_faces:\n",
    "    surface = BRepAdaptor_Surface(face)\n",
    "    surface_type = surface.GetType()\n",
    "    edge_count = 0\n",
    "    edge_explorer = TopExp_Explorer(face, TopAbs_EDGE)\n",
    "    while edge_explorer.More():\n",
    "        edge_count += 1\n",
    "        edge_explorer.Next()\n",
    "\n",
    "    vertex_count = 0\n",
    "    vertex_explorer = TopExp_Explorer(face, TopAbs_VERTEX)\n",
    "    while vertex_explorer.More():\n",
    "        vertex_count += 1\n",
    "        vertex_explorer.Next()\n",
    "    props = GProp_GProps()\n",
    "    brp.brepgprop.SurfaceProperties(face, props)\n",
    "    u_min, u_max, v_min, v_max = surface.FirstUParameter(), surface.LastUParameter(), \\\n",
    "        surface.FirstVParameter(), surface.LastVParameter()\n",
    "    u_span = u_max - u_min\n",
    "    v_span = v_max - v_min\n",
    "    u_mid = (u_min + u_max) / 2.0\n",
    "    v_mid = (v_min + v_max) / 2.0\n",
    "    geom_props = BRepLProp_SLProps(surface, 2, 1e-6)\n",
    "    geom_props.SetParameters(u_mid, v_mid)\n",
    "    mean_curvature = 0\n",
    "    gaussian_curvature = 0\n",
    "    if geom_props.IsCurvatureDefined():\n",
    "        mean_curvature = geom_props.MeanCurvature()\n",
    "        gaussian_curvature = geom_props.GaussianCurvature()\n",
    "    print(f\"{surface_type} - {props.Mass()} - {u_span}, {v_span} - {mean_curvature} - {gaussian_curvature} - {face.Orientation()}\")\n"
   ],
   "id": "a769fbe868c62e3f",
   "outputs": [
    {
     "name": "stdout",
     "output_type": "stream",
     "text": [
      "0 - 2336.7609899999993 - 77.892033, 30.0 - 0.0 - 0.0 - 1\n",
      "0 - 4696.658009999999 - 156.55526700000001, 30.0 - 0.0 - 0.0 - 1\n",
      "0 - 4696.658009999999 - 156.55526700000001, 30.0 - 0.0 - 0.0 - 1\n",
      "0 - 12194.408023487807 - 156.55526700000001, 77.892033 - 0.0 - 0.0 - 1\n",
      "0 - 9325.27542396891 - 156.55526700000001, 77.892033 - 0.0 - 0.0 - 0\n",
      "0 - 2336.7609899999993 - 77.892033, 30.0 - 0.0 - 0.0 - 1\n",
      "0 - 172.23649999999998 - 34.4473, 5.0 - 0.0 - 0.0 - 1\n",
      "0 - 416.45246499999996 - 83.290493, 5.0 - 0.0 - 0.0 - 1\n",
      "0 - 172.23649999999998 - 34.4473, 5.0 - 0.0 - 0.0 - 1\n",
      "0 - 416.45246499999996 - 83.290493, 5.0 - 0.0 - 0.0 - 1\n",
      "0 - 2869.1325995189 - 83.290493, 34.4473 - 0.0 - 0.0 - 0\n"
     ]
    }
   ],
   "execution_count": 18
  },
  {
   "metadata": {
    "ExecuteTime": {
     "end_time": "2025-07-08T12:18:15.330118Z",
     "start_time": "2025-07-08T12:18:15.323735Z"
    }
   },
   "cell_type": "code",
   "source": [
    "import OCC.Core.GeomAbs as Geom\n",
    "\n",
    "for item in dir(Geom):\n",
    "    if not item.startswith(\"__\") and item.startswith(\"Geom\"):\n",
    "        attr = getattr(Geom, item)\n",
    "        print(f\"{item} = {attr}\")"
   ],
   "id": "2262e0972828941d",
   "outputs": [
    {
     "name": "stdout",
     "output_type": "stream",
     "text": [
      "GeomAbs_Arc = 0\n",
      "GeomAbs_BSplKnotDistribution = <enum 'GeomAbs_BSplKnotDistribution'>\n",
      "GeomAbs_BSplineCurve = 6\n",
      "GeomAbs_BSplineSurface = 6\n",
      "GeomAbs_BezierCurve = 5\n",
      "GeomAbs_BezierSurface = 5\n",
      "GeomAbs_C0 = 0\n",
      "GeomAbs_C1 = 2\n",
      "GeomAbs_C2 = 4\n",
      "GeomAbs_C3 = 5\n",
      "GeomAbs_CN = 6\n",
      "GeomAbs_Circle = 1\n",
      "GeomAbs_Cone = 2\n",
      "GeomAbs_CurveType = <enum 'GeomAbs_CurveType'>\n",
      "GeomAbs_Cylinder = 1\n",
      "GeomAbs_Ellipse = 2\n",
      "GeomAbs_G1 = 1\n",
      "GeomAbs_G2 = 3\n",
      "GeomAbs_Hyperbola = 3\n",
      "GeomAbs_Intersection = 2\n",
      "GeomAbs_IsoType = <enum 'GeomAbs_IsoType'>\n",
      "GeomAbs_IsoU = 0\n",
      "GeomAbs_IsoV = 1\n",
      "GeomAbs_JoinType = <enum 'GeomAbs_JoinType'>\n",
      "GeomAbs_Line = 0\n",
      "GeomAbs_NonUniform = 0\n",
      "GeomAbs_NoneIso = 2\n",
      "GeomAbs_OffsetCurve = 7\n",
      "GeomAbs_OffsetSurface = 9\n",
      "GeomAbs_OtherCurve = 8\n",
      "GeomAbs_OtherSurface = 10\n",
      "GeomAbs_Parabola = 4\n",
      "GeomAbs_PiecewiseBezier = 3\n",
      "GeomAbs_Plane = 0\n",
      "GeomAbs_QuasiUniform = 2\n",
      "GeomAbs_Shape = <enum 'GeomAbs_Shape'>\n",
      "GeomAbs_Sphere = 3\n",
      "GeomAbs_SurfaceOfExtrusion = 8\n",
      "GeomAbs_SurfaceOfRevolution = 7\n",
      "GeomAbs_SurfaceType = <enum 'GeomAbs_SurfaceType'>\n",
      "GeomAbs_Tangent = 1\n",
      "GeomAbs_Torus = 4\n",
      "GeomAbs_Uniform = 1\n"
     ]
    }
   ],
   "execution_count": 42
  },
  {
   "metadata": {
    "ExecuteTime": {
     "end_time": "2025-07-08T11:55:22.186417Z",
     "start_time": "2025-07-08T11:55:22.178415Z"
    }
   },
   "cell_type": "code",
   "source": [
    "u_min, u_max, v_min, v_max = surface.FirstUParameter(), surface.LastUParameter(), \\\n",
    "    surface.FirstVParameter(), surface.LastVParameter()"
   ],
   "id": "6228b07dba6403d2",
   "outputs": [],
   "execution_count": 19
  },
  {
   "metadata": {
    "ExecuteTime": {
     "end_time": "2025-07-08T11:55:32.604326Z",
     "start_time": "2025-07-08T11:55:32.598078Z"
    }
   },
   "cell_type": "code",
   "source": "u_min, u_max, v_min, v_max",
   "id": "fcedc74f6f06f5f1",
   "outputs": [
    {
     "data": {
      "text/plain": [
       "(-41.6452465, 41.6452465, -17.22365, 17.22365)"
      ]
     },
     "execution_count": 20,
     "metadata": {},
     "output_type": "execute_result"
    }
   ],
   "execution_count": 20
  },
  {
   "metadata": {
    "ExecuteTime": {
     "end_time": "2025-07-08T12:26:48.447503Z",
     "start_time": "2025-07-08T12:26:48.443645Z"
    }
   },
   "cell_type": "code",
   "source": "import OCC.Core.BRepAdaptor as bra",
   "id": "1f73bc5dccd624dd",
   "outputs": [],
   "execution_count": 61
  },
  {
   "metadata": {
    "ExecuteTime": {
     "end_time": "2025-07-08T12:27:36.956932Z",
     "start_time": "2025-07-08T12:27:36.951902Z"
    }
   },
   "cell_type": "code",
   "source": "",
   "id": "412b6ab87be0eeaa",
   "outputs": [
    {
     "data": {
      "text/plain": [
       "OCC.Core.BRepAdaptor.BRepAdaptor_Surface"
      ]
     },
     "execution_count": 65,
     "metadata": {},
     "output_type": "execute_result"
    }
   ],
   "execution_count": 65
  }
 ],
 "metadata": {
  "kernelspec": {
   "display_name": "Python 3",
   "language": "python",
   "name": "python3"
  },
  "language_info": {
   "codemirror_mode": {
    "name": "ipython",
    "version": 2
   },
   "file_extension": ".py",
   "mimetype": "text/x-python",
   "name": "python",
   "nbconvert_exporter": "python",
   "pygments_lexer": "ipython2",
   "version": "2.7.6"
  }
 },
 "nbformat": 4,
 "nbformat_minor": 5
}
