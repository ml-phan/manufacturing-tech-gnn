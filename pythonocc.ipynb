{
 "cells": [
  {
   "cell_type": "code",
   "id": "initial_id",
   "metadata": {
    "collapsed": true,
    "ExecuteTime": {
     "end_time": "2025-07-08T12:12:03.584162Z",
     "start_time": "2025-07-08T12:12:03.577180Z"
    }
   },
   "source": [
    "import os\n",
    "import os.path\n",
    "import sys\n",
    "\n",
    "from OCC.Core.GProp import GProp_GProps\n",
    "from OCC.Core.STEPControl import STEPControl_Reader\n",
    "from OCC.Core.IFSelect import IFSelect_RetDone, IFSelect_ItemsByEntity\n",
    "from OCC.Core.GeomAbs import GeomAbs_Plane, GeomAbs_Cylinder, GeomAbs_NonUniform\n",
    "from OCC.Core.TopoDS import topods\n",
    "from OCC.Core.BRepAdaptor import BRepAdaptor_Surface\n",
    "from OCC.Display.SimpleGui import init_display\n",
    "from OCC.Core.TopoDS import TopoDS_Shape\n",
    "from OCC.Core.BRepAdaptor import BRepAdaptor_Surface, BRepAdaptor_Curve\n",
    "from OCC.Core.GeomAbs import GeomAbs_Plane, GeomAbs_Cylinder, GeomAbs_Sphere, \\\n",
    "                              GeomAbs_Cone, GeomAbs_BezierSurface, \\\n",
    "                              GeomAbs_BSplineSurface, GeomAbs_OffsetSurface, \\\n",
    "                              GeomAbs_SurfaceOfExtrusion, \\\n",
    "                              GeomAbs_SurfaceOfRevolution\n",
    "from OCC.Core import GeomAbs\n",
    "\n",
    "from OCC.Extend.TopologyUtils import TopologyExplorer"
   ],
   "outputs": [],
   "execution_count": 32
  },
  {
   "metadata": {
    "ExecuteTime": {
     "end_time": "2025-07-08T11:50:36.219943Z",
     "start_time": "2025-07-08T11:50:36.214155Z"
    }
   },
   "cell_type": "code",
   "source": [
    "def read_step_file(filename):\n",
    "    \"\"\"read the STEP file and returns a compound\"\"\"\n",
    "    step_reader = STEPControl_Reader()\n",
    "    status = step_reader.ReadFile(filename)\n",
    "\n",
    "    if status == IFSelect_RetDone:  # check status\n",
    "        failsonly = False\n",
    "        step_reader.PrintCheckLoad(failsonly, IFSelect_ItemsByEntity)\n",
    "        step_reader.PrintCheckTransfer(failsonly, IFSelect_ItemsByEntity)\n",
    "        step_reader.TransferRoot(1)\n",
    "        a_shape = step_reader.Shape(1)\n",
    "    else:\n",
    "        print(\"Error: can't read file.\")\n",
    "        sys.exit(0)\n",
    "    return a_shape"
   ],
   "id": "3454cb83f65ff4c",
   "outputs": [],
   "execution_count": 2
  },
  {
   "metadata": {
    "ExecuteTime": {
     "end_time": "2025-07-08T11:50:37.568814Z",
     "start_time": "2025-07-08T11:50:37.480599Z"
    }
   },
   "cell_type": "code",
   "source": "shp = read_step_file(r\"C:\\Users\\ManhPhan.AzureAD\\Downloads\\square_pocket.step\")",
   "id": "bde0a4ed1a187fc9",
   "outputs": [],
   "execution_count": 3
  },
  {
   "metadata": {
    "ExecuteTime": {
     "end_time": "2025-07-08T11:50:38.214464Z",
     "start_time": "2025-07-08T11:50:38.210333Z"
    }
   },
   "cell_type": "code",
   "source": "t = TopologyExplorer(shp)",
   "id": "ef2ed1940f98688f",
   "outputs": [],
   "execution_count": 4
  },
  {
   "metadata": {
    "ExecuteTime": {
     "end_time": "2025-07-08T11:51:02.677259Z",
     "start_time": "2025-07-08T11:51:02.669859Z"
    }
   },
   "cell_type": "code",
   "source": [
    "all_faces = list(t.faces())\n",
    "all_edges = list(t.edges())\n",
    "all_vertices = list(t.vertices())\n",
    "len(all_faces), len(all_edges), len(all_vertices)"
   ],
   "id": "cac2ecd99eb582c8",
   "outputs": [
    {
     "data": {
      "text/plain": [
       "(11, 24, 16)"
      ]
     },
     "execution_count": 7,
     "metadata": {},
     "output_type": "execute_result"
    }
   ],
   "execution_count": 7
  },
  {
   "metadata": {
    "ExecuteTime": {
     "end_time": "2025-07-08T11:51:11.906641Z",
     "start_time": "2025-07-08T11:51:11.899643Z"
    }
   },
   "cell_type": "code",
   "source": [
    "face0 = TopologyExplorer(all_faces[0])\n",
    "face0_edges = list(face0.edges())\n",
    "for edge in face0_edges:\n",
    "    for i, _edge in enumerate(all_edges):\n",
    "        if edge.IsSame(_edge):\n",
    "            print(i)"
   ],
   "id": "375254e41ca4749d",
   "outputs": [
    {
     "name": "stdout",
     "output_type": "stream",
     "text": [
      "0\n",
      "1\n",
      "2\n",
      "3\n"
     ]
    }
   ],
   "execution_count": 9
  },
  {
   "metadata": {
    "ExecuteTime": {
     "end_time": "2025-07-08T11:51:24.189878Z",
     "start_time": "2025-07-08T11:51:24.184551Z"
    }
   },
   "cell_type": "code",
   "source": [
    "face1 = TopologyExplorer(all_faces[1])\n",
    "face1_edges = list(face1.edges())\n",
    "for edge in face1_edges:\n",
    "    for i, _edge in enumerate(all_edges):\n",
    "        if edge.IsSame(_edge):\n",
    "            print(i)"
   ],
   "id": "fe00ed11b1e114d1",
   "outputs": [
    {
     "name": "stdout",
     "output_type": "stream",
     "text": [
      "4\n",
      "5\n",
      "0\n",
      "6\n"
     ]
    }
   ],
   "execution_count": 12
  },
  {
   "metadata": {
    "ExecuteTime": {
     "end_time": "2025-07-08T11:51:31.921572Z",
     "start_time": "2025-07-08T11:51:31.915067Z"
    }
   },
   "cell_type": "code",
   "source": [
    "face2 = TopologyExplorer(all_faces[2])\n",
    "face2_edges = list(face2.edges())\n",
    "for edge in face2_edges:\n",
    "    for i, _edge in enumerate(all_edges):\n",
    "        if edge.IsSame(_edge):\n",
    "            print(i)"
   ],
   "id": "a82bd90a361a30f5",
   "outputs": [
    {
     "name": "stdout",
     "output_type": "stream",
     "text": [
      "2\n",
      "7\n",
      "8\n",
      "9\n"
     ]
    }
   ],
   "execution_count": 13
  },
  {
   "metadata": {},
   "cell_type": "code",
   "outputs": [],
   "execution_count": null,
   "source": [
    "import networkx as nx\n",
    "\n",
    "G = nx.Graph()\n",
    "face_ids = {}\n",
    "counter = 0\n",
    "\n"
   ],
   "id": "a95612ca2201d1aa"
  },
  {
   "metadata": {
    "ExecuteTime": {
     "end_time": "2025-07-08T13:03:21.437877Z",
     "start_time": "2025-07-08T13:03:21.425877Z"
    }
   },
   "cell_type": "code",
   "source": [
    "from OCC.Core.BRepAdaptor import BRepAdaptor_Surface\n",
    "from OCC.Core.GeomAbs import GeomAbs_SurfaceType\n",
    "import OCC.Core.BRepGProp as brp\n",
    "from OCC.Core.GProp import GProp_GProps\n",
    "from OCC.Core.GeomLProp import GeomLProp_SLProps\n",
    "from OCC.Core.GeomLProp import GeomLProp_SLProps\n",
    "from OCC.Core.BRep import BRep_Tool\n",
    "from OCC.Core.BRepLProp import BRepLProp_SLProps\n",
    "\n",
    "for face in all_faces:\n",
    "    surface = BRepAdaptor_Surface(face)\n",
    "    surface_type = surface.GetType()\n",
    "    props = GProp_GProps()\n",
    "    brp.brepgprop.SurfaceProperties(face, props)\n",
    "    u_min, u_max, v_min, v_max = surface.FirstUParameter(), surface.LastUParameter(), \\\n",
    "                                         surface.FirstVParameter(), surface.LastVParameter()\n",
    "    u_span = u_max - u_min\n",
    "    v_span = v_max - v_min\n",
    "    u_mid = (u_min + u_max) / 2.0\n",
    "    v_mid = (v_min + v_max) / 2.0\n",
    "    geom_props = BRepLProp_SLProps(surface, 2, 1e-6)\n",
    "    geom_props.SetParameters(u_mid, v_mid)\n",
    "    mean_curvature = None\n",
    "    gaussian_curvature = None\n",
    "    if geom_props.IsCurvatureDefined():\n",
    "        mean_curvature = geom_props.MeanCurvature()\n",
    "        gaussian_curvature = geom_props.GaussianCurvature()\n",
    "    print(f\"{surface_type} - {props.Mass()} - {u_span}, {v_span} - {mean_curvature} - {gaussian_curvature}\")\n"
   ],
   "id": "a769fbe868c62e3f",
   "outputs": [
    {
     "name": "stdout",
     "output_type": "stream",
     "text": [
      "0 - 2336.7609899999993 - 77.892033, 30.0 - 0.0 - 0.0\n",
      "0 - 4696.658009999999 - 156.55526700000001, 30.0 - 0.0 - 0.0\n",
      "0 - 4696.658009999999 - 156.55526700000001, 30.0 - 0.0 - 0.0\n",
      "0 - 12194.408023487807 - 156.55526700000001, 77.892033 - 0.0 - 0.0\n",
      "0 - 9325.27542396891 - 156.55526700000001, 77.892033 - 0.0 - 0.0\n",
      "0 - 2336.7609899999993 - 77.892033, 30.0 - 0.0 - 0.0\n",
      "0 - 172.23649999999998 - 34.4473, 5.0 - 0.0 - 0.0\n",
      "0 - 416.45246499999996 - 83.290493, 5.0 - 0.0 - 0.0\n",
      "0 - 172.23649999999998 - 34.4473, 5.0 - 0.0 - 0.0\n",
      "0 - 416.45246499999996 - 83.290493, 5.0 - 0.0 - 0.0\n",
      "0 - 2869.1325995189 - 83.290493, 34.4473 - 0.0 - 0.0\n"
     ]
    }
   ],
   "execution_count": 88
  },
  {
   "metadata": {
    "ExecuteTime": {
     "end_time": "2025-07-08T12:18:15.330118Z",
     "start_time": "2025-07-08T12:18:15.323735Z"
    }
   },
   "cell_type": "code",
   "source": [
    "import OCC.Core.GeomAbs as Geom\n",
    "for item in dir(Geom):\n",
    "    if not item.startswith(\"__\") and item.startswith(\"Geom\"):\n",
    "        attr = getattr(Geom, item)\n",
    "        print(f\"{item} = {attr}\")"
   ],
   "id": "2262e0972828941d",
   "outputs": [
    {
     "name": "stdout",
     "output_type": "stream",
     "text": [
      "GeomAbs_Arc = 0\n",
      "GeomAbs_BSplKnotDistribution = <enum 'GeomAbs_BSplKnotDistribution'>\n",
      "GeomAbs_BSplineCurve = 6\n",
      "GeomAbs_BSplineSurface = 6\n",
      "GeomAbs_BezierCurve = 5\n",
      "GeomAbs_BezierSurface = 5\n",
      "GeomAbs_C0 = 0\n",
      "GeomAbs_C1 = 2\n",
      "GeomAbs_C2 = 4\n",
      "GeomAbs_C3 = 5\n",
      "GeomAbs_CN = 6\n",
      "GeomAbs_Circle = 1\n",
      "GeomAbs_Cone = 2\n",
      "GeomAbs_CurveType = <enum 'GeomAbs_CurveType'>\n",
      "GeomAbs_Cylinder = 1\n",
      "GeomAbs_Ellipse = 2\n",
      "GeomAbs_G1 = 1\n",
      "GeomAbs_G2 = 3\n",
      "GeomAbs_Hyperbola = 3\n",
      "GeomAbs_Intersection = 2\n",
      "GeomAbs_IsoType = <enum 'GeomAbs_IsoType'>\n",
      "GeomAbs_IsoU = 0\n",
      "GeomAbs_IsoV = 1\n",
      "GeomAbs_JoinType = <enum 'GeomAbs_JoinType'>\n",
      "GeomAbs_Line = 0\n",
      "GeomAbs_NonUniform = 0\n",
      "GeomAbs_NoneIso = 2\n",
      "GeomAbs_OffsetCurve = 7\n",
      "GeomAbs_OffsetSurface = 9\n",
      "GeomAbs_OtherCurve = 8\n",
      "GeomAbs_OtherSurface = 10\n",
      "GeomAbs_Parabola = 4\n",
      "GeomAbs_PiecewiseBezier = 3\n",
      "GeomAbs_Plane = 0\n",
      "GeomAbs_QuasiUniform = 2\n",
      "GeomAbs_Shape = <enum 'GeomAbs_Shape'>\n",
      "GeomAbs_Sphere = 3\n",
      "GeomAbs_SurfaceOfExtrusion = 8\n",
      "GeomAbs_SurfaceOfRevolution = 7\n",
      "GeomAbs_SurfaceType = <enum 'GeomAbs_SurfaceType'>\n",
      "GeomAbs_Tangent = 1\n",
      "GeomAbs_Torus = 4\n",
      "GeomAbs_Uniform = 1\n"
     ]
    }
   ],
   "execution_count": 42
  },
  {
   "metadata": {
    "ExecuteTime": {
     "end_time": "2025-07-08T11:55:22.186417Z",
     "start_time": "2025-07-08T11:55:22.178415Z"
    }
   },
   "cell_type": "code",
   "source": [
    "u_min, u_max, v_min, v_max = surface.FirstUParameter(), surface.LastUParameter(), \\\n",
    "                                         surface.FirstVParameter(), surface.LastVParameter()"
   ],
   "id": "6228b07dba6403d2",
   "outputs": [],
   "execution_count": 19
  },
  {
   "metadata": {
    "ExecuteTime": {
     "end_time": "2025-07-08T11:55:32.604326Z",
     "start_time": "2025-07-08T11:55:32.598078Z"
    }
   },
   "cell_type": "code",
   "source": "u_min, u_max, v_min, v_max",
   "id": "fcedc74f6f06f5f1",
   "outputs": [
    {
     "data": {
      "text/plain": [
       "(-41.6452465, 41.6452465, -17.22365, 17.22365)"
      ]
     },
     "execution_count": 20,
     "metadata": {},
     "output_type": "execute_result"
    }
   ],
   "execution_count": 20
  },
  {
   "metadata": {
    "ExecuteTime": {
     "end_time": "2025-07-08T12:26:48.447503Z",
     "start_time": "2025-07-08T12:26:48.443645Z"
    }
   },
   "cell_type": "code",
   "source": "import OCC.Core.BRepAdaptor as bra",
   "id": "1f73bc5dccd624dd",
   "outputs": [],
   "execution_count": 61
  },
  {
   "metadata": {
    "ExecuteTime": {
     "end_time": "2025-07-08T12:27:36.956932Z",
     "start_time": "2025-07-08T12:27:36.951902Z"
    }
   },
   "cell_type": "code",
   "source": "",
   "id": "412b6ab87be0eeaa",
   "outputs": [
    {
     "data": {
      "text/plain": [
       "OCC.Core.BRepAdaptor.BRepAdaptor_Surface"
      ]
     },
     "execution_count": 65,
     "metadata": {},
     "output_type": "execute_result"
    }
   ],
   "execution_count": 65
  }
 ],
 "metadata": {
  "kernelspec": {
   "display_name": "Python 3",
   "language": "python",
   "name": "python3"
  },
  "language_info": {
   "codemirror_mode": {
    "name": "ipython",
    "version": 2
   },
   "file_extension": ".py",
   "mimetype": "text/x-python",
   "name": "python",
   "nbconvert_exporter": "python",
   "pygments_lexer": "ipython2",
   "version": "2.7.6"
  }
 },
 "nbformat": 4,
 "nbformat_minor": 5
}
