{
 "cells": [
  {
   "cell_type": "code",
   "id": "initial_id",
   "metadata": {
    "collapsed": true,
    "ExecuteTime": {
     "end_time": "2025-07-24T08:30:02.663120Z",
     "start_time": "2025-07-24T08:30:02.577633Z"
    }
   },
   "source": [
    "# autoimport\n",
    "%load_ext autoreload\n",
    "%autoreload 1"
   ],
   "outputs": [],
   "execution_count": 1
  },
  {
   "metadata": {
    "ExecuteTime": {
     "end_time": "2025-07-24T08:30:08.082015Z",
     "start_time": "2025-07-24T08:30:02.670818Z"
    }
   },
   "cell_type": "code",
   "source": [
    "from src.gnn_models import *\n",
    "%aimport src.gnn_models"
   ],
   "id": "1d4b298c2b66c61b",
   "outputs": [],
   "execution_count": 2
  },
  {
   "metadata": {
    "ExecuteTime": {
     "end_time": "2025-07-24T08:30:08.515813Z",
     "start_time": "2025-07-24T08:30:08.422481Z"
    }
   },
   "cell_type": "code",
   "source": [
    "PROCESSED_DATA_DIR = r\"E:\\gnn_data\\processed_step_data_full_node_features\"\n",
    "dataset_trim = FastSTEPDataset(PROCESSED_DATA_DIR, start_index=0, end_index=7)\n",
    "get_dataset_stats(dataset_trim)"
   ],
   "id": "35b087fe666c80cf",
   "outputs": [
    {
     "name": "stdout",
     "output_type": "stream",
     "text": [
      "Fast dataset loaded:\n",
      "- Total samples: 64579\n",
      "- Processed successfully: 64579\n",
      "- Failed processing: 77\n",
      "Label counts in dataset:\n",
      "Label 1: 40873 instances\n",
      "Label 0: 23706 instances\n",
      "Label 1: 63.29% of total instances\n",
      "Label 0: 36.71% of total instances\n",
      "Class weights for loss function: [1.5799916815501676, 2.7241626592423858]\n"
     ]
    }
   ],
   "execution_count": 3
  },
  {
   "metadata": {
    "ExecuteTime": {
     "end_time": "2025-07-24T08:30:08.596052Z",
     "start_time": "2025-07-24T08:30:08.579304Z"
    }
   },
   "cell_type": "code",
   "source": "dataset_trim[0].x",
   "id": "3f3fb61dfba151fe",
   "outputs": [
    {
     "data": {
      "text/plain": [
       "tensor([[228.0000,  -0.5517,  -0.9249,  ...,  -1.0000,  -0.9971,  -0.7675],\n",
       "        [287.0000,  -0.7946,  -0.9850,  ...,  -0.9887,  -0.9943,  -1.0000],\n",
       "        [ 17.0000,  -0.8704,  -0.9925,  ...,  -1.0000,  -0.9971,  -1.0000],\n",
       "        ...,\n",
       "        [ 59.0000,  -0.8704,  -0.9925,  ...,  -0.9785,  -0.9938,  -1.0000],\n",
       "        [146.0000,  -0.8704,  -0.9925,  ...,  -0.9785,  -0.9938,  -1.0000],\n",
       "        [146.0000,  -0.8704,  -0.9925,  ...,  -0.9785,  -0.9938,  -1.0000]])"
      ]
     },
     "execution_count": 4,
     "metadata": {},
     "output_type": "execute_result"
    }
   ],
   "execution_count": 4
  },
  {
   "metadata": {
    "ExecuteTime": {
     "end_time": "2025-07-24T08:30:08.824244Z",
     "start_time": "2025-07-24T08:30:08.697751Z"
    }
   },
   "cell_type": "code",
   "source": [
    "model = DynamicGIN_Embedding(\n",
    "    input_features=dataset_trim[0].x.shape[1],\n",
    "    embedding_dim=16,\n",
    "    hidden_sizes=[512, 256],\n",
    "    conv_dropout_rate=0.1,\n",
    "    classifier_dropout_rate=0.1,\n",
    "    use_layer_norm=True,\n",
    "    pool_hidden_size=128\n",
    ")\n",
    "existing_model = True\n",
    "if existing_model:\n",
    "    model_save_path = \"dynamic_gin_embedding_model.pth\"\n",
    "    if Path(model_save_path).exists():\n",
    "        print(f\"Loading model from {model_save_path}\")\n",
    "        model.load_state_dict(torch.load(model_save_path))\n",
    "    else:\n",
    "        print(f\"Model file {model_save_path} does not exist. Initializing a new model.\")"
   ],
   "id": "9c0c461f5e1c6359",
   "outputs": [
    {
     "name": "stdout",
     "output_type": "stream",
     "text": [
      "Created Dynamic GIN model:\n",
      "- Input features: 7\n",
      "- Number of hidden layers: 2\n",
      "- Hidden layer sizes: [512, 256]\n",
      "- Output classes: 2\n",
      "- Convolution dropout rate: 0.1\n",
      "- Classifier dropout rate: 0.1\n",
      "- Layer normalization: True\n",
      "Loading model from dynamic_gin_embedding_model.pth\n"
     ]
    }
   ],
   "execution_count": 5
  },
  {
   "metadata": {
    "ExecuteTime": {
     "end_time": "2025-07-24T10:07:27.535713Z",
     "start_time": "2025-07-24T08:30:53.025845Z"
    }
   },
   "cell_type": "code",
   "source": [
    "torch.cuda.empty_cache()\n",
    "for i in range(2):\n",
    "    torch.cuda.empty_cache()\n",
    "    model_save_path = \"dynamic_gin_embedding_model.pth\"\n",
    "    torch.save(model.state_dict(), model_save_path)\n",
    "    # save training history\n",
    "    history_save_path = \"gin_embed_training_history.pkl\"\n",
    "    # with open(history_save_path, \"wb\") as f:\n",
    "    #     joblib.dump(history, f)\n",
    "    trained_model, history = simple_train_model_v2(\n",
    "        dataset_trim,\n",
    "        gnn_model=model,\n",
    "        num_epochs=10,\n",
    "        batch_size=6,\n",
    "        learning_rate=0.002,\n",
    "        start_index=10000,\n",
    "        num_graphs_to_use=40000,\n",
    "    )\n"
   ],
   "id": "65544adba1a874ca",
   "outputs": [
    {
     "name": "stdout",
     "output_type": "stream",
     "text": [
      "Label 1: 24577 instances\n",
      "Label 0: 15423 instances\n",
      "Label 1: 61.44% of total instances\n",
      "Label 0: 38.56% of total instances\n",
      "Class weights: tensor([2.5935, 1.6275], device='cuda:0')\n",
      "Splitting dataset into train and validation sets\n",
      "Train samples: 32000\n",
      "Validation samples: 8000\n",
      "\n",
      "Starting training for 10 epochs...\n"
     ]
    },
    {
     "name": "stderr",
     "output_type": "stream",
     "text": [
      "Epoch 1/10 [Train]: 100%|██████████| 5334/5334 [06:55<00:00, 12.84it/s, loss=0.8442, acc=84.14%]\n",
      "Epoch 1/10 [Val]: 100%|██████████| 1334/1334 [01:39<00:00, 13.44it/s, loss=0.5434, acc=81.39%]\n"
     ]
    },
    {
     "name": "stdout",
     "output_type": "stream",
     "text": [
      "Epoch 1/10 - Train Loss: 0.3679, Acc: 84.14% | Val Loss: 0.4383, Acc: 81.39% (Best Val: 81.39%)\n"
     ]
    },
    {
     "name": "stderr",
     "output_type": "stream",
     "text": [
      "Epoch 2/10 [Train]: 100%|██████████| 5334/5334 [02:43<00:00, 32.67it/s, loss=0.3311, acc=83.95%]\n",
      "Epoch 2/10 [Val]: 100%|██████████| 1334/1334 [00:16<00:00, 79.74it/s, loss=0.0619, acc=82.85%]\n"
     ]
    },
    {
     "name": "stdout",
     "output_type": "stream",
     "text": [
      "Epoch 2/10 - Train Loss: 0.3697, Acc: 83.95% | Val Loss: 0.4854, Acc: 82.85% (Best Val: 82.85%)\n"
     ]
    },
    {
     "name": "stderr",
     "output_type": "stream",
     "text": [
      "Epoch 3/10 [Train]: 100%|██████████| 5334/5334 [02:02<00:00, 43.66it/s, loss=0.2618, acc=84.02%]\n",
      "Epoch 3/10 [Val]: 100%|██████████| 1334/1334 [00:16<00:00, 82.96it/s, loss=0.2260, acc=82.17%]\n"
     ]
    },
    {
     "name": "stdout",
     "output_type": "stream",
     "text": [
      "Epoch 3/10 - Train Loss: 0.3683, Acc: 84.02% | Val Loss: 0.4434, Acc: 82.17% (Best Val: 82.85%)\n"
     ]
    },
    {
     "name": "stderr",
     "output_type": "stream",
     "text": [
      "Epoch 4/10 [Train]: 100%|██████████| 5334/5334 [01:59<00:00, 44.73it/s, loss=0.1439, acc=83.72%] \n",
      "Epoch 4/10 [Val]: 100%|██████████| 1334/1334 [00:15<00:00, 86.18it/s, loss=0.0284, acc=82.19%]\n"
     ]
    },
    {
     "name": "stdout",
     "output_type": "stream",
     "text": [
      "Epoch 4/10 - Train Loss: 0.3762, Acc: 83.72% | Val Loss: 0.4284, Acc: 82.19% (Best Val: 82.85%)\n"
     ]
    },
    {
     "name": "stderr",
     "output_type": "stream",
     "text": [
      "Epoch 5/10 [Train]: 100%|██████████| 5334/5334 [01:57<00:00, 45.48it/s, loss=0.2632, acc=84.24%]\n",
      "Epoch 5/10 [Val]: 100%|██████████| 1334/1334 [00:15<00:00, 87.04it/s, loss=0.3305, acc=82.70%] \n"
     ]
    },
    {
     "name": "stdout",
     "output_type": "stream",
     "text": [
      "Epoch 5/10 - Train Loss: 0.3651, Acc: 84.24% | Val Loss: 0.4431, Acc: 82.70% (Best Val: 82.85%)\n"
     ]
    },
    {
     "name": "stderr",
     "output_type": "stream",
     "text": [
      "Epoch 6/10 [Train]: 100%|██████████| 5334/5334 [01:55<00:00, 46.05it/s, loss=0.4508, acc=84.17%]\n",
      "Epoch 6/10 [Val]: 100%|██████████| 1334/1334 [00:15<00:00, 84.95it/s, loss=0.3559, acc=82.49%]\n"
     ]
    },
    {
     "name": "stdout",
     "output_type": "stream",
     "text": [
      "Epoch 6/10 - Train Loss: 0.3693, Acc: 84.17% | Val Loss: 0.4360, Acc: 82.49% (Best Val: 82.85%)\n"
     ]
    },
    {
     "name": "stderr",
     "output_type": "stream",
     "text": [
      "Epoch 7/10 [Train]: 100%|██████████| 5334/5334 [01:57<00:00, 45.25it/s, loss=0.4621, acc=84.20%]\n",
      "Epoch 7/10 [Val]: 100%|██████████| 1334/1334 [00:15<00:00, 83.66it/s, loss=0.1257, acc=77.91%]\n"
     ]
    },
    {
     "name": "stdout",
     "output_type": "stream",
     "text": [
      "Epoch 7/10 - Train Loss: 0.3667, Acc: 84.20% | Val Loss: 0.5132, Acc: 77.91% (Best Val: 82.85%)\n"
     ]
    },
    {
     "name": "stderr",
     "output_type": "stream",
     "text": [
      "Epoch 8/10 [Train]: 100%|██████████| 5334/5334 [02:02<00:00, 43.60it/s, loss=0.3355, acc=83.99%]\n",
      "Epoch 8/10 [Val]: 100%|██████████| 1334/1334 [00:16<00:00, 82.90it/s, loss=0.1836, acc=80.76%]\n"
     ]
    },
    {
     "name": "stdout",
     "output_type": "stream",
     "text": [
      "Epoch 8/10 - Train Loss: 0.3733, Acc: 83.99% | Val Loss: 0.4490, Acc: 80.76% (Best Val: 82.85%)\n"
     ]
    },
    {
     "name": "stderr",
     "output_type": "stream",
     "text": [
      "Epoch 9/10 [Train]: 100%|██████████| 5334/5334 [03:18<00:00, 26.92it/s, loss=0.0615, acc=84.39%]\n",
      "Epoch 9/10 [Val]: 100%|██████████| 1334/1334 [01:14<00:00, 18.01it/s, loss=0.0222, acc=82.90%]\n"
     ]
    },
    {
     "name": "stdout",
     "output_type": "stream",
     "text": [
      "Epoch 9/10 - Train Loss: 0.3601, Acc: 84.39% | Val Loss: 0.4674, Acc: 82.90% (Best Val: 82.90%)\n"
     ]
    },
    {
     "name": "stderr",
     "output_type": "stream",
     "text": [
      "Epoch 10/10 [Train]: 100%|██████████| 5334/5334 [05:00<00:00, 17.77it/s, loss=0.5672, acc=84.43%]\n",
      "Epoch 10/10 [Val]: 100%|██████████| 1334/1334 [01:15<00:00, 17.77it/s, loss=0.0952, acc=82.15%]\n"
     ]
    },
    {
     "name": "stdout",
     "output_type": "stream",
     "text": [
      "Epoch 10/10 - Train Loss: 0.3663, Acc: 84.43% | Val Loss: 0.4250, Acc: 82.15% (Best Val: 82.90%)\n",
      "Training completed!\n",
      "Training time: 2152.5593692999973\n",
      "Best validation accuracy: 82.90%\n",
      "Label 1: 24577 instances\n",
      "Label 0: 15423 instances\n",
      "Label 1: 61.44% of total instances\n",
      "Label 0: 38.56% of total instances\n",
      "Class weights: tensor([2.5935, 1.6275], device='cuda:0')\n",
      "Splitting dataset into train and validation sets\n",
      "Train samples: 32000\n",
      "Validation samples: 8000\n",
      "\n",
      "Starting training for 10 epochs...\n"
     ]
    },
    {
     "name": "stderr",
     "output_type": "stream",
     "text": [
      "Epoch 1/10 [Train]: 100%|██████████| 5334/5334 [04:47<00:00, 18.53it/s, loss=0.1229, acc=84.32%]\n",
      "Epoch 1/10 [Val]: 100%|██████████| 1334/1334 [01:11<00:00, 18.79it/s, loss=0.0589, acc=81.58%]\n"
     ]
    },
    {
     "name": "stdout",
     "output_type": "stream",
     "text": [
      "Epoch 1/10 - Train Loss: 0.3588, Acc: 84.32% | Val Loss: 0.4478, Acc: 81.58% (Best Val: 81.58%)\n"
     ]
    },
    {
     "name": "stderr",
     "output_type": "stream",
     "text": [
      "Epoch 2/10 [Train]: 100%|██████████| 5334/5334 [04:42<00:00, 18.88it/s, loss=0.1015, acc=84.41%]\n",
      "Epoch 2/10 [Val]: 100%|██████████| 1334/1334 [01:13<00:00, 18.10it/s, loss=0.2259, acc=83.01%]\n"
     ]
    },
    {
     "name": "stdout",
     "output_type": "stream",
     "text": [
      "Epoch 2/10 - Train Loss: 0.3590, Acc: 84.41% | Val Loss: 0.4315, Acc: 83.01% (Best Val: 83.01%)\n"
     ]
    },
    {
     "name": "stderr",
     "output_type": "stream",
     "text": [
      "Epoch 3/10 [Train]: 100%|██████████| 5334/5334 [04:36<00:00, 19.27it/s, loss=0.2997, acc=84.38%]\n",
      "Epoch 3/10 [Val]: 100%|██████████| 1334/1334 [01:11<00:00, 18.73it/s, loss=0.0512, acc=82.94%]\n"
     ]
    },
    {
     "name": "stdout",
     "output_type": "stream",
     "text": [
      "Epoch 3/10 - Train Loss: 0.3575, Acc: 84.38% | Val Loss: 0.4876, Acc: 82.94% (Best Val: 83.01%)\n"
     ]
    },
    {
     "name": "stderr",
     "output_type": "stream",
     "text": [
      "Epoch 4/10 [Train]: 100%|██████████| 5334/5334 [04:57<00:00, 17.96it/s, loss=0.6210, acc=84.75%]\n",
      "Epoch 4/10 [Val]: 100%|██████████| 1334/1334 [01:11<00:00, 18.63it/s, loss=0.0169, acc=81.84%]\n"
     ]
    },
    {
     "name": "stdout",
     "output_type": "stream",
     "text": [
      "Epoch 4/10 - Train Loss: 0.3549, Acc: 84.75% | Val Loss: 0.4377, Acc: 81.84% (Best Val: 83.01%)\n"
     ]
    },
    {
     "name": "stderr",
     "output_type": "stream",
     "text": [
      "Epoch 5/10 [Train]: 100%|██████████| 5334/5334 [04:59<00:00, 17.81it/s, loss=0.3869, acc=84.65%] \n",
      "Epoch 5/10 [Val]: 100%|██████████| 1334/1334 [01:14<00:00, 18.02it/s, loss=0.1489, acc=82.67%]\n"
     ]
    },
    {
     "name": "stdout",
     "output_type": "stream",
     "text": [
      "Epoch 5/10 - Train Loss: 0.3548, Acc: 84.65% | Val Loss: 0.4322, Acc: 82.67% (Best Val: 83.01%)\n"
     ]
    },
    {
     "name": "stderr",
     "output_type": "stream",
     "text": [
      "Epoch 6/10 [Train]: 100%|██████████| 5334/5334 [04:58<00:00, 17.84it/s, loss=0.3387, acc=84.83%]\n",
      "Epoch 6/10 [Val]: 100%|██████████| 1334/1334 [01:12<00:00, 18.41it/s, loss=0.2197, acc=82.90%]\n"
     ]
    },
    {
     "name": "stdout",
     "output_type": "stream",
     "text": [
      "Epoch 6/10 - Train Loss: 0.3541, Acc: 84.83% | Val Loss: 0.4293, Acc: 82.90% (Best Val: 83.01%)\n"
     ]
    },
    {
     "name": "stderr",
     "output_type": "stream",
     "text": [
      "Epoch 7/10 [Train]: 100%|██████████| 5334/5334 [04:41<00:00, 18.93it/s, loss=0.1250, acc=84.97%]\n",
      "Epoch 7/10 [Val]: 100%|██████████| 1334/1334 [01:10<00:00, 18.88it/s, loss=0.0781, acc=83.12%]\n"
     ]
    },
    {
     "name": "stdout",
     "output_type": "stream",
     "text": [
      "Epoch 7/10 - Train Loss: 0.3511, Acc: 84.97% | Val Loss: 0.4203, Acc: 83.12% (Best Val: 83.12%)\n"
     ]
    },
    {
     "name": "stderr",
     "output_type": "stream",
     "text": [
      "Epoch 8/10 [Train]: 100%|██████████| 5334/5334 [04:49<00:00, 18.43it/s, loss=0.3882, acc=84.94%]\n",
      "Epoch 8/10 [Val]: 100%|██████████| 1334/1334 [01:14<00:00, 18.00it/s, loss=0.3074, acc=83.38%]\n"
     ]
    },
    {
     "name": "stdout",
     "output_type": "stream",
     "text": [
      "Epoch 8/10 - Train Loss: 0.3514, Acc: 84.94% | Val Loss: 0.4273, Acc: 83.38% (Best Val: 83.38%)\n"
     ]
    },
    {
     "name": "stderr",
     "output_type": "stream",
     "text": [
      "Epoch 9/10 [Train]: 100%|██████████| 5334/5334 [04:57<00:00, 17.92it/s, loss=0.2700, acc=84.70%] \n",
      "Epoch 9/10 [Val]: 100%|██████████| 1334/1334 [01:15<00:00, 17.68it/s, loss=0.0223, acc=82.95%]\n"
     ]
    },
    {
     "name": "stdout",
     "output_type": "stream",
     "text": [
      "Epoch 9/10 - Train Loss: 0.3532, Acc: 84.70% | Val Loss: 0.4503, Acc: 82.95% (Best Val: 83.38%)\n"
     ]
    },
    {
     "name": "stderr",
     "output_type": "stream",
     "text": [
      "Epoch 10/10 [Train]: 100%|██████████| 5334/5334 [04:58<00:00, 17.89it/s, loss=0.4095, acc=84.77%]\n",
      "Epoch 10/10 [Val]: 100%|██████████| 1334/1334 [01:16<00:00, 17.36it/s, loss=0.1027, acc=82.88%]"
     ]
    },
    {
     "name": "stdout",
     "output_type": "stream",
     "text": [
      "Epoch 10/10 - Train Loss: 0.3520, Acc: 84.77% | Val Loss: 0.4240, Acc: 82.88% (Best Val: 83.38%)\n",
      "Training completed!\n",
      "Training time: 3641.933267699991\n",
      "Best validation accuracy: 83.38%\n"
     ]
    },
    {
     "name": "stderr",
     "output_type": "stream",
     "text": [
      "\n"
     ]
    }
   ],
   "execution_count": 8
  },
  {
   "metadata": {
    "ExecuteTime": {
     "end_time": "2025-07-24T11:13:26.409897Z",
     "start_time": "2025-07-24T10:42:36.658857Z"
    }
   },
   "cell_type": "code",
   "source": [
    "torch.cuda.empty_cache()\n",
    "model_save_path = \"dynamic_gin_embedding_model.pth\"\n",
    "torch.save(model.state_dict(), model_save_path)\n",
    "trained_model, history = simple_train_model_v2(\n",
    "        dataset_trim,\n",
    "        gnn_model=model,\n",
    "        num_epochs=5,\n",
    "        batch_size=4,\n",
    "        learning_rate=0.002,\n",
    "        start_index=0,\n",
    "        num_graphs_to_use=60000,\n",
    "    )"
   ],
   "id": "346ebeb4d2811d0b",
   "outputs": [
    {
     "name": "stdout",
     "output_type": "stream",
     "text": [
      "Label 1: 38182 instances\n",
      "Label 0: 21818 instances\n",
      "Label 1: 63.64% of total instances\n",
      "Label 0: 36.36% of total instances\n",
      "Class weights: tensor([2.7500, 1.5714], device='cuda:0')\n",
      "Splitting dataset into train and validation sets\n",
      "Train samples: 48000\n",
      "Validation samples: 12000\n",
      "\n",
      "Starting training for 5 epochs...\n"
     ]
    },
    {
     "name": "stderr",
     "output_type": "stream",
     "text": [
      "Epoch 1/5 [Train]: 100%|██████████| 12000/12000 [04:33<00:00, 43.87it/s, loss=0.2671, acc=81.23%]\n",
      "Epoch 1/5 [Val]: 100%|██████████| 3000/3000 [00:50<00:00, 59.09it/s, loss=0.6085, acc=81.62%] \n"
     ]
    },
    {
     "name": "stdout",
     "output_type": "stream",
     "text": [
      "Epoch 1/5 - Train Loss: 0.4351, Acc: 81.23% | Val Loss: 0.4540, Acc: 81.62% (Best Val: 81.62%)\n"
     ]
    },
    {
     "name": "stderr",
     "output_type": "stream",
     "text": [
      "Epoch 2/5 [Train]: 100%|██████████| 12000/12000 [05:10<00:00, 38.67it/s, loss=0.0419, acc=81.33%]\n",
      "Epoch 2/5 [Val]: 100%|██████████| 3000/3000 [02:21<00:00, 21.18it/s, loss=0.5406, acc=82.01%] \n"
     ]
    },
    {
     "name": "stdout",
     "output_type": "stream",
     "text": [
      "Epoch 2/5 - Train Loss: 0.4342, Acc: 81.33% | Val Loss: 0.4338, Acc: 82.01% (Best Val: 82.01%)\n"
     ]
    },
    {
     "name": "stderr",
     "output_type": "stream",
     "text": [
      "Epoch 3/5 [Train]: 100%|██████████| 12000/12000 [04:28<00:00, 44.69it/s, loss=0.1811, acc=81.44%] \n",
      "Epoch 3/5 [Val]: 100%|██████████| 3000/3000 [00:51<00:00, 58.78it/s, loss=0.6834, acc=81.19%] \n"
     ]
    },
    {
     "name": "stdout",
     "output_type": "stream",
     "text": [
      "Epoch 3/5 - Train Loss: 0.4330, Acc: 81.44% | Val Loss: 0.4391, Acc: 81.19% (Best Val: 82.01%)\n"
     ]
    },
    {
     "name": "stderr",
     "output_type": "stream",
     "text": [
      "Epoch 4/5 [Train]: 100%|██████████| 12000/12000 [05:01<00:00, 39.86it/s, loss=0.2786, acc=81.44%]\n",
      "Epoch 4/5 [Val]: 100%|██████████| 3000/3000 [02:22<00:00, 21.02it/s, loss=0.5135, acc=82.33%] \n"
     ]
    },
    {
     "name": "stdout",
     "output_type": "stream",
     "text": [
      "Epoch 4/5 - Train Loss: 0.4297, Acc: 81.44% | Val Loss: 0.4412, Acc: 82.33% (Best Val: 82.33%)\n"
     ]
    },
    {
     "name": "stderr",
     "output_type": "stream",
     "text": [
      "Epoch 5/5 [Train]: 100%|██████████| 12000/12000 [04:19<00:00, 46.19it/s, loss=0.3382, acc=81.76%]\n",
      "Epoch 5/5 [Val]: 100%|██████████| 3000/3000 [00:49<00:00, 60.11it/s, loss=0.3723, acc=80.85%] \n"
     ]
    },
    {
     "name": "stdout",
     "output_type": "stream",
     "text": [
      "Epoch 5/5 - Train Loss: 0.4255, Acc: 81.76% | Val Loss: 0.4389, Acc: 80.85% (Best Val: 82.33%)\n",
      "Training completed!\n",
      "Training time: 1849.739828900012\n",
      "Best validation accuracy: 82.33%\n"
     ]
    }
   ],
   "execution_count": 10
  },
  {
   "metadata": {
    "ExecuteTime": {
     "end_time": "2025-07-23T23:11:47.385176Z",
     "start_time": "2025-07-23T23:11:47.375456Z"
    }
   },
   "cell_type": "code",
   "source": [
    "import joblib\n",
    "torch.cuda.empty_cache()\n",
    "model_save_path = \"dynamic_gin_embedding_model.pth\"\n",
    "torch.save(model.state_dict(), model_save_path)\n",
    "# save training history\n",
    "history_save_path = \"gin_embed_training_history.pkl\"\n",
    "with open(history_save_path, \"wb\") as f:\n",
    "    joblib.dump(history, f)"
   ],
   "id": "6ebb8ee5b7af1a5c",
   "outputs": [],
   "execution_count": 13
  },
  {
   "metadata": {
    "jupyter": {
     "is_executing": true
    }
   },
   "cell_type": "code",
   "source": "1 == 1",
   "id": "db3f6fb6292433aa",
   "outputs": [],
   "execution_count": null
  },
  {
   "metadata": {
    "ExecuteTime": {
     "end_time": "2025-07-23T13:53:40.583093Z",
     "start_time": "2025-07-23T13:53:40.554696Z"
    }
   },
   "cell_type": "code",
   "source": [
    "step_folder = r\"E:\\gnn_data\\step_files\"\n",
    "num_files = 0\n",
    "for file in os.listdir(step_folder):\n",
    "    # if os.stat(os.path.join(step_folder, file)).st_size < 2 * 1024 * 1024:\n",
    "    num_files += 1\n",
    "print(f\"Number of files larger than 1MB in {PROCESSED_DATA_DIR}: {num_files}\")\n"
   ],
   "id": "fb35c8886811c99e",
   "outputs": [
    {
     "name": "stdout",
     "output_type": "stream",
     "text": [
      "Number of files larger than 1MB in E:\\gnn_data\\processed_step_data_full_node_features: 64887\n"
     ]
    }
   ],
   "execution_count": 23
  },
  {
   "metadata": {
    "ExecuteTime": {
     "end_time": "2025-07-23T13:53:45.604970Z",
     "start_time": "2025-07-23T13:53:45.508479Z"
    }
   },
   "cell_type": "code",
   "source": [
    "step_folder = r\"E:\\gnn_data\\step_files\"\n",
    "num_files = 0\n",
    "for file in Path(step_folder).glob(\"*.*\"):\n",
    "    # if file.stat().st_size < 2 * 1024 * 1024:\n",
    "    num_files += 1\n",
    "print(f\"Number of files larger than 1MB in {PROCESSED_DATA_DIR}: {num_files}\")\n"
   ],
   "id": "20f57c6ccd80903e",
   "outputs": [
    {
     "name": "stdout",
     "output_type": "stream",
     "text": [
      "Number of files larger than 1MB in E:\\gnn_data\\processed_step_data_full_node_features: 64886\n"
     ]
    }
   ],
   "execution_count": 24
  }
 ],
 "metadata": {
  "kernelspec": {
   "display_name": "Python 3",
   "language": "python",
   "name": "python3"
  },
  "language_info": {
   "codemirror_mode": {
    "name": "ipython",
    "version": 2
   },
   "file_extension": ".py",
   "mimetype": "text/x-python",
   "name": "python",
   "nbconvert_exporter": "python",
   "pygments_lexer": "ipython2",
   "version": "2.7.6"
  }
 },
 "nbformat": 4,
 "nbformat_minor": 5
}
