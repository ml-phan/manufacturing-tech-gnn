{
 "cells": [
  {
   "metadata": {
    "ExecuteTime": {
     "end_time": "2025-10-02T09:46:07.881186Z",
     "start_time": "2025-10-02T09:46:03.119519Z"
    }
   },
   "cell_type": "code",
   "source": [
    "import pandas as pd\n",
    "\n",
    "import training_pointnet\n",
    "# autoreload modules when they change\n",
    "%load_ext autoreload"
   ],
   "id": "5fdefeb3b09f199f",
   "outputs": [],
   "execution_count": 2
  },
  {
   "metadata": {
    "ExecuteTime": {
     "end_time": "2025-10-02T09:46:07.893292Z",
     "start_time": "2025-10-02T09:46:07.890333Z"
    }
   },
   "cell_type": "code",
   "source": [
    "from training_pointnet import *\n",
    "%aimport training_pointnet"
   ],
   "id": "dd824433c9262ebd",
   "outputs": [],
   "execution_count": 3
  },
  {
   "metadata": {
    "ExecuteTime": {
     "end_time": "2025-10-01T15:23:38.582571Z",
     "start_time": "2025-10-01T15:17:41.919609Z"
    }
   },
   "cell_type": "code",
   "source": "model, metrics_tracker = train_pointnet(validation_fold=0, num_epochs=5)",
   "id": "2caad736c724be20",
   "outputs": [
    {
     "name": "stdout",
     "output_type": "stream",
     "text": [
      "Building datasets and dataloaders...\n",
      "Training dataset size: 55978. Validation dataset size: 6220\n",
      "Initializing model, loss function, optimizer, scheduler, and metrics tracker...\n"
     ]
    },
    {
     "name": "stderr",
     "output_type": "stream",
     "text": [
      "Epoch 1/5 [Train]: 100%|██████████| 1749/1749 [01:11<00:00, 24.42it/s, loss=0.6305, acc=64.40%, f1=0.4345, auroc=0.5266, avp=0.5222]\n",
      "Epoch 1/5 [Val]: 100%|██████████| 194/194 [00:09<00:00, 19.79it/s, loss=0.6375, acc=64.34%, f1=0.3949, auroc=0.5496, avp=0.5360]     \n"
     ]
    },
    {
     "name": "stdout",
     "output_type": "stream",
     "text": [
      "Epoch 1/5 - Train Loss: 0.6768 | Acc: 64.40%Val Loss: 991.2322, Acc: 64.34% | Val F1: 0.3949 (Best: 0.3949) | Val AUC: 0.5496 (Best: 0.5496) | Val AP: 0.5360 (Best: 0.5360)\n"
     ]
    },
    {
     "name": "stderr",
     "output_type": "stream",
     "text": [
      "Epoch 2/5 [Train]: 100%|██████████| 1749/1749 [01:05<00:00, 26.88it/s, loss=0.7068, acc=64.48%, f1=0.4249, auroc=0.5344, avp=0.5295]\n",
      "Epoch 2/5 [Val]: 100%|██████████| 194/194 [00:03<00:00, 57.20it/s, loss=0.6263, acc=64.45%, f1=0.3996, auroc=0.5603, avp=0.5416]     \n"
     ]
    },
    {
     "name": "stdout",
     "output_type": "stream",
     "text": [
      "Epoch 2/5 - Train Loss: 0.6514 | Acc: 64.48%Val Loss: 5212.5082, Acc: 64.45% | Val F1: 0.3996 (Best: 0.3996) | Val AUC: 0.5603 (Best: 0.5603) | Val AP: 0.5416 (Best: 0.5416)\n"
     ]
    },
    {
     "name": "stderr",
     "output_type": "stream",
     "text": [
      "Epoch 3/5 [Train]: 100%|██████████| 1749/1749 [01:05<00:00, 26.71it/s, loss=0.7163, acc=64.71%, f1=0.4318, auroc=0.5616, avp=0.5491]\n",
      "Epoch 3/5 [Val]: 100%|██████████| 194/194 [00:03<00:00, 57.06it/s, loss=0.6173, acc=64.51%, f1=0.4039, auroc=0.5540, avp=0.5395]    \n"
     ]
    },
    {
     "name": "stdout",
     "output_type": "stream",
     "text": [
      "Epoch 3/5 - Train Loss: 0.6461 | Acc: 64.71%Val Loss: 333.3554, Acc: 64.51% | Val F1: 0.4039 (Best: 0.4039) | Val AUC: 0.5540 (Best: 0.5603) | Val AP: 0.5395 (Best: 0.5416)\n"
     ]
    },
    {
     "name": "stderr",
     "output_type": "stream",
     "text": [
      "Epoch 4/5 [Train]: 100%|██████████| 1749/1749 [01:05<00:00, 26.82it/s, loss=0.6364, acc=64.60%, f1=0.4297, auroc=0.5747, avp=0.5575]\n",
      "Epoch 4/5 [Val]: 100%|██████████| 194/194 [00:03<00:00, 57.61it/s, loss=0.6225, acc=64.34%, f1=0.3919, auroc=0.5070, avp=0.5141] \n"
     ]
    },
    {
     "name": "stdout",
     "output_type": "stream",
     "text": [
      "Epoch 4/5 - Train Loss: 0.6430 | Acc: 64.60%Val Loss: 0.3989, Acc: 64.34% | Val F1: 0.3919 (Best: 0.4039) | Val AUC: 0.5070 (Best: 0.5603) | Val AP: 0.5141 (Best: 0.5416)\n"
     ]
    },
    {
     "name": "stderr",
     "output_type": "stream",
     "text": [
      "Epoch 5/5 [Train]: 100%|██████████| 1749/1749 [01:05<00:00, 26.84it/s, loss=0.5377, acc=64.68%, f1=0.4416, auroc=0.5784, avp=0.5609]\n",
      "Epoch 5/5 [Val]: 100%|██████████| 194/194 [00:03<00:00, 57.52it/s, loss=0.6079, acc=64.85%, f1=0.4158, auroc=0.5680, avp=0.5495]   \n"
     ]
    },
    {
     "name": "stdout",
     "output_type": "stream",
     "text": [
      "Epoch 5/5 - Train Loss: 0.6419 | Acc: 64.68%Val Loss: 17.1773, Acc: 64.85% | Val F1: 0.4158 (Best: 0.4158) | Val AUC: 0.5680 (Best: 0.5680) | Val AP: 0.5495 (Best: 0.5495)\n",
      "Training completed. Training time: 356.02. Best Val F1: 0.4158. Best Val AUROC: 0.5680. Best Val AP: 0.5495.\n"
     ]
    }
   ],
   "execution_count": 24
  },
  {
   "metadata": {
    "ExecuteTime": {
     "end_time": "2025-10-02T09:46:57.095057Z",
     "start_time": "2025-10-02T09:46:57.033791Z"
    }
   },
   "cell_type": "code",
   "source": [
    "train_dataset, val_dataset = build_dataset_v2(validation_fold=0)\n",
    "train_loader = DataLoader(train_dataset, batch_size=32,\n",
    "                          shuffle=True, drop_last=True,\n",
    "                          num_workers=4, pin_memory=True,\n",
    "                          persistent_workers=True)\n",
    "val_loader = DataLoader(val_dataset, batch_size=32,\n",
    "                        shuffle=False, drop_last=True,\n",
    "                        num_workers=4, pin_memory=True,\n",
    "                        persistent_workers=True)"
   ],
   "id": "b0c89b33699858b4",
   "outputs": [
    {
     "name": "stdout",
     "output_type": "stream",
     "text": [
      "Training dataset size: 55978. Validation dataset size: 6220\n"
     ]
    }
   ],
   "execution_count": 5
  },
  {
   "metadata": {
    "ExecuteTime": {
     "end_time": "2025-10-02T10:03:43.094820Z",
     "start_time": "2025-10-02T10:03:43.088833Z"
    }
   },
   "cell_type": "code",
   "source": "train_dataset[0][0].shape",
   "id": "dba8210dd377f8b7",
   "outputs": [
    {
     "data": {
      "text/plain": [
       "torch.Size([6, 2048])"
      ]
     },
     "execution_count": 15,
     "metadata": {},
     "output_type": "execute_result"
    }
   ],
   "execution_count": 15
  }
 ],
 "metadata": {
  "kernelspec": {
   "display_name": "Python 3",
   "language": "python",
   "name": "python3"
  },
  "language_info": {
   "codemirror_mode": {
    "name": "ipython",
    "version": 2
   },
   "file_extension": ".py",
   "mimetype": "text/x-python",
   "name": "python",
   "nbconvert_exporter": "python",
   "pygments_lexer": "ipython2",
   "version": "2.7.6"
  }
 },
 "nbformat": 4,
 "nbformat_minor": 5
}
