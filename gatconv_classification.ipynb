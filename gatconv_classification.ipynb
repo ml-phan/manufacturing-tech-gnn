{
 "cells": [
  {
   "cell_type": "code",
   "id": "initial_id",
   "metadata": {
    "collapsed": true,
    "ExecuteTime": {
     "end_time": "2025-07-23T12:45:41.875894Z",
     "start_time": "2025-07-23T12:45:41.785499Z"
    }
   },
   "source": [
    "# autoimport\n",
    "%load_ext autoreload\n",
    "%autoreload 1"
   ],
   "outputs": [],
   "execution_count": 1
  },
  {
   "metadata": {
    "ExecuteTime": {
     "end_time": "2025-07-23T12:45:46.252628Z",
     "start_time": "2025-07-23T12:45:42.042672Z"
    }
   },
   "cell_type": "code",
   "source": [
    "from src.gnn_models import *\n",
    "%aimport src.gnn_models"
   ],
   "id": "1b739992690e93da",
   "outputs": [],
   "execution_count": 2
  },
  {
   "metadata": {
    "ExecuteTime": {
     "end_time": "2025-07-23T12:45:46.450980Z",
     "start_time": "2025-07-23T12:45:46.381570Z"
    }
   },
   "cell_type": "code",
   "source": [
    "PROCESSED_DATA_DIR = r\"E:\\gnn_data\\processed_step_data_full_node_features\"\n",
    "dataset_trim = FastSTEPDataset(PROCESSED_DATA_DIR, trim_start=1)"
   ],
   "id": "5bc3c12d51146703",
   "outputs": [
    {
     "name": "stdout",
     "output_type": "stream",
     "text": [
      "Fast dataset loaded:\n",
      "- Total samples: 64579\n",
      "- Processed successfully: 64579\n",
      "- Failed processing: 77\n"
     ]
    }
   ],
   "execution_count": 3
  },
  {
   "metadata": {
    "ExecuteTime": {
     "end_time": "2025-07-23T12:45:46.535742Z",
     "start_time": "2025-07-23T12:45:46.481310Z"
    }
   },
   "cell_type": "code",
   "source": [
    "model = DynamicGAT(\n",
    "    input_features=dataset_trim[0].x.shape[1],\n",
    "    hidden_sizes=[256, 128],\n",
    "    heads=2,\n",
    "    conv_dropout_rate=0.2,\n",
    "    classifier_dropout_rate=0.2,\n",
    "    use_layer_norm=True,\n",
    "    pool_hidden_size=128\n",
    ")"
   ],
   "id": "2a4811b1559ab020",
   "outputs": [
    {
     "name": "stdout",
     "output_type": "stream",
     "text": [
      "Created Dynamic GNN model:\n",
      "- Input features: 22\n",
      "- Number of hidden layers: 2\n",
      "- Hidden layer sizes: [256, 128]\n",
      "- Output classes: 2\n",
      "- Convolution dropout rate: 0.2\n",
      "- Classifier dropout rate: 0.2\n",
      "- Layer normalization: True\n"
     ]
    },
    {
     "name": "stderr",
     "output_type": "stream",
     "text": [
      "C:\\Users\\phanm\\miniconda3\\envs\\machine-learning\\Lib\\site-packages\\torch_geometric\\deprecation.py:26: UserWarning: 'nn.glob.GlobalAttention' is deprecated, use 'nn.aggr.AttentionalAggregation' instead\n",
      "  warnings.warn(out)\n"
     ]
    }
   ],
   "execution_count": 5
  },
  {
   "metadata": {
    "ExecuteTime": {
     "end_time": "2025-07-23T13:00:35.566437Z",
     "start_time": "2025-07-23T12:45:46.542685Z"
    }
   },
   "cell_type": "code",
   "source": [
    "torch.cuda.empty_cache()\n",
    "\n",
    "trained_model, history = simple_train_model_v2(\n",
    "    dataset_trim,\n",
    "    gnn_model=model,\n",
    "    num_epochs=5,\n",
    "    batch_size=2,\n",
    "    learning_rate=0.001,\n",
    "    start_index=0,\n",
    "    num_graphs_to_use=60000,\n",
    ")"
   ],
   "id": "aa8acc6c22058b2",
   "outputs": [
    {
     "name": "stdout",
     "output_type": "stream",
     "text": [
      "Label 1: 754 instances\n",
      "Label 0: 246 instances\n",
      "Label 1: 75.40% of total instances\n",
      "Label 0: 24.60% of total instances\n",
      "Class weights: tensor([4.0650, 1.3263], device='cuda:0')\n",
      "Splitting dataset into train and validation sets\n",
      "Train samples: 800\n",
      "Validation samples: 200\n",
      "\n",
      "Starting training for 100 epochs...\n"
     ]
    },
    {
     "name": "stderr",
     "output_type": "stream",
     "text": [
      "Epoch 1/100 [Train]: 100%|██████████| 400/400 [00:07<00:00, 55.50it/s, loss=0.5630, acc=75.12%]\n",
      "Epoch 1/100 [Val]: 100%|██████████| 100/100 [00:00<00:00, 106.18it/s, loss=0.5215, acc=75.50%]\n"
     ]
    },
    {
     "name": "stdout",
     "output_type": "stream",
     "text": [
      "Epoch 1/100 - Train Loss: 0.6585, Acc: 75.12% | Val Loss: 0.6461, Acc: 75.50% (Best Val: 75.50%)\n"
     ]
    },
    {
     "name": "stderr",
     "output_type": "stream",
     "text": [
      "Epoch 2/100 [Train]: 100%|██████████| 400/400 [00:06<00:00, 61.93it/s, loss=0.3621, acc=75.88%]\n",
      "Epoch 2/100 [Val]: 100%|██████████| 100/100 [00:00<00:00, 156.44it/s, loss=0.5670, acc=76.00%]\n"
     ]
    },
    {
     "name": "stdout",
     "output_type": "stream",
     "text": [
      "Epoch 2/100 - Train Loss: 0.6285, Acc: 75.88% | Val Loss: 0.6791, Acc: 76.00% (Best Val: 76.00%)\n"
     ]
    },
    {
     "name": "stderr",
     "output_type": "stream",
     "text": [
      "Epoch 3/100 [Train]: 100%|██████████| 400/400 [00:04<00:00, 81.00it/s, loss=0.3766, acc=76.88%]\n",
      "Epoch 3/100 [Val]: 100%|██████████| 100/100 [00:00<00:00, 155.30it/s, loss=1.0086, acc=76.00%]\n"
     ]
    },
    {
     "name": "stdout",
     "output_type": "stream",
     "text": [
      "Epoch 3/100 - Train Loss: 0.5749, Acc: 76.88% | Val Loss: 0.6709, Acc: 76.00% (Best Val: 76.00%)\n"
     ]
    },
    {
     "name": "stderr",
     "output_type": "stream",
     "text": [
      "Epoch 4/100 [Train]: 100%|██████████| 400/400 [00:04<00:00, 81.15it/s, loss=0.3533, acc=80.75%] \n",
      "Epoch 4/100 [Val]: 100%|██████████| 100/100 [00:00<00:00, 155.33it/s, loss=1.2451, acc=76.00%]\n"
     ]
    },
    {
     "name": "stdout",
     "output_type": "stream",
     "text": [
      "Epoch 4/100 - Train Loss: 0.5576, Acc: 80.75% | Val Loss: 0.6321, Acc: 76.00% (Best Val: 76.00%)\n"
     ]
    },
    {
     "name": "stderr",
     "output_type": "stream",
     "text": [
      "Epoch 5/100 [Train]: 100%|██████████| 400/400 [00:05<00:00, 72.10it/s, loss=0.2789, acc=80.62%]\n",
      "Epoch 5/100 [Val]: 100%|██████████| 100/100 [00:00<00:00, 156.47it/s, loss=0.8296, acc=77.00%]\n"
     ]
    },
    {
     "name": "stdout",
     "output_type": "stream",
     "text": [
      "Epoch 5/100 - Train Loss: 0.5505, Acc: 80.62% | Val Loss: 0.6033, Acc: 77.00% (Best Val: 77.00%)\n"
     ]
    },
    {
     "name": "stderr",
     "output_type": "stream",
     "text": [
      "Epoch 6/100 [Train]: 100%|██████████| 400/400 [00:05<00:00, 78.13it/s, loss=0.5105, acc=81.25%]\n",
      "Epoch 6/100 [Val]: 100%|██████████| 100/100 [00:00<00:00, 154.06it/s, loss=0.9011, acc=76.50%]\n"
     ]
    },
    {
     "name": "stdout",
     "output_type": "stream",
     "text": [
      "Epoch 6/100 - Train Loss: 0.5544, Acc: 81.25% | Val Loss: 0.6106, Acc: 76.50% (Best Val: 77.00%)\n"
     ]
    },
    {
     "name": "stderr",
     "output_type": "stream",
     "text": [
      "Epoch 7/100 [Train]: 100%|██████████| 400/400 [00:05<00:00, 77.04it/s, loss=0.2390, acc=80.50%] \n",
      "Epoch 7/100 [Val]: 100%|██████████| 100/100 [00:00<00:00, 150.63it/s, loss=0.5250, acc=76.00%]\n"
     ]
    },
    {
     "name": "stdout",
     "output_type": "stream",
     "text": [
      "Epoch 7/100 - Train Loss: 0.5397, Acc: 80.50% | Val Loss: 0.5991, Acc: 76.00% (Best Val: 77.00%)\n"
     ]
    },
    {
     "name": "stderr",
     "output_type": "stream",
     "text": [
      "Epoch 8/100 [Train]: 100%|██████████| 400/400 [00:05<00:00, 74.12it/s, loss=1.1365, acc=81.38%]\n",
      "Epoch 8/100 [Val]: 100%|██████████| 100/100 [00:00<00:00, 154.30it/s, loss=1.0766, acc=76.50%]\n"
     ]
    },
    {
     "name": "stdout",
     "output_type": "stream",
     "text": [
      "Epoch 8/100 - Train Loss: 0.5452, Acc: 81.38% | Val Loss: 0.6326, Acc: 76.50% (Best Val: 77.00%)\n"
     ]
    },
    {
     "name": "stderr",
     "output_type": "stream",
     "text": [
      "Epoch 9/100 [Train]: 100%|██████████| 400/400 [00:05<00:00, 79.66it/s, loss=0.4670, acc=81.25%]\n",
      "Epoch 9/100 [Val]: 100%|██████████| 100/100 [00:00<00:00, 151.16it/s, loss=0.8464, acc=75.50%]\n"
     ]
    },
    {
     "name": "stdout",
     "output_type": "stream",
     "text": [
      "Epoch 9/100 - Train Loss: 0.5599, Acc: 81.25% | Val Loss: 0.6070, Acc: 75.50% (Best Val: 77.00%)\n"
     ]
    },
    {
     "name": "stderr",
     "output_type": "stream",
     "text": [
      "Epoch 10/100 [Train]: 100%|██████████| 400/400 [00:05<00:00, 72.67it/s, loss=0.1912, acc=81.50%] \n",
      "Epoch 10/100 [Val]: 100%|██████████| 100/100 [00:00<00:00, 152.47it/s, loss=0.8865, acc=72.50%]\n"
     ]
    },
    {
     "name": "stdout",
     "output_type": "stream",
     "text": [
      "Epoch 10/100 - Train Loss: 0.5478, Acc: 81.50% | Val Loss: 0.6585, Acc: 72.50% (Best Val: 77.00%)\n"
     ]
    },
    {
     "name": "stderr",
     "output_type": "stream",
     "text": [
      "Epoch 11/100 [Train]: 100%|██████████| 400/400 [00:05<00:00, 71.66it/s, loss=0.3043, acc=80.12%]\n",
      "Epoch 11/100 [Val]: 100%|██████████| 100/100 [00:00<00:00, 153.59it/s, loss=1.2967, acc=76.00%]\n"
     ]
    },
    {
     "name": "stdout",
     "output_type": "stream",
     "text": [
      "Epoch 11/100 - Train Loss: 0.5434, Acc: 80.12% | Val Loss: 0.6543, Acc: 76.00% (Best Val: 77.00%)\n"
     ]
    },
    {
     "name": "stderr",
     "output_type": "stream",
     "text": [
      "Epoch 12/100 [Train]: 100%|██████████| 400/400 [00:05<00:00, 76.51it/s, loss=0.3686, acc=82.12%]\n",
      "Epoch 12/100 [Val]: 100%|██████████| 100/100 [00:00<00:00, 145.76it/s, loss=1.3038, acc=75.50%]\n"
     ]
    },
    {
     "name": "stdout",
     "output_type": "stream",
     "text": [
      "Epoch 12/100 - Train Loss: 0.5260, Acc: 82.12% | Val Loss: 0.6579, Acc: 75.50% (Best Val: 77.00%)\n"
     ]
    },
    {
     "name": "stderr",
     "output_type": "stream",
     "text": [
      "Epoch 13/100 [Train]: 100%|██████████| 400/400 [00:05<00:00, 74.70it/s, loss=1.5526, acc=81.75%]\n",
      "Epoch 13/100 [Val]: 100%|██████████| 100/100 [00:00<00:00, 159.19it/s, loss=0.8070, acc=76.00%]\n"
     ]
    },
    {
     "name": "stdout",
     "output_type": "stream",
     "text": [
      "Epoch 13/100 - Train Loss: 0.5402, Acc: 81.75% | Val Loss: 0.6310, Acc: 76.00% (Best Val: 77.00%)\n"
     ]
    },
    {
     "name": "stderr",
     "output_type": "stream",
     "text": [
      "Epoch 14/100 [Train]: 100%|██████████| 400/400 [00:04<00:00, 80.03it/s, loss=0.2553, acc=81.50%] \n",
      "Epoch 14/100 [Val]: 100%|██████████| 100/100 [00:00<00:00, 165.23it/s, loss=1.4325, acc=76.00%]\n"
     ]
    },
    {
     "name": "stdout",
     "output_type": "stream",
     "text": [
      "Epoch 14/100 - Train Loss: 0.5353, Acc: 81.50% | Val Loss: 0.6515, Acc: 76.00% (Best Val: 77.00%)\n"
     ]
    },
    {
     "name": "stderr",
     "output_type": "stream",
     "text": [
      "Epoch 15/100 [Train]: 100%|██████████| 400/400 [00:04<00:00, 80.67it/s, loss=0.3265, acc=82.12%]\n",
      "Epoch 15/100 [Val]: 100%|██████████| 100/100 [00:00<00:00, 147.63it/s, loss=1.4472, acc=76.00%]\n"
     ]
    },
    {
     "name": "stdout",
     "output_type": "stream",
     "text": [
      "Epoch 15/100 - Train Loss: 0.5375, Acc: 82.12% | Val Loss: 0.6596, Acc: 76.00% (Best Val: 77.00%)\n"
     ]
    },
    {
     "name": "stderr",
     "output_type": "stream",
     "text": [
      "Epoch 16/100 [Train]: 100%|██████████| 400/400 [00:05<00:00, 78.82it/s, loss=0.1788, acc=82.12%]\n",
      "Epoch 16/100 [Val]: 100%|██████████| 100/100 [00:00<00:00, 151.98it/s, loss=1.9446, acc=76.00%]\n"
     ]
    },
    {
     "name": "stdout",
     "output_type": "stream",
     "text": [
      "Epoch 16/100 - Train Loss: 0.5222, Acc: 82.12% | Val Loss: 0.6816, Acc: 76.00% (Best Val: 77.00%)\n"
     ]
    },
    {
     "name": "stderr",
     "output_type": "stream",
     "text": [
      "Epoch 17/100 [Train]: 100%|██████████| 400/400 [00:05<00:00, 78.82it/s, loss=0.2883, acc=82.25%]\n",
      "Epoch 17/100 [Val]: 100%|██████████| 100/100 [00:00<00:00, 153.78it/s, loss=1.0391, acc=77.50%]\n"
     ]
    },
    {
     "name": "stdout",
     "output_type": "stream",
     "text": [
      "Epoch 17/100 - Train Loss: 0.5323, Acc: 82.25% | Val Loss: 0.6226, Acc: 77.50% (Best Val: 77.50%)\n"
     ]
    },
    {
     "name": "stderr",
     "output_type": "stream",
     "text": [
      "Epoch 18/100 [Train]: 100%|██████████| 400/400 [00:05<00:00, 77.77it/s, loss=0.1810, acc=81.62%]\n",
      "Epoch 18/100 [Val]: 100%|██████████| 100/100 [00:00<00:00, 156.79it/s, loss=0.9176, acc=76.00%]\n"
     ]
    },
    {
     "name": "stdout",
     "output_type": "stream",
     "text": [
      "Epoch 18/100 - Train Loss: 0.5324, Acc: 81.62% | Val Loss: 0.6261, Acc: 76.00% (Best Val: 77.50%)\n"
     ]
    },
    {
     "name": "stderr",
     "output_type": "stream",
     "text": [
      "Epoch 19/100 [Train]: 100%|██████████| 400/400 [00:05<00:00, 78.47it/s, loss=0.4033, acc=81.50%]\n",
      "Epoch 19/100 [Val]: 100%|██████████| 100/100 [00:00<00:00, 161.21it/s, loss=0.6969, acc=76.00%]\n"
     ]
    },
    {
     "name": "stdout",
     "output_type": "stream",
     "text": [
      "Epoch 19/100 - Train Loss: 0.5595, Acc: 81.50% | Val Loss: 0.6114, Acc: 76.00% (Best Val: 77.50%)\n"
     ]
    },
    {
     "name": "stderr",
     "output_type": "stream",
     "text": [
      "Epoch 20/100 [Train]: 100%|██████████| 400/400 [00:04<00:00, 81.60it/s, loss=1.4557, acc=82.00%]\n",
      "Epoch 20/100 [Val]: 100%|██████████| 100/100 [00:00<00:00, 160.82it/s, loss=0.6519, acc=76.00%]\n"
     ]
    },
    {
     "name": "stdout",
     "output_type": "stream",
     "text": [
      "Epoch 20/100 - Train Loss: 0.5367, Acc: 82.00% | Val Loss: 0.6245, Acc: 76.00% (Best Val: 77.50%)\n"
     ]
    },
    {
     "name": "stderr",
     "output_type": "stream",
     "text": [
      "Epoch 21/100 [Train]: 100%|██████████| 400/400 [00:05<00:00, 78.90it/s, loss=0.3231, acc=81.62%] \n",
      "Epoch 21/100 [Val]: 100%|██████████| 100/100 [00:00<00:00, 166.24it/s, loss=0.8203, acc=76.00%]\n"
     ]
    },
    {
     "name": "stdout",
     "output_type": "stream",
     "text": [
      "Epoch 21/100 - Train Loss: 0.5321, Acc: 81.62% | Val Loss: 0.6152, Acc: 76.00% (Best Val: 77.50%)\n"
     ]
    },
    {
     "name": "stderr",
     "output_type": "stream",
     "text": [
      "Epoch 22/100 [Train]: 100%|██████████| 400/400 [00:05<00:00, 79.91it/s, loss=0.2151, acc=82.25%] \n",
      "Epoch 22/100 [Val]: 100%|██████████| 100/100 [00:00<00:00, 152.35it/s, loss=0.8453, acc=76.00%]\n"
     ]
    },
    {
     "name": "stdout",
     "output_type": "stream",
     "text": [
      "Epoch 22/100 - Train Loss: 0.5290, Acc: 82.25% | Val Loss: 0.6519, Acc: 76.00% (Best Val: 77.50%)\n"
     ]
    },
    {
     "name": "stderr",
     "output_type": "stream",
     "text": [
      "Epoch 23/100 [Train]: 100%|██████████| 400/400 [00:05<00:00, 72.35it/s, loss=1.1174, acc=81.75%]\n",
      "Epoch 23/100 [Val]: 100%|██████████| 100/100 [00:00<00:00, 151.57it/s, loss=0.8155, acc=76.00%]\n"
     ]
    },
    {
     "name": "stdout",
     "output_type": "stream",
     "text": [
      "Epoch 23/100 - Train Loss: 0.5175, Acc: 81.75% | Val Loss: 0.6481, Acc: 76.00% (Best Val: 77.50%)\n"
     ]
    },
    {
     "name": "stderr",
     "output_type": "stream",
     "text": [
      "Epoch 24/100 [Train]: 100%|██████████| 400/400 [00:05<00:00, 78.26it/s, loss=0.3403, acc=82.50%] \n",
      "Epoch 24/100 [Val]: 100%|██████████| 100/100 [00:00<00:00, 163.40it/s, loss=1.2604, acc=75.50%]\n"
     ]
    },
    {
     "name": "stdout",
     "output_type": "stream",
     "text": [
      "Epoch 24/100 - Train Loss: 0.5320, Acc: 82.50% | Val Loss: 0.6226, Acc: 75.50% (Best Val: 77.50%)\n"
     ]
    },
    {
     "name": "stderr",
     "output_type": "stream",
     "text": [
      "Epoch 25/100 [Train]: 100%|██████████| 400/400 [00:05<00:00, 79.96it/s, loss=1.0908, acc=82.00%] \n",
      "Epoch 25/100 [Val]: 100%|██████████| 100/100 [00:00<00:00, 158.39it/s, loss=0.8677, acc=76.50%]\n"
     ]
    },
    {
     "name": "stdout",
     "output_type": "stream",
     "text": [
      "Epoch 25/100 - Train Loss: 0.5196, Acc: 82.00% | Val Loss: 0.6254, Acc: 76.50% (Best Val: 77.50%)\n"
     ]
    },
    {
     "name": "stderr",
     "output_type": "stream",
     "text": [
      "Epoch 26/100 [Train]: 100%|██████████| 400/400 [00:05<00:00, 68.61it/s, loss=0.2595, acc=82.38%]\n",
      "Epoch 26/100 [Val]: 100%|██████████| 100/100 [00:00<00:00, 158.96it/s, loss=1.2398, acc=76.50%]\n"
     ]
    },
    {
     "name": "stdout",
     "output_type": "stream",
     "text": [
      "Epoch 26/100 - Train Loss: 0.5328, Acc: 82.38% | Val Loss: 0.6644, Acc: 76.50% (Best Val: 77.50%)\n"
     ]
    },
    {
     "name": "stderr",
     "output_type": "stream",
     "text": [
      "Epoch 27/100 [Train]: 100%|██████████| 400/400 [00:05<00:00, 77.99it/s, loss=0.2491, acc=82.88%]\n",
      "Epoch 27/100 [Val]: 100%|██████████| 100/100 [00:00<00:00, 163.76it/s, loss=1.3614, acc=76.50%]\n"
     ]
    },
    {
     "name": "stdout",
     "output_type": "stream",
     "text": [
      "Epoch 27/100 - Train Loss: 0.5309, Acc: 82.88% | Val Loss: 0.6887, Acc: 76.50% (Best Val: 77.50%)\n"
     ]
    },
    {
     "name": "stderr",
     "output_type": "stream",
     "text": [
      "Epoch 28/100 [Train]: 100%|██████████| 400/400 [00:04<00:00, 83.01it/s, loss=0.2444, acc=83.00%] \n",
      "Epoch 28/100 [Val]: 100%|██████████| 100/100 [00:00<00:00, 162.72it/s, loss=0.8503, acc=77.00%]\n"
     ]
    },
    {
     "name": "stdout",
     "output_type": "stream",
     "text": [
      "Epoch 28/100 - Train Loss: 0.5202, Acc: 83.00% | Val Loss: 0.6198, Acc: 77.00% (Best Val: 77.50%)\n"
     ]
    },
    {
     "name": "stderr",
     "output_type": "stream",
     "text": [
      "Epoch 29/100 [Train]: 100%|██████████| 400/400 [00:05<00:00, 78.33it/s, loss=0.3017, acc=82.62%]\n",
      "Epoch 29/100 [Val]: 100%|██████████| 100/100 [00:00<00:00, 130.18it/s, loss=1.3597, acc=76.50%]\n"
     ]
    },
    {
     "name": "stdout",
     "output_type": "stream",
     "text": [
      "Epoch 29/100 - Train Loss: 0.5310, Acc: 82.62% | Val Loss: 0.6256, Acc: 76.50% (Best Val: 77.50%)\n"
     ]
    },
    {
     "name": "stderr",
     "output_type": "stream",
     "text": [
      "Epoch 30/100 [Train]: 100%|██████████| 400/400 [00:05<00:00, 79.81it/s, loss=1.3448, acc=83.12%]\n",
      "Epoch 30/100 [Val]: 100%|██████████| 100/100 [00:00<00:00, 156.47it/s, loss=1.7392, acc=76.50%]\n"
     ]
    },
    {
     "name": "stdout",
     "output_type": "stream",
     "text": [
      "Epoch 30/100 - Train Loss: 0.4979, Acc: 83.12% | Val Loss: 0.6836, Acc: 76.50% (Best Val: 77.50%)\n"
     ]
    },
    {
     "name": "stderr",
     "output_type": "stream",
     "text": [
      "Epoch 31/100 [Train]: 100%|██████████| 400/400 [00:05<00:00, 76.15it/s, loss=0.4724, acc=83.12%]\n",
      "Epoch 31/100 [Val]: 100%|██████████| 100/100 [00:00<00:00, 153.10it/s, loss=0.8765, acc=77.00%]\n"
     ]
    },
    {
     "name": "stdout",
     "output_type": "stream",
     "text": [
      "Epoch 31/100 - Train Loss: 0.4947, Acc: 83.12% | Val Loss: 0.6781, Acc: 77.00% (Best Val: 77.50%)\n"
     ]
    },
    {
     "name": "stderr",
     "output_type": "stream",
     "text": [
      "Epoch 32/100 [Train]: 100%|██████████| 400/400 [00:05<00:00, 78.94it/s, loss=0.4575, acc=83.12%]\n",
      "Epoch 32/100 [Val]: 100%|██████████| 100/100 [00:00<00:00, 167.14it/s, loss=1.0034, acc=76.50%]\n"
     ]
    },
    {
     "name": "stdout",
     "output_type": "stream",
     "text": [
      "Epoch 32/100 - Train Loss: 0.4928, Acc: 83.12% | Val Loss: 0.6420, Acc: 76.50% (Best Val: 77.50%)\n"
     ]
    },
    {
     "name": "stderr",
     "output_type": "stream",
     "text": [
      "Epoch 33/100 [Train]: 100%|██████████| 400/400 [00:04<00:00, 80.30it/s, loss=0.1479, acc=82.75%]\n",
      "Epoch 33/100 [Val]: 100%|██████████| 100/100 [00:00<00:00, 159.99it/s, loss=1.3847, acc=76.00%]\n"
     ]
    },
    {
     "name": "stdout",
     "output_type": "stream",
     "text": [
      "Epoch 33/100 - Train Loss: 0.5055, Acc: 82.75% | Val Loss: 0.6407, Acc: 76.00% (Best Val: 77.50%)\n"
     ]
    },
    {
     "name": "stderr",
     "output_type": "stream",
     "text": [
      "Epoch 34/100 [Train]: 100%|██████████| 400/400 [00:05<00:00, 78.58it/s, loss=0.2451, acc=82.38%]\n",
      "Epoch 34/100 [Val]: 100%|██████████| 100/100 [00:00<00:00, 150.09it/s, loss=2.1135, acc=76.00%]\n"
     ]
    },
    {
     "name": "stdout",
     "output_type": "stream",
     "text": [
      "Epoch 34/100 - Train Loss: 0.5168, Acc: 82.38% | Val Loss: 0.7110, Acc: 76.00% (Best Val: 77.50%)\n"
     ]
    },
    {
     "name": "stderr",
     "output_type": "stream",
     "text": [
      "Epoch 35/100 [Train]: 100%|██████████| 400/400 [00:06<00:00, 63.60it/s, loss=0.4471, acc=83.12%] \n",
      "Epoch 35/100 [Val]: 100%|██████████| 100/100 [00:00<00:00, 159.56it/s, loss=1.1398, acc=77.00%]\n"
     ]
    },
    {
     "name": "stdout",
     "output_type": "stream",
     "text": [
      "Epoch 35/100 - Train Loss: 0.5091, Acc: 83.12% | Val Loss: 0.6254, Acc: 77.00% (Best Val: 77.50%)\n"
     ]
    },
    {
     "name": "stderr",
     "output_type": "stream",
     "text": [
      "Epoch 36/100 [Train]: 100%|██████████| 400/400 [00:05<00:00, 77.42it/s, loss=0.1885, acc=83.00%]\n",
      "Epoch 36/100 [Val]: 100%|██████████| 100/100 [00:00<00:00, 168.67it/s, loss=1.0408, acc=76.50%]\n"
     ]
    },
    {
     "name": "stdout",
     "output_type": "stream",
     "text": [
      "Epoch 36/100 - Train Loss: 0.5155, Acc: 83.00% | Val Loss: 0.6188, Acc: 76.50% (Best Val: 77.50%)\n"
     ]
    },
    {
     "name": "stderr",
     "output_type": "stream",
     "text": [
      "Epoch 37/100 [Train]: 100%|██████████| 400/400 [00:05<00:00, 79.69it/s, loss=1.3884, acc=82.75%] \n",
      "Epoch 37/100 [Val]: 100%|██████████| 100/100 [00:00<00:00, 164.81it/s, loss=1.9263, acc=76.00%]\n"
     ]
    },
    {
     "name": "stdout",
     "output_type": "stream",
     "text": [
      "Epoch 37/100 - Train Loss: 0.5106, Acc: 82.75% | Val Loss: 0.6750, Acc: 76.00% (Best Val: 77.50%)\n"
     ]
    },
    {
     "name": "stderr",
     "output_type": "stream",
     "text": [
      "Epoch 38/100 [Train]: 100%|██████████| 400/400 [00:04<00:00, 82.11it/s, loss=0.1734, acc=82.88%] \n",
      "Epoch 38/100 [Val]: 100%|██████████| 100/100 [00:03<00:00, 26.48it/s, loss=2.2531, acc=76.50%]\n"
     ]
    },
    {
     "name": "stdout",
     "output_type": "stream",
     "text": [
      "Epoch 38/100 - Train Loss: 0.4901, Acc: 82.88% | Val Loss: 0.7188, Acc: 76.50% (Best Val: 77.50%)\n"
     ]
    },
    {
     "name": "stderr",
     "output_type": "stream",
     "text": [
      "Epoch 39/100 [Train]: 100%|██████████| 400/400 [00:20<00:00, 19.08it/s, loss=0.9717, acc=82.50%]\n",
      "Epoch 39/100 [Val]: 100%|██████████| 100/100 [00:05<00:00, 19.45it/s, loss=1.0204, acc=76.00%]\n"
     ]
    },
    {
     "name": "stdout",
     "output_type": "stream",
     "text": [
      "Epoch 39/100 - Train Loss: 0.5322, Acc: 82.50% | Val Loss: 0.6246, Acc: 76.00% (Best Val: 77.50%)\n"
     ]
    },
    {
     "name": "stderr",
     "output_type": "stream",
     "text": [
      "Epoch 40/100 [Train]: 100%|██████████| 400/400 [00:25<00:00, 15.66it/s, loss=0.3108, acc=82.75%]\n",
      "Epoch 40/100 [Val]: 100%|██████████| 100/100 [00:05<00:00, 17.59it/s, loss=2.1871, acc=76.50%]\n"
     ]
    },
    {
     "name": "stdout",
     "output_type": "stream",
     "text": [
      "Epoch 40/100 - Train Loss: 0.4944, Acc: 82.75% | Val Loss: 0.6742, Acc: 76.50% (Best Val: 77.50%)\n"
     ]
    },
    {
     "name": "stderr",
     "output_type": "stream",
     "text": [
      "Epoch 41/100 [Train]: 100%|██████████| 400/400 [00:24<00:00, 16.37it/s, loss=1.0867, acc=83.38%]\n",
      "Epoch 41/100 [Val]: 100%|██████████| 100/100 [00:05<00:00, 19.48it/s, loss=1.6557, acc=76.50%]\n"
     ]
    },
    {
     "name": "stdout",
     "output_type": "stream",
     "text": [
      "Epoch 41/100 - Train Loss: 0.4920, Acc: 83.38% | Val Loss: 0.6628, Acc: 76.50% (Best Val: 77.50%)\n"
     ]
    },
    {
     "name": "stderr",
     "output_type": "stream",
     "text": [
      "Epoch 42/100 [Train]: 100%|██████████| 400/400 [00:25<00:00, 15.58it/s, loss=0.2632, acc=83.50%]\n",
      "Epoch 42/100 [Val]: 100%|██████████| 100/100 [00:05<00:00, 18.32it/s, loss=1.1100, acc=76.50%]\n"
     ]
    },
    {
     "name": "stdout",
     "output_type": "stream",
     "text": [
      "Epoch 42/100 - Train Loss: 0.4766, Acc: 83.50% | Val Loss: 0.6642, Acc: 76.50% (Best Val: 77.50%)\n"
     ]
    },
    {
     "name": "stderr",
     "output_type": "stream",
     "text": [
      "Epoch 43/100 [Train]: 100%|██████████| 400/400 [00:24<00:00, 16.42it/s, loss=0.2743, acc=83.12%]\n",
      "Epoch 43/100 [Val]: 100%|██████████| 100/100 [00:05<00:00, 18.75it/s, loss=0.8527, acc=77.00%]\n"
     ]
    },
    {
     "name": "stdout",
     "output_type": "stream",
     "text": [
      "Epoch 43/100 - Train Loss: 0.4955, Acc: 83.12% | Val Loss: 0.6953, Acc: 77.00% (Best Val: 77.50%)\n"
     ]
    },
    {
     "name": "stderr",
     "output_type": "stream",
     "text": [
      "Epoch 44/100 [Train]: 100%|██████████| 400/400 [00:26<00:00, 14.86it/s, loss=0.3119, acc=83.00%]\n",
      "Epoch 44/100 [Val]: 100%|██████████| 100/100 [00:05<00:00, 18.64it/s, loss=1.2202, acc=77.50%]\n"
     ]
    },
    {
     "name": "stdout",
     "output_type": "stream",
     "text": [
      "Epoch 44/100 - Train Loss: 0.4884, Acc: 83.00% | Val Loss: 0.6888, Acc: 77.50% (Best Val: 77.50%)\n"
     ]
    },
    {
     "name": "stderr",
     "output_type": "stream",
     "text": [
      "Epoch 45/100 [Train]: 100%|██████████| 400/400 [00:57<00:00,  6.90it/s, loss=0.1211, acc=83.00%]\n",
      "Epoch 45/100 [Val]: 100%|██████████| 100/100 [00:09<00:00, 10.62it/s, loss=1.9056, acc=77.00%]\n"
     ]
    },
    {
     "name": "stdout",
     "output_type": "stream",
     "text": [
      "Epoch 45/100 - Train Loss: 0.5177, Acc: 83.00% | Val Loss: 0.7025, Acc: 77.00% (Best Val: 77.50%)\n"
     ]
    },
    {
     "name": "stderr",
     "output_type": "stream",
     "text": [
      "Epoch 46/100 [Train]: 100%|██████████| 400/400 [00:12<00:00, 32.28it/s, loss=0.2824, acc=82.62%] \n",
      "Epoch 46/100 [Val]: 100%|██████████| 100/100 [00:00<00:00, 167.41it/s, loss=1.1679, acc=76.50%]\n"
     ]
    },
    {
     "name": "stdout",
     "output_type": "stream",
     "text": [
      "Epoch 46/100 - Train Loss: 0.4831, Acc: 82.62% | Val Loss: 0.6156, Acc: 76.50% (Best Val: 77.50%)\n"
     ]
    },
    {
     "name": "stderr",
     "output_type": "stream",
     "text": [
      "Epoch 47/100 [Train]: 100%|██████████| 400/400 [00:05<00:00, 78.46it/s, loss=1.0650, acc=83.00%]\n",
      "Epoch 47/100 [Val]: 100%|██████████| 100/100 [00:00<00:00, 155.57it/s, loss=0.9447, acc=77.50%]\n"
     ]
    },
    {
     "name": "stdout",
     "output_type": "stream",
     "text": [
      "Epoch 47/100 - Train Loss: 0.5116, Acc: 83.00% | Val Loss: 0.5815, Acc: 77.50% (Best Val: 77.50%)\n"
     ]
    },
    {
     "name": "stderr",
     "output_type": "stream",
     "text": [
      "Epoch 48/100 [Train]: 100%|██████████| 400/400 [00:04<00:00, 82.32it/s, loss=0.9797, acc=83.50%] \n",
      "Epoch 48/100 [Val]: 100%|██████████| 100/100 [00:00<00:00, 156.59it/s, loss=1.3451, acc=77.00%]\n"
     ]
    },
    {
     "name": "stdout",
     "output_type": "stream",
     "text": [
      "Epoch 48/100 - Train Loss: 0.5009, Acc: 83.50% | Val Loss: 0.5986, Acc: 77.00% (Best Val: 77.50%)\n"
     ]
    },
    {
     "name": "stderr",
     "output_type": "stream",
     "text": [
      "Epoch 49/100 [Train]: 100%|██████████| 400/400 [00:05<00:00, 76.67it/s, loss=0.1946, acc=82.62%]\n",
      "Epoch 49/100 [Val]: 100%|██████████| 100/100 [00:00<00:00, 152.49it/s, loss=1.5288, acc=77.00%]\n"
     ]
    },
    {
     "name": "stdout",
     "output_type": "stream",
     "text": [
      "Epoch 49/100 - Train Loss: 0.4938, Acc: 82.62% | Val Loss: 0.6223, Acc: 77.00% (Best Val: 77.50%)\n"
     ]
    },
    {
     "name": "stderr",
     "output_type": "stream",
     "text": [
      "Epoch 50/100 [Train]: 100%|██████████| 400/400 [00:05<00:00, 74.98it/s, loss=0.8167, acc=83.12%]\n",
      "Epoch 50/100 [Val]: 100%|██████████| 100/100 [00:00<00:00, 147.23it/s, loss=1.8116, acc=77.00%]\n"
     ]
    },
    {
     "name": "stdout",
     "output_type": "stream",
     "text": [
      "Epoch 50/100 - Train Loss: 0.4827, Acc: 83.12% | Val Loss: 0.6295, Acc: 77.00% (Best Val: 77.50%)\n"
     ]
    },
    {
     "name": "stderr",
     "output_type": "stream",
     "text": [
      "Epoch 51/100 [Train]: 100%|██████████| 400/400 [00:06<00:00, 59.23it/s, loss=1.1020, acc=82.75%]\n",
      "Epoch 51/100 [Val]: 100%|██████████| 100/100 [00:00<00:00, 146.02it/s, loss=2.0775, acc=66.50%]\n"
     ]
    },
    {
     "name": "stdout",
     "output_type": "stream",
     "text": [
      "Epoch 51/100 - Train Loss: 0.4900, Acc: 82.75% | Val Loss: 0.6839, Acc: 66.50% (Best Val: 77.50%)\n"
     ]
    },
    {
     "name": "stderr",
     "output_type": "stream",
     "text": [
      "Epoch 52/100 [Train]: 100%|██████████| 400/400 [00:05<00:00, 74.90it/s, loss=0.2001, acc=83.25%]\n",
      "Epoch 52/100 [Val]: 100%|██████████| 100/100 [00:00<00:00, 152.31it/s, loss=2.0433, acc=72.50%]\n"
     ]
    },
    {
     "name": "stdout",
     "output_type": "stream",
     "text": [
      "Epoch 52/100 - Train Loss: 0.4777, Acc: 83.25% | Val Loss: 0.6580, Acc: 72.50% (Best Val: 77.50%)\n"
     ]
    },
    {
     "name": "stderr",
     "output_type": "stream",
     "text": [
      "Epoch 53/100 [Train]: 100%|██████████| 400/400 [00:05<00:00, 74.61it/s, loss=0.0390, acc=83.00%]\n",
      "Epoch 53/100 [Val]: 100%|██████████| 100/100 [00:00<00:00, 152.83it/s, loss=1.2393, acc=76.50%]\n"
     ]
    },
    {
     "name": "stdout",
     "output_type": "stream",
     "text": [
      "Epoch 53/100 - Train Loss: 0.4719, Acc: 83.00% | Val Loss: 0.7867, Acc: 76.50% (Best Val: 77.50%)\n"
     ]
    },
    {
     "name": "stderr",
     "output_type": "stream",
     "text": [
      "Epoch 54/100 [Train]: 100%|██████████| 400/400 [00:05<00:00, 78.05it/s, loss=0.1068, acc=82.75%]\n",
      "Epoch 54/100 [Val]: 100%|██████████| 100/100 [00:00<00:00, 149.81it/s, loss=1.3216, acc=77.00%]\n"
     ]
    },
    {
     "name": "stdout",
     "output_type": "stream",
     "text": [
      "Epoch 54/100 - Train Loss: 0.4717, Acc: 82.75% | Val Loss: 0.6784, Acc: 77.00% (Best Val: 77.50%)\n"
     ]
    },
    {
     "name": "stderr",
     "output_type": "stream",
     "text": [
      "Epoch 55/100 [Train]: 100%|██████████| 400/400 [00:04<00:00, 80.99it/s, loss=0.5603, acc=82.75%] \n",
      "Epoch 55/100 [Val]: 100%|██████████| 100/100 [00:00<00:00, 154.98it/s, loss=2.4742, acc=74.50%]\n"
     ]
    },
    {
     "name": "stdout",
     "output_type": "stream",
     "text": [
      "Epoch 55/100 - Train Loss: 0.4772, Acc: 82.75% | Val Loss: 0.7324, Acc: 74.50% (Best Val: 77.50%)\n"
     ]
    },
    {
     "name": "stderr",
     "output_type": "stream",
     "text": [
      "Epoch 56/100 [Train]: 100%|██████████| 400/400 [00:04<00:00, 81.77it/s, loss=0.5234, acc=82.12%]\n",
      "Epoch 56/100 [Val]: 100%|██████████| 100/100 [00:00<00:00, 163.68it/s, loss=1.6150, acc=76.50%]\n"
     ]
    },
    {
     "name": "stdout",
     "output_type": "stream",
     "text": [
      "Epoch 56/100 - Train Loss: 0.4781, Acc: 82.12% | Val Loss: 0.8180, Acc: 76.50% (Best Val: 77.50%)\n"
     ]
    },
    {
     "name": "stderr",
     "output_type": "stream",
     "text": [
      "Epoch 57/100 [Train]: 100%|██████████| 400/400 [00:04<00:00, 81.10it/s, loss=0.4080, acc=83.38%]\n",
      "Epoch 57/100 [Val]: 100%|██████████| 100/100 [00:00<00:00, 156.71it/s, loss=2.2741, acc=77.50%]\n"
     ]
    },
    {
     "name": "stdout",
     "output_type": "stream",
     "text": [
      "Epoch 57/100 - Train Loss: 0.4886, Acc: 83.38% | Val Loss: 0.6872, Acc: 77.50% (Best Val: 77.50%)\n"
     ]
    },
    {
     "name": "stderr",
     "output_type": "stream",
     "text": [
      "Epoch 58/100 [Train]: 100%|██████████| 400/400 [00:05<00:00, 72.42it/s, loss=0.2392, acc=82.38%] \n",
      "Epoch 58/100 [Val]: 100%|██████████| 100/100 [00:00<00:00, 160.06it/s, loss=2.2367, acc=77.00%]\n"
     ]
    },
    {
     "name": "stdout",
     "output_type": "stream",
     "text": [
      "Epoch 58/100 - Train Loss: 0.4989, Acc: 82.38% | Val Loss: 0.6428, Acc: 77.00% (Best Val: 77.50%)\n"
     ]
    },
    {
     "name": "stderr",
     "output_type": "stream",
     "text": [
      "Epoch 59/100 [Train]: 100%|██████████| 400/400 [00:05<00:00, 79.84it/s, loss=1.7929, acc=82.62%]\n",
      "Epoch 59/100 [Val]: 100%|██████████| 100/100 [00:00<00:00, 156.94it/s, loss=2.0608, acc=77.00%]\n"
     ]
    },
    {
     "name": "stdout",
     "output_type": "stream",
     "text": [
      "Epoch 59/100 - Train Loss: 0.4840, Acc: 82.62% | Val Loss: 0.7415, Acc: 77.00% (Best Val: 77.50%)\n"
     ]
    },
    {
     "name": "stderr",
     "output_type": "stream",
     "text": [
      "Epoch 60/100 [Train]: 100%|██████████| 400/400 [00:05<00:00, 70.55it/s, loss=0.1249, acc=82.75%] \n",
      "Epoch 60/100 [Val]: 100%|██████████| 100/100 [00:00<00:00, 162.64it/s, loss=1.5039, acc=70.50%]\n"
     ]
    },
    {
     "name": "stdout",
     "output_type": "stream",
     "text": [
      "Epoch 60/100 - Train Loss: 0.4869, Acc: 82.75% | Val Loss: 0.6650, Acc: 70.50% (Best Val: 77.50%)\n"
     ]
    },
    {
     "name": "stderr",
     "output_type": "stream",
     "text": [
      "Epoch 61/100 [Train]: 100%|██████████| 400/400 [00:04<00:00, 82.72it/s, loss=0.0636, acc=82.75%] \n",
      "Epoch 61/100 [Val]: 100%|██████████| 100/100 [00:00<00:00, 165.28it/s, loss=2.8828, acc=72.00%]\n"
     ]
    },
    {
     "name": "stdout",
     "output_type": "stream",
     "text": [
      "Epoch 61/100 - Train Loss: 0.4697, Acc: 82.75% | Val Loss: 0.7386, Acc: 72.00% (Best Val: 77.50%)\n"
     ]
    },
    {
     "name": "stderr",
     "output_type": "stream",
     "text": [
      "Epoch 62/100 [Train]: 100%|██████████| 400/400 [00:04<00:00, 81.53it/s, loss=0.7974, acc=83.00%] \n",
      "Epoch 62/100 [Val]: 100%|██████████| 100/100 [00:00<00:00, 157.88it/s, loss=2.1029, acc=77.00%]\n"
     ]
    },
    {
     "name": "stdout",
     "output_type": "stream",
     "text": [
      "Epoch 62/100 - Train Loss: 0.4720, Acc: 83.00% | Val Loss: 0.6892, Acc: 77.00% (Best Val: 77.50%)\n"
     ]
    },
    {
     "name": "stderr",
     "output_type": "stream",
     "text": [
      "Epoch 63/100 [Train]: 100%|██████████| 400/400 [00:04<00:00, 80.52it/s, loss=1.5303, acc=83.88%]\n",
      "Epoch 63/100 [Val]: 100%|██████████| 100/100 [00:00<00:00, 169.41it/s, loss=2.7553, acc=77.00%]\n"
     ]
    },
    {
     "name": "stdout",
     "output_type": "stream",
     "text": [
      "Epoch 63/100 - Train Loss: 0.4551, Acc: 83.88% | Val Loss: 0.8841, Acc: 77.00% (Best Val: 77.50%)\n"
     ]
    },
    {
     "name": "stderr",
     "output_type": "stream",
     "text": [
      "Epoch 64/100 [Train]: 100%|██████████| 400/400 [00:05<00:00, 77.49it/s, loss=0.0896, acc=83.00%] \n",
      "Epoch 64/100 [Val]: 100%|██████████| 100/100 [00:00<00:00, 161.64it/s, loss=1.3198, acc=77.00%]\n"
     ]
    },
    {
     "name": "stdout",
     "output_type": "stream",
     "text": [
      "Epoch 64/100 - Train Loss: 0.4665, Acc: 83.00% | Val Loss: 0.9904, Acc: 77.00% (Best Val: 77.50%)\n"
     ]
    },
    {
     "name": "stderr",
     "output_type": "stream",
     "text": [
      "Epoch 65/100 [Train]: 100%|██████████| 400/400 [00:38<00:00, 10.26it/s, loss=0.7332, acc=83.12%]\n",
      "Epoch 65/100 [Val]: 100%|██████████| 100/100 [00:03<00:00, 30.67it/s, loss=1.3911, acc=77.50%]\n"
     ]
    },
    {
     "name": "stdout",
     "output_type": "stream",
     "text": [
      "Epoch 65/100 - Train Loss: 0.4593, Acc: 83.12% | Val Loss: 0.6336, Acc: 77.50% (Best Val: 77.50%)\n"
     ]
    },
    {
     "name": "stderr",
     "output_type": "stream",
     "text": [
      "Epoch 66/100 [Train]: 100%|██████████| 400/400 [00:07<00:00, 51.16it/s, loss=0.3493, acc=83.75%] \n",
      "Epoch 66/100 [Val]: 100%|██████████| 100/100 [00:00<00:00, 159.39it/s, loss=1.5820, acc=78.50%]\n"
     ]
    },
    {
     "name": "stdout",
     "output_type": "stream",
     "text": [
      "Epoch 66/100 - Train Loss: 0.4579, Acc: 83.75% | Val Loss: 0.6177, Acc: 78.50% (Best Val: 78.50%)\n"
     ]
    },
    {
     "name": "stderr",
     "output_type": "stream",
     "text": [
      "Epoch 67/100 [Train]: 100%|██████████| 400/400 [00:04<00:00, 81.44it/s, loss=0.0300, acc=83.75%]\n",
      "Epoch 67/100 [Val]: 100%|██████████| 100/100 [00:00<00:00, 156.77it/s, loss=1.5686, acc=77.00%]\n"
     ]
    },
    {
     "name": "stdout",
     "output_type": "stream",
     "text": [
      "Epoch 67/100 - Train Loss: 0.4534, Acc: 83.75% | Val Loss: 0.6488, Acc: 77.00% (Best Val: 78.50%)\n"
     ]
    },
    {
     "name": "stderr",
     "output_type": "stream",
     "text": [
      "Epoch 68/100 [Train]: 100%|██████████| 400/400 [00:04<00:00, 80.33it/s, loss=0.0901, acc=84.62%]\n",
      "Epoch 68/100 [Val]: 100%|██████████| 100/100 [00:00<00:00, 157.48it/s, loss=0.1441, acc=81.50%]\n"
     ]
    },
    {
     "name": "stdout",
     "output_type": "stream",
     "text": [
      "Epoch 68/100 - Train Loss: 0.4520, Acc: 84.62% | Val Loss: 0.6838, Acc: 81.50% (Best Val: 81.50%)\n"
     ]
    },
    {
     "name": "stderr",
     "output_type": "stream",
     "text": [
      "Epoch 69/100 [Train]: 100%|██████████| 400/400 [00:05<00:00, 78.13it/s, loss=0.0542, acc=83.50%]\n",
      "Epoch 69/100 [Val]: 100%|██████████| 100/100 [00:00<00:00, 159.78it/s, loss=0.4597, acc=79.50%]\n"
     ]
    },
    {
     "name": "stdout",
     "output_type": "stream",
     "text": [
      "Epoch 69/100 - Train Loss: 0.4503, Acc: 83.50% | Val Loss: 0.8325, Acc: 79.50% (Best Val: 81.50%)\n"
     ]
    },
    {
     "name": "stderr",
     "output_type": "stream",
     "text": [
      "Epoch 70/100 [Train]: 100%|██████████| 400/400 [00:05<00:00, 70.70it/s, loss=0.5677, acc=83.50%] \n",
      "Epoch 70/100 [Val]: 100%|██████████| 100/100 [00:00<00:00, 160.31it/s, loss=1.1936, acc=77.00%]\n"
     ]
    },
    {
     "name": "stdout",
     "output_type": "stream",
     "text": [
      "Epoch 70/100 - Train Loss: 0.4511, Acc: 83.50% | Val Loss: 0.6919, Acc: 77.00% (Best Val: 81.50%)\n"
     ]
    },
    {
     "name": "stderr",
     "output_type": "stream",
     "text": [
      "Epoch 71/100 [Train]: 100%|██████████| 400/400 [00:05<00:00, 73.50it/s, loss=0.2921, acc=84.00%] \n",
      "Epoch 71/100 [Val]: 100%|██████████| 100/100 [00:00<00:00, 149.71it/s, loss=0.7371, acc=77.00%]\n"
     ]
    },
    {
     "name": "stdout",
     "output_type": "stream",
     "text": [
      "Epoch 71/100 - Train Loss: 0.4420, Acc: 84.00% | Val Loss: 0.6700, Acc: 77.00% (Best Val: 81.50%)\n"
     ]
    },
    {
     "name": "stderr",
     "output_type": "stream",
     "text": [
      "Epoch 72/100 [Train]: 100%|██████████| 400/400 [00:04<00:00, 80.41it/s, loss=1.3394, acc=83.38%] \n",
      "Epoch 72/100 [Val]: 100%|██████████| 100/100 [00:00<00:00, 152.67it/s, loss=0.6322, acc=78.00%]\n"
     ]
    },
    {
     "name": "stdout",
     "output_type": "stream",
     "text": [
      "Epoch 72/100 - Train Loss: 0.4352, Acc: 83.38% | Val Loss: 0.7146, Acc: 78.00% (Best Val: 81.50%)\n"
     ]
    },
    {
     "name": "stderr",
     "output_type": "stream",
     "text": [
      "Epoch 73/100 [Train]: 100%|██████████| 400/400 [00:04<00:00, 80.51it/s, loss=0.1241, acc=84.12%]\n",
      "Epoch 73/100 [Val]: 100%|██████████| 100/100 [00:00<00:00, 159.06it/s, loss=0.1691, acc=81.50%]\n"
     ]
    },
    {
     "name": "stdout",
     "output_type": "stream",
     "text": [
      "Epoch 73/100 - Train Loss: 0.4413, Acc: 84.12% | Val Loss: 0.9085, Acc: 81.50% (Best Val: 81.50%)\n"
     ]
    },
    {
     "name": "stderr",
     "output_type": "stream",
     "text": [
      "Epoch 74/100 [Train]: 100%|██████████| 400/400 [00:04<00:00, 80.07it/s, loss=0.1484, acc=84.75%]\n",
      "Epoch 74/100 [Val]: 100%|██████████| 100/100 [00:00<00:00, 149.04it/s, loss=1.0300, acc=79.00%]\n"
     ]
    },
    {
     "name": "stdout",
     "output_type": "stream",
     "text": [
      "Epoch 74/100 - Train Loss: 0.4236, Acc: 84.75% | Val Loss: 0.6953, Acc: 79.00% (Best Val: 81.50%)\n"
     ]
    },
    {
     "name": "stderr",
     "output_type": "stream",
     "text": [
      "Epoch 75/100 [Train]: 100%|██████████| 400/400 [00:04<00:00, 80.35it/s, loss=0.2541, acc=84.38%]\n",
      "Epoch 75/100 [Val]: 100%|██████████| 100/100 [00:00<00:00, 136.44it/s, loss=1.6833, acc=76.50%]\n"
     ]
    },
    {
     "name": "stdout",
     "output_type": "stream",
     "text": [
      "Epoch 75/100 - Train Loss: 0.4642, Acc: 84.38% | Val Loss: 0.8810, Acc: 76.50% (Best Val: 81.50%)\n"
     ]
    },
    {
     "name": "stderr",
     "output_type": "stream",
     "text": [
      "Epoch 76/100 [Train]: 100%|██████████| 400/400 [00:05<00:00, 69.48it/s, loss=2.9765, acc=83.12%]\n",
      "Epoch 76/100 [Val]: 100%|██████████| 100/100 [00:00<00:00, 157.73it/s, loss=0.9048, acc=79.00%]\n"
     ]
    },
    {
     "name": "stdout",
     "output_type": "stream",
     "text": [
      "Epoch 76/100 - Train Loss: 0.4364, Acc: 83.12% | Val Loss: 0.6402, Acc: 79.00% (Best Val: 81.50%)\n"
     ]
    },
    {
     "name": "stderr",
     "output_type": "stream",
     "text": [
      "Epoch 77/100 [Train]: 100%|██████████| 400/400 [00:05<00:00, 77.24it/s, loss=0.9622, acc=84.38%]\n",
      "Epoch 77/100 [Val]: 100%|██████████| 100/100 [00:00<00:00, 157.78it/s, loss=0.2035, acc=81.50%]\n"
     ]
    },
    {
     "name": "stdout",
     "output_type": "stream",
     "text": [
      "Epoch 77/100 - Train Loss: 0.4223, Acc: 84.38% | Val Loss: 0.8033, Acc: 81.50% (Best Val: 81.50%)\n"
     ]
    },
    {
     "name": "stderr",
     "output_type": "stream",
     "text": [
      "Epoch 78/100 [Train]: 100%|██████████| 400/400 [00:05<00:00, 77.55it/s, loss=0.0667, acc=83.25%]\n",
      "Epoch 78/100 [Val]: 100%|██████████| 100/100 [00:00<00:00, 158.86it/s, loss=0.1297, acc=81.00%]\n"
     ]
    },
    {
     "name": "stdout",
     "output_type": "stream",
     "text": [
      "Epoch 78/100 - Train Loss: 0.4413, Acc: 83.25% | Val Loss: 0.7416, Acc: 81.00% (Best Val: 81.50%)\n"
     ]
    },
    {
     "name": "stderr",
     "output_type": "stream",
     "text": [
      "Epoch 79/100 [Train]: 100%|██████████| 400/400 [00:05<00:00, 76.80it/s, loss=0.0925, acc=84.38%] \n",
      "Epoch 79/100 [Val]: 100%|██████████| 100/100 [00:00<00:00, 161.99it/s, loss=2.5104, acc=77.00%]\n"
     ]
    },
    {
     "name": "stdout",
     "output_type": "stream",
     "text": [
      "Epoch 79/100 - Train Loss: 0.4322, Acc: 84.38% | Val Loss: 0.8215, Acc: 77.00% (Best Val: 81.50%)\n"
     ]
    },
    {
     "name": "stderr",
     "output_type": "stream",
     "text": [
      "Epoch 80/100 [Train]: 100%|██████████| 400/400 [00:04<00:00, 80.19it/s, loss=0.0173, acc=83.12%] \n",
      "Epoch 80/100 [Val]: 100%|██████████| 100/100 [00:00<00:00, 162.80it/s, loss=1.6389, acc=79.00%]\n"
     ]
    },
    {
     "name": "stdout",
     "output_type": "stream",
     "text": [
      "Epoch 80/100 - Train Loss: 0.4364, Acc: 83.12% | Val Loss: 0.6308, Acc: 79.00% (Best Val: 81.50%)\n"
     ]
    },
    {
     "name": "stderr",
     "output_type": "stream",
     "text": [
      "Epoch 81/100 [Train]: 100%|██████████| 400/400 [00:04<00:00, 83.22it/s, loss=0.3323, acc=84.25%] \n",
      "Epoch 81/100 [Val]: 100%|██████████| 100/100 [00:00<00:00, 162.52it/s, loss=5.2904, acc=72.50%]\n"
     ]
    },
    {
     "name": "stdout",
     "output_type": "stream",
     "text": [
      "Epoch 81/100 - Train Loss: 0.4179, Acc: 84.25% | Val Loss: 0.8995, Acc: 72.50% (Best Val: 81.50%)\n"
     ]
    },
    {
     "name": "stderr",
     "output_type": "stream",
     "text": [
      "Epoch 82/100 [Train]: 100%|██████████| 400/400 [00:04<00:00, 80.05it/s, loss=0.7109, acc=83.88%] \n",
      "Epoch 82/100 [Val]: 100%|██████████| 100/100 [00:00<00:00, 162.19it/s, loss=0.8136, acc=79.50%]\n"
     ]
    },
    {
     "name": "stdout",
     "output_type": "stream",
     "text": [
      "Epoch 82/100 - Train Loss: 0.4334, Acc: 83.88% | Val Loss: 0.7289, Acc: 79.50% (Best Val: 81.50%)\n"
     ]
    },
    {
     "name": "stderr",
     "output_type": "stream",
     "text": [
      "Epoch 83/100 [Train]: 100%|██████████| 400/400 [00:05<00:00, 75.89it/s, loss=0.2033, acc=82.62%] \n",
      "Epoch 83/100 [Val]: 100%|██████████| 100/100 [00:00<00:00, 133.77it/s, loss=1.2764, acc=80.00%]\n"
     ]
    },
    {
     "name": "stdout",
     "output_type": "stream",
     "text": [
      "Epoch 83/100 - Train Loss: 0.4423, Acc: 82.62% | Val Loss: 0.6560, Acc: 80.00% (Best Val: 81.50%)\n"
     ]
    },
    {
     "name": "stderr",
     "output_type": "stream",
     "text": [
      "Epoch 84/100 [Train]: 100%|██████████| 400/400 [00:05<00:00, 79.22it/s, loss=0.0039, acc=83.38%]\n",
      "Epoch 84/100 [Val]: 100%|██████████| 100/100 [00:00<00:00, 152.72it/s, loss=1.2061, acc=79.00%]\n"
     ]
    },
    {
     "name": "stdout",
     "output_type": "stream",
     "text": [
      "Epoch 84/100 - Train Loss: 0.4403, Acc: 83.38% | Val Loss: 0.5756, Acc: 79.00% (Best Val: 81.50%)\n"
     ]
    },
    {
     "name": "stderr",
     "output_type": "stream",
     "text": [
      "Epoch 85/100 [Train]: 100%|██████████| 400/400 [00:05<00:00, 79.23it/s, loss=0.0003, acc=82.75%] \n",
      "Epoch 85/100 [Val]: 100%|██████████| 100/100 [00:00<00:00, 142.67it/s, loss=0.2725, acc=81.50%]\n"
     ]
    },
    {
     "name": "stdout",
     "output_type": "stream",
     "text": [
      "Epoch 85/100 - Train Loss: 0.4489, Acc: 82.75% | Val Loss: 0.8311, Acc: 81.50% (Best Val: 81.50%)\n"
     ]
    },
    {
     "name": "stderr",
     "output_type": "stream",
     "text": [
      "Epoch 86/100 [Train]: 100%|██████████| 400/400 [00:04<00:00, 80.73it/s, loss=0.0082, acc=84.25%] \n",
      "Epoch 86/100 [Val]: 100%|██████████| 100/100 [00:00<00:00, 160.95it/s, loss=0.3573, acc=80.50%]\n"
     ]
    },
    {
     "name": "stdout",
     "output_type": "stream",
     "text": [
      "Epoch 86/100 - Train Loss: 0.4424, Acc: 84.25% | Val Loss: 0.6437, Acc: 80.50% (Best Val: 81.50%)\n"
     ]
    },
    {
     "name": "stderr",
     "output_type": "stream",
     "text": [
      "Epoch 87/100 [Train]: 100%|██████████| 400/400 [00:40<00:00,  9.82it/s, loss=0.8124, acc=84.88%]\n",
      "Epoch 87/100 [Val]: 100%|██████████| 100/100 [00:01<00:00, 94.55it/s, loss=0.7727, acc=80.50%]\n"
     ]
    },
    {
     "name": "stdout",
     "output_type": "stream",
     "text": [
      "Epoch 87/100 - Train Loss: 0.4191, Acc: 84.88% | Val Loss: 0.7831, Acc: 80.50% (Best Val: 81.50%)\n"
     ]
    },
    {
     "name": "stderr",
     "output_type": "stream",
     "text": [
      "Epoch 88/100 [Train]: 100%|██████████| 400/400 [00:06<00:00, 65.11it/s, loss=0.2082, acc=84.25%]\n",
      "Epoch 88/100 [Val]: 100%|██████████| 100/100 [00:00<00:00, 158.44it/s, loss=2.2995, acc=77.50%]\n"
     ]
    },
    {
     "name": "stdout",
     "output_type": "stream",
     "text": [
      "Epoch 88/100 - Train Loss: 0.4149, Acc: 84.25% | Val Loss: 0.7999, Acc: 77.50% (Best Val: 81.50%)\n"
     ]
    },
    {
     "name": "stderr",
     "output_type": "stream",
     "text": [
      "Epoch 89/100 [Train]: 100%|██████████| 400/400 [00:05<00:00, 71.81it/s, loss=0.9564, acc=83.25%] \n",
      "Epoch 89/100 [Val]: 100%|██████████| 100/100 [00:00<00:00, 153.70it/s, loss=1.3432, acc=79.00%]\n"
     ]
    },
    {
     "name": "stdout",
     "output_type": "stream",
     "text": [
      "Epoch 89/100 - Train Loss: 0.4255, Acc: 83.25% | Val Loss: 0.7064, Acc: 79.00% (Best Val: 81.50%)\n"
     ]
    },
    {
     "name": "stderr",
     "output_type": "stream",
     "text": [
      "Epoch 90/100 [Train]: 100%|██████████| 400/400 [00:05<00:00, 79.04it/s, loss=0.2378, acc=83.88%]\n",
      "Epoch 90/100 [Val]: 100%|██████████| 100/100 [00:00<00:00, 158.26it/s, loss=0.2937, acc=82.50%]\n"
     ]
    },
    {
     "name": "stdout",
     "output_type": "stream",
     "text": [
      "Epoch 90/100 - Train Loss: 0.4179, Acc: 83.88% | Val Loss: 0.7154, Acc: 82.50% (Best Val: 82.50%)\n"
     ]
    },
    {
     "name": "stderr",
     "output_type": "stream",
     "text": [
      "Epoch 91/100 [Train]: 100%|██████████| 400/400 [00:05<00:00, 71.77it/s, loss=1.6142, acc=84.00%]\n",
      "Epoch 91/100 [Val]: 100%|██████████| 100/100 [00:00<00:00, 131.83it/s, loss=0.4988, acc=81.00%]\n"
     ]
    },
    {
     "name": "stdout",
     "output_type": "stream",
     "text": [
      "Epoch 91/100 - Train Loss: 0.4291, Acc: 84.00% | Val Loss: 0.6462, Acc: 81.00% (Best Val: 82.50%)\n"
     ]
    },
    {
     "name": "stderr",
     "output_type": "stream",
     "text": [
      "Epoch 92/100 [Train]: 100%|██████████| 400/400 [00:05<00:00, 79.29it/s, loss=0.0680, acc=85.12%]\n",
      "Epoch 92/100 [Val]: 100%|██████████| 100/100 [00:00<00:00, 154.25it/s, loss=0.2847, acc=83.50%]\n"
     ]
    },
    {
     "name": "stdout",
     "output_type": "stream",
     "text": [
      "Epoch 92/100 - Train Loss: 0.4287, Acc: 85.12% | Val Loss: 0.6469, Acc: 83.50% (Best Val: 83.50%)\n"
     ]
    },
    {
     "name": "stderr",
     "output_type": "stream",
     "text": [
      "Epoch 93/100 [Train]: 100%|██████████| 400/400 [00:05<00:00, 78.32it/s, loss=0.2191, acc=84.50%]\n",
      "Epoch 93/100 [Val]: 100%|██████████| 100/100 [00:00<00:00, 150.07it/s, loss=0.4625, acc=79.00%]\n"
     ]
    },
    {
     "name": "stdout",
     "output_type": "stream",
     "text": [
      "Epoch 93/100 - Train Loss: 0.4240, Acc: 84.50% | Val Loss: 0.5888, Acc: 79.00% (Best Val: 83.50%)\n"
     ]
    },
    {
     "name": "stderr",
     "output_type": "stream",
     "text": [
      "Epoch 94/100 [Train]: 100%|██████████| 400/400 [00:05<00:00, 75.46it/s, loss=1.3738, acc=84.50%]\n",
      "Epoch 94/100 [Val]: 100%|██████████| 100/100 [00:00<00:00, 148.94it/s, loss=1.3566, acc=77.00%]\n"
     ]
    },
    {
     "name": "stdout",
     "output_type": "stream",
     "text": [
      "Epoch 94/100 - Train Loss: 0.4396, Acc: 84.50% | Val Loss: 0.6616, Acc: 77.00% (Best Val: 83.50%)\n"
     ]
    },
    {
     "name": "stderr",
     "output_type": "stream",
     "text": [
      "Epoch 95/100 [Train]: 100%|██████████| 400/400 [00:04<00:00, 80.96it/s, loss=0.1236, acc=84.00%] \n",
      "Epoch 95/100 [Val]: 100%|██████████| 100/100 [00:00<00:00, 164.54it/s, loss=0.3727, acc=80.50%]\n"
     ]
    },
    {
     "name": "stdout",
     "output_type": "stream",
     "text": [
      "Epoch 95/100 - Train Loss: 0.4268, Acc: 84.00% | Val Loss: 0.7124, Acc: 80.50% (Best Val: 83.50%)\n"
     ]
    },
    {
     "name": "stderr",
     "output_type": "stream",
     "text": [
      "Epoch 96/100 [Train]: 100%|██████████| 400/400 [00:04<00:00, 82.39it/s, loss=1.3905, acc=84.00%] \n",
      "Epoch 96/100 [Val]: 100%|██████████| 100/100 [00:00<00:00, 166.23it/s, loss=0.8708, acc=79.00%]\n"
     ]
    },
    {
     "name": "stdout",
     "output_type": "stream",
     "text": [
      "Epoch 96/100 - Train Loss: 0.4238, Acc: 84.00% | Val Loss: 0.6260, Acc: 79.00% (Best Val: 83.50%)\n"
     ]
    },
    {
     "name": "stderr",
     "output_type": "stream",
     "text": [
      "Epoch 97/100 [Train]: 100%|██████████| 400/400 [00:05<00:00, 78.48it/s, loss=0.9781, acc=84.75%]\n",
      "Epoch 97/100 [Val]: 100%|██████████| 100/100 [00:00<00:00, 166.42it/s, loss=0.8785, acc=78.50%]\n"
     ]
    },
    {
     "name": "stdout",
     "output_type": "stream",
     "text": [
      "Epoch 97/100 - Train Loss: 0.4120, Acc: 84.75% | Val Loss: 0.7634, Acc: 78.50% (Best Val: 83.50%)\n"
     ]
    },
    {
     "name": "stderr",
     "output_type": "stream",
     "text": [
      "Epoch 98/100 [Train]: 100%|██████████| 400/400 [00:04<00:00, 83.13it/s, loss=1.6136, acc=85.00%] \n",
      "Epoch 98/100 [Val]: 100%|██████████| 100/100 [00:00<00:00, 168.37it/s, loss=0.0424, acc=82.00%]\n"
     ]
    },
    {
     "name": "stdout",
     "output_type": "stream",
     "text": [
      "Epoch 98/100 - Train Loss: 0.3992, Acc: 85.00% | Val Loss: 0.8152, Acc: 82.00% (Best Val: 83.50%)\n"
     ]
    },
    {
     "name": "stderr",
     "output_type": "stream",
     "text": [
      "Epoch 99/100 [Train]: 100%|██████████| 400/400 [00:04<00:00, 82.59it/s, loss=0.1273, acc=84.00%] \n",
      "Epoch 99/100 [Val]: 100%|██████████| 100/100 [00:00<00:00, 166.18it/s, loss=2.1959, acc=79.00%]\n"
     ]
    },
    {
     "name": "stdout",
     "output_type": "stream",
     "text": [
      "Epoch 99/100 - Train Loss: 0.4240, Acc: 84.00% | Val Loss: 0.8791, Acc: 79.00% (Best Val: 83.50%)\n"
     ]
    },
    {
     "name": "stderr",
     "output_type": "stream",
     "text": [
      "Epoch 100/100 [Train]: 100%|██████████| 400/400 [00:05<00:00, 67.12it/s, loss=0.6551, acc=83.38%]\n",
      "Epoch 100/100 [Val]: 100%|██████████| 100/100 [00:00<00:00, 156.68it/s, loss=1.3868, acc=78.50%]\n"
     ]
    },
    {
     "name": "stdout",
     "output_type": "stream",
     "text": [
      "Epoch 100/100 - Train Loss: 0.4146, Acc: 83.38% | Val Loss: 0.6562, Acc: 78.50% (Best Val: 83.50%)\n",
      "Training completed!\n",
      "Training time: 889.017603799999\n",
      "Best validation accuracy: 83.50%\n"
     ]
    }
   ],
   "execution_count": 6
  },
  {
   "metadata": {},
   "cell_type": "code",
   "outputs": [],
   "execution_count": null,
   "source": "",
   "id": "e215429ac6423fb6"
  }
 ],
 "metadata": {
  "kernelspec": {
   "display_name": "Python 3",
   "language": "python",
   "name": "python3"
  },
  "language_info": {
   "codemirror_mode": {
    "name": "ipython",
    "version": 2
   },
   "file_extension": ".py",
   "mimetype": "text/x-python",
   "name": "python",
   "nbconvert_exporter": "python",
   "pygments_lexer": "ipython2",
   "version": "2.7.6"
  }
 },
 "nbformat": 4,
 "nbformat_minor": 5
}
