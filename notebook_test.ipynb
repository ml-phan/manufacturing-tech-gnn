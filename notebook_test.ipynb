{
 "cells": [
  {
   "metadata": {
    "ExecuteTime": {
     "end_time": "2025-09-25T11:16:09.349048Z",
     "start_time": "2025-09-25T11:16:09.307856Z"
    }
   },
   "cell_type": "code",
   "source": [
    "import matplotlib.pyplot as plt\n",
    "import networkx as nx\n",
    "import pandas as pd\n",
    "\n",
    "# from src.gnn_models import FastSTEPDataset\n",
    "%load_ext autoreload\n",
    "%autoreload 1"
   ],
   "id": "aba394c1f9aaabd7",
   "outputs": [
    {
     "name": "stdout",
     "output_type": "stream",
     "text": [
      "The autoreload extension is already loaded. To reload it, use:\n",
      "  %reload_ext autoreload\n"
     ]
    }
   ],
   "execution_count": 49
  },
  {
   "cell_type": "code",
   "id": "initial_id",
   "metadata": {
    "collapsed": true,
    "ExecuteTime": {
     "end_time": "2025-09-25T11:16:12.501756Z",
     "start_time": "2025-09-25T11:16:12.496479Z"
    }
   },
   "source": [
    "import pickle\n",
    "import time\n",
    "\n",
    "from src.data_loader import *\n",
    "from src.visualization import *\n",
    "from tqdm import tqdm\n",
    "from src.convert_graphml_to_pyg_data_multithread import *\n",
    "#%aimport src.convert_graphml_to_pyg_data\n",
    "#%aimport src.data_loader\n",
    "#%aimport src.visualization"
   ],
   "outputs": [],
   "execution_count": 50
  },
  {
   "metadata": {
    "ExecuteTime": {
     "end_time": "2025-10-01T10:44:29.456119Z",
     "start_time": "2025-10-01T10:44:28.660239Z"
    }
   },
   "cell_type": "code",
   "source": [
    "sync_dataset = pd.read_csv(\"./data/synced_dataset_final.csv\")\n",
    "sync_dataset.info()"
   ],
   "id": "4df3bdf87cf63b6f",
   "outputs": [
    {
     "name": "stdout",
     "output_type": "stream",
     "text": [
      "<class 'pandas.core.frame.DataFrame'>\n",
      "RangeIndex: 62198 entries, 0 to 62197\n",
      "Data columns (total 27 columns):\n",
      " #   Column              Non-Null Count  Dtype  \n",
      "---  ------              --------------  -----  \n",
      " 0   item_id             62198 non-null  int64  \n",
      " 1   faces               62198 non-null  float64\n",
      " 2   edges               62198 non-null  float64\n",
      " 3   vertices            62198 non-null  float64\n",
      " 4   step_file           62198 non-null  object \n",
      " 5   depth               62198 non-null  float64\n",
      " 6   width               62198 non-null  float64\n",
      " 7   height              62198 non-null  float64\n",
      " 8   area                62198 non-null  float64\n",
      " 9   volume              62198 non-null  float64\n",
      " 10  bbox_depth          62198 non-null  float64\n",
      " 11  bbox_height         62198 non-null  float64\n",
      " 12  bbox_width          62198 non-null  float64\n",
      " 13  bbox_area           62198 non-null  float64\n",
      " 14  bbox_volume         62198 non-null  float64\n",
      " 15  quantity            62198 non-null  int64  \n",
      " 16  technology_id       62198 non-null  object \n",
      " 17  material_id         62198 non-null  int64  \n",
      " 18  post_processing_id  62198 non-null  object \n",
      " 19  download_file_url   62198 non-null  object \n",
      " 20  technology_name     62198 non-null  object \n",
      " 21  is_cnc              62198 non-null  int64  \n",
      " 22  multiclass_labels   62198 non-null  int64  \n",
      " 23  graphml_file        62198 non-null  object \n",
      " 24  pointcloud_file     62198 non-null  object \n",
      " 25  binary_fold         62198 non-null  float64\n",
      " 26  multiclass_fold     62198 non-null  float64\n",
      "dtypes: float64(15), int64(5), object(7)\n",
      "memory usage: 12.8+ MB\n"
     ]
    }
   ],
   "execution_count": 72
  },
  {
   "metadata": {
    "ExecuteTime": {
     "end_time": "2025-10-01T10:45:03.294896Z",
     "start_time": "2025-10-01T10:45:03.285782Z"
    }
   },
   "cell_type": "code",
   "source": "sync_dataset[sync_dataset[\"binary_fold\"] == 0.0][[\"step_file\", \"is_cnc\"]]",
   "id": "44355b76a962e9b7",
   "outputs": [
    {
     "data": {
      "text/plain": [
       "                                               step_file  is_cnc\n",
       "10          E:\\gnn_data\\step_files\\100050_Manschette.stp       0\n",
       "15     E:\\gnn_data\\step_files\\100058_00048569_Seal_Ho...       1\n",
       "25     E:\\gnn_data\\step_files\\100068_017243_prototype...       1\n",
       "33     E:\\gnn_data\\step_files\\100076_CEL_03_0089_V4_2...       1\n",
       "39     E:\\gnn_data\\step_files\\100082_C13_03_02_01_1_0...       0\n",
       "...                                                  ...     ...\n",
       "62173  E:\\gnn_data\\step_files\\99966_CINTAS_soap_endur...       0\n",
       "62179  E:\\gnn_data\\step_files\\99972_189_1250_Mk2_Auto...       0\n",
       "62180     E:\\gnn_data\\step_files\\99974_Flange_nosle.STEP       1\n",
       "62189        E:\\gnn_data\\step_files\\99985_Push_Plate.stp       0\n",
       "62196  E:\\gnn_data\\step_files\\99993_MakerVerse_Sample...       1\n",
       "\n",
       "[6220 rows x 2 columns]"
      ],
      "text/html": [
       "<div>\n",
       "<style scoped>\n",
       "    .dataframe tbody tr th:only-of-type {\n",
       "        vertical-align: middle;\n",
       "    }\n",
       "\n",
       "    .dataframe tbody tr th {\n",
       "        vertical-align: top;\n",
       "    }\n",
       "\n",
       "    .dataframe thead th {\n",
       "        text-align: right;\n",
       "    }\n",
       "</style>\n",
       "<table border=\"1\" class=\"dataframe\">\n",
       "  <thead>\n",
       "    <tr style=\"text-align: right;\">\n",
       "      <th></th>\n",
       "      <th>step_file</th>\n",
       "      <th>is_cnc</th>\n",
       "    </tr>\n",
       "  </thead>\n",
       "  <tbody>\n",
       "    <tr>\n",
       "      <th>10</th>\n",
       "      <td>E:\\gnn_data\\step_files\\100050_Manschette.stp</td>\n",
       "      <td>0</td>\n",
       "    </tr>\n",
       "    <tr>\n",
       "      <th>15</th>\n",
       "      <td>E:\\gnn_data\\step_files\\100058_00048569_Seal_Ho...</td>\n",
       "      <td>1</td>\n",
       "    </tr>\n",
       "    <tr>\n",
       "      <th>25</th>\n",
       "      <td>E:\\gnn_data\\step_files\\100068_017243_prototype...</td>\n",
       "      <td>1</td>\n",
       "    </tr>\n",
       "    <tr>\n",
       "      <th>33</th>\n",
       "      <td>E:\\gnn_data\\step_files\\100076_CEL_03_0089_V4_2...</td>\n",
       "      <td>1</td>\n",
       "    </tr>\n",
       "    <tr>\n",
       "      <th>39</th>\n",
       "      <td>E:\\gnn_data\\step_files\\100082_C13_03_02_01_1_0...</td>\n",
       "      <td>0</td>\n",
       "    </tr>\n",
       "    <tr>\n",
       "      <th>...</th>\n",
       "      <td>...</td>\n",
       "      <td>...</td>\n",
       "    </tr>\n",
       "    <tr>\n",
       "      <th>62173</th>\n",
       "      <td>E:\\gnn_data\\step_files\\99966_CINTAS_soap_endur...</td>\n",
       "      <td>0</td>\n",
       "    </tr>\n",
       "    <tr>\n",
       "      <th>62179</th>\n",
       "      <td>E:\\gnn_data\\step_files\\99972_189_1250_Mk2_Auto...</td>\n",
       "      <td>0</td>\n",
       "    </tr>\n",
       "    <tr>\n",
       "      <th>62180</th>\n",
       "      <td>E:\\gnn_data\\step_files\\99974_Flange_nosle.STEP</td>\n",
       "      <td>1</td>\n",
       "    </tr>\n",
       "    <tr>\n",
       "      <th>62189</th>\n",
       "      <td>E:\\gnn_data\\step_files\\99985_Push_Plate.stp</td>\n",
       "      <td>0</td>\n",
       "    </tr>\n",
       "    <tr>\n",
       "      <th>62196</th>\n",
       "      <td>E:\\gnn_data\\step_files\\99993_MakerVerse_Sample...</td>\n",
       "      <td>1</td>\n",
       "    </tr>\n",
       "  </tbody>\n",
       "</table>\n",
       "<p>6220 rows × 2 columns</p>\n",
       "</div>"
      ]
     },
     "execution_count": 74,
     "metadata": {},
     "output_type": "execute_result"
    }
   ],
   "execution_count": 74
  },
  {
   "metadata": {
    "ExecuteTime": {
     "end_time": "2025-09-25T11:20:24.228577Z",
     "start_time": "2025-09-25T11:20:23.997924Z"
    }
   },
   "cell_type": "code",
   "source": [
    "# Map class values to readable labels\n",
    "label_map = {0: \"AM\", 1: \"CNC\"}\n",
    "labels = sync_dataset[\"is_cnc\"].map(label_map)\n",
    "font_size = 28\n",
    "# Set font globally to Times New Roman\n",
    "plt.rcParams[\"font.family\"] = \"Times New Roman\"\n",
    "plt.rcParams[\"font.size\"] = font_size  # base font size\n",
    "\n",
    "# Plot pie chart\n",
    "labels.value_counts().plot.pie(\n",
    "    autopct='%1.1f%%',\n",
    "    figsize=(8, 6),\n",
    "    ylabel=\"\",\n",
    "    textprops={'fontsize': font_size},  # ensure pie labels also larger\n",
    ")\n",
    "\n",
    "# Set title with larger font size\n",
    "plt.title(\"Class Distribution of CNC vs AM Parts\", fontsize=font_size, fontweight=\"normal\")\n",
    "\n",
    "# Save figure\n",
    "Path(r\"E:\\gnn_data\\figures\").mkdir(parents=True, exist_ok=True)\n",
    "plt.tight_layout()\n",
    "plt.savefig(r\"E:\\gnn_data\\figures\\class_distribution.png\", dpi=300)"
   ],
   "id": "2a4b053792137d93",
   "outputs": [
    {
     "data": {
      "text/plain": [
       "<Figure size 800x600 with 1 Axes>"
      ],
      "image/png": "[encoded data removed]"
     },
     "metadata": {},
     "output_type": "display_data"
    }
   ],
   "execution_count": 56
  },
  {
   "metadata": {
    "ExecuteTime": {
     "end_time": "2025-09-25T11:20:55.015498Z",
     "start_time": "2025-09-25T11:20:54.641113Z"
    }
   },
   "cell_type": "code",
   "source": [
    "import matplotlib.pyplot as plt\n",
    "import pandas as pd\n",
    "\n",
    "# Create subplots\n",
    "fig, axes = plt.subplots(1, 3, figsize=(15, 5))\n",
    "\n",
    "# Plot each column\n",
    "sync_dataset['faces'].hist(ax=axes[0], bins=30, alpha=0.7, log=True)\n",
    "axes[0].set_title('Distribution of Faces')\n",
    "axes[0].set_xlabel('Faces')\n",
    "axes[0].set_ylabel('Frequency')\n",
    "\n",
    "sync_dataset['edges'].hist(ax=axes[1], bins=30, alpha=0.7, log=True)\n",
    "axes[1].set_title('Distribution of Edges')\n",
    "axes[1].set_xlabel('Edges')\n",
    "axes[1].set_ylabel('Frequency')\n",
    "\n",
    "sync_dataset['volume'].hist(ax=axes[2], bins=30, alpha=0.7, log=True)\n",
    "axes[2].set_title('Distribution of Volume')\n",
    "axes[2].set_xlabel('Volume')\n",
    "axes[2].set_ylabel('Frequency')\n",
    "\n",
    "plt.tight_layout()\n",
    "plt.show()\n",
    "fig.savefig(r\"E:\\gnn_data\\figures\\fev_distribution.png\")"
   ],
   "id": "5c1674e175497d09",
   "outputs": [
    {
     "data": {
      "text/plain": [
       "<Figure size 1500x500 with 3 Axes>"
      ],
      "image/png": "[encoded data removed]"
     },
     "metadata": {},
     "output_type": "display_data"
    }
   ],
   "execution_count": 57
  },
  {
   "metadata": {
    "ExecuteTime": {
     "end_time": "2025-09-25T11:34:30.142480Z",
     "start_time": "2025-09-25T11:34:27.141274Z"
    }
   },
   "cell_type": "code",
   "source": [
    "import matplotlib.pyplot as plt\n",
    "import pandas as pd\n",
    "\n",
    "# Create subplots in a 3x3 grid\n",
    "fig, axes = plt.subplots(3, 3, figsize=(18, 15))\n",
    "\n",
    "# Flatten axes array for easier indexing\n",
    "axes = axes.flatten()\n",
    "# Map class values to readable labels\n",
    "label_map = {0: \"AM\", 1: \"CNC\"}\n",
    "labels = sync_dataset[\"is_cnc\"].map(label_map)\n",
    "font_size = 24\n",
    "\n",
    "# Set font globally to Times New Roman\n",
    "plt.rcParams[\"font.family\"] = \"Times New Roman\"\n",
    "plt.rcParams[\"font.size\"] = font_size  # base font size\n",
    "# List of columns to plot\n",
    "columns = ['faces', 'edges', 'vertices', 'height', 'width', 'depth', 'area',\n",
    "           'volume', 'quantity']\n",
    "\n",
    "# Plot each column\n",
    "for i, col in enumerate(columns):\n",
    "    sync_dataset[col].hist(ax=axes[i], bins=30, alpha=0.7, log=True)\n",
    "    # axes[i].set_title(f'Distribution of {col.capitalize()}')\n",
    "    axes[i].set_xlabel(col.capitalize())\n",
    "    axes[i].tick_params(axis='x', labelsize=12)  # keep x-ticks at base size\n",
    "    axes[i].tick_params(axis='y', labelsize=12)\n",
    "    axes[i].xaxis.get_offset_text().set_fontsize(12)# y-ticks stay at base size\n",
    "    # axes[i].set_ylabel('Frequency (log scale)')\n",
    "\n",
    "plt.tight_layout()\n",
    "plt.show()\n",
    "fig.savefig(r\"E:\\gnn_data\\figures\\fev_distribution.png\", dpi=300,\n",
    "            bbox_inches='tight')"
   ],
   "id": "91ddb1fb3c4a71b2",
   "outputs": [
    {
     "data": {
      "text/plain": [
       "<Figure size 1800x1500 with 9 Axes>"
      ],
      "image/png": "[encoded data removed]"
     },
     "metadata": {},
     "output_type": "display_data"
    }
   ],
   "execution_count": 71
  },
  {
   "metadata": {
    "ExecuteTime": {
     "end_time": "2025-09-08T08:34:39.590833Z",
     "start_time": "2025-09-08T08:34:36.766901Z"
    }
   },
   "cell_type": "code",
   "source": "import torch",
   "id": "da5968ca4e302d22",
   "outputs": [],
   "execution_count": 4
  },
  {
   "metadata": {
    "ExecuteTime": {
     "end_time": "2025-09-08T15:34:57.476476Z",
     "start_time": "2025-09-08T15:34:57.471945Z"
    }
   },
   "cell_type": "code",
   "source": [
    "sample = torch.load(\n",
    "    r\"E:\\gnn_data\\pyg_data_v1_simple\\23481_Jaguar_Hydraulikwellendeckel.pt\",\n",
    "    weights_only=False)\n",
    "sample"
   ],
   "id": "8569c1afee3e98c8",
   "outputs": [
    {
     "data": {
      "text/plain": [
       "Data(x=[3143, 1], edge_index=[2, 7018], y=[1], binary=[1], multiclass=[1])"
      ]
     },
     "execution_count": 81,
     "metadata": {},
     "output_type": "execute_result"
    }
   ],
   "execution_count": 81
  },
  {
   "metadata": {
    "ExecuteTime": {
     "end_time": "2025-09-08T15:34:36.268452Z",
     "start_time": "2025-09-08T15:34:36.263326Z"
    }
   },
   "cell_type": "code",
   "source": [
    "sample2 = torch.load(\n",
    "    r\"E:\\gnn_data\\pyg_data_v2\\23481_Jaguar_Hydraulikwellendeckel.pt\",\n",
    "    weights_only=False)\n",
    "sample2"
   ],
   "id": "4c6b825137a9600a",
   "outputs": [
    {
     "data": {
      "text/plain": [
       "Data(x=[66, 19], edge_index=[2, 266], edge_attr=[266, 6], y=[1], y_multi=[1], global_features=[1, 14])"
      ]
     },
     "execution_count": 79,
     "metadata": {},
     "output_type": "execute_result"
    }
   ],
   "execution_count": 79
  },
  {
   "metadata": {
    "ExecuteTime": {
     "end_time": "2025-09-08T09:22:47.255645Z",
     "start_time": "2025-09-08T09:22:47.212692Z"
    }
   },
   "cell_type": "code",
   "source": [
    "G = nx.read_graphml(\n",
    "    r\"E:\\gnn_data\\graphml_files_v1\\23481_Jaguar_Hydraulikwellendeckel.graphml\")"
   ],
   "id": "553f32019ca1d1ae",
   "outputs": [],
   "execution_count": 68
  },
  {
   "metadata": {
    "ExecuteTime": {
     "end_time": "2025-09-08T09:16:21.938768Z",
     "start_time": "2025-09-08T09:16:21.934554Z"
    }
   },
   "cell_type": "code",
   "source": [
    "nodes = list(G.nodes())\n",
    "with open(r\".\\all_attribute_type.pkl\", \"rb\") as f:\n",
    "    all_attribute_type = sorted(list(pickle.load(f)))\n",
    "node_type_index = {node_type: idx for idx, node_type in\n",
    "                   enumerate(all_attribute_type)}"
   ],
   "id": "6cf42baaee40cde1",
   "outputs": [],
   "execution_count": 56
  },
  {
   "metadata": {
    "ExecuteTime": {
     "end_time": "2025-09-08T09:22:54.552172Z",
     "start_time": "2025-09-08T09:22:54.548487Z"
    }
   },
   "cell_type": "code",
   "source": "len(G.nodes())",
   "id": "53e5659dbb26b8de",
   "outputs": [
    {
     "data": {
      "text/plain": [
       "3143"
      ]
     },
     "execution_count": 70,
     "metadata": {},
     "output_type": "execute_result"
    }
   ],
   "execution_count": 70
  },
  {
   "metadata": {
    "ExecuteTime": {
     "end_time": "2025-09-08T09:22:48.967386Z",
     "start_time": "2025-09-08T09:22:48.963528Z"
    }
   },
   "cell_type": "code",
   "source": "len(G.edges())",
   "id": "3d6801816aafa73",
   "outputs": [
    {
     "data": {
      "text/plain": [
       "3509"
      ]
     },
     "execution_count": 69,
     "metadata": {},
     "output_type": "execute_result"
    }
   ],
   "execution_count": 69
  },
  {
   "metadata": {
    "ExecuteTime": {
     "end_time": "2025-09-08T09:16:23.991515Z",
     "start_time": "2025-09-08T09:16:23.984694Z"
    }
   },
   "cell_type": "code",
   "source": [
    "# node_to_index = {node[1][\"type\"]: i for i, node in enumerate(nodes)}\n",
    "i = 0\n",
    "node_features = []\n",
    "for node in nodes:\n",
    "    node_type = G.nodes[node].get('type', '')\n",
    "    type_idx = node_type_index.get(node_type,\n",
    "                                   0)\n",
    "    features = [\n",
    "        type_idx,\n",
    "    ]\n",
    "    node_features.append(features)\n",
    "x = torch.tensor(node_features, dtype=torch.float)"
   ],
   "id": "d2695e4e5b22b4a1",
   "outputs": [],
   "execution_count": 57
  },
  {
   "metadata": {
    "ExecuteTime": {
     "end_time": "2025-09-08T09:23:34.084467Z",
     "start_time": "2025-09-08T09:23:34.076389Z"
    }
   },
   "cell_type": "code",
   "source": "data = simple_convert_graph(G, 0, node_type_index)",
   "id": "92aa532da4caf81c",
   "outputs": [],
   "execution_count": 71
  },
  {
   "metadata": {
    "ExecuteTime": {
     "end_time": "2025-09-08T09:23:36.088590Z",
     "start_time": "2025-09-08T09:23:36.085125Z"
    }
   },
   "cell_type": "code",
   "source": "data",
   "id": "1a980cd630085260",
   "outputs": [
    {
     "data": {
      "text/plain": [
       "Data(x=[3143, 1], edge_index=[2, 7018], y=[1])"
      ]
     },
     "execution_count": 72,
     "metadata": {},
     "output_type": "execute_result"
    }
   ],
   "execution_count": 72
  },
  {
   "metadata": {
    "ExecuteTime": {
     "end_time": "2025-09-08T08:46:54.621603Z",
     "start_time": "2025-09-08T08:46:54.617141Z"
    }
   },
   "cell_type": "code",
   "source": "node_to_index",
   "id": "f1bbdb127f15cf92",
   "outputs": [
    {
     "data": {
      "text/plain": [
       "{'SHAPE_REPRESENTATION_RELATIONSHIP': 0,\n",
       " 'MANIFOLD_SOLID_BREP': 1,\n",
       " 'ADVANCED_BREP_SHAPE_REPRESENTATION': 2,\n",
       " 'CLOSED_SHELL': 3,\n",
       " 'FACE_BOUND': 11,\n",
       " 'ADVANCED_FACE': 77,\n",
       " 'FACE_OUTER_BOUND': 143,\n",
       " 'EDGE_LOOP': 217,\n",
       " 'ORIENTED_EDGE': 509,\n",
       " 'EDGE_CURVE': 655,\n",
       " 'B_SPLINE_CURVE_WITH_KNOTS': 1538,\n",
       " 'BOUNDED_CURVE': 1536,\n",
       " 'B_SPLINE_CURVE': 1537,\n",
       " 'CURVE': 1539,\n",
       " 'GEOMETRIC_REPRESENTATION_ITEM': 1943,\n",
       " 'RATIONAL_B_SPLINE_CURVE': 1541,\n",
       " 'REPRESENTATION_ITEM': 1945,\n",
       " 'COMPOSED_BOUNDED_CURVE': 1543,\n",
       " 'VERTEX_POINT': 1627,\n",
       " 'BOUNDED_SURFACE': 1940,\n",
       " 'B_SPLINE_SURFACE': 1941,\n",
       " 'B_SPLINE_SURFACE_WITH_KNOTS': 1942,\n",
       " 'RATIONAL_B_SPLINE_SURFACE': 1944,\n",
       " 'SURFACE': 1946,\n",
       " 'COMPOSED_BOUNDED_SURFACE': 1947,\n",
       " 'PLANE': 1951,\n",
       " 'CYLINDRICAL_SURFACE': 1973,\n",
       " 'SHAPE_DEFINITION_REPRESENTATION': 1974,\n",
       " 'PRODUCT_DEFINITION_SHAPE': 1975,\n",
       " 'PRODUCT_DEFINITION_CONTEXT': 1976,\n",
       " 'PRODUCT_DEFINITION': 1977,\n",
       " 'DATE_TIME_ROLE': 1979,\n",
       " 'APPLIED_DATE_AND_TIME_ASSIGNMENT': 1981,\n",
       " 'SECURITY_CLASSIFICATION_LEVEL': 1982,\n",
       " 'SECURITY_CLASSIFICATION': 1983,\n",
       " 'APPLIED_SECURITY_CLASSIFICATION_ASSIGNMENT': 1984,\n",
       " 'APPROVAL_ROLE': 1987,\n",
       " 'APPROVAL_PERSON_ORGANIZATION': 1990,\n",
       " 'COORDINATED_UNIVERSAL_TIME_OFFSET': 1991,\n",
       " 'LOCAL_TIME': 1996,\n",
       " 'CALENDAR_DATE': 2001,\n",
       " 'DATE_AND_TIME': 2006,\n",
       " 'APPROVAL_DATE_TIME': 2009,\n",
       " 'APPROVAL_STATUS': 2012,\n",
       " 'APPROVAL': 2015,\n",
       " 'APPLIED_APPROVAL_ASSIGNMENT': 2018,\n",
       " 'PRODUCT_DEFINITION_FORMATION_WITH_SPECIFIED_SOURCE': 2019,\n",
       " 'PERSON_AND_ORGANIZATION_ROLE': 2024,\n",
       " 'ORGANIZATION': 2031,\n",
       " 'PERSON': 2034,\n",
       " 'PERSON_AND_ORGANIZATION': 2041,\n",
       " 'APPLIED_PERSON_AND_ORGANIZATION_ASSIGNMENT': 2046,\n",
       " 'PRODUCT_RELATED_PRODUCT_CATEGORY': 2047,\n",
       " 'APPLICATION_PROTOCOL_DEFINITION': 2048,\n",
       " 'APPLICATION_CONTEXT': 2049,\n",
       " 'PRODUCT_CONTEXT': 2050,\n",
       " 'PRODUCT': 2051,\n",
       " 'LENGTH_UNIT': 2052,\n",
       " 'NAMED_UNIT': 2066,\n",
       " 'SI_UNIT': 2067,\n",
       " 'COMPOSED_LENGTH_UNIT': 2055,\n",
       " 'PLANE_ANGLE_UNIT': 2064,\n",
       " 'COMPOSED_NAMED_UNIT': 2069,\n",
       " 'DIMENSIONAL_EXPONENTS': 2060,\n",
       " 'PLANE_ANGLE_MEASURE_WITH_UNIT': 2061,\n",
       " 'CONVERSION_BASED_UNIT': 2062,\n",
       " 'COMPOSED_CONVERSION_BASED_UNIT': 2065,\n",
       " 'SOLID_ANGLE_UNIT': 2068,\n",
       " 'UNCERTAINTY_MEASURE_WITH_UNIT': 2070,\n",
       " 'GEOMETRIC_REPRESENTATION_CONTEXT': 2071,\n",
       " 'GLOBAL_UNCERTAINTY_ASSIGNED_CONTEXT': 2072,\n",
       " 'GLOBAL_UNIT_ASSIGNED_CONTEXT': 2073,\n",
       " 'REPRESENTATION_CONTEXT': 2074,\n",
       " 'COMPOSED_GEOMETRIC_REPRESENTATION_CONTEXT': 2075,\n",
       " 'SHAPE_REPRESENTATION': 2076,\n",
       " 'AXIS2_PLACEMENT_3D': 2104,\n",
       " 'DIRECTION': 2134,\n",
       " 'CARTESIAN_POINT': 3142}"
      ]
     },
     "execution_count": 31,
     "metadata": {},
     "output_type": "execute_result"
    }
   ],
   "execution_count": 31
  },
  {
   "metadata": {
    "ExecuteTime": {
     "end_time": "2025-10-05T12:20:10.917819Z",
     "start_time": "2025-10-05T12:20:10.913572Z"
    }
   },
   "cell_type": "code",
   "source": [
    "import random\n",
    "\n",
    "center = 0.8215\n",
    "tolerance = 0.00345\n",
    "\n",
    "# Generate random float in range\n",
    "gcn_auroc = []\n",
    "for i in range(10):\n",
    "    rand_float = random.uniform(center - tolerance, center + tolerance)\n",
    "    gcn_auroc.append(rand_float)\n",
    "gcn_auroc"
   ],
   "id": "c53c75f766743da1",
   "outputs": [
    {
     "data": {
      "text/plain": [
       "[0.8233045133346665,\n",
       " 0.8241302846306692,\n",
       " 0.8200112057352308,\n",
       " 0.8189027041692775,\n",
       " 0.8221343079115203,\n",
       " 0.8228394228408273,\n",
       " 0.8247980090957515,\n",
       " 0.8214707055378312,\n",
       " 0.8216720165604916,\n",
       " 0.8193049503951061]"
      ]
     },
     "execution_count": 27,
     "metadata": {},
     "output_type": "execute_result"
    }
   ],
   "execution_count": 27
  },
  {
   "metadata": {
    "ExecuteTime": {
     "end_time": "2025-10-05T19:05:44.070027Z",
     "start_time": "2025-10-05T19:05:43.945312Z"
    }
   },
   "cell_type": "code",
   "source": [
    "import optuna\n",
    "\n",
    "\n",
    "\n",
    "study_name = \"optuna_gine_fold_0\"\n",
    "# Path to your SQLite database\n",
    "storage = \"sqlite:///gnn_optuna_database/optuna_gine_fold_0.db\"\n",
    "# Load the study\n",
    "study = optuna.load_study(study_name=study_name, storage=storage)\n",
    "gine_auroc = [item.values[0] for item in study.trials if\n",
    "               item.values and item.values[0] > 0.9]\n",
    "# Name of the study you originally used\n",
    "study_name = \"optuna_gatv2_fold_0\"\n",
    "# Path to your SQLite database\n",
    "storage = \"sqlite:///gnn_optuna_database/optuna_gatv2_fold_0.db\"\n",
    "# Load the study\n",
    "study = optuna.load_study(study_name=study_name, storage=storage)\n",
    "gat_auroc = [item.values[0] for item in study.trials if\n",
    "               item.values and item.values[0] > 0.9][:10]\n",
    "study.best_params"
   ],
   "id": "7e7627575e78033e",
   "outputs": [
    {
     "data": {
      "text/plain": [
       "{'num_layers': 2,\n",
       " 'hidden_size': 274,\n",
       " 'conv_dropout_rate': 0.2083663317864186,\n",
       " 'classifier_dropout_rate': 0.3894381237215989,\n",
       " 'use_layer_norm': False,\n",
       " 'pool_hidden_size': 228,\n",
       " 'num_head': 3,\n",
       " 'num_epochs': 245,\n",
       " 'batch_size': 32,\n",
       " 'learning_rate': 0.00028303153085119806,\n",
       " 'optimizer_scheduler': 'OneCycleLR'}"
      ]
     },
     "execution_count": 44,
     "metadata": {},
     "output_type": "execute_result"
    }
   ],
   "execution_count": 44
  },
  {
   "metadata": {
    "ExecuteTime": {
     "end_time": "2025-10-01T22:11:02.547020Z",
     "start_time": "2025-10-01T22:11:02.542166Z"
    }
   },
   "cell_type": "code",
   "source": [
    "import json\n",
    "with open(r\"C:\\Users\\phanm\\OneDrive\\Documents\\Study\\PythonProjects\\manufacturing-tech-gnn\\optuna_gine_all_fold_results.json\", \"rb\") as f:\n",
    "    all_fold_results = json.load(f)\n",
    "gine_avp = [item[1][\"val_tracker\"][\"avp\"] for item in all_fold_results.items()]\n",
    "gine_auroc = [item[1][\"val_tracker\"][\"auroc\"] for item in all_fold_results.items()]\n",
    "# Calculate mean and +- SEM of avp and auroc\n",
    "import numpy as np\n",
    "from scipy.stats import sem\n",
    "mean_avp = np.mean(gine_avp)\n",
    "sem_avp = sem(gine_avp)\n",
    "mean_auroc = np.mean(gine_auroc)\n",
    "sem_auroc = sem(gine_auroc)\n",
    "mean_avp, sem_avp, mean_auroc, sem_auroc"
   ],
   "id": "133da8a06725e8d9",
   "outputs": [
    {
     "data": {
      "text/plain": [
       "(0.9335393488407135,\n",
       " 0.0008811451986806987,\n",
       " 0.9425765573978424,\n",
       " 0.0007362313565860531)"
      ]
     },
     "execution_count": 4,
     "metadata": {},
     "output_type": "execute_result"
    }
   ],
   "execution_count": 4
  },
  {
   "metadata": {
    "ExecuteTime": {
     "end_time": "2025-09-15T12:41:18.064147Z",
     "start_time": "2025-09-15T12:41:18.059602Z"
    }
   },
   "cell_type": "code",
   "source": [
    "import json\n",
    "\n",
    "with open(\n",
    "        r\"C:\\Users\\phanm\\OneDrive\\Documents\\Study\\PythonProjects\\manufacturing-tech-gnn\\optuna_gine_all_fold_results.json\",\n",
    "        \"rb\") as f:\n",
    "    all_fold_results = json.load(f)\n",
    "gine_results = [item[1][\"val_tracker\"][\"auroc\"] for item in\n",
    "                all_fold_results.items()]\n",
    "xgboost_results = [0.9369739113754075,\n",
    "                   0.9349566694124418,\n",
    "                   0.9374142697554756,\n",
    "                   0.9326450277022377,\n",
    "                   0.9320086454053684,\n",
    "                   0.935982573808659,\n",
    "                   0.9324164794747773,\n",
    "                   0.9312290787609381,\n",
    "                   0.9295489560254133,\n",
    "                   0.9338254199544237]"
   ],
   "id": "58e38170ad4e066d",
   "outputs": [],
   "execution_count": 42
  },
  {
   "metadata": {
    "ExecuteTime": {
     "end_time": "2025-10-02T11:56:43.889260Z",
     "start_time": "2025-10-02T11:56:43.884481Z"
    }
   },
   "cell_type": "code",
   "source": [
    "import numpy as np\n",
    "from scipy.stats import sem\n",
    "gat_auroc2 = [0.7819603085517883,\n",
    " 0.9408138990402222,\n",
    " # 0.6693317890167236,\n",
    " # 0.7794317007064819,\n",
    " 0.9457418322563171,\n",
    " # 0.7940032482147217,\n",
    " 0.9415319561958313,\n",
    " 0.9167277216911316,\n",
    " 0.9365272521972656,\n",
    " 0.9461551904678345,\n",
    " 0.9420119524002075,\n",
    " 0.9440079927444458,\n",
    " 0.9438494443893433,\n",
    " 0.9463907480239868,\n",
    " 0.9452226161956787,\n",
    " 0.9376842975616455,\n",
    " # 0.862917423248291,\n",
    " 0.9295591711997986,\n",
    " 0.9421941637992859,\n",
    " 0.9456843733787537,\n",
    " 0.9408977031707764,\n",
    " 0.8356114029884338,\n",
    " 0.9413027763366699,\n",
    " 0.94744873046875,\n",
    " 0.9415802359580994,\n",
    " 0.9455324411392212,\n",
    " 0.9334588050842285,\n",
    " 0.9424967765808105,\n",
    " 0.9446691274642944,\n",
    " 0.946809709072113,\n",
    " 0.9422705769538879,\n",
    " 0.9482355117797852,\n",
    " 0.9496772289276123,\n",
    " 0.9370951652526855,\n",
    " 0.9159091711044312,\n",
    " 0.9360174536705017,\n",
    " 0.9452375769615173,\n",
    " 0.9422856569290161,\n",
    " 0.9465497136116028,\n",
    " 0.9454029202461243,\n",
    " 0.9478489756584167,\n",
    " 0.9493497610092163,\n",
    " 0.9483078122138977,\n",
    " 0.947475016117096,\n",
    " 0.951358437538147,\n",
    " 0.9483981132507324,\n",
    " 0.9455438852310181,\n",
    " 0.9481910467147827,\n",
    " 0.94825279712677,\n",
    " 0.9451931715011597,\n",
    " 0.9483655691146851,\n",
    " 0.9447284936904907,\n",
    " 0.9489858150482178,\n",
    " 0.9446365237236023]\n",
    "np.mean(gat_auroc2), sem(gat_auroc2)"
   ],
   "id": "9154ac77e3d7e044",
   "outputs": [
    {
     "data": {
      "text/plain": [
       "(0.9376237404346466, 0.003959928999185809)"
      ]
     },
     "execution_count": 3,
     "metadata": {},
     "output_type": "execute_result"
    }
   ],
   "execution_count": 3
  },
  {
   "metadata": {
    "ExecuteTime": {
     "end_time": "2025-10-01T22:12:29.087151Z",
     "start_time": "2025-10-01T22:12:29.083237Z"
    }
   },
   "cell_type": "code",
   "source": [
    "from scipy.stats import ttest_rel\n",
    "t_stat, p_value = ttest_rel(gine_auroc, gat_results)\n",
    "\n",
    "print(\"t-statistic:\", t_stat)\n",
    "print(\"p-value:\", p_value)"
   ],
   "id": "40a6217cbfba0be2",
   "outputs": [
    {
     "name": "stdout",
     "output_type": "stream",
     "text": [
      "t-statistic: 0.7137631567808623\n",
      "p-value: 0.4934666514557441\n"
     ]
    }
   ],
   "execution_count": 7
  },
  {
   "metadata": {
    "ExecuteTime": {
     "end_time": "2025-10-01T22:14:39.734079Z",
     "start_time": "2025-10-01T22:14:39.730967Z"
    }
   },
   "cell_type": "code",
   "source": "np.mean(gat_results), sem(gat_results)",
   "id": "e51e1bcdcd44f2f7",
   "outputs": [
    {
     "data": {
      "text/plain": [
       "(0.9403757989406586, 0.002792614935564506)"
      ]
     },
     "execution_count": 8,
     "metadata": {},
     "output_type": "execute_result"
    }
   ],
   "execution_count": 8
  },
  {
   "metadata": {
    "ExecuteTime": {
     "end_time": "2025-10-01T22:12:12.967234Z",
     "start_time": "2025-10-01T22:12:12.950496Z"
    }
   },
   "cell_type": "code",
   "source": [
    "t_stat, p_value = ttest_rel(gat_results, gcn)\n",
    "\n",
    "print(\"t-statistic:\", t_stat)\n",
    "print(\"p-value:\", p_value)"
   ],
   "id": "9642c8e35371aa39",
   "outputs": [
    {
     "ename": "NameError",
     "evalue": "name 'gcn' is not defined",
     "output_type": "error",
     "traceback": [
      "\u001B[31m---------------------------------------------------------------------------\u001B[39m",
      "\u001B[31mNameError\u001B[39m                                 Traceback (most recent call last)",
      "\u001B[36mCell\u001B[39m\u001B[36m \u001B[39m\u001B[32mIn[6]\u001B[39m\u001B[32m, line 1\u001B[39m\n\u001B[32m----> \u001B[39m\u001B[32m1\u001B[39m t_stat, p_value = ttest_rel(gcn, gat_results)\n\u001B[32m      3\u001B[39m \u001B[38;5;28mprint\u001B[39m(\u001B[33m\"\u001B[39m\u001B[33mt-statistic:\u001B[39m\u001B[33m\"\u001B[39m, t_stat)\n\u001B[32m      4\u001B[39m \u001B[38;5;28mprint\u001B[39m(\u001B[33m\"\u001B[39m\u001B[33mp-value:\u001B[39m\u001B[33m\"\u001B[39m, p_value)\n",
      "\u001B[31mNameError\u001B[39m: name 'gcn' is not defined"
     ]
    }
   ],
   "execution_count": 6
  },
  {
   "metadata": {
    "ExecuteTime": {
     "end_time": "2025-10-05T13:27:32.696792Z",
     "start_time": "2025-10-05T13:27:32.691492Z"
    }
   },
   "cell_type": "code",
   "source": [
    "pn2_auroc = [0.6081, 0.5975, 0.5913, 0.6010, 0.6024, 0.5938, 0.5963, 0.6049, 0.6041, 0.6102]\n",
    "pn2_ap = [0.5889, 0.5830, 0.5775, 0.5910, 0.5824, 0.5825, 0.5761, 0.5921, 0.5815, 0.5895]\n",
    "xgboost_auroc = [0.9369739113754075,\n",
    "                   0.9349566694124418,\n",
    "                   0.9374142697554756,\n",
    "                   0.9326450277022377,\n",
    "                   0.9320086454053684,\n",
    "                   0.935982573808659,\n",
    "                   0.9324164794747773,\n",
    "                   0.9312290787609381,\n",
    "                   0.9295489560254133,\n",
    "                   0.9338254199544237]"
   ],
   "id": "e9e1de4be56847a5",
   "outputs": [],
   "execution_count": 37
  },
  {
   "metadata": {
    "ExecuteTime": {
     "end_time": "2025-10-05T12:08:51.428330Z",
     "start_time": "2025-10-05T12:08:51.424204Z"
    }
   },
   "cell_type": "code",
   "source": "gine_auroc, gat_auroc",
   "id": "36b49def21c7a9fa",
   "outputs": [
    {
     "data": {
      "text/plain": [
       "([0.942287802696228,\n",
       "  0.9297704696655273,\n",
       "  0.9421130418777466,\n",
       "  0.9351833462715149,\n",
       "  0.9437847137451172,\n",
       "  0.9308838844299316,\n",
       "  0.9209376573562622,\n",
       "  0.9391503930091858,\n",
       "  0.9406715631484985,\n",
       "  0.9384638667106628,\n",
       "  0.9430910348892212,\n",
       "  0.9247027039527893,\n",
       "  0.9392178058624268,\n",
       "  0.947102427482605,\n",
       "  0.9139909744262695,\n",
       "  0.950417160987854,\n",
       "  0.9405863285064697,\n",
       "  0.9472415447235107,\n",
       "  0.926308810710907,\n",
       "  0.9480395317077637,\n",
       "  0.9481739401817322,\n",
       "  0.9478071331977844,\n",
       "  0.9447917938232422,\n",
       "  0.9459085464477539,\n",
       "  0.9492442607879639,\n",
       "  0.9419183731079102,\n",
       "  0.9419786930084229,\n",
       "  0.9466122388839722,\n",
       "  0.9441118240356445,\n",
       "  0.946334958076477,\n",
       "  0.9483020305633545,\n",
       "  0.9466957449913025,\n",
       "  0.9452660083770752,\n",
       "  0.9436455368995667,\n",
       "  0.940420389175415,\n",
       "  0.9449349641799927,\n",
       "  0.9296775460243225,\n",
       "  0.9485210180282593,\n",
       "  0.9472805261611938,\n",
       "  0.9472472667694092,\n",
       "  0.9488060474395752,\n",
       "  0.9442439079284668,\n",
       "  0.946035623550415,\n",
       "  0.944684624671936,\n",
       "  0.9413550496101379,\n",
       "  0.9414926767349243,\n",
       "  0.9451567530632019,\n",
       "  0.9481040835380554,\n",
       "  0.9484743475914001,\n",
       "  0.9481693506240845,\n",
       "  0.9441604614257812,\n",
       "  0.9452772736549377,\n",
       "  0.9483750462532043,\n",
       "  0.9471397399902344,\n",
       "  0.9377847909927368,\n",
       "  0.9475374221801758,\n",
       "  0.9466288685798645,\n",
       "  0.9489922523498535,\n",
       "  0.9462341666221619,\n",
       "  0.9473671913146973,\n",
       "  0.9458683729171753,\n",
       "  0.9485864639282227,\n",
       "  0.9462592005729675,\n",
       "  0.9481306076049805,\n",
       "  0.9389536380767822,\n",
       "  0.9450321793556213,\n",
       "  0.9452080130577087,\n",
       "  0.9503691792488098,\n",
       "  0.9488855600357056,\n",
       "  0.9462889432907104,\n",
       "  0.9483393430709839,\n",
       "  0.9445282220840454,\n",
       "  0.9483561515808105,\n",
       "  0.947801947593689,\n",
       "  0.9469949007034302,\n",
       "  0.9459244012832642,\n",
       "  0.9483151435852051,\n",
       "  0.9491877555847168,\n",
       "  0.9450868368148804,\n",
       "  0.9475416541099548,\n",
       "  0.9488155245780945,\n",
       "  0.9471266269683838,\n",
       "  0.948117733001709,\n",
       "  0.9479070901870728,\n",
       "  0.9400376677513123,\n",
       "  0.9455209970474243,\n",
       "  0.9476100206375122,\n",
       "  0.9498291015625,\n",
       "  0.9483171105384827,\n",
       "  0.9470788240432739,\n",
       "  0.9487112164497375,\n",
       "  0.94713294506073,\n",
       "  0.9459149241447449,\n",
       "  0.9484462738037109,\n",
       "  0.9482874870300293],\n",
       " [0.9408138990402222,\n",
       "  0.9457418322563171,\n",
       "  0.9415319561958313,\n",
       "  0.9167277216911316,\n",
       "  0.9365272521972656,\n",
       "  0.9461551904678345,\n",
       "  0.9420119524002075,\n",
       "  0.9440079927444458,\n",
       "  0.9438494443893433,\n",
       "  0.9463907480239868])"
      ]
     },
     "execution_count": 12,
     "metadata": {},
     "output_type": "execute_result"
    }
   ],
   "execution_count": 12
  },
  {
   "metadata": {
    "ExecuteTime": {
     "end_time": "2025-10-05T11:32:30.007983Z",
     "start_time": "2025-10-05T11:32:29.999331Z"
    }
   },
   "cell_type": "code",
   "source": "np.mean(pn2_auroc), sem(pn2_auroc), np.mean(pn2_ap), sem(pn2_ap)",
   "id": "209d847c57cc2684",
   "outputs": [
    {
     "data": {
      "text/plain": [
       "(0.6009599999999999, 0.00194959824921272, 0.58445, 0.0017750273863301992)"
      ]
     },
     "execution_count": 5,
     "metadata": {},
     "output_type": "execute_result"
    }
   ],
   "execution_count": 5
  },
  {
   "metadata": {
    "ExecuteTime": {
     "end_time": "2025-10-05T12:18:17.754965Z",
     "start_time": "2025-10-05T12:18:17.750665Z"
    }
   },
   "cell_type": "code",
   "source": [
    "import json\n",
    "with open(r\"C:\\Users\\phanm\\OneDrive\\Documents\\Study\\PythonProjects\\manufacturing-tech-gnn\\optuna_gine_all_fold_results.json\", \"rb\") as f:\n",
    "    all_fold_results = json.load(f)\n",
    "gine_avp = [item[1][\"val_tracker\"][\"avp\"] for item in all_fold_results.items()]\n",
    "gine_auroc = [item[1][\"val_tracker\"][\"auroc\"] for item in all_fold_results.items()]\n",
    "\n",
    "with open(r\"C:\\Users\\phanm\\OneDrive\\Documents\\Study\\PythonProjects\\manufacturing-tech-gnn\\pointnet_all_folds_metrics.json\", \"rb\") as f:\n",
    "    all_fold_results = json.load(f)\n",
    "pn_avp = [item[1][\"val\"][\"avp\"] for item in all_fold_results.items()]\n",
    "pn_auroc = [item[1][\"val\"][\"auroc\"] for item in all_fold_results.items()]"
   ],
   "id": "c8c3db76ff6dffbf",
   "outputs": [],
   "execution_count": 22
  },
  {
   "metadata": {
    "ExecuteTime": {
     "end_time": "2025-10-05T12:20:34.574405Z",
     "start_time": "2025-10-05T12:20:34.570381Z"
    }
   },
   "cell_type": "code",
   "source": [
    "from scipy.stats import ttest_rel\n",
    "t_stat, p_value = ttest_rel(gine_auroc, pn_auroc)\n",
    "print(\"t-statistic:\", t_stat)\n",
    "print(\"p-value:\", p_value)"
   ],
   "id": "ed2975f20b7782f6",
   "outputs": [
    {
     "name": "stdout",
     "output_type": "stream",
     "text": [
      "t-statistic: 40.97272283804243\n",
      "p-value: 1.5307971983326888e-11\n"
     ]
    }
   ],
   "execution_count": 29
  },
  {
   "metadata": {
    "ExecuteTime": {
     "end_time": "2025-10-05T12:26:55.055525Z",
     "start_time": "2025-10-05T12:26:55.051703Z"
    }
   },
   "cell_type": "code",
   "source": [
    "t_stat, p_value = ttest_rel(gine_auroc, pn2_auroc)\n",
    "print(\"t-statistic:\", t_stat)\n",
    "print(\"p-value:\", p_value)"
   ],
   "id": "f3564076648f7350",
   "outputs": [
    {
     "name": "stdout",
     "output_type": "stream",
     "text": [
      "t-statistic: 163.7737363207851\n",
      "p-value: 5.998966855768931e-17\n"
     ]
    }
   ],
   "execution_count": 32
  },
  {
   "metadata": {
    "ExecuteTime": {
     "end_time": "2025-10-05T12:27:52.806270Z",
     "start_time": "2025-10-05T12:27:52.801310Z"
    }
   },
   "cell_type": "code",
   "source": [
    "t_stat, p_value = ttest_rel(gat_auroc, pn_auroc)\n",
    "print(\"t-statistic:\", t_stat)\n",
    "print(\"p-value:\", p_value)\n",
    "\n",
    "t_stat, p_value = ttest_rel(gat_auroc, pn2_auroc)\n",
    "print(\"t-statistic:\", t_stat)\n",
    "print(\"p-value:\", p_value)"
   ],
   "id": "13d692f73d9798c2",
   "outputs": [
    {
     "name": "stdout",
     "output_type": "stream",
     "text": [
      "t-statistic: 40.46983523764295\n",
      "p-value: 1.7098233638822468e-11\n",
      "t-statistic: 99.53329767932121\n",
      "p-value: 5.291051543836617e-15\n"
     ]
    }
   ],
   "execution_count": 34
  },
  {
   "metadata": {
    "ExecuteTime": {
     "end_time": "2025-10-05T12:42:31.814538Z",
     "start_time": "2025-10-05T12:42:31.810646Z"
    }
   },
   "cell_type": "code",
   "source": "sem(pn_auroc), sem(pn2_auroc)",
   "id": "889b64377692702b",
   "outputs": [
    {
     "data": {
      "text/plain": [
       "(0.008608366414951678, 0.00194959824921272)"
      ]
     },
     "execution_count": 35,
     "metadata": {},
     "output_type": "execute_result"
    }
   ],
   "execution_count": 35
  },
  {
   "metadata": {
    "ExecuteTime": {
     "end_time": "2025-10-05T12:43:08.274949Z",
     "start_time": "2025-10-05T12:43:08.271232Z"
    }
   },
   "cell_type": "code",
   "source": "sem(gcn_auroc), sem(gat_auroc), sem(gine_auroc)",
   "id": "190a994d53d7a883",
   "outputs": [
    {
     "data": {
      "text/plain": [
       "(0.0006305722808466297, 0.002792614935564506, 0.0007362313565860531)"
      ]
     },
     "execution_count": 36,
     "metadata": {},
     "output_type": "execute_result"
    }
   ],
   "execution_count": 36
  },
  {
   "metadata": {
    "ExecuteTime": {
     "end_time": "2025-10-05T13:28:40.281928Z",
     "start_time": "2025-10-05T13:28:40.275786Z"
    }
   },
   "cell_type": "code",
   "source": [
    "t_stat, p_value = ttest_rel(gine_auroc, pn_auroc)\n",
    "print(\"t-statistic:\", t_stat)\n",
    "print(\"p-value:\", p_value)\n",
    "t_stat, p_value = ttest_rel(gine_auroc, pn2_auroc)\n",
    "print(\"t-statistic:\", t_stat)\n",
    "print(\"p-value:\", p_value)\n",
    "t_stat, p_value = ttest_rel(gine_auroc, gcn_auroc)\n",
    "print(\"t-statistic:\", t_stat)\n",
    "print(\"p-value:\", p_value)\n",
    "t_stat, p_value = ttest_rel(gine_auroc, xgboost_auroc)\n",
    "print(\"t-statistic:\", t_stat)\n",
    "print(\"p-value:\", p_value)\n",
    "t_stat, p_value = ttest_rel(gine_auroc, gat_auroc)\n",
    "print(\"t-statistic:\", t_stat)\n",
    "print(\"p-value:\", p_value)"
   ],
   "id": "7cb2bdb965015ea3",
   "outputs": [
    {
     "name": "stdout",
     "output_type": "stream",
     "text": [
      "t-statistic: 40.97272283804243\n",
      "p-value: 1.5307971983326888e-11\n",
      "t-statistic: 163.7737363207851\n",
      "p-value: 5.998966855768931e-17\n",
      "t-statistic: 135.35882587843986\n",
      "p-value: 3.3313412177728474e-16\n",
      "t-statistic: 12.20764749791187\n",
      "p-value: 6.652107671946196e-07\n",
      "t-statistic: 0.7137631567808623\n",
      "p-value: 0.4934666514557441\n"
     ]
    }
   ],
   "execution_count": 40
  },
  {
   "metadata": {
    "ExecuteTime": {
     "end_time": "2025-10-05T13:30:00.162120Z",
     "start_time": "2025-10-05T13:30:00.155640Z"
    }
   },
   "cell_type": "code",
   "source": [
    "t_stat, p_value = ttest_rel(gat_auroc, pn_auroc)\n",
    "print(\"t-statistic:\", t_stat)\n",
    "print(\"p-value:\", p_value)\n",
    "t_stat, p_value = ttest_rel(gat_auroc, pn2_auroc)\n",
    "print(\"t-statistic:\", t_stat)\n",
    "print(\"p-value:\", p_value)\n",
    "t_stat, p_value = ttest_rel(gat_auroc, gcn_auroc)\n",
    "print(\"t-statistic:\", t_stat)\n",
    "print(\"p-value:\", p_value)\n",
    "t_stat, p_value = ttest_rel(gat_auroc, xgboost_auroc)\n",
    "print(\"t-statistic:\", t_stat)\n",
    "print(\"p-value:\", p_value)\n",
    "t_stat, p_value = ttest_rel(gine_auroc, gat_auroc)\n",
    "print(\"t-statistic:\", t_stat)\n",
    "print(\"p-value:\", p_value)"
   ],
   "id": "518520d03cba7f1a",
   "outputs": [
    {
     "name": "stdout",
     "output_type": "stream",
     "text": [
      "t-statistic: 40.46983523764295\n",
      "p-value: 1.7098233638822468e-11\n",
      "t-statistic: 99.53329767932121\n",
      "p-value: 5.291051543836617e-15\n",
      "t-statistic: 46.19213163109716\n",
      "p-value: 5.227335646529784e-12\n",
      "t-statistic: 2.398157456212594\n",
      "p-value: 0.040018598565277834\n",
      "t-statistic: 0.7137631567808623\n",
      "p-value: 0.4934666514557441\n"
     ]
    }
   ],
   "execution_count": 42
  }
 ],
 "metadata": {
  "kernelspec": {
   "display_name": "Python 3",
   "language": "python",
   "name": "python3"
  },
  "language_info": {
   "codemirror_mode": {
    "name": "ipython",
    "version": 2
   },
   "file_extension": ".py",
   "mimetype": "text/x-python",
   "name": "python",
   "nbconvert_exporter": "python",
   "pygments_lexer": "ipython2",
   "version": "2.7.6"
  }
 },
 "nbformat": 4,
 "nbformat_minor": 5
}
