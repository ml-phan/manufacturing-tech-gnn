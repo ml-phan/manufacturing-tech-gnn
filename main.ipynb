{
 "cells": [
  {
   "metadata": {
    "ExecuteTime": {
     "end_time": "2025-05-12T21:48:37.485430Z",
     "start_time": "2025-05-12T21:48:37.433472Z"
    }
   },
   "cell_type": "code",
   "source": [
    "%load_ext autoreload\n",
    "%autoreload 1"
   ],
   "id": "118962a4148d22ea",
   "outputs": [],
   "execution_count": 1
  },
  {
   "cell_type": "code",
   "id": "initial_id",
   "metadata": {
    "collapsed": true,
    "ExecuteTime": {
     "end_time": "2025-05-12T23:05:18.170015Z",
     "start_time": "2025-05-12T23:05:18.162741Z"
    }
   },
   "source": [
    "from scipy.stats import randint, uniform\n",
    "from sklearn.model_selection import train_test_split\n",
    "from src.data_loader import *\n",
    "from src.training import *\n",
    "from src.evaluation import *\n",
    "from src.visualization import *\n",
    "from sklearn.preprocessing import label_binarize\n",
    "\n",
    "%aimport src.data_loader\n",
    "%aimport src.visualization\n",
    "%aimport src.training\n",
    "%aimport src.evaluation"
   ],
   "outputs": [],
   "execution_count": 70
  },
  {
   "metadata": {
    "ExecuteTime": {
     "end_time": "2025-05-12T22:07:55.367954Z",
     "start_time": "2025-05-12T22:07:54.967232Z"
    }
   },
   "cell_type": "code",
   "source": [
    "data = pd.read_csv(\"./data/dataset.csv\")\n",
    "data = remove_minority_class(data)\n",
    "le = LabelEncoder()\n",
    "data[\"multiclass_labels\"] = le.fit_transform(data[\"multiclass_labels\"])\n",
    "data.info()"
   ],
   "id": "6d882e757aad3350",
   "outputs": [
    {
     "name": "stdout",
     "output_type": "stream",
     "text": [
      "<class 'pandas.core.frame.DataFrame'>\n",
      "RangeIndex: 63006 entries, 0 to 63005\n",
      "Data columns (total 24 columns):\n",
      " #   Column              Non-Null Count  Dtype  \n",
      "---  ------              --------------  -----  \n",
      " 0   item_id             63006 non-null  int64  \n",
      " 1   faces               63006 non-null  float64\n",
      " 2   edges               63006 non-null  float64\n",
      " 3   vertices            63006 non-null  float64\n",
      " 4   file_name           63006 non-null  object \n",
      " 5   depth               63006 non-null  float64\n",
      " 6   width               63006 non-null  float64\n",
      " 7   height              63006 non-null  float64\n",
      " 8   area                63006 non-null  float64\n",
      " 9   volume              63006 non-null  float64\n",
      " 10  bbox_depth          63006 non-null  float64\n",
      " 11  bbox_height         63006 non-null  float64\n",
      " 12  bbox_width          63006 non-null  float64\n",
      " 13  bbox_area           63006 non-null  float64\n",
      " 14  bbox_volume         63006 non-null  float64\n",
      " 15  quantity            63006 non-null  int64  \n",
      " 16  technology_id       63006 non-null  object \n",
      " 17  material_id         63006 non-null  int64  \n",
      " 18  post_processing_id  63006 non-null  object \n",
      " 19  download_file_url   63006 non-null  object \n",
      " 20  technology_name     63006 non-null  object \n",
      " 21  material_name       59873 non-null  object \n",
      " 22  Is_CNC              63006 non-null  int64  \n",
      " 23  multiclass_labels   63006 non-null  int64  \n",
      "dtypes: float64(13), int64(5), object(6)\n",
      "memory usage: 11.5+ MB\n"
     ]
    }
   ],
   "execution_count": 18
  },
  {
   "metadata": {
    "ExecuteTime": {
     "end_time": "2025-05-12T22:08:16.892477Z",
     "start_time": "2025-05-12T22:08:16.886950Z"
    }
   },
   "cell_type": "code",
   "source": [
    "features = [\n",
    "    \"faces\", \"edges\", \"vertices\", \"quantity\",\n",
    "    \"height\", \"width\", \"depth\", \"volume\", \"area\",\n",
    "    \"bbox_height\", \"bbox_width\", \"bbox_depth\", \"bbox_volume\", \"bbox_area\",\n",
    "]\n",
    "X = data[features]\n"
   ],
   "id": "25ffde5fdc241df2",
   "outputs": [],
   "execution_count": 20
  },
  {
   "metadata": {
    "ExecuteTime": {
     "end_time": "2025-05-12T22:08:18.109532Z",
     "start_time": "2025-05-12T22:08:18.080310Z"
    }
   },
   "cell_type": "code",
   "source": [
    "X_train, X_test, y_train_index, y_test_index = train_test_split(X, range(len(X)), test_size=0.2, random_state=42, stratify=data[\"multiclass_labels\"])\n",
    "y_multi_train = data[\"multiclass_labels\"].iloc[y_train_index]\n",
    "y_multi_test = data[\"multiclass_labels\"].iloc[y_test_index]\n",
    "\n",
    "y_binary_train = data[\"Is_CNC\"].iloc[y_train_index]\n",
    "y_binary_test = data[\"Is_CNC\"].iloc[y_test_index]\n",
    "\n",
    "\n",
    "params = {\n",
    "    \"n_estimators\": randint(100, 300),\n",
    "    \"max_depth\": randint(3, 10),\n",
    "    \"learning_rate\": uniform(0.01, 0.3),\n",
    "}"
   ],
   "id": "3613ec76275ea2c7",
   "outputs": [],
   "execution_count": 21
  },
  {
   "metadata": {},
   "cell_type": "code",
   "source": "best_search_multi = randomizedsearchcv_xgboost(X_train, y_multi_train, params)",
   "id": "66d2ee91093980b1",
   "outputs": [],
   "execution_count": null
  },
  {
   "metadata": {
    "ExecuteTime": {
     "end_time": "2025-05-12T22:18:28.931510Z",
     "start_time": "2025-05-12T22:18:28.827220Z"
    }
   },
   "cell_type": "code",
   "source": [
    "# Save model to disk\n",
    "joblib.dump(best_search_multi, \"./models/best_model_multi.pkl\")"
   ],
   "id": "f49d60a8d268ee2",
   "outputs": [
    {
     "data": {
      "text/plain": [
       "['./models/best_model_multi.pkl']"
      ]
     },
     "execution_count": 25,
     "metadata": {},
     "output_type": "execute_result"
    }
   ],
   "execution_count": 25
  },
  {
   "metadata": {},
   "cell_type": "code",
   "source": "best_search_binary = randomizedsearchcv_xgboost(X_train, y_binary_train, params)",
   "id": "6f6a5bdd16e2b0bb",
   "outputs": [],
   "execution_count": null
  },
  {
   "metadata": {
    "ExecuteTime": {
     "end_time": "2025-05-12T22:27:33.999446Z",
     "start_time": "2025-05-12T22:27:33.978541Z"
    }
   },
   "cell_type": "code",
   "source": [
    "# Save model to disk\n",
    "joblib.dump(best_search_binary, \"./models/best_model_binary.pkl\")"
   ],
   "id": "d9c51e73d0b37065",
   "outputs": [
    {
     "data": {
      "text/plain": [
       "['./models/best_model_binary.pkl']"
      ]
     },
     "execution_count": 34,
     "metadata": {},
     "output_type": "execute_result"
    }
   ],
   "execution_count": 34
  },
  {
   "metadata": {
    "ExecuteTime": {
     "end_time": "2025-05-12T22:35:53.189471Z",
     "start_time": "2025-05-12T22:35:52.933947Z"
    }
   },
   "cell_type": "code",
   "source": [
    "# Multiclass predictions\n",
    "y_multi_pred = best_search_multi.best_estimator_.predict(X_test)\n",
    "y_multi_prob = best_search_multi.best_estimator_.predict_proba(X_test)\n",
    "\n",
    "# Binary predictions\n",
    "y_binary_pred = best_search_binary.best_estimator_.predict(X_test)\n",
    "y_binary_prob = best_search_binary.best_estimator_.predict_proba(X_test)"
   ],
   "id": "7744cc8a15776bbd",
   "outputs": [],
   "execution_count": 36
  },
  {
   "metadata": {
    "ExecuteTime": {
     "end_time": "2025-05-12T23:04:33.251192Z",
     "start_time": "2025-05-12T23:04:33.226484Z"
    }
   },
   "cell_type": "code",
   "source": [
    "print(\"Multi-Class Model Evaluation\")\n",
    "metrics_multi = evaluate_classification(\n",
    "    y_true=y_multi_test,\n",
    "    y_pred=y_multi_pred,\n",
    "    y_prob=y_multi_prob,\n",
    "    top_k=3\n",
    ")\n",
    "pprint(metrics_multi)\n",
    "\n",
    "print_classification_report(y_multi_test, y_multi_pred)\n",
    "\n",
    "df_multi_class_accuracy = compute_per_class_accuracy(y_multi_test, y_multi_pred, le)\n",
    "pprint(df_multi_class_accuracy)"
   ],
   "id": "bbd8c083d7e1b663",
   "outputs": [
    {
     "name": "stdout",
     "output_type": "stream",
     "text": [
      "Multi-Class Model Evaluation\n",
      "{'accuracy': 0.7568639898428821,\n",
      " 'f1_macro': 0.6574591818459546,\n",
      " 'f1_weighted': 0.7593675642719472,\n",
      " 'top_3_accuracy': 0.9148547849547691}\n",
      "              precision    recall  f1-score   support\n",
      "\n",
      "           0       0.82      0.88      0.85      1956\n",
      "           1       0.89      0.83      0.86      5697\n",
      "           2       0.80      0.75      0.78       552\n",
      "           3       0.51      0.49      0.50       395\n",
      "           4       0.68      0.58      0.63       132\n",
      "           5       0.59      0.51      0.54      1480\n",
      "           6       0.50      0.59      0.54       386\n",
      "           7       0.62      0.67      0.65       199\n",
      "           8       0.52      0.55      0.53       314\n",
      "           9       0.49      0.72      0.58       815\n",
      "          10       0.76      0.77      0.77       676\n",
      "\n",
      "    accuracy                           0.76     12602\n",
      "   macro avg       0.65      0.67      0.66     12602\n",
      "weighted avg       0.77      0.76      0.76     12602\n",
      "\n",
      "    Class  Accuracy  Support\n",
      "0       1  0.883947     1956\n",
      "1       2  0.829559     5697\n",
      "2       3  0.753623      552\n",
      "3       5  0.493671      395\n",
      "4       6  0.583333      132\n",
      "5       7  0.506757     1480\n",
      "6      11  0.588083      386\n",
      "7      13  0.673367      199\n",
      "8      18  0.550955      314\n",
      "9      19  0.722699      815\n",
      "10     20  0.772189      676\n"
     ]
    }
   ],
   "execution_count": 69
  },
  {
   "metadata": {
    "ExecuteTime": {
     "end_time": "2025-05-12T23:05:37.810325Z",
     "start_time": "2025-05-12T23:05:37.788013Z"
    }
   },
   "cell_type": "code",
   "source": [
    "print(\"Binary Model Evaluation\")\n",
    "metrics_binary = evaluate_classification(\n",
    "    y_true=y_binary_test,\n",
    "    y_pred=y_binary_pred,\n",
    "    y_prob=y_binary_prob,\n",
    ")\n",
    "pprint(metrics_binary)\n",
    "\n",
    "print_classification_report(y_binary_test, y_binary_pred)"
   ],
   "id": "21672080fd57e276",
   "outputs": [
    {
     "name": "stdout",
     "output_type": "stream",
     "text": [
      "Binary Model Evaluation\n",
      "{'accuracy': 0.8695445167433741,\n",
      " 'average_precision': 0.9589503390498635,\n",
      " 'f1_macro': 0.8584369100424147,\n",
      " 'f1_weighted': 0.8704192801039596,\n",
      " 'roc_auc': 0.935407056248672,\n",
      " 'top_3_accuracy': None}\n",
      "              precision    recall  f1-score   support\n",
      "\n",
      "           0       0.79      0.84      0.82      4397\n",
      "           1       0.91      0.88      0.90      8205\n",
      "\n",
      "    accuracy                           0.87     12602\n",
      "   macro avg       0.85      0.86      0.86     12602\n",
      "weighted avg       0.87      0.87      0.87     12602\n",
      "\n"
     ]
    }
   ],
   "execution_count": 72
  }
 ],
 "metadata": {
  "kernelspec": {
   "display_name": "Python 3",
   "language": "python",
   "name": "python3"
  },
  "language_info": {
   "codemirror_mode": {
    "name": "ipython",
    "version": 2
   },
   "file_extension": ".py",
   "mimetype": "text/x-python",
   "name": "python",
   "nbconvert_exporter": "python",
   "pygments_lexer": "ipython2",
   "version": "2.7.6"
  }
 },
 "nbformat": 4,
 "nbformat_minor": 5
}
