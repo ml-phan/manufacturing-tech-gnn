{
 "cells": [
  {
   "cell_type": "code",
   "id": "initial_id",
   "metadata": {
    "collapsed": true,
    "ExecuteTime": {
     "end_time": "2025-08-06T08:15:42.628503Z",
     "start_time": "2025-08-06T08:15:42.614424Z"
    }
   },
   "source": [
    "from occ_examples.core_geometry_face_recognition_from_stepfile import *\n",
    "from OCC.Core.GProp import GProp_GProps\n",
    "import OCC.Core.BRepGProp as brp\n",
    "from OCC.Core.GProp import GProp_GProps\n",
    "from OCC.Core.BRep import BRep_Tool\n",
    "from OCC.Core.STEPControl import STEPControl_Reader\n",
    "from OCC.Core.STEPCAFControl import STEPCAFControl_Reader\n",
    "from OCC.Core.TDF import TDF_LabelSequence\n",
    "from OCC.Core.TDataStd import TDataStd_Name\n",
    "from OCC.Core.TDocStd import TDocStd_Document\n",
    "from OCC.Core.XCAFApp import XCAFApp_Application\n",
    "from OCC.Core.RWMesh import rwmesh\n",
    "\n",
    "from pathlib import Path\n",
    "from tqdm import tqdm\n"
   ],
   "outputs": [],
   "execution_count": 8
  },
  {
   "metadata": {
    "ExecuteTime": {
     "end_time": "2025-08-06T20:29:14.796896Z",
     "start_time": "2025-08-06T20:29:14.732431Z"
    }
   },
   "cell_type": "code",
   "source": [
    "step_path = r\"E:\\gnn_data\\step_files\\100548_adapter_tos_naar_dappie_v1.step\"\n",
    "shp = read_step_file(step_path)\n",
    "t2 = TopologyExplorer(shp)"
   ],
   "id": "ea7a37e012c32ee2",
   "outputs": [],
   "execution_count": 14
  },
  {
   "metadata": {
    "ExecuteTime": {
     "end_time": "2025-08-06T20:31:42.548950Z",
     "start_time": "2025-08-06T20:31:42.541533Z"
    }
   },
   "cell_type": "code",
   "source": "len(list(t2.faces())), len(list(t2.edges())), len(list(t2.vertices()))",
   "id": "791122f2d34a8798",
   "outputs": [
    {
     "data": {
      "text/plain": [
       "(87, 250, 165)"
      ]
     },
     "execution_count": 19,
     "metadata": {},
     "output_type": "execute_result"
    }
   ],
   "execution_count": 19
  },
  {
   "metadata": {
    "ExecuteTime": {
     "end_time": "2025-08-06T20:33:18.414612Z",
     "start_time": "2025-08-06T20:33:18.404243Z"
    }
   },
   "cell_type": "code",
   "source": [
    "face_properties = {}\n",
    "# Surface Area\n",
    "for face_idx, face in enumerate(t2.faces()):\n",
    "    face_properties[face_idx] = {}\n",
    "    surface_props = GProp_GProps()\n",
    "    brp.brepgprop.SurfaceProperties(face, surface_props)\n",
    "    face_properties[face_idx][\"area\"] = surface_props.Mass()\n",
    "\n",
    "    #Perimeter\n",
    "    topo_explorer = TopologyExplorer(face)\n",
    "    perimeter = 0.0\n",
    "    for edge in topo_explorer.edges():\n",
    "        edge_props = GProp_GProps()\n",
    "        brp.brepgprop.LinearProperties(edge, edge_props)\n",
    "        perimeter += edge_props.Mass()\n",
    "    face_properties[face_idx]['perimeter'] = perimeter\n",
    "    # Compactness (how close to a circle a face is)\n",
    "    if face_properties[face_idx]['perimeter'] > 0 and face_properties[face_idx]['area'] > 0:\n",
    "        face_properties[face_idx][\"compactness\"] = (4 * 3.14159 * face_properties[face_idx][\n",
    "        'area']) / (face_properties[face_idx]['perimeter'] ** 2)"
   ],
   "id": "ec06225191829d60",
   "outputs": [],
   "execution_count": 21
  },
  {
   "metadata": {
    "ExecuteTime": {
     "end_time": "2025-08-06T20:33:54.869715Z",
     "start_time": "2025-08-06T20:33:54.849068Z"
    }
   },
   "cell_type": "code",
   "source": [
    "for edge in t2.edges():\n",
    "    edge_props = GProp_GProps()\n",
    "    brp.brepgprop.LinearProperties(edge, edge_props)\n",
    "    print(\"Edge Length:\", edge_props.Mass())\n",
    "\n",
    "    edge_props = GProp_GProps()\n",
    "    brp.brepgprop.LinearProperties(edge, edge_props)\n",
    "    print(\"Edge Length:\", edge_props.Length())"
   ],
   "id": "7dc15c360b38f24d",
   "outputs": [
    {
     "name": "stdout",
     "output_type": "stream",
     "text": [
      "Edge Length: 15.891703228486831\n"
     ]
    },
    {
     "ename": "AttributeError",
     "evalue": "'GProp_GProps' object has no attribute 'Length'",
     "output_type": "error",
     "traceback": [
      "\u001B[31m---------------------------------------------------------------------------\u001B[39m",
      "\u001B[31mAttributeError\u001B[39m                            Traceback (most recent call last)",
      "\u001B[36mCell\u001B[39m\u001B[36m \u001B[39m\u001B[32mIn[23]\u001B[39m\u001B[32m, line 8\u001B[39m\n\u001B[32m      6\u001B[39m edge_props = GProp_GProps()\n\u001B[32m      7\u001B[39m brp.brepgprop.LinearProperties(edge, edge_props)\n\u001B[32m----> \u001B[39m\u001B[32m8\u001B[39m \u001B[38;5;28mprint\u001B[39m(\u001B[33m\"\u001B[39m\u001B[33mEdge Length:\u001B[39m\u001B[33m\"\u001B[39m, edge_props.Length())\n",
      "\u001B[31mAttributeError\u001B[39m: 'GProp_GProps' object has no attribute 'Length'"
     ]
    }
   ],
   "execution_count": 23
  },
  {
   "metadata": {
    "ExecuteTime": {
     "end_time": "2025-08-06T10:33:40.211359Z",
     "start_time": "2025-08-06T08:16:58.063021Z"
    }
   },
   "cell_type": "code",
   "source": [
    "broken_files = []\n",
    "for file in tqdm(list(Path(step_path).parent.glob(\"*.*\"))):\n",
    "    try:\n",
    "        shp = read_step_file(str(file))\n",
    "        t = TopologyExplorer(shp)\n",
    "        if not t.faces() or len(list(t.faces())) < 2:\n",
    "            broken_files.append(file.name)\n",
    "    except Exception as e:\n",
    "        print(f\"Error reading {file}: {e}\")\n",
    "        broken_files.append(file.name)"
   ],
   "id": "2656145181eab02c",
   "outputs": [
    {
     "name": "stderr",
     "output_type": "stream",
     "text": [
      "100%|██████████| 63095/63095 [2:16:41<00:00,  7.69it/s]   \n"
     ]
    }
   ],
   "execution_count": 10
  },
  {
   "metadata": {
    "ExecuteTime": {
     "end_time": "2025-08-06T10:35:20.898220Z",
     "start_time": "2025-08-06T10:35:20.893157Z"
    }
   },
   "cell_type": "code",
   "source": [
    "for file in broken_files:\n",
    "    file_path = Path(step_path).parent / file\n",
    "    new_file_path = Path(\"E:\\gnn_data\\step_broken\") / file\n",
    "    file_path.rename(new_file_path)"
   ],
   "id": "6cd93b297be68d",
   "outputs": [],
   "execution_count": 12
  },
  {
   "metadata": {},
   "cell_type": "code",
   "outputs": [],
   "execution_count": null,
   "source": "",
   "id": "4588ff6813443dd8"
  },
  {
   "metadata": {
    "ExecuteTime": {
     "end_time": "2025-06-05T10:46:33.513519Z",
     "start_time": "2025-06-05T10:46:33.510034Z"
    }
   },
   "cell_type": "code",
   "source": [
    "props = GProp_GProps()\n",
    "brp.brepgprop.SurfaceProperties(faces[0], props)\n",
    "print(\"Area:\", props.Mass())"
   ],
   "id": "815a5c77a149e8cb",
   "outputs": [
    {
     "name": "stdout",
     "output_type": "stream",
     "text": [
      "Area: 54.35581793659813\n"
     ]
    }
   ],
   "execution_count": 19
  },
  {
   "metadata": {
    "ExecuteTime": {
     "end_time": "2025-06-05T12:06:07.448017Z",
     "start_time": "2025-06-05T12:06:07.443889Z"
    }
   },
   "cell_type": "code",
   "source": [
    "face0 = TopologyExplorer(faces[0])\n",
    "face1 = TopologyExplorer(faces[1])\n",
    "edges0 = list(face0.edges())\n",
    "edges1 = list(face1.edges())\n",
    "for edge in edges0:\n",
    "    props = GProp_GProps()\n",
    "    brp.brepgprop.LinearProperties(edge, props)\n",
    "    print(\"Edge Length:\", props.Mass())\n",
    "for edge in edges1:\n",
    "    props = GProp_GProps()\n",
    "    brp.brepgprop.LinearProperties(edge, props)\n",
    "    print(\"Edge Length:\", props.Mass())"
   ],
   "id": "33d0b55bd8962f4",
   "outputs": [
    {
     "name": "stdout",
     "output_type": "stream",
     "text": [
      "Edge Length: 18.849555921538762\n",
      "Edge Length: 2.8836657034709\n",
      "Edge Length: 18.849555921538762\n",
      "Edge Length: 64.40264939859075\n",
      "Edge Length: 44.84560681146358\n"
     ]
    }
   ],
   "execution_count": 52
  },
  {
   "metadata": {
    "ExecuteTime": {
     "end_time": "2025-06-05T12:06:58.744369Z",
     "start_time": "2025-06-05T12:06:58.737470Z"
    }
   },
   "cell_type": "code",
   "source": [
    "for index, face in enumerate(faces):\n",
    "    for edge in TopologyExplorer(face).edges():\n",
    "        props = GProp_GProps()\n",
    "        brp.brepgprop.LinearProperties(edge, props)\n",
    "        print(f\"Face {index} Edge Length:\", props.Mass())"
   ],
   "id": "3ef86e4548a8b0a0",
   "outputs": [
    {
     "name": "stdout",
     "output_type": "stream",
     "text": [
      "Face 0 Edge Length: 18.849555921538762\n",
      "Face 0 Edge Length: 2.8836657034709\n",
      "Face 0 Edge Length: 18.849555921538762\n",
      "Face 1 Edge Length: 64.40264939859075\n",
      "Face 1 Edge Length: 44.84560681146358\n",
      "Face 2 Edge Length: 46.06203148693354\n",
      "Face 2 Edge Length: 43.98229715025709\n",
      "Face 3 Edge Length: 18.849555921538762\n",
      "Face 3 Edge Length: 2.4414137103525335\n",
      "Face 3 Edge Length: 15.99918890693674\n",
      "Face 3 Edge Length: 15.99918890693674\n",
      "Face 4 Edge Length: 31.99837781387348\n",
      "Face 4 Edge Length: 16.2269\n",
      "Face 4 Edge Length: 15.99918890693674\n",
      "Face 4 Edge Length: 15.99918890693674\n",
      "Face 5 Edge Length: 27.1282499043012\n",
      "Face 5 Edge Length: 37.27439949428956\n",
      "Face 5 Edge Length: 52.504444561972456\n",
      "Face 6 Edge Length: 25.731322611488455\n",
      "Face 6 Edge Length: 25.731322611488455\n",
      "Face 6 Edge Length: 1.4943017369797889\n",
      "Face 6 Edge Length: 23.10619859482299\n",
      "Face 6 Edge Length: 23.10619859482299\n",
      "Face 7 Edge Length: 45.39601384437251\n",
      "Face 7 Edge Length: 1.7432173819622991\n",
      "Face 7 Edge Length: 45.39601384437251\n",
      "Face 8 Edge Length: 46.79464364482868\n",
      "Face 8 Edge Length: 1.2493178925811022\n",
      "Face 8 Edge Length: 26.172608397056564\n",
      "Face 8 Edge Length: 26.172608397056564\n",
      "Face 9 Edge Length: 52.34521679411313\n",
      "Face 9 Edge Length: 6.084\n",
      "Face 9 Edge Length: 26.172608397056564\n",
      "Face 9 Edge Length: 26.172608397056564\n",
      "Face 10 Edge Length: 23.10619859482299\n",
      "Face 10 Edge Length: 0.4509930787152781\n",
      "Face 10 Edge Length: 45.39601384437251\n",
      "Face 10 Edge Length: 23.10619859482299\n",
      "Face 11 Edge Length: 45.39601384437251\n",
      "Face 11 Edge Length: 0.5969026041820805\n",
      "Face 11 Edge Length: 46.79464364482868\n",
      "Face 12 Edge Length: 18.849555921538762\n",
      "Face 12 Edge Length: 7.940068725778039\n",
      "Face 12 Edge Length: 43.98229715025709\n",
      "Face 13 Edge Length: 46.06203148693354\n",
      "Face 13 Edge Length: 1.4142135623730943\n",
      "Face 13 Edge Length: 52.34521679411313\n",
      "Face 14 Edge Length: 35.307438659625426\n",
      "Face 14 Edge Length: 0.7448003676467775\n",
      "Face 14 Edge Length: 31.99837781387348\n",
      "Face 15 Edge Length: 19.31074172308574\n",
      "Face 15 Edge Length: 1.1438463533184884\n",
      "Face 15 Edge Length: 44.84560681146358\n",
      "Face 15 Edge Length: 19.31074172308574\n",
      "Face 16 Edge Length: 18.113794922068024\n",
      "Face 16 Edge Length: 0.6610586844704577\n",
      "Face 16 Edge Length: 36.22758984413605\n",
      "Face 16 Edge Length: 18.113794922068024\n",
      "Face 17 Edge Length: 36.22758984413605\n",
      "Face 17 Edge Length: 0.7979645340118083\n",
      "Face 17 Edge Length: 19.31074172308574\n",
      "Face 17 Edge Length: 19.31074172308574\n",
      "Face 18 Edge Length: 35.307438659625426\n",
      "Face 18 Edge Length: 0.392699081698731\n",
      "Face 18 Edge Length: 18.113794922068024\n",
      "Face 18 Edge Length: 18.113794922068024\n",
      "Face 19 Edge Length: 52.504444561972456\n",
      "Face 19 Edge Length: 0.19547687622340962\n",
      "Face 19 Edge Length: 25.731322611488455\n",
      "Face 19 Edge Length: 25.731322611488455\n",
      "Face 20 Edge Length: 64.40264939859075\n",
      "Face 20 Edge Length: 0.811797282534089\n",
      "Face 20 Edge Length: 5.978902371079777\n",
      "Face 20 Edge Length: 0.7166162314350744\n",
      "Face 20 Edge Length: 11.958017575467576\n",
      "Face 20 Edge Length: 0.7166162314350855\n",
      "Face 20 Edge Length: 11.958017575467569\n",
      "Face 20 Edge Length: 0.7166162314350742\n",
      "Face 20 Edge Length: 11.95796794535179\n",
      "Face 20 Edge Length: 0.7166162314350744\n",
      "Face 20 Edge Length: 11.958017575467567\n",
      "Face 20 Edge Length: 0.7166162314350855\n",
      "Face 20 Edge Length: 11.958017575467581\n",
      "Face 20 Edge Length: 0.7166162314350848\n",
      "Face 20 Edge Length: 5.979065574272003\n",
      "Face 21 Edge Length: 37.27439949428956\n",
      "Face 21 Edge Length: 2.4353824506579023\n",
      "Face 21 Edge Length: 11.957967945351808\n",
      "Face 21 Edge Length: 0.7166162314350742\n",
      "Face 21 Edge Length: 11.958017575467581\n",
      "Face 21 Edge Length: 0.7166162314350744\n",
      "Face 21 Edge Length: 11.958017575467586\n",
      "Face 21 Edge Length: 0.7166162314350744\n",
      "Face 21 Edge Length: 11.95796794535179\n",
      "Face 21 Edge Length: 0.7166162314350765\n",
      "Face 21 Edge Length: 11.958017575467592\n",
      "Face 21 Edge Length: 0.7166162314350799\n",
      "Face 21 Edge Length: 11.958017575467577\n",
      "Face 21 Edge Length: 0.7166162314350744\n",
      "Face 21 Edge Length: 27.1282499043012\n",
      "Face 22 Edge Length: 11.958017575467586\n",
      "Face 22 Edge Length: 16.136038969321035\n",
      "Face 22 Edge Length: 11.958017575467576\n",
      "Face 22 Edge Length: 16.13603896932104\n",
      "Face 23 Edge Length: 11.958017575467581\n",
      "Face 23 Edge Length: 16.136038969321035\n",
      "Face 23 Edge Length: 11.958017575467569\n",
      "Face 23 Edge Length: 16.136038969321035\n",
      "Face 24 Edge Length: 11.957967945351808\n",
      "Face 24 Edge Length: 16.136038969321035\n",
      "Face 24 Edge Length: 11.95796794535179\n",
      "Face 24 Edge Length: 16.136038969321035\n",
      "Face 25 Edge Length: 11.958017575467577\n",
      "Face 25 Edge Length: 16.136038969321035\n",
      "Face 25 Edge Length: 11.958017575467567\n",
      "Face 25 Edge Length: 16.136038969321035\n",
      "Face 26 Edge Length: 11.958017575467592\n",
      "Face 26 Edge Length: 16.136038969321035\n",
      "Face 26 Edge Length: 11.958017575467581\n",
      "Face 26 Edge Length: 16.136038969321035\n",
      "Face 27 Edge Length: 11.95796794535179\n",
      "Face 27 Edge Length: 16.136038969321035\n",
      "Face 27 Edge Length: 5.978902371079777\n",
      "Face 27 Edge Length: 5.979065574272003\n",
      "Face 27 Edge Length: 16.136038969321035\n",
      "Face 28 Edge Length: 0.7166162314350765\n",
      "Face 28 Edge Length: 16.136038969321035\n",
      "Face 28 Edge Length: 0.7166162314350848\n",
      "Face 28 Edge Length: 16.136038969321035\n",
      "Face 29 Edge Length: 0.7166162314350799\n",
      "Face 29 Edge Length: 16.136038969321035\n",
      "Face 29 Edge Length: 0.7166162314350855\n",
      "Face 29 Edge Length: 16.136038969321035\n",
      "Face 30 Edge Length: 0.7166162314350744\n",
      "Face 30 Edge Length: 16.136038969321035\n",
      "Face 30 Edge Length: 0.7166162314350744\n",
      "Face 30 Edge Length: 16.136038969321035\n",
      "Face 31 Edge Length: 0.7166162314350742\n",
      "Face 31 Edge Length: 16.136038969321035\n",
      "Face 31 Edge Length: 0.7166162314350742\n",
      "Face 31 Edge Length: 16.136038969321035\n",
      "Face 32 Edge Length: 0.7166162314350744\n",
      "Face 32 Edge Length: 16.136038969321035\n",
      "Face 32 Edge Length: 0.7166162314350855\n",
      "Face 32 Edge Length: 16.136038969321035\n",
      "Face 33 Edge Length: 0.7166162314350744\n",
      "Face 33 Edge Length: 16.13603896932104\n",
      "Face 33 Edge Length: 0.7166162314350744\n",
      "Face 33 Edge Length: 16.136038969321035\n"
     ]
    }
   ],
   "execution_count": 53
  },
  {
   "metadata": {},
   "cell_type": "code",
   "outputs": [],
   "execution_count": null,
   "source": "",
   "id": "62bd1abc1b8d7c33"
  }
 ],
 "metadata": {
  "kernelspec": {
   "display_name": "Python 3",
   "language": "python",
   "name": "python3"
  },
  "language_info": {
   "codemirror_mode": {
    "name": "ipython",
    "version": 2
   },
   "file_extension": ".py",
   "mimetype": "text/x-python",
   "name": "python",
   "nbconvert_exporter": "python",
   "pygments_lexer": "ipython2",
   "version": "2.7.6"
  }
 },
 "nbformat": 4,
 "nbformat_minor": 5
}
