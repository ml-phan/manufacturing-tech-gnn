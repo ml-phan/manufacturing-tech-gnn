{
 "cells": [
  {
   "cell_type": "code",
   "id": "initial_id",
   "metadata": {
    "collapsed": true,
    "ExecuteTime": {
     "end_time": "2025-06-05T11:35:36.684449Z",
     "start_time": "2025-06-05T11:35:36.681363Z"
    }
   },
   "source": [
    "from occ_examples.core_geometry_face_recognition_from_stepfile import *\n",
    "from OCC.Core.GProp import GProp_GProps\n",
    "import OCC.Core.BRepGProp as brp\n",
    "from OCC.Core.GProp import GProp_GProps\n",
    "from OCC.Core.BRep import BRep_Tool\n",
    "from OCC.Core.STEPControl import STEPControl_Reader\n",
    "from OCC.Core.STEPCAFControl import STEPCAFControl_Reader\n",
    "from OCC.Core.TDF import TDF_LabelSequence\n",
    "from OCC.Core.TDataStd import TDataStd_Name\n",
    "from OCC.Core.TDocStd import TDocStd_Document\n",
    "from OCC.Core.XCAFApp import XCAFApp_Application\n",
    "from OCC.Core.RWMesh import rwmesh"
   ],
   "outputs": [],
   "execution_count": 38
  },
  {
   "metadata": {
    "ExecuteTime": {
     "end_time": "2025-06-05T10:54:39.002467Z",
     "start_time": "2025-06-05T10:54:38.980611Z"
    }
   },
   "cell_type": "code",
   "source": [
    "step_path = r\"E:\\step_files_2\\63946_E004192_001.stp\"\n",
    "shp = read_step_file(step_path)\n",
    "t2 = TopologyExplorer(shp)"
   ],
   "id": "ea7a37e012c32ee2",
   "outputs": [],
   "execution_count": 21
  },
  {
   "metadata": {
    "ExecuteTime": {
     "end_time": "2025-06-05T11:39:21.670224Z",
     "start_time": "2025-06-05T11:39:21.667217Z"
    }
   },
   "cell_type": "code",
   "source": "faces = [face for face in t2.faces()]",
   "id": "2656145181eab02c",
   "outputs": [],
   "execution_count": 47
  },
  {
   "metadata": {
    "ExecuteTime": {
     "end_time": "2025-06-05T12:57:53.315144Z",
     "start_time": "2025-06-05T12:57:53.308949Z"
    }
   },
   "cell_type": "code",
   "source": "faces",
   "id": "6cd93b297be68d",
   "outputs": [
    {
     "data": {
      "text/plain": [
       "[<class 'TopoDS_Face'>,\n",
       " <class 'TopoDS_Face'>,\n",
       " <class 'TopoDS_Face'>,\n",
       " <class 'TopoDS_Face'>,\n",
       " <class 'TopoDS_Face'>,\n",
       " <class 'TopoDS_Face'>,\n",
       " <class 'TopoDS_Face'>,\n",
       " <class 'TopoDS_Face'>,\n",
       " <class 'TopoDS_Face'>,\n",
       " <class 'TopoDS_Face'>,\n",
       " <class 'TopoDS_Face'>,\n",
       " <class 'TopoDS_Face'>,\n",
       " <class 'TopoDS_Face'>,\n",
       " <class 'TopoDS_Face'>,\n",
       " <class 'TopoDS_Face'>,\n",
       " <class 'TopoDS_Face'>,\n",
       " <class 'TopoDS_Face'>,\n",
       " <class 'TopoDS_Face'>,\n",
       " <class 'TopoDS_Face'>,\n",
       " <class 'TopoDS_Face'>,\n",
       " <class 'TopoDS_Face'>,\n",
       " <class 'TopoDS_Face'>,\n",
       " <class 'TopoDS_Face'>,\n",
       " <class 'TopoDS_Face'>,\n",
       " <class 'TopoDS_Face'>,\n",
       " <class 'TopoDS_Face'>,\n",
       " <class 'TopoDS_Face'>,\n",
       " <class 'TopoDS_Face'>,\n",
       " <class 'TopoDS_Face'>,\n",
       " <class 'TopoDS_Face'>,\n",
       " <class 'TopoDS_Face'>,\n",
       " <class 'TopoDS_Face'>,\n",
       " <class 'TopoDS_Face'>,\n",
       " <class 'TopoDS_Face'>]"
      ]
     },
     "execution_count": 54,
     "metadata": {},
     "output_type": "execute_result"
    }
   ],
   "execution_count": 54
  },
  {
   "metadata": {
    "ExecuteTime": {
     "end_time": "2025-06-05T10:46:33.513519Z",
     "start_time": "2025-06-05T10:46:33.510034Z"
    }
   },
   "cell_type": "code",
   "source": [
    "props = GProp_GProps()\n",
    "brp.brepgprop.SurfaceProperties(faces[0], props)\n",
    "print(\"Area:\", props.Mass())"
   ],
   "id": "815a5c77a149e8cb",
   "outputs": [
    {
     "name": "stdout",
     "output_type": "stream",
     "text": [
      "Area: 54.35581793659813\n"
     ]
    }
   ],
   "execution_count": 19
  },
  {
   "metadata": {
    "ExecuteTime": {
     "end_time": "2025-06-05T12:06:07.448017Z",
     "start_time": "2025-06-05T12:06:07.443889Z"
    }
   },
   "cell_type": "code",
   "source": [
    "face0 = TopologyExplorer(faces[0])\n",
    "face1 = TopologyExplorer(faces[1])\n",
    "edges0 = list(face0.edges())\n",
    "edges1 = list(face1.edges())\n",
    "for edge in edges0:\n",
    "    props = GProp_GProps()\n",
    "    brp.brepgprop.LinearProperties(edge, props)\n",
    "    print(\"Edge Length:\", props.Mass())\n",
    "for edge in edges1:\n",
    "    props = GProp_GProps()\n",
    "    brp.brepgprop.LinearProperties(edge, props)\n",
    "    print(\"Edge Length:\", props.Mass())"
   ],
   "id": "33d0b55bd8962f4",
   "outputs": [
    {
     "name": "stdout",
     "output_type": "stream",
     "text": [
      "Edge Length: 18.849555921538762\n",
      "Edge Length: 2.8836657034709\n",
      "Edge Length: 18.849555921538762\n",
      "Edge Length: 64.40264939859075\n",
      "Edge Length: 44.84560681146358\n"
     ]
    }
   ],
   "execution_count": 52
  },
  {
   "metadata": {
    "ExecuteTime": {
     "end_time": "2025-06-05T12:06:58.744369Z",
     "start_time": "2025-06-05T12:06:58.737470Z"
    }
   },
   "cell_type": "code",
   "source": [
    "for index, face in enumerate(faces):\n",
    "    for edge in TopologyExplorer(face).edges():\n",
    "        props = GProp_GProps()\n",
    "        brp.brepgprop.LinearProperties(edge, props)\n",
    "        print(f\"Face {index} Edge Length:\", props.Mass())"
   ],
   "id": "3ef86e4548a8b0a0",
   "outputs": [
    {
     "name": "stdout",
     "output_type": "stream",
     "text": [
      "Face 0 Edge Length: 18.849555921538762\n",
      "Face 0 Edge Length: 2.8836657034709\n",
      "Face 0 Edge Length: 18.849555921538762\n",
      "Face 1 Edge Length: 64.40264939859075\n",
      "Face 1 Edge Length: 44.84560681146358\n",
      "Face 2 Edge Length: 46.06203148693354\n",
      "Face 2 Edge Length: 43.98229715025709\n",
      "Face 3 Edge Length: 18.849555921538762\n",
      "Face 3 Edge Length: 2.4414137103525335\n",
      "Face 3 Edge Length: 15.99918890693674\n",
      "Face 3 Edge Length: 15.99918890693674\n",
      "Face 4 Edge Length: 31.99837781387348\n",
      "Face 4 Edge Length: 16.2269\n",
      "Face 4 Edge Length: 15.99918890693674\n",
      "Face 4 Edge Length: 15.99918890693674\n",
      "Face 5 Edge Length: 27.1282499043012\n",
      "Face 5 Edge Length: 37.27439949428956\n",
      "Face 5 Edge Length: 52.504444561972456\n",
      "Face 6 Edge Length: 25.731322611488455\n",
      "Face 6 Edge Length: 25.731322611488455\n",
      "Face 6 Edge Length: 1.4943017369797889\n",
      "Face 6 Edge Length: 23.10619859482299\n",
      "Face 6 Edge Length: 23.10619859482299\n",
      "Face 7 Edge Length: 45.39601384437251\n",
      "Face 7 Edge Length: 1.7432173819622991\n",
      "Face 7 Edge Length: 45.39601384437251\n",
      "Face 8 Edge Length: 46.79464364482868\n",
      "Face 8 Edge Length: 1.2493178925811022\n",
      "Face 8 Edge Length: 26.172608397056564\n",
      "Face 8 Edge Length: 26.172608397056564\n",
      "Face 9 Edge Length: 52.34521679411313\n",
      "Face 9 Edge Length: 6.084\n",
      "Face 9 Edge Length: 26.172608397056564\n",
      "Face 9 Edge Length: 26.172608397056564\n",
      "Face 10 Edge Length: 23.10619859482299\n",
      "Face 10 Edge Length: 0.4509930787152781\n",
      "Face 10 Edge Length: 45.39601384437251\n",
      "Face 10 Edge Length: 23.10619859482299\n",
      "Face 11 Edge Length: 45.39601384437251\n",
      "Face 11 Edge Length: 0.5969026041820805\n",
      "Face 11 Edge Length: 46.79464364482868\n",
      "Face 12 Edge Length: 18.849555921538762\n",
      "Face 12 Edge Length: 7.940068725778039\n",
      "Face 12 Edge Length: 43.98229715025709\n",
      "Face 13 Edge Length: 46.06203148693354\n",
      "Face 13 Edge Length: 1.4142135623730943\n",
      "Face 13 Edge Length: 52.34521679411313\n",
      "Face 14 Edge Length: 35.307438659625426\n",
      "Face 14 Edge Length: 0.7448003676467775\n",
      "Face 14 Edge Length: 31.99837781387348\n",
      "Face 15 Edge Length: 19.31074172308574\n",
      "Face 15 Edge Length: 1.1438463533184884\n",
      "Face 15 Edge Length: 44.84560681146358\n",
      "Face 15 Edge Length: 19.31074172308574\n",
      "Face 16 Edge Length: 18.113794922068024\n",
      "Face 16 Edge Length: 0.6610586844704577\n",
      "Face 16 Edge Length: 36.22758984413605\n",
      "Face 16 Edge Length: 18.113794922068024\n",
      "Face 17 Edge Length: 36.22758984413605\n",
      "Face 17 Edge Length: 0.7979645340118083\n",
      "Face 17 Edge Length: 19.31074172308574\n",
      "Face 17 Edge Length: 19.31074172308574\n",
      "Face 18 Edge Length: 35.307438659625426\n",
      "Face 18 Edge Length: 0.392699081698731\n",
      "Face 18 Edge Length: 18.113794922068024\n",
      "Face 18 Edge Length: 18.113794922068024\n",
      "Face 19 Edge Length: 52.504444561972456\n",
      "Face 19 Edge Length: 0.19547687622340962\n",
      "Face 19 Edge Length: 25.731322611488455\n",
      "Face 19 Edge Length: 25.731322611488455\n",
      "Face 20 Edge Length: 64.40264939859075\n",
      "Face 20 Edge Length: 0.811797282534089\n",
      "Face 20 Edge Length: 5.978902371079777\n",
      "Face 20 Edge Length: 0.7166162314350744\n",
      "Face 20 Edge Length: 11.958017575467576\n",
      "Face 20 Edge Length: 0.7166162314350855\n",
      "Face 20 Edge Length: 11.958017575467569\n",
      "Face 20 Edge Length: 0.7166162314350742\n",
      "Face 20 Edge Length: 11.95796794535179\n",
      "Face 20 Edge Length: 0.7166162314350744\n",
      "Face 20 Edge Length: 11.958017575467567\n",
      "Face 20 Edge Length: 0.7166162314350855\n",
      "Face 20 Edge Length: 11.958017575467581\n",
      "Face 20 Edge Length: 0.7166162314350848\n",
      "Face 20 Edge Length: 5.979065574272003\n",
      "Face 21 Edge Length: 37.27439949428956\n",
      "Face 21 Edge Length: 2.4353824506579023\n",
      "Face 21 Edge Length: 11.957967945351808\n",
      "Face 21 Edge Length: 0.7166162314350742\n",
      "Face 21 Edge Length: 11.958017575467581\n",
      "Face 21 Edge Length: 0.7166162314350744\n",
      "Face 21 Edge Length: 11.958017575467586\n",
      "Face 21 Edge Length: 0.7166162314350744\n",
      "Face 21 Edge Length: 11.95796794535179\n",
      "Face 21 Edge Length: 0.7166162314350765\n",
      "Face 21 Edge Length: 11.958017575467592\n",
      "Face 21 Edge Length: 0.7166162314350799\n",
      "Face 21 Edge Length: 11.958017575467577\n",
      "Face 21 Edge Length: 0.7166162314350744\n",
      "Face 21 Edge Length: 27.1282499043012\n",
      "Face 22 Edge Length: 11.958017575467586\n",
      "Face 22 Edge Length: 16.136038969321035\n",
      "Face 22 Edge Length: 11.958017575467576\n",
      "Face 22 Edge Length: 16.13603896932104\n",
      "Face 23 Edge Length: 11.958017575467581\n",
      "Face 23 Edge Length: 16.136038969321035\n",
      "Face 23 Edge Length: 11.958017575467569\n",
      "Face 23 Edge Length: 16.136038969321035\n",
      "Face 24 Edge Length: 11.957967945351808\n",
      "Face 24 Edge Length: 16.136038969321035\n",
      "Face 24 Edge Length: 11.95796794535179\n",
      "Face 24 Edge Length: 16.136038969321035\n",
      "Face 25 Edge Length: 11.958017575467577\n",
      "Face 25 Edge Length: 16.136038969321035\n",
      "Face 25 Edge Length: 11.958017575467567\n",
      "Face 25 Edge Length: 16.136038969321035\n",
      "Face 26 Edge Length: 11.958017575467592\n",
      "Face 26 Edge Length: 16.136038969321035\n",
      "Face 26 Edge Length: 11.958017575467581\n",
      "Face 26 Edge Length: 16.136038969321035\n",
      "Face 27 Edge Length: 11.95796794535179\n",
      "Face 27 Edge Length: 16.136038969321035\n",
      "Face 27 Edge Length: 5.978902371079777\n",
      "Face 27 Edge Length: 5.979065574272003\n",
      "Face 27 Edge Length: 16.136038969321035\n",
      "Face 28 Edge Length: 0.7166162314350765\n",
      "Face 28 Edge Length: 16.136038969321035\n",
      "Face 28 Edge Length: 0.7166162314350848\n",
      "Face 28 Edge Length: 16.136038969321035\n",
      "Face 29 Edge Length: 0.7166162314350799\n",
      "Face 29 Edge Length: 16.136038969321035\n",
      "Face 29 Edge Length: 0.7166162314350855\n",
      "Face 29 Edge Length: 16.136038969321035\n",
      "Face 30 Edge Length: 0.7166162314350744\n",
      "Face 30 Edge Length: 16.136038969321035\n",
      "Face 30 Edge Length: 0.7166162314350744\n",
      "Face 30 Edge Length: 16.136038969321035\n",
      "Face 31 Edge Length: 0.7166162314350742\n",
      "Face 31 Edge Length: 16.136038969321035\n",
      "Face 31 Edge Length: 0.7166162314350742\n",
      "Face 31 Edge Length: 16.136038969321035\n",
      "Face 32 Edge Length: 0.7166162314350744\n",
      "Face 32 Edge Length: 16.136038969321035\n",
      "Face 32 Edge Length: 0.7166162314350855\n",
      "Face 32 Edge Length: 16.136038969321035\n",
      "Face 33 Edge Length: 0.7166162314350744\n",
      "Face 33 Edge Length: 16.13603896932104\n",
      "Face 33 Edge Length: 0.7166162314350744\n",
      "Face 33 Edge Length: 16.136038969321035\n"
     ]
    }
   ],
   "execution_count": 53
  },
  {
   "metadata": {},
   "cell_type": "code",
   "outputs": [],
   "execution_count": null,
   "source": "",
   "id": "62bd1abc1b8d7c33"
  }
 ],
 "metadata": {
  "kernelspec": {
   "display_name": "Python 3",
   "language": "python",
   "name": "python3"
  },
  "language_info": {
   "codemirror_mode": {
    "name": "ipython",
    "version": 2
   },
   "file_extension": ".py",
   "mimetype": "text/x-python",
   "name": "python",
   "nbconvert_exporter": "python",
   "pygments_lexer": "ipython2",
   "version": "2.7.6"
  }
 },
 "nbformat": 4,
 "nbformat_minor": 5
}
