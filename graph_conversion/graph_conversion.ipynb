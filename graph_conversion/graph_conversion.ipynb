{
 "cells": [
  {
   "cell_type": "code",
   "id": "initial_id",
   "metadata": {
    "collapsed": true,
    "ExecuteTime": {
     "end_time": "2025-07-18T07:46:18.173801Z",
     "start_time": "2025-07-18T07:46:17.799063Z"
    }
   },
   "source": [
    "import pandas as pd\n",
    "%load_ext autoreload\n",
    "%autoreload 1"
   ],
   "outputs": [],
   "execution_count": 1
  },
  {
   "metadata": {
    "ExecuteTime": {
     "end_time": "2025-07-18T07:54:50.951692Z",
     "start_time": "2025-07-18T07:54:50.796339Z"
    }
   },
   "cell_type": "code",
   "source": [
    "import pickle\n",
    "import time\n",
    "import sys\n",
    "import re\n",
    "import os\n",
    "from pathlib import Path\n",
    "\n",
    "from tqdm import tqdm\n",
    "import networkx as nx\n",
    "from graph_conversion_utils import *\n"
   ],
   "id": "4a7e524c03dfe9dc",
   "outputs": [],
   "execution_count": 1
  },
  {
   "metadata": {},
   "cell_type": "code",
   "source": [
    "old_graphml = {}\n",
    "failed_graphml_old = []\n",
    "with tqdm(Path(r\"E:\\gnn_data\\graphml_files_old\").glob(\"*.*\")) as pbar:\n",
    "    for file in pbar:\n",
    "        try:\n",
    "            pbar.set_description(f\"Processing {file.name}\")\n",
    "            G = nx.read_graphml(file)\n",
    "            number_of_nodes = G.number_of_nodes()\n",
    "            number_of_edges = G.number_of_edges()\n",
    "            file_id = file.stem.split(\"_\")[0]\n",
    "            old_graphml[file_id] = {\n",
    "                \"number_of_nodes\": number_of_nodes,\n",
    "                \"number_of_edges\": number_of_edges\n",
    "            }\n",
    "        except Exception as e:\n",
    "            print(f\"Failed to process {file.name}: {e}\")\n",
    "            failed_graphml_old.append(file.name)"
   ],
   "id": "97fddadbf1fcdf23",
   "outputs": [],
   "execution_count": null
  },
  {
   "metadata": {
    "ExecuteTime": {
     "end_time": "2025-07-18T03:41:26.506524Z",
     "start_time": "2025-07-17T23:43:13.309729Z"
    }
   },
   "cell_type": "code",
   "source": [
    "new_graphml = {}\n",
    "failed_graphml_new = []\n",
    "with tqdm(Path(r\"E:\\gnn_data\\graphml_files\").glob(\"*.*\")) as pbar:\n",
    "    for file in pbar:\n",
    "        try:\n",
    "            pbar.set_description(f\"Processing {file.name}\")\n",
    "            G = nx.read_graphml(file)\n",
    "            number_of_nodes = G.number_of_nodes()\n",
    "            number_of_edges = G.number_of_edges()\n",
    "            file_id = file.stem.split(\"_\")[0]\n",
    "            new_graphml[file_id] = {\n",
    "                \"number_of_nodes\": number_of_nodes,\n",
    "                \"number_of_edges\": number_of_edges\n",
    "            }\n",
    "        except Exception as e:\n",
    "            print(f\"Failed to process {file.name}: {e}\")\n",
    "            failed_graphml_new.append(file.name)"
   ],
   "id": "ca831c3efd9371dc",
   "outputs": [
    {
     "name": "stderr",
     "output_type": "stream",
     "text": [
      "Processing 99994_Plug_BottomsUp_v1.graphml: : 64725it [3:58:13,  4.53it/s]                                                                               \n"
     ]
    }
   ],
   "execution_count": 193
  },
  {
   "metadata": {
    "ExecuteTime": {
     "end_time": "2025-07-18T03:41:26.592241Z",
     "start_time": "2025-07-18T03:41:26.545869Z"
    }
   },
   "cell_type": "code",
   "source": [
    "# save the results to a pickle file\n",
    "with open(r\"E:\\gnn_data\\graphml_stats_old.pkl\", \"wb\") as f:\n",
    "    pickle.dump(old_graphml, f)\n",
    "with open(r\"E:\\gnn_data\\graphml_stats_new.pkl\", \"wb\") as f:\n",
    "    pickle.dump(new_graphml, f)\n",
    "\n",
    "# save the failed files to a text file\n",
    "with open(r\"E:\\gnn_data\\failed_graphml_old.txt\", \"w\") as f:\n",
    "    for file in failed_graphml_old:\n",
    "        f.write(file + \"\\n\")\n",
    "with open(r\"E:\\gnn_data\\failed_graphml_new.txt\", \"w\") as f:\n",
    "    for file in failed_graphml_new:\n",
    "        f.write(file + \"\\n\")\n"
   ],
   "id": "41ccaee8c290988a",
   "outputs": [],
   "execution_count": 194
  }
 ],
 "metadata": {
  "kernelspec": {
   "display_name": "Python 3",
   "language": "python",
   "name": "python3"
  },
  "language_info": {
   "codemirror_mode": {
    "name": "ipython",
    "version": 2
   },
   "file_extension": ".py",
   "mimetype": "text/x-python",
   "name": "python",
   "nbconvert_exporter": "python",
   "pygments_lexer": "ipython2",
   "version": "2.7.6"
  }
 },
 "nbformat": 4,
 "nbformat_minor": 5
}
